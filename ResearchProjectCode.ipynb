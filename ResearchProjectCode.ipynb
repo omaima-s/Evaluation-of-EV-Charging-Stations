{
 "cells": [
  {
   "cell_type": "code",
   "execution_count": 1,
   "id": "wicked-feature",
   "metadata": {},
   "outputs": [],
   "source": [
    "#Researh Project"
   ]
  },
  {
   "cell_type": "markdown",
   "id": "adaptive-greenhouse",
   "metadata": {},
   "source": [
    "This is the project for the implementation of the placement of EV charging stations in Montreal. \n",
    "Main goal is to check ideal placement of EV stations in public places like hotels, shopping centres, \n",
    "restaurants, bar, department stores and Movie theaters. "
   ]
  },
  {
   "cell_type": "code",
   "execution_count": 2,
   "id": "listed-catalyst",
   "metadata": {},
   "outputs": [],
   "source": [
    "#Install libraries"
   ]
  },
  {
   "cell_type": "code",
   "execution_count": 3,
   "id": "needed-origin",
   "metadata": {},
   "outputs": [],
   "source": [
    "#pip install pgeocode\n",
    "#pip install geopy\n",
    "#pip install geocoder\n",
    "#pip install folium"
   ]
  },
  {
   "cell_type": "code",
   "execution_count": 4,
   "id": "satisfactory-uruguay",
   "metadata": {},
   "outputs": [],
   "source": [
    "#Importing Libraries "
   ]
  },
  {
   "cell_type": "markdown",
   "id": "inclusive-postcard",
   "metadata": {},
   "source": [
    "For data preprocessing, analytics and visualization"
   ]
  },
  {
   "cell_type": "code",
   "execution_count": 5,
   "id": "heard-recognition",
   "metadata": {},
   "outputs": [],
   "source": [
    "import pandas as pd \n",
    "import numpy as np\n",
    "import seaborn as sns"
   ]
  },
  {
   "cell_type": "markdown",
   "id": "drawn-celebrity",
   "metadata": {},
   "source": [
    "For k-means clustering"
   ]
  },
  {
   "cell_type": "code",
   "execution_count": 6,
   "id": "blind-symphony",
   "metadata": {},
   "outputs": [],
   "source": [
    "from sklearn.preprocessing import LabelEncoder\n",
    "from sklearn.preprocessing import StandardScaler, MinMaxScaler\n",
    "from sklearn.cluster import KMeans "
   ]
  },
  {
   "cell_type": "markdown",
   "id": "external-verse",
   "metadata": {},
   "source": [
    "For plotting chart"
   ]
  },
  {
   "cell_type": "code",
   "execution_count": 7,
   "id": "durable-standard",
   "metadata": {},
   "outputs": [],
   "source": [
    "%matplotlib inline\n",
    "import matplotlib.pyplot as plt"
   ]
  },
  {
   "cell_type": "markdown",
   "id": "comparative-peripheral",
   "metadata": {},
   "source": [
    "For using mean, median and mode "
   ]
  },
  {
   "cell_type": "code",
   "execution_count": 8,
   "id": "passive-bridge",
   "metadata": {},
   "outputs": [],
   "source": [
    "from scipy import stats    # using mode from here (numpy ndarray cannot use mode directly)"
   ]
  },
  {
   "cell_type": "markdown",
   "id": "institutional-heath",
   "metadata": {},
   "source": [
    "For converting longitude and latitude value to postal code and get useful information about the area"
   ]
  },
  {
   "cell_type": "code",
   "execution_count": 9,
   "id": "fatal-healthcare",
   "metadata": {},
   "outputs": [],
   "source": [
    "import pgeocode\n",
    "import geopy\n",
    "import geocoder"
   ]
  },
  {
   "cell_type": "code",
   "execution_count": 10,
   "id": "completed-halloween",
   "metadata": {},
   "outputs": [],
   "source": [
    "#Fetching dataset"
   ]
  },
  {
   "cell_type": "markdown",
   "id": "helpful-quantity",
   "metadata": {},
   "source": [
    "Using all three datasets to figure out where the charging stations will be beneficial to install"
   ]
  },
  {
   "cell_type": "code",
   "execution_count": 11,
   "id": "bound-round",
   "metadata": {},
   "outputs": [],
   "source": [
    "census_dataset = pd.read_excel('Census2016_Montreal.xls')\n",
    "montreal_dataset = pd.read_csv('GreaterMontreal_ 121220.csv', encoding = \"ISO-8859-1\")\n",
    "points_of_interest_dataset = pd.read_excel('PointsOfInterest_MontrealFinal_Updated.xls')"
   ]
  },
  {
   "cell_type": "code",
   "execution_count": 12,
   "id": "executed-dispatch",
   "metadata": {},
   "outputs": [
    {
     "data": {
      "text/html": [
       "<div>\n",
       "<style scoped>\n",
       "    .dataframe tbody tr th:only-of-type {\n",
       "        vertical-align: middle;\n",
       "    }\n",
       "\n",
       "    .dataframe tbody tr th {\n",
       "        vertical-align: top;\n",
       "    }\n",
       "\n",
       "    .dataframe thead th {\n",
       "        text-align: right;\n",
       "    }\n",
       "</style>\n",
       "<table border=\"1\" class=\"dataframe\">\n",
       "  <thead>\n",
       "    <tr style=\"text-align: right;\">\n",
       "      <th></th>\n",
       "      <th>POI_ID</th>\n",
       "      <th>NAME</th>\n",
       "      <th>ADDRESS</th>\n",
       "      <th>CITY</th>\n",
       "      <th>PROV</th>\n",
       "      <th>POST_CODE</th>\n",
       "      <th>PHONE</th>\n",
       "      <th>X</th>\n",
       "      <th>Y</th>\n",
       "      <th>CATEGORY</th>\n",
       "    </tr>\n",
       "  </thead>\n",
       "  <tbody>\n",
       "    <tr>\n",
       "      <th>0</th>\n",
       "      <td>POI10004697</td>\n",
       "      <td>RESTAURANT ALADDIN</td>\n",
       "      <td>6700 CH DE LA CÃƒÆ’Ã‚â€TE DES NEIGES</td>\n",
       "      <td>MONTREAL</td>\n",
       "      <td>QC</td>\n",
       "      <td>H3S 2B2</td>\n",
       "      <td>514-342-7808</td>\n",
       "      <td>-73.637063</td>\n",
       "      <td>45.502503</td>\n",
       "      <td>Restaurants</td>\n",
       "    </tr>\n",
       "    <tr>\n",
       "      <th>1</th>\n",
       "      <td>POI10014792</td>\n",
       "      <td>PIZZERIA SAINT-DENIS</td>\n",
       "      <td>1617 RUE SAINT DENIS</td>\n",
       "      <td>MONTREAL</td>\n",
       "      <td>QC</td>\n",
       "      <td>H2X 3K3</td>\n",
       "      <td>514-281-6669</td>\n",
       "      <td>-73.562842</td>\n",
       "      <td>45.515012</td>\n",
       "      <td>Restaurants</td>\n",
       "    </tr>\n",
       "    <tr>\n",
       "      <th>2</th>\n",
       "      <td>POI10014794</td>\n",
       "      <td>TIFFANY CASINO</td>\n",
       "      <td>3775 BOUL INDUSTRIEL</td>\n",
       "      <td>MONTREAL</td>\n",
       "      <td>QC</td>\n",
       "      <td>H1H 2Y8</td>\n",
       "      <td>514-328-0080</td>\n",
       "      <td>-73.633118</td>\n",
       "      <td>45.580402</td>\n",
       "      <td>Amusement and Recreation Services</td>\n",
       "    </tr>\n",
       "    <tr>\n",
       "      <th>3</th>\n",
       "      <td>POI10014903</td>\n",
       "      <td>EL TACO DEL TABARNACO</td>\n",
       "      <td>916 AV DULUTH E</td>\n",
       "      <td>MONTREAL</td>\n",
       "      <td>QC</td>\n",
       "      <td>H2L 1B6</td>\n",
       "      <td>514-528-9865</td>\n",
       "      <td>-73.573235</td>\n",
       "      <td>45.523408</td>\n",
       "      <td>Restaurants</td>\n",
       "    </tr>\n",
       "    <tr>\n",
       "      <th>4</th>\n",
       "      <td>POI10014917</td>\n",
       "      <td>EL DIONELLI</td>\n",
       "      <td>5600 RUE DE SALABERRY</td>\n",
       "      <td>MONTREAL</td>\n",
       "      <td>QC</td>\n",
       "      <td>H4J 1J7</td>\n",
       "      <td>514-332-8999</td>\n",
       "      <td>-73.710948</td>\n",
       "      <td>45.528730</td>\n",
       "      <td>Restaurants</td>\n",
       "    </tr>\n",
       "    <tr>\n",
       "      <th>...</th>\n",
       "      <td>...</td>\n",
       "      <td>...</td>\n",
       "      <td>...</td>\n",
       "      <td>...</td>\n",
       "      <td>...</td>\n",
       "      <td>...</td>\n",
       "      <td>...</td>\n",
       "      <td>...</td>\n",
       "      <td>...</td>\n",
       "      <td>...</td>\n",
       "    </tr>\n",
       "    <tr>\n",
       "      <th>4680</th>\n",
       "      <td>POI85872</td>\n",
       "      <td>RESTAURANT PIZZERIA SANDHU</td>\n",
       "      <td>4548 AV PAPINEAU</td>\n",
       "      <td>MONTREAL</td>\n",
       "      <td>QC</td>\n",
       "      <td>H2H 1V3</td>\n",
       "      <td>514-524-8685</td>\n",
       "      <td>-73.575604</td>\n",
       "      <td>45.533146</td>\n",
       "      <td>Restaurants</td>\n",
       "    </tr>\n",
       "    <tr>\n",
       "      <th>4681</th>\n",
       "      <td>POI96916</td>\n",
       "      <td>HÃƒÆ’Ã‚â€TEL LA RÃ‰SIDENCE DU VOYAGEUR</td>\n",
       "      <td>847 RUE SHERBROOKE E</td>\n",
       "      <td>MONTREAL</td>\n",
       "      <td>QC</td>\n",
       "      <td>H2L 1K6</td>\n",
       "      <td>514-527-9515</td>\n",
       "      <td>-73.566512</td>\n",
       "      <td>45.519761</td>\n",
       "      <td>Hotels</td>\n",
       "    </tr>\n",
       "    <tr>\n",
       "      <th>4682</th>\n",
       "      <td>POI98943</td>\n",
       "      <td>PICASSO SERRE</td>\n",
       "      <td>6810 RUE SAINT JACQUES</td>\n",
       "      <td>MONTREAL</td>\n",
       "      <td>QC</td>\n",
       "      <td>H4B 1V8</td>\n",
       "      <td>514-484-2832</td>\n",
       "      <td>-73.627736</td>\n",
       "      <td>45.457981</td>\n",
       "      <td>Restaurants</td>\n",
       "    </tr>\n",
       "    <tr>\n",
       "      <th>4683</th>\n",
       "      <td>POI99080</td>\n",
       "      <td>HOTEL RITZ-CARLTON MONTREAL</td>\n",
       "      <td>1228 RUE SHERBROOKE O</td>\n",
       "      <td>MONTREAL</td>\n",
       "      <td>QC</td>\n",
       "      <td>H3G 1H6</td>\n",
       "      <td>514-842-4212</td>\n",
       "      <td>-73.578030</td>\n",
       "      <td>45.500217</td>\n",
       "      <td>Hotels</td>\n",
       "    </tr>\n",
       "    <tr>\n",
       "      <th>4684</th>\n",
       "      <td>POI99162</td>\n",
       "      <td>TRE MARIE RESTAURANT</td>\n",
       "      <td>6934 RUE CLARK</td>\n",
       "      <td>MONTREAL</td>\n",
       "      <td>QC</td>\n",
       "      <td>H2S 3G2</td>\n",
       "      <td>514-277-9859</td>\n",
       "      <td>-73.615850</td>\n",
       "      <td>45.532553</td>\n",
       "      <td>Restaurants</td>\n",
       "    </tr>\n",
       "  </tbody>\n",
       "</table>\n",
       "<p>4685 rows × 10 columns</p>\n",
       "</div>"
      ],
      "text/plain": [
       "           POI_ID                                     NAME  \\\n",
       "0     POI10004697                       RESTAURANT ALADDIN   \n",
       "1     POI10014792                     PIZZERIA SAINT-DENIS   \n",
       "2     POI10014794                           TIFFANY CASINO   \n",
       "3     POI10014903                    EL TACO DEL TABARNACO   \n",
       "4     POI10014917                              EL DIONELLI   \n",
       "...           ...                                      ...   \n",
       "4680     POI85872               RESTAURANT PIZZERIA SANDHU   \n",
       "4681     POI96916  HÃƒÆ’Ã‚â€TEL LA RÃ‰SIDENCE DU VOYAGEUR   \n",
       "4682     POI98943                            PICASSO SERRE   \n",
       "4683     POI99080              HOTEL RITZ-CARLTON MONTREAL   \n",
       "4684     POI99162                     TRE MARIE RESTAURANT   \n",
       "\n",
       "                                    ADDRESS      CITY PROV POST_CODE  \\\n",
       "0     6700 CH DE LA CÃƒÆ’Ã‚â€TE DES NEIGES  MONTREAL   QC   H3S 2B2   \n",
       "1                      1617 RUE SAINT DENIS  MONTREAL   QC   H2X 3K3   \n",
       "2                      3775 BOUL INDUSTRIEL  MONTREAL   QC   H1H 2Y8   \n",
       "3                           916 AV DULUTH E  MONTREAL   QC   H2L 1B6   \n",
       "4                     5600 RUE DE SALABERRY  MONTREAL   QC   H4J 1J7   \n",
       "...                                     ...       ...  ...       ...   \n",
       "4680                       4548 AV PAPINEAU  MONTREAL   QC   H2H 1V3   \n",
       "4681                   847 RUE SHERBROOKE E  MONTREAL   QC   H2L 1K6   \n",
       "4682                 6810 RUE SAINT JACQUES  MONTREAL   QC   H4B 1V8   \n",
       "4683                  1228 RUE SHERBROOKE O  MONTREAL   QC   H3G 1H6   \n",
       "4684                         6934 RUE CLARK  MONTREAL   QC   H2S 3G2   \n",
       "\n",
       "             PHONE          X          Y                           CATEGORY  \n",
       "0     514-342-7808 -73.637063  45.502503                        Restaurants  \n",
       "1     514-281-6669 -73.562842  45.515012                        Restaurants  \n",
       "2     514-328-0080 -73.633118  45.580402  Amusement and Recreation Services  \n",
       "3     514-528-9865 -73.573235  45.523408                        Restaurants  \n",
       "4     514-332-8999 -73.710948  45.528730                        Restaurants  \n",
       "...            ...        ...        ...                                ...  \n",
       "4680  514-524-8685 -73.575604  45.533146                        Restaurants  \n",
       "4681  514-527-9515 -73.566512  45.519761                             Hotels  \n",
       "4682  514-484-2832 -73.627736  45.457981                        Restaurants  \n",
       "4683  514-842-4212 -73.578030  45.500217                             Hotels  \n",
       "4684  514-277-9859 -73.615850  45.532553                        Restaurants  \n",
       "\n",
       "[4685 rows x 10 columns]"
      ]
     },
     "execution_count": 12,
     "metadata": {},
     "output_type": "execute_result"
    }
   ],
   "source": [
    "points_of_interest_dataset"
   ]
  },
  {
   "cell_type": "code",
   "execution_count": 13,
   "id": "processed-plate",
   "metadata": {},
   "outputs": [],
   "source": [
    "#Data Analytics and Viusalization"
   ]
  },
  {
   "cell_type": "markdown",
   "id": "enabling-photography",
   "metadata": {},
   "source": [
    "No need to merge datasets already indicated by Binod"
   ]
  },
  {
   "cell_type": "code",
   "execution_count": 14,
   "id": "hourly-hebrew",
   "metadata": {},
   "outputs": [
    {
     "data": {
      "text/html": [
       "<div>\n",
       "<style scoped>\n",
       "    .dataframe tbody tr th:only-of-type {\n",
       "        vertical-align: middle;\n",
       "    }\n",
       "\n",
       "    .dataframe tbody tr th {\n",
       "        vertical-align: top;\n",
       "    }\n",
       "\n",
       "    .dataframe thead th {\n",
       "        text-align: right;\n",
       "    }\n",
       "</style>\n",
       "<table border=\"1\" class=\"dataframe\">\n",
       "  <thead>\n",
       "    <tr style=\"text-align: right;\">\n",
       "      <th></th>\n",
       "      <th>FID</th>\n",
       "      <th>City</th>\n",
       "      <th>Metropolitan Area</th>\n",
       "      <th>Subregion</th>\n",
       "      <th>Prov</th>\n",
       "      <th>X</th>\n",
       "      <th>Y</th>\n",
       "      <th>2016 Population</th>\n",
       "      <th>2016 Dwelling Count</th>\n",
       "      <th>2016 Occupied Dwelling Count</th>\n",
       "      <th>Area (sq. km)</th>\n",
       "    </tr>\n",
       "  </thead>\n",
       "  <tbody>\n",
       "    <tr>\n",
       "      <th>0</th>\n",
       "      <td>1669</td>\n",
       "      <td>Mirabel</td>\n",
       "      <td>Communauté Métropolitaine de Montréal</td>\n",
       "      <td>Mirabel</td>\n",
       "      <td>Quebec</td>\n",
       "      <td>-74.01211</td>\n",
       "      <td>45.66353</td>\n",
       "      <td>50513</td>\n",
       "      <td>20395</td>\n",
       "      <td>19631</td>\n",
       "      <td>994.845387</td>\n",
       "    </tr>\n",
       "    <tr>\n",
       "      <th>1</th>\n",
       "      <td>1717</td>\n",
       "      <td>Longueuil</td>\n",
       "      <td>Communauté Métropolitaine de Montréal</td>\n",
       "      <td>Longueuil</td>\n",
       "      <td>Quebec</td>\n",
       "      <td>-73.49604</td>\n",
       "      <td>45.54300</td>\n",
       "      <td>85721</td>\n",
       "      <td>34249</td>\n",
       "      <td>33257</td>\n",
       "      <td>92.228456</td>\n",
       "    </tr>\n",
       "    <tr>\n",
       "      <th>2</th>\n",
       "      <td>1720</td>\n",
       "      <td>Longueuil</td>\n",
       "      <td>Communauté Métropolitaine de Montréal</td>\n",
       "      <td>Longueuil</td>\n",
       "      <td>Quebec</td>\n",
       "      <td>-73.49604</td>\n",
       "      <td>45.54300</td>\n",
       "      <td>41671</td>\n",
       "      <td>17134</td>\n",
       "      <td>16888</td>\n",
       "      <td>144.089454</td>\n",
       "    </tr>\n",
       "    <tr>\n",
       "      <th>3</th>\n",
       "      <td>1721</td>\n",
       "      <td>Longueuil</td>\n",
       "      <td>Communauté Métropolitaine de Montréal</td>\n",
       "      <td>Longueuil</td>\n",
       "      <td>Quebec</td>\n",
       "      <td>-73.49604</td>\n",
       "      <td>45.54300</td>\n",
       "      <td>239700</td>\n",
       "      <td>110761</td>\n",
       "      <td>105533</td>\n",
       "      <td>235.667385</td>\n",
       "    </tr>\n",
       "    <tr>\n",
       "      <th>4</th>\n",
       "      <td>1722</td>\n",
       "      <td>Longueuil</td>\n",
       "      <td>Communauté Métropolitaine de Montréal</td>\n",
       "      <td>Longueuil</td>\n",
       "      <td>Quebec</td>\n",
       "      <td>-73.49604</td>\n",
       "      <td>45.54300</td>\n",
       "      <td>26394</td>\n",
       "      <td>10418</td>\n",
       "      <td>10243</td>\n",
       "      <td>89.449089</td>\n",
       "    </tr>\n",
       "    <tr>\n",
       "      <th>5</th>\n",
       "      <td>1728</td>\n",
       "      <td>L'Assomption</td>\n",
       "      <td>Communauté Métropolitaine de Montréal</td>\n",
       "      <td>L'Assomption</td>\n",
       "      <td>Quebec</td>\n",
       "      <td>-73.42399</td>\n",
       "      <td>45.83146</td>\n",
       "      <td>5913</td>\n",
       "      <td>2962</td>\n",
       "      <td>2878</td>\n",
       "      <td>4.751278</td>\n",
       "    </tr>\n",
       "    <tr>\n",
       "      <th>6</th>\n",
       "      <td>1731</td>\n",
       "      <td>L'Assomption</td>\n",
       "      <td>Communauté Métropolitaine de Montréal</td>\n",
       "      <td>L'Assomption</td>\n",
       "      <td>Quebec</td>\n",
       "      <td>-73.42399</td>\n",
       "      <td>45.83146</td>\n",
       "      <td>3439</td>\n",
       "      <td>1494</td>\n",
       "      <td>1435</td>\n",
       "      <td>74.937797</td>\n",
       "    </tr>\n",
       "    <tr>\n",
       "      <th>7</th>\n",
       "      <td>1732</td>\n",
       "      <td>L'Assomption</td>\n",
       "      <td>Communauté Métropolitaine de Montréal</td>\n",
       "      <td>L'Assomption</td>\n",
       "      <td>Quebec</td>\n",
       "      <td>-73.42399</td>\n",
       "      <td>45.83146</td>\n",
       "      <td>84285</td>\n",
       "      <td>33876</td>\n",
       "      <td>33321</td>\n",
       "      <td>127.932585</td>\n",
       "    </tr>\n",
       "    <tr>\n",
       "      <th>8</th>\n",
       "      <td>1733</td>\n",
       "      <td>L'Assomption</td>\n",
       "      <td>Communauté Métropolitaine de Montréal</td>\n",
       "      <td>L'Assomption</td>\n",
       "      <td>Quebec</td>\n",
       "      <td>-73.42399</td>\n",
       "      <td>45.83146</td>\n",
       "      <td>22429</td>\n",
       "      <td>8932</td>\n",
       "      <td>8736</td>\n",
       "      <td>207.825104</td>\n",
       "    </tr>\n",
       "    <tr>\n",
       "      <th>9</th>\n",
       "      <td>1734</td>\n",
       "      <td>L'Assomption</td>\n",
       "      <td>Communauté Métropolitaine de Montréal</td>\n",
       "      <td>L'Assomption</td>\n",
       "      <td>Quebec</td>\n",
       "      <td>-73.42399</td>\n",
       "      <td>45.83146</td>\n",
       "      <td>5493</td>\n",
       "      <td>2240</td>\n",
       "      <td>2166</td>\n",
       "      <td>4.908156</td>\n",
       "    </tr>\n",
       "    <tr>\n",
       "      <th>10</th>\n",
       "      <td>1738</td>\n",
       "      <td>L'Assomption</td>\n",
       "      <td>Communauté Métropolitaine de Montréal</td>\n",
       "      <td>L'Assomption</td>\n",
       "      <td>Quebec</td>\n",
       "      <td>-73.42399</td>\n",
       "      <td>45.83146</td>\n",
       "      <td>3200</td>\n",
       "      <td>1324</td>\n",
       "      <td>1232</td>\n",
       "      <td>113.521740</td>\n",
       "    </tr>\n",
       "    <tr>\n",
       "      <th>11</th>\n",
       "      <td>1747</td>\n",
       "      <td>Longueuil</td>\n",
       "      <td>Communauté Métropolitaine de Montréal</td>\n",
       "      <td>Longueuil</td>\n",
       "      <td>Quebec</td>\n",
       "      <td>-73.49604</td>\n",
       "      <td>45.54300</td>\n",
       "      <td>21861</td>\n",
       "      <td>10446</td>\n",
       "      <td>9814</td>\n",
       "      <td>15.451078</td>\n",
       "    </tr>\n",
       "    <tr>\n",
       "      <th>12</th>\n",
       "      <td>1758</td>\n",
       "      <td>Montreal</td>\n",
       "      <td>Communauté Métropolitaine de Montréal</td>\n",
       "      <td>Montreal</td>\n",
       "      <td>Quebec</td>\n",
       "      <td>-73.55469</td>\n",
       "      <td>45.51240</td>\n",
       "      <td>32448</td>\n",
       "      <td>14376</td>\n",
       "      <td>13490</td>\n",
       "      <td>14.158796</td>\n",
       "    </tr>\n",
       "    <tr>\n",
       "      <th>13</th>\n",
       "      <td>1759</td>\n",
       "      <td>Montreal</td>\n",
       "      <td>Communauté Métropolitaine de Montréal</td>\n",
       "      <td>Montreal</td>\n",
       "      <td>Quebec</td>\n",
       "      <td>-73.55469</td>\n",
       "      <td>45.51240</td>\n",
       "      <td>6973</td>\n",
       "      <td>2623</td>\n",
       "      <td>2473</td>\n",
       "      <td>3.651437</td>\n",
       "    </tr>\n",
       "    <tr>\n",
       "      <th>14</th>\n",
       "      <td>1784</td>\n",
       "      <td>Montreal</td>\n",
       "      <td>Communauté Métropolitaine de Montréal</td>\n",
       "      <td>Montreal</td>\n",
       "      <td>Quebec</td>\n",
       "      <td>-73.55469</td>\n",
       "      <td>45.51240</td>\n",
       "      <td>20276</td>\n",
       "      <td>7914</td>\n",
       "      <td>7373</td>\n",
       "      <td>15.342187</td>\n",
       "    </tr>\n",
       "    <tr>\n",
       "      <th>15</th>\n",
       "      <td>1802</td>\n",
       "      <td>Montreal</td>\n",
       "      <td>Communauté Métropolitaine de Montréal</td>\n",
       "      <td>Montreal</td>\n",
       "      <td>Quebec</td>\n",
       "      <td>-73.55469</td>\n",
       "      <td>45.51240</td>\n",
       "      <td>3850</td>\n",
       "      <td>1856</td>\n",
       "      <td>1734</td>\n",
       "      <td>25.097341</td>\n",
       "    </tr>\n",
       "    <tr>\n",
       "      <th>16</th>\n",
       "      <td>1803</td>\n",
       "      <td>Montreal</td>\n",
       "      <td>Communauté Métropolitaine de Montréal</td>\n",
       "      <td>Montreal</td>\n",
       "      <td>Quebec</td>\n",
       "      <td>-73.55469</td>\n",
       "      <td>45.51240</td>\n",
       "      <td>1704694</td>\n",
       "      <td>843872</td>\n",
       "      <td>779802</td>\n",
       "      <td>746.007589</td>\n",
       "    </tr>\n",
       "    <tr>\n",
       "      <th>17</th>\n",
       "      <td>1804</td>\n",
       "      <td>Montreal</td>\n",
       "      <td>Communauté Métropolitaine de Montréal</td>\n",
       "      <td>Montreal</td>\n",
       "      <td>Quebec</td>\n",
       "      <td>-73.55469</td>\n",
       "      <td>45.51240</td>\n",
       "      <td>20312</td>\n",
       "      <td>9617</td>\n",
       "      <td>8685</td>\n",
       "      <td>8.229913</td>\n",
       "    </tr>\n",
       "    <tr>\n",
       "      <th>18</th>\n",
       "      <td>1815</td>\n",
       "      <td>Montreal</td>\n",
       "      <td>Communauté Métropolitaine de Montréal</td>\n",
       "      <td>Montreal</td>\n",
       "      <td>Quebec</td>\n",
       "      <td>-73.55469</td>\n",
       "      <td>45.51240</td>\n",
       "      <td>3823</td>\n",
       "      <td>1381</td>\n",
       "      <td>1334</td>\n",
       "      <td>12.239964</td>\n",
       "    </tr>\n",
       "    <tr>\n",
       "      <th>19</th>\n",
       "      <td>1816</td>\n",
       "      <td>Montreal</td>\n",
       "      <td>Communauté Métropolitaine de Montréal</td>\n",
       "      <td>Montreal</td>\n",
       "      <td>Quebec</td>\n",
       "      <td>-73.55469</td>\n",
       "      <td>45.51240</td>\n",
       "      <td>4958</td>\n",
       "      <td>2195</td>\n",
       "      <td>1960</td>\n",
       "      <td>21.301870</td>\n",
       "    </tr>\n",
       "    <tr>\n",
       "      <th>20</th>\n",
       "      <td>1817</td>\n",
       "      <td>Montreal</td>\n",
       "      <td>Communauté Métropolitaine de Montréal</td>\n",
       "      <td>Montreal</td>\n",
       "      <td>Quebec</td>\n",
       "      <td>-73.55469</td>\n",
       "      <td>45.51240</td>\n",
       "      <td>19324</td>\n",
       "      <td>6828</td>\n",
       "      <td>6662</td>\n",
       "      <td>22.386558</td>\n",
       "    </tr>\n",
       "    <tr>\n",
       "      <th>21</th>\n",
       "      <td>1818</td>\n",
       "      <td>Montreal</td>\n",
       "      <td>Communauté Métropolitaine de Montréal</td>\n",
       "      <td>Montreal</td>\n",
       "      <td>Quebec</td>\n",
       "      <td>-73.55469</td>\n",
       "      <td>45.51240</td>\n",
       "      <td>921</td>\n",
       "      <td>375</td>\n",
       "      <td>346</td>\n",
       "      <td>15.277311</td>\n",
       "    </tr>\n",
       "    <tr>\n",
       "      <th>22</th>\n",
       "      <td>1819</td>\n",
       "      <td>Montreal</td>\n",
       "      <td>Communauté Métropolitaine de Montréal</td>\n",
       "      <td>Montreal</td>\n",
       "      <td>Quebec</td>\n",
       "      <td>-73.55469</td>\n",
       "      <td>45.51240</td>\n",
       "      <td>48899</td>\n",
       "      <td>17627</td>\n",
       "      <td>17210</td>\n",
       "      <td>30.673465</td>\n",
       "    </tr>\n",
       "    <tr>\n",
       "      <th>23</th>\n",
       "      <td>1833</td>\n",
       "      <td>Montreal</td>\n",
       "      <td>Communauté Métropolitaine de Montréal</td>\n",
       "      <td>Montreal</td>\n",
       "      <td>Quebec</td>\n",
       "      <td>-73.55469</td>\n",
       "      <td>45.51240</td>\n",
       "      <td>5</td>\n",
       "      <td>60</td>\n",
       "      <td>4</td>\n",
       "      <td>0.389321</td>\n",
       "    </tr>\n",
       "    <tr>\n",
       "      <th>24</th>\n",
       "      <td>1834</td>\n",
       "      <td>Montreal</td>\n",
       "      <td>Communauté Métropolitaine de Montréal</td>\n",
       "      <td>Montreal</td>\n",
       "      <td>Quebec</td>\n",
       "      <td>-73.55469</td>\n",
       "      <td>45.51240</td>\n",
       "      <td>31380</td>\n",
       "      <td>12835</td>\n",
       "      <td>12376</td>\n",
       "      <td>38.425267</td>\n",
       "    </tr>\n",
       "    <tr>\n",
       "      <th>25</th>\n",
       "      <td>1835</td>\n",
       "      <td>Montreal</td>\n",
       "      <td>Communauté Métropolitaine de Montréal</td>\n",
       "      <td>Montreal</td>\n",
       "      <td>Quebec</td>\n",
       "      <td>-73.55469</td>\n",
       "      <td>45.51240</td>\n",
       "      <td>18980</td>\n",
       "      <td>8818</td>\n",
       "      <td>8392</td>\n",
       "      <td>42.507970</td>\n",
       "    </tr>\n",
       "    <tr>\n",
       "      <th>26</th>\n",
       "      <td>1838</td>\n",
       "      <td>Montreal</td>\n",
       "      <td>Communauté Métropolitaine de Montréal</td>\n",
       "      <td>Montreal</td>\n",
       "      <td>Quebec</td>\n",
       "      <td>-73.55469</td>\n",
       "      <td>45.51240</td>\n",
       "      <td>20151</td>\n",
       "      <td>6779</td>\n",
       "      <td>6682</td>\n",
       "      <td>19.574071</td>\n",
       "    </tr>\n",
       "    <tr>\n",
       "      <th>27</th>\n",
       "      <td>1858</td>\n",
       "      <td>Deux-Montagnes</td>\n",
       "      <td>Communauté Métropolitaine de Montréal</td>\n",
       "      <td>Deux-Montagnes</td>\n",
       "      <td>Quebec</td>\n",
       "      <td>-73.89274</td>\n",
       "      <td>45.54179</td>\n",
       "      <td>1686</td>\n",
       "      <td>865</td>\n",
       "      <td>730</td>\n",
       "      <td>87.569349</td>\n",
       "    </tr>\n",
       "    <tr>\n",
       "      <th>28</th>\n",
       "      <td>1868</td>\n",
       "      <td>Laval</td>\n",
       "      <td>Communauté Métropolitaine de Montréal</td>\n",
       "      <td>Laval</td>\n",
       "      <td>Quebec</td>\n",
       "      <td>-73.74433</td>\n",
       "      <td>45.55201</td>\n",
       "      <td>422993</td>\n",
       "      <td>165686</td>\n",
       "      <td>160328</td>\n",
       "      <td>504.765526</td>\n",
       "    </tr>\n",
       "    <tr>\n",
       "      <th>29</th>\n",
       "      <td>1869</td>\n",
       "      <td>Montreal</td>\n",
       "      <td>Communauté Métropolitaine de Montréal</td>\n",
       "      <td>Montreal</td>\n",
       "      <td>Quebec</td>\n",
       "      <td>-73.55469</td>\n",
       "      <td>45.51240</td>\n",
       "      <td>5050</td>\n",
       "      <td>1956</td>\n",
       "      <td>1850</td>\n",
       "      <td>2.780542</td>\n",
       "    </tr>\n",
       "    <tr>\n",
       "      <th>30</th>\n",
       "      <td>1894</td>\n",
       "      <td>Deux-Montagnes</td>\n",
       "      <td>Communauté Métropolitaine de Montréal</td>\n",
       "      <td>Deux-Montagnes</td>\n",
       "      <td>Quebec</td>\n",
       "      <td>-73.89274</td>\n",
       "      <td>45.54179</td>\n",
       "      <td>17496</td>\n",
       "      <td>7240</td>\n",
       "      <td>7093</td>\n",
       "      <td>12.409227</td>\n",
       "    </tr>\n",
       "    <tr>\n",
       "      <th>31</th>\n",
       "      <td>1895</td>\n",
       "      <td>Deux-Montagnes</td>\n",
       "      <td>Communauté Métropolitaine de Montréal</td>\n",
       "      <td>Deux-Montagnes</td>\n",
       "      <td>Quebec</td>\n",
       "      <td>-73.89274</td>\n",
       "      <td>45.54179</td>\n",
       "      <td>6428</td>\n",
       "      <td>2696</td>\n",
       "      <td>2618</td>\n",
       "      <td>10.302565</td>\n",
       "    </tr>\n",
       "    <tr>\n",
       "      <th>32</th>\n",
       "      <td>1896</td>\n",
       "      <td>Deux-Montagnes</td>\n",
       "      <td>Communauté Métropolitaine de Montréal</td>\n",
       "      <td>Deux-Montagnes</td>\n",
       "      <td>Quebec</td>\n",
       "      <td>-73.89274</td>\n",
       "      <td>45.54179</td>\n",
       "      <td>18074</td>\n",
       "      <td>6941</td>\n",
       "      <td>6870</td>\n",
       "      <td>18.198250</td>\n",
       "    </tr>\n",
       "    <tr>\n",
       "      <th>33</th>\n",
       "      <td>1899</td>\n",
       "      <td>Deux-Montagnes</td>\n",
       "      <td>Communauté Métropolitaine de Montréal</td>\n",
       "      <td>Deux-Montagnes</td>\n",
       "      <td>Quebec</td>\n",
       "      <td>-73.89274</td>\n",
       "      <td>45.54179</td>\n",
       "      <td>6687</td>\n",
       "      <td>2608</td>\n",
       "      <td>2527</td>\n",
       "      <td>84.732976</td>\n",
       "    </tr>\n",
       "    <tr>\n",
       "      <th>34</th>\n",
       "      <td>1910</td>\n",
       "      <td>Deux-Montagnes</td>\n",
       "      <td>Communauté Métropolitaine de Montréal</td>\n",
       "      <td>Deux-Montagnes</td>\n",
       "      <td>Quebec</td>\n",
       "      <td>-73.89274</td>\n",
       "      <td>45.54179</td>\n",
       "      <td>44008</td>\n",
       "      <td>18742</td>\n",
       "      <td>18347</td>\n",
       "      <td>144.306329</td>\n",
       "    </tr>\n",
       "    <tr>\n",
       "      <th>35</th>\n",
       "      <td>1911</td>\n",
       "      <td>Deux-Montagnes</td>\n",
       "      <td>Communauté Métropolitaine de Montréal</td>\n",
       "      <td>Deux-Montagnes</td>\n",
       "      <td>Quebec</td>\n",
       "      <td>-73.89274</td>\n",
       "      <td>45.54179</td>\n",
       "      <td>3824</td>\n",
       "      <td>1636</td>\n",
       "      <td>1563</td>\n",
       "      <td>117.592420</td>\n",
       "    </tr>\n",
       "    <tr>\n",
       "      <th>36</th>\n",
       "      <td>1912</td>\n",
       "      <td>Deux-Montagnes</td>\n",
       "      <td>Communauté Métropolitaine de Montréal</td>\n",
       "      <td>Deux-Montagnes</td>\n",
       "      <td>Quebec</td>\n",
       "      <td>-73.89274</td>\n",
       "      <td>45.54179</td>\n",
       "      <td>0</td>\n",
       "      <td>0</td>\n",
       "      <td>0</td>\n",
       "      <td>24.129391</td>\n",
       "    </tr>\n",
       "  </tbody>\n",
       "</table>\n",
       "</div>"
      ],
      "text/plain": [
       "     FID            City                      Metropolitan Area  \\\n",
       "0   1669         Mirabel  Communauté Métropolitaine de Montréal   \n",
       "1   1717       Longueuil  Communauté Métropolitaine de Montréal   \n",
       "2   1720       Longueuil  Communauté Métropolitaine de Montréal   \n",
       "3   1721       Longueuil  Communauté Métropolitaine de Montréal   \n",
       "4   1722       Longueuil  Communauté Métropolitaine de Montréal   \n",
       "5   1728    L'Assomption  Communauté Métropolitaine de Montréal   \n",
       "6   1731    L'Assomption  Communauté Métropolitaine de Montréal   \n",
       "7   1732    L'Assomption  Communauté Métropolitaine de Montréal   \n",
       "8   1733    L'Assomption  Communauté Métropolitaine de Montréal   \n",
       "9   1734    L'Assomption  Communauté Métropolitaine de Montréal   \n",
       "10  1738    L'Assomption  Communauté Métropolitaine de Montréal   \n",
       "11  1747       Longueuil  Communauté Métropolitaine de Montréal   \n",
       "12  1758        Montreal  Communauté Métropolitaine de Montréal   \n",
       "13  1759        Montreal  Communauté Métropolitaine de Montréal   \n",
       "14  1784        Montreal  Communauté Métropolitaine de Montréal   \n",
       "15  1802        Montreal  Communauté Métropolitaine de Montréal   \n",
       "16  1803        Montreal  Communauté Métropolitaine de Montréal   \n",
       "17  1804        Montreal  Communauté Métropolitaine de Montréal   \n",
       "18  1815        Montreal  Communauté Métropolitaine de Montréal   \n",
       "19  1816        Montreal  Communauté Métropolitaine de Montréal   \n",
       "20  1817        Montreal  Communauté Métropolitaine de Montréal   \n",
       "21  1818        Montreal  Communauté Métropolitaine de Montréal   \n",
       "22  1819        Montreal  Communauté Métropolitaine de Montréal   \n",
       "23  1833        Montreal  Communauté Métropolitaine de Montréal   \n",
       "24  1834        Montreal  Communauté Métropolitaine de Montréal   \n",
       "25  1835        Montreal  Communauté Métropolitaine de Montréal   \n",
       "26  1838        Montreal  Communauté Métropolitaine de Montréal   \n",
       "27  1858  Deux-Montagnes  Communauté Métropolitaine de Montréal   \n",
       "28  1868           Laval  Communauté Métropolitaine de Montréal   \n",
       "29  1869        Montreal  Communauté Métropolitaine de Montréal   \n",
       "30  1894  Deux-Montagnes  Communauté Métropolitaine de Montréal   \n",
       "31  1895  Deux-Montagnes  Communauté Métropolitaine de Montréal   \n",
       "32  1896  Deux-Montagnes  Communauté Métropolitaine de Montréal   \n",
       "33  1899  Deux-Montagnes  Communauté Métropolitaine de Montréal   \n",
       "34  1910  Deux-Montagnes  Communauté Métropolitaine de Montréal   \n",
       "35  1911  Deux-Montagnes  Communauté Métropolitaine de Montréal   \n",
       "36  1912  Deux-Montagnes  Communauté Métropolitaine de Montréal   \n",
       "\n",
       "         Subregion    Prov         X         Y  2016 Population  \\\n",
       "0          Mirabel  Quebec -74.01211  45.66353            50513   \n",
       "1        Longueuil  Quebec -73.49604  45.54300            85721   \n",
       "2        Longueuil  Quebec -73.49604  45.54300            41671   \n",
       "3        Longueuil  Quebec -73.49604  45.54300           239700   \n",
       "4        Longueuil  Quebec -73.49604  45.54300            26394   \n",
       "5     L'Assomption  Quebec -73.42399  45.83146             5913   \n",
       "6     L'Assomption  Quebec -73.42399  45.83146             3439   \n",
       "7     L'Assomption  Quebec -73.42399  45.83146            84285   \n",
       "8     L'Assomption  Quebec -73.42399  45.83146            22429   \n",
       "9     L'Assomption  Quebec -73.42399  45.83146             5493   \n",
       "10    L'Assomption  Quebec -73.42399  45.83146             3200   \n",
       "11       Longueuil  Quebec -73.49604  45.54300            21861   \n",
       "12        Montreal  Quebec -73.55469  45.51240            32448   \n",
       "13        Montreal  Quebec -73.55469  45.51240             6973   \n",
       "14        Montreal  Quebec -73.55469  45.51240            20276   \n",
       "15        Montreal  Quebec -73.55469  45.51240             3850   \n",
       "16        Montreal  Quebec -73.55469  45.51240          1704694   \n",
       "17        Montreal  Quebec -73.55469  45.51240            20312   \n",
       "18        Montreal  Quebec -73.55469  45.51240             3823   \n",
       "19        Montreal  Quebec -73.55469  45.51240             4958   \n",
       "20        Montreal  Quebec -73.55469  45.51240            19324   \n",
       "21        Montreal  Quebec -73.55469  45.51240              921   \n",
       "22        Montreal  Quebec -73.55469  45.51240            48899   \n",
       "23        Montreal  Quebec -73.55469  45.51240                5   \n",
       "24        Montreal  Quebec -73.55469  45.51240            31380   \n",
       "25        Montreal  Quebec -73.55469  45.51240            18980   \n",
       "26        Montreal  Quebec -73.55469  45.51240            20151   \n",
       "27  Deux-Montagnes  Quebec -73.89274  45.54179             1686   \n",
       "28           Laval  Quebec -73.74433  45.55201           422993   \n",
       "29        Montreal  Quebec -73.55469  45.51240             5050   \n",
       "30  Deux-Montagnes  Quebec -73.89274  45.54179            17496   \n",
       "31  Deux-Montagnes  Quebec -73.89274  45.54179             6428   \n",
       "32  Deux-Montagnes  Quebec -73.89274  45.54179            18074   \n",
       "33  Deux-Montagnes  Quebec -73.89274  45.54179             6687   \n",
       "34  Deux-Montagnes  Quebec -73.89274  45.54179            44008   \n",
       "35  Deux-Montagnes  Quebec -73.89274  45.54179             3824   \n",
       "36  Deux-Montagnes  Quebec -73.89274  45.54179                0   \n",
       "\n",
       "    2016 Dwelling Count  2016 Occupied Dwelling Count  Area (sq. km)  \n",
       "0                 20395                         19631     994.845387  \n",
       "1                 34249                         33257      92.228456  \n",
       "2                 17134                         16888     144.089454  \n",
       "3                110761                        105533     235.667385  \n",
       "4                 10418                         10243      89.449089  \n",
       "5                  2962                          2878       4.751278  \n",
       "6                  1494                          1435      74.937797  \n",
       "7                 33876                         33321     127.932585  \n",
       "8                  8932                          8736     207.825104  \n",
       "9                  2240                          2166       4.908156  \n",
       "10                 1324                          1232     113.521740  \n",
       "11                10446                          9814      15.451078  \n",
       "12                14376                         13490      14.158796  \n",
       "13                 2623                          2473       3.651437  \n",
       "14                 7914                          7373      15.342187  \n",
       "15                 1856                          1734      25.097341  \n",
       "16               843872                        779802     746.007589  \n",
       "17                 9617                          8685       8.229913  \n",
       "18                 1381                          1334      12.239964  \n",
       "19                 2195                          1960      21.301870  \n",
       "20                 6828                          6662      22.386558  \n",
       "21                  375                           346      15.277311  \n",
       "22                17627                         17210      30.673465  \n",
       "23                   60                             4       0.389321  \n",
       "24                12835                         12376      38.425267  \n",
       "25                 8818                          8392      42.507970  \n",
       "26                 6779                          6682      19.574071  \n",
       "27                  865                           730      87.569349  \n",
       "28               165686                        160328     504.765526  \n",
       "29                 1956                          1850       2.780542  \n",
       "30                 7240                          7093      12.409227  \n",
       "31                 2696                          2618      10.302565  \n",
       "32                 6941                          6870      18.198250  \n",
       "33                 2608                          2527      84.732976  \n",
       "34                18742                         18347     144.306329  \n",
       "35                 1636                          1563     117.592420  \n",
       "36                    0                             0      24.129391  "
      ]
     },
     "execution_count": 14,
     "metadata": {},
     "output_type": "execute_result"
    }
   ],
   "source": [
    "census_dataset"
   ]
  },
  {
   "cell_type": "markdown",
   "id": "documented-attitude",
   "metadata": {},
   "source": [
    "Checking for finding methods"
   ]
  },
  {
   "cell_type": "code",
   "execution_count": 15,
   "id": "accurate-heather",
   "metadata": {},
   "outputs": [
    {
     "data": {
      "text/plain": [
       "0            Mirabel\n",
       "1          Longueuil\n",
       "2          Longueuil\n",
       "3          Longueuil\n",
       "4          Longueuil\n",
       "5       L'Assomption\n",
       "6       L'Assomption\n",
       "7       L'Assomption\n",
       "8       L'Assomption\n",
       "9       L'Assomption\n",
       "10      L'Assomption\n",
       "11         Longueuil\n",
       "12          Montreal\n",
       "13          Montreal\n",
       "14          Montreal\n",
       "15          Montreal\n",
       "16          Montreal\n",
       "17          Montreal\n",
       "18          Montreal\n",
       "19          Montreal\n",
       "20          Montreal\n",
       "21          Montreal\n",
       "22          Montreal\n",
       "23          Montreal\n",
       "24          Montreal\n",
       "25          Montreal\n",
       "26          Montreal\n",
       "27    Deux-Montagnes\n",
       "28             Laval\n",
       "29          Montreal\n",
       "30    Deux-Montagnes\n",
       "31    Deux-Montagnes\n",
       "32    Deux-Montagnes\n",
       "33    Deux-Montagnes\n",
       "34    Deux-Montagnes\n",
       "35    Deux-Montagnes\n",
       "36    Deux-Montagnes\n",
       "Name: City, dtype: object"
      ]
     },
     "execution_count": 15,
     "metadata": {},
     "output_type": "execute_result"
    }
   ],
   "source": [
    "census_dataset['City']"
   ]
  },
  {
   "cell_type": "code",
   "execution_count": 16,
   "id": "collective-funeral",
   "metadata": {},
   "outputs": [
    {
     "data": {
      "text/plain": [
       "array(['Mirabel', 'Longueuil', \"L'Assomption\", 'Montreal',\n",
       "       'Deux-Montagnes', 'Laval'], dtype=object)"
      ]
     },
     "execution_count": 16,
     "metadata": {},
     "output_type": "execute_result"
    }
   ],
   "source": [
    "census_dataset['City'].unique()"
   ]
  },
  {
   "cell_type": "markdown",
   "id": "tough-advancement",
   "metadata": {},
   "source": [
    "There any many Montreal named values, some of them are gibberish (used special characters), and many values have uppercase and lowercase characters"
   ]
  },
  {
   "cell_type": "code",
   "execution_count": 17,
   "id": "disabled-colombia",
   "metadata": {},
   "outputs": [
    {
     "data": {
      "text/plain": [
       "array(['MontrÃ©al', 'Pointe-aux-Trembles', 'MontrÃ©al-Est', 'Montreal',\n",
       "       'MontrÃ©al-Nord', 'Anjou', 'Outremont', 'St-LÃ©onard',\n",
       "       'Montrâ\\x88\\x9aÂ©al', 'Saint-LÃ©onard', 'Ville-Marie', 'Verdun',\n",
       "       'Ile des Soeurs', 'Mont-Royal', 'Mount-Royal', 'Ville Mont-Royal',\n",
       "       'Westmount', 'Saint-Laurent', 'Ville St-Laurent', 'St-Laurent',\n",
       "       'Saint Laurent', 'Ville St Laurent', 'CÃ´te-Saint-Luc',\n",
       "       'Montreal-West', 'Dorval', 'Laval', 'LaSalle', 'Lasalle',\n",
       "       'Lasalla', 'Lachine', 'Pierrefonds', 'Dollard-des-ormeaux',\n",
       "       'Dollard-des-Ormeaux', 'Sainte-GeneviÃ¨ve', 'Kirkland',\n",
       "       'Pointe-Claire', 'Saint-Hyacinthe', 'Longueuil', 'Saint-Hubert',\n",
       "       'St-Hubert', 'Boucherville', 'Saint-Lambert', 'Saint Lambert',\n",
       "       'Greenfield Park', 'Brossard', 'Delson', 'Sainte-catherine',\n",
       "       'Sainte-Catherine', 'Saint-JÃ©rÃ´me', 'Repentigny', 'Charlemagne',\n",
       "       'Terrebonne', 'Lachenaie', 'BLAINVILLE', 'Blainville', 'Mirabel',\n",
       "       'Saint-Jerome', 'St-JÃ©rÃ´me', 'St-Jerome'], dtype=object)"
      ]
     },
     "execution_count": 17,
     "metadata": {},
     "output_type": "execute_result"
    }
   ],
   "source": [
    "montreal_dataset['City'].unique()"
   ]
  },
  {
   "cell_type": "markdown",
   "id": "accompanied-condition",
   "metadata": {},
   "source": [
    "Checking city name from census dataset to montreal dataset"
   ]
  },
  {
   "cell_type": "code",
   "execution_count": 18,
   "id": "challenging-crawford",
   "metadata": {},
   "outputs": [],
   "source": [
    "city = montreal_dataset['City'].unique().tolist()  "
   ]
  },
  {
   "cell_type": "markdown",
   "id": "available-adobe",
   "metadata": {},
   "source": [
    "Looking at the city values, there are many values that have same city names but the difference is of writing (using lowercase uppercase and many different symbolic iterations)"
   ]
  },
  {
   "cell_type": "code",
   "execution_count": 19,
   "id": "judicial-demographic",
   "metadata": {},
   "outputs": [
    {
     "data": {
      "text/plain": [
       "['MontrÃ©al',\n",
       " 'Pointe-aux-Trembles',\n",
       " 'MontrÃ©al-Est',\n",
       " 'Montreal',\n",
       " 'MontrÃ©al-Nord',\n",
       " 'Anjou',\n",
       " 'Outremont',\n",
       " 'St-LÃ©onard',\n",
       " 'Montrâ\\x88\\x9aÂ©al',\n",
       " 'Saint-LÃ©onard',\n",
       " 'Ville-Marie',\n",
       " 'Verdun',\n",
       " 'Ile des Soeurs',\n",
       " 'Mont-Royal',\n",
       " 'Mount-Royal',\n",
       " 'Ville Mont-Royal',\n",
       " 'Westmount',\n",
       " 'Saint-Laurent',\n",
       " 'Ville St-Laurent',\n",
       " 'St-Laurent',\n",
       " 'Saint Laurent',\n",
       " 'Ville St Laurent',\n",
       " 'CÃ´te-Saint-Luc',\n",
       " 'Montreal-West',\n",
       " 'Dorval',\n",
       " 'Laval',\n",
       " 'LaSalle',\n",
       " 'Lasalle',\n",
       " 'Lasalla',\n",
       " 'Lachine',\n",
       " 'Pierrefonds',\n",
       " 'Dollard-des-ormeaux',\n",
       " 'Dollard-des-Ormeaux',\n",
       " 'Sainte-GeneviÃ¨ve',\n",
       " 'Kirkland',\n",
       " 'Pointe-Claire',\n",
       " 'Saint-Hyacinthe',\n",
       " 'Longueuil',\n",
       " 'Saint-Hubert',\n",
       " 'St-Hubert',\n",
       " 'Boucherville',\n",
       " 'Saint-Lambert',\n",
       " 'Saint Lambert',\n",
       " 'Greenfield Park',\n",
       " 'Brossard',\n",
       " 'Delson',\n",
       " 'Sainte-catherine',\n",
       " 'Sainte-Catherine',\n",
       " 'Saint-JÃ©rÃ´me',\n",
       " 'Repentigny',\n",
       " 'Charlemagne',\n",
       " 'Terrebonne',\n",
       " 'Lachenaie',\n",
       " 'BLAINVILLE',\n",
       " 'Blainville',\n",
       " 'Mirabel',\n",
       " 'Saint-Jerome',\n",
       " 'St-JÃ©rÃ´me',\n",
       " 'St-Jerome']"
      ]
     },
     "execution_count": 19,
     "metadata": {},
     "output_type": "execute_result"
    }
   ],
   "source": [
    "city"
   ]
  },
  {
   "cell_type": "markdown",
   "id": "comparable-preview",
   "metadata": {},
   "source": [
    "This will give all the occuring values"
   ]
  },
  {
   "cell_type": "code",
   "execution_count": 20,
   "id": "bound-cyprus",
   "metadata": {},
   "outputs": [],
   "source": [
    "# city = montreal_dataset['City'].tolist() "
   ]
  },
  {
   "cell_type": "code",
   "execution_count": 21,
   "id": "hispanic-charleston",
   "metadata": {},
   "outputs": [
    {
     "data": {
      "text/plain": [
       "55"
      ]
     },
     "execution_count": 21,
     "metadata": {},
     "output_type": "execute_result"
    }
   ],
   "source": [
    "city.index('Mirabel')"
   ]
  },
  {
   "cell_type": "code",
   "execution_count": 22,
   "id": "ranging-reservation",
   "metadata": {},
   "outputs": [
    {
     "data": {
      "text/plain": [
       "37"
      ]
     },
     "execution_count": 22,
     "metadata": {},
     "output_type": "execute_result"
    }
   ],
   "source": [
    "city.index('Longueuil')"
   ]
  },
  {
   "cell_type": "markdown",
   "id": "usual-teaching",
   "metadata": {},
   "source": [
    "All vehicles that are defined in montreal dataset are electric vehicles, since all have ELEC Fuel Type Code"
   ]
  },
  {
   "cell_type": "code",
   "execution_count": 23,
   "id": "educated-latter",
   "metadata": {},
   "outputs": [
    {
     "data": {
      "text/plain": [
       "array([nan, 'A Cash Debit M V', 'A Debit M V'], dtype=object)"
      ]
     },
     "execution_count": 23,
     "metadata": {},
     "output_type": "execute_result"
    }
   ],
   "source": [
    "montreal_dataset['Cards Accepted'].unique()"
   ]
  },
  {
   "cell_type": "markdown",
   "id": "weird-worship",
   "metadata": {},
   "source": [
    "This dataset has values of restaurants,banks and other interest regions"
   ]
  },
  {
   "cell_type": "code",
   "execution_count": 24,
   "id": "athletic-jonathan",
   "metadata": {},
   "outputs": [
    {
     "data": {
      "text/html": [
       "<div>\n",
       "<style scoped>\n",
       "    .dataframe tbody tr th:only-of-type {\n",
       "        vertical-align: middle;\n",
       "    }\n",
       "\n",
       "    .dataframe tbody tr th {\n",
       "        vertical-align: top;\n",
       "    }\n",
       "\n",
       "    .dataframe thead th {\n",
       "        text-align: right;\n",
       "    }\n",
       "</style>\n",
       "<table border=\"1\" class=\"dataframe\">\n",
       "  <thead>\n",
       "    <tr style=\"text-align: right;\">\n",
       "      <th></th>\n",
       "      <th>POI_ID</th>\n",
       "      <th>NAME</th>\n",
       "      <th>ADDRESS</th>\n",
       "      <th>CITY</th>\n",
       "      <th>PROV</th>\n",
       "      <th>POST_CODE</th>\n",
       "      <th>PHONE</th>\n",
       "      <th>X</th>\n",
       "      <th>Y</th>\n",
       "      <th>CATEGORY</th>\n",
       "    </tr>\n",
       "  </thead>\n",
       "  <tbody>\n",
       "    <tr>\n",
       "      <th>0</th>\n",
       "      <td>POI10004697</td>\n",
       "      <td>RESTAURANT ALADDIN</td>\n",
       "      <td>6700 CH DE LA CÃƒÆ’Ã‚â€TE DES NEIGES</td>\n",
       "      <td>MONTREAL</td>\n",
       "      <td>QC</td>\n",
       "      <td>H3S 2B2</td>\n",
       "      <td>514-342-7808</td>\n",
       "      <td>-73.637063</td>\n",
       "      <td>45.502503</td>\n",
       "      <td>Restaurants</td>\n",
       "    </tr>\n",
       "    <tr>\n",
       "      <th>1</th>\n",
       "      <td>POI10014792</td>\n",
       "      <td>PIZZERIA SAINT-DENIS</td>\n",
       "      <td>1617 RUE SAINT DENIS</td>\n",
       "      <td>MONTREAL</td>\n",
       "      <td>QC</td>\n",
       "      <td>H2X 3K3</td>\n",
       "      <td>514-281-6669</td>\n",
       "      <td>-73.562842</td>\n",
       "      <td>45.515012</td>\n",
       "      <td>Restaurants</td>\n",
       "    </tr>\n",
       "    <tr>\n",
       "      <th>2</th>\n",
       "      <td>POI10014794</td>\n",
       "      <td>TIFFANY CASINO</td>\n",
       "      <td>3775 BOUL INDUSTRIEL</td>\n",
       "      <td>MONTREAL</td>\n",
       "      <td>QC</td>\n",
       "      <td>H1H 2Y8</td>\n",
       "      <td>514-328-0080</td>\n",
       "      <td>-73.633118</td>\n",
       "      <td>45.580402</td>\n",
       "      <td>Amusement and Recreation Services</td>\n",
       "    </tr>\n",
       "    <tr>\n",
       "      <th>3</th>\n",
       "      <td>POI10014903</td>\n",
       "      <td>EL TACO DEL TABARNACO</td>\n",
       "      <td>916 AV DULUTH E</td>\n",
       "      <td>MONTREAL</td>\n",
       "      <td>QC</td>\n",
       "      <td>H2L 1B6</td>\n",
       "      <td>514-528-9865</td>\n",
       "      <td>-73.573235</td>\n",
       "      <td>45.523408</td>\n",
       "      <td>Restaurants</td>\n",
       "    </tr>\n",
       "    <tr>\n",
       "      <th>4</th>\n",
       "      <td>POI10014917</td>\n",
       "      <td>EL DIONELLI</td>\n",
       "      <td>5600 RUE DE SALABERRY</td>\n",
       "      <td>MONTREAL</td>\n",
       "      <td>QC</td>\n",
       "      <td>H4J 1J7</td>\n",
       "      <td>514-332-8999</td>\n",
       "      <td>-73.710948</td>\n",
       "      <td>45.528730</td>\n",
       "      <td>Restaurants</td>\n",
       "    </tr>\n",
       "    <tr>\n",
       "      <th>...</th>\n",
       "      <td>...</td>\n",
       "      <td>...</td>\n",
       "      <td>...</td>\n",
       "      <td>...</td>\n",
       "      <td>...</td>\n",
       "      <td>...</td>\n",
       "      <td>...</td>\n",
       "      <td>...</td>\n",
       "      <td>...</td>\n",
       "      <td>...</td>\n",
       "    </tr>\n",
       "    <tr>\n",
       "      <th>4680</th>\n",
       "      <td>POI85872</td>\n",
       "      <td>RESTAURANT PIZZERIA SANDHU</td>\n",
       "      <td>4548 AV PAPINEAU</td>\n",
       "      <td>MONTREAL</td>\n",
       "      <td>QC</td>\n",
       "      <td>H2H 1V3</td>\n",
       "      <td>514-524-8685</td>\n",
       "      <td>-73.575604</td>\n",
       "      <td>45.533146</td>\n",
       "      <td>Restaurants</td>\n",
       "    </tr>\n",
       "    <tr>\n",
       "      <th>4681</th>\n",
       "      <td>POI96916</td>\n",
       "      <td>HÃƒÆ’Ã‚â€TEL LA RÃ‰SIDENCE DU VOYAGEUR</td>\n",
       "      <td>847 RUE SHERBROOKE E</td>\n",
       "      <td>MONTREAL</td>\n",
       "      <td>QC</td>\n",
       "      <td>H2L 1K6</td>\n",
       "      <td>514-527-9515</td>\n",
       "      <td>-73.566512</td>\n",
       "      <td>45.519761</td>\n",
       "      <td>Hotels</td>\n",
       "    </tr>\n",
       "    <tr>\n",
       "      <th>4682</th>\n",
       "      <td>POI98943</td>\n",
       "      <td>PICASSO SERRE</td>\n",
       "      <td>6810 RUE SAINT JACQUES</td>\n",
       "      <td>MONTREAL</td>\n",
       "      <td>QC</td>\n",
       "      <td>H4B 1V8</td>\n",
       "      <td>514-484-2832</td>\n",
       "      <td>-73.627736</td>\n",
       "      <td>45.457981</td>\n",
       "      <td>Restaurants</td>\n",
       "    </tr>\n",
       "    <tr>\n",
       "      <th>4683</th>\n",
       "      <td>POI99080</td>\n",
       "      <td>HOTEL RITZ-CARLTON MONTREAL</td>\n",
       "      <td>1228 RUE SHERBROOKE O</td>\n",
       "      <td>MONTREAL</td>\n",
       "      <td>QC</td>\n",
       "      <td>H3G 1H6</td>\n",
       "      <td>514-842-4212</td>\n",
       "      <td>-73.578030</td>\n",
       "      <td>45.500217</td>\n",
       "      <td>Hotels</td>\n",
       "    </tr>\n",
       "    <tr>\n",
       "      <th>4684</th>\n",
       "      <td>POI99162</td>\n",
       "      <td>TRE MARIE RESTAURANT</td>\n",
       "      <td>6934 RUE CLARK</td>\n",
       "      <td>MONTREAL</td>\n",
       "      <td>QC</td>\n",
       "      <td>H2S 3G2</td>\n",
       "      <td>514-277-9859</td>\n",
       "      <td>-73.615850</td>\n",
       "      <td>45.532553</td>\n",
       "      <td>Restaurants</td>\n",
       "    </tr>\n",
       "  </tbody>\n",
       "</table>\n",
       "<p>4685 rows × 10 columns</p>\n",
       "</div>"
      ],
      "text/plain": [
       "           POI_ID                                     NAME  \\\n",
       "0     POI10004697                       RESTAURANT ALADDIN   \n",
       "1     POI10014792                     PIZZERIA SAINT-DENIS   \n",
       "2     POI10014794                           TIFFANY CASINO   \n",
       "3     POI10014903                    EL TACO DEL TABARNACO   \n",
       "4     POI10014917                              EL DIONELLI   \n",
       "...           ...                                      ...   \n",
       "4680     POI85872               RESTAURANT PIZZERIA SANDHU   \n",
       "4681     POI96916  HÃƒÆ’Ã‚â€TEL LA RÃ‰SIDENCE DU VOYAGEUR   \n",
       "4682     POI98943                            PICASSO SERRE   \n",
       "4683     POI99080              HOTEL RITZ-CARLTON MONTREAL   \n",
       "4684     POI99162                     TRE MARIE RESTAURANT   \n",
       "\n",
       "                                    ADDRESS      CITY PROV POST_CODE  \\\n",
       "0     6700 CH DE LA CÃƒÆ’Ã‚â€TE DES NEIGES  MONTREAL   QC   H3S 2B2   \n",
       "1                      1617 RUE SAINT DENIS  MONTREAL   QC   H2X 3K3   \n",
       "2                      3775 BOUL INDUSTRIEL  MONTREAL   QC   H1H 2Y8   \n",
       "3                           916 AV DULUTH E  MONTREAL   QC   H2L 1B6   \n",
       "4                     5600 RUE DE SALABERRY  MONTREAL   QC   H4J 1J7   \n",
       "...                                     ...       ...  ...       ...   \n",
       "4680                       4548 AV PAPINEAU  MONTREAL   QC   H2H 1V3   \n",
       "4681                   847 RUE SHERBROOKE E  MONTREAL   QC   H2L 1K6   \n",
       "4682                 6810 RUE SAINT JACQUES  MONTREAL   QC   H4B 1V8   \n",
       "4683                  1228 RUE SHERBROOKE O  MONTREAL   QC   H3G 1H6   \n",
       "4684                         6934 RUE CLARK  MONTREAL   QC   H2S 3G2   \n",
       "\n",
       "             PHONE          X          Y                           CATEGORY  \n",
       "0     514-342-7808 -73.637063  45.502503                        Restaurants  \n",
       "1     514-281-6669 -73.562842  45.515012                        Restaurants  \n",
       "2     514-328-0080 -73.633118  45.580402  Amusement and Recreation Services  \n",
       "3     514-528-9865 -73.573235  45.523408                        Restaurants  \n",
       "4     514-332-8999 -73.710948  45.528730                        Restaurants  \n",
       "...            ...        ...        ...                                ...  \n",
       "4680  514-524-8685 -73.575604  45.533146                        Restaurants  \n",
       "4681  514-527-9515 -73.566512  45.519761                             Hotels  \n",
       "4682  514-484-2832 -73.627736  45.457981                        Restaurants  \n",
       "4683  514-842-4212 -73.578030  45.500217                             Hotels  \n",
       "4684  514-277-9859 -73.615850  45.532553                        Restaurants  \n",
       "\n",
       "[4685 rows x 10 columns]"
      ]
     },
     "execution_count": 24,
     "metadata": {},
     "output_type": "execute_result"
    }
   ],
   "source": [
    "points_of_interest_dataset "
   ]
  },
  {
   "cell_type": "code",
   "execution_count": 25,
   "id": "quiet-concept",
   "metadata": {},
   "outputs": [
    {
     "data": {
      "text/plain": [
       "array(['MONTREAL', 'MONTREAL-EST', 'MONTREAL-NORD', 'MONTREAL-OUEST'],\n",
       "      dtype=object)"
      ]
     },
     "execution_count": 25,
     "metadata": {},
     "output_type": "execute_result"
    }
   ],
   "source": [
    "points_of_interest_dataset['CITY'].unique() # same problems"
   ]
  },
  {
   "cell_type": "code",
   "execution_count": 26,
   "id": "public-cancer",
   "metadata": {},
   "outputs": [
    {
     "data": {
      "text/plain": [
       "array(['Restaurants', 'Amusement and Recreation Services',\n",
       "       'Universities, and Colleges', 'Motor Vehicle Dealers',\n",
       "       'Museums and Art Galleries', 'Bar', 'Hotels', 'Parking ',\n",
       "       'Movie Theaters', 'Department Stores', 'Furniture Stores',\n",
       "       'Shopping Center and Malls', 'Warehouse Stores',\n",
       "       ' Department Stores'], dtype=object)"
      ]
     },
     "execution_count": 26,
     "metadata": {},
     "output_type": "execute_result"
    }
   ],
   "source": [
    "points_of_interest_dataset['CATEGORY'].unique()"
   ]
  },
  {
   "cell_type": "code",
   "execution_count": 27,
   "id": "fiscal-landing",
   "metadata": {},
   "outputs": [],
   "source": [
    "#Checking number of rows and number of columns in the dataset"
   ]
  },
  {
   "cell_type": "code",
   "execution_count": 28,
   "id": "abroad-overall",
   "metadata": {},
   "outputs": [
    {
     "name": "stdout",
     "output_type": "stream",
     "text": [
      "(37, 11)\n",
      "(874, 64)\n",
      "(4685, 10)\n"
     ]
    }
   ],
   "source": [
    "print(census_dataset.shape)     # (no. of rows, no. of columns)\n",
    "print(montreal_dataset.shape)\n",
    "print(points_of_interest_dataset.shape)"
   ]
  },
  {
   "cell_type": "code",
   "execution_count": 29,
   "id": "limited-increase",
   "metadata": {},
   "outputs": [],
   "source": [
    "#Checking column names"
   ]
  },
  {
   "cell_type": "code",
   "execution_count": 30,
   "id": "determined-tournament",
   "metadata": {},
   "outputs": [
    {
     "name": "stdout",
     "output_type": "stream",
     "text": [
      "Index(['FID', 'City', 'Metropolitan Area', 'Subregion', 'Prov', 'X', 'Y',\n",
      "       '2016 Population', '2016 Dwelling Count',\n",
      "       '2016 Occupied Dwelling Count', 'Area (sq. km)'],\n",
      "      dtype='object') \n",
      "\n",
      "Index(['ï»¿Fuel Type Code', 'Station Name', 'Street Address',\n",
      "       'Intersection Directions', 'City', 'State', 'ZIP', 'Plus4',\n",
      "       'Station Phone', 'Status Code', 'Expected Date',\n",
      "       'Groups With Access Code', 'Access Days Time', 'Cards Accepted',\n",
      "       'BD Blends', 'NG Fill Type Code', 'NG PSI', 'EV Level1 EVSE Num',\n",
      "       'EV Level2 EVSE Num', 'EV DC Fast Count', 'EV Other Info', 'EV Network',\n",
      "       'EV Network Web', 'Geocode Status', 'Latitude', 'Longitude',\n",
      "       'Date Last Confirmed', 'ID', 'Updated At', 'Owner Type Code',\n",
      "       'Federal Agency ID', 'Federal Agency Name', 'Open Date',\n",
      "       'Hydrogen Status Link', 'NG Vehicle Class', 'LPG Primary',\n",
      "       'E85 Blender Pump', 'EV Connector Types', 'Country',\n",
      "       'Intersection Directions (French)', 'Access Days Time (French)',\n",
      "       'BD Blends (French)', 'Groups With Access Code (French)',\n",
      "       'Hydrogen Is Retail', 'Access Code', 'Access Detail Code',\n",
      "       'Federal Agency Code', 'Facility Type', 'CNG Dispenser Num',\n",
      "       'CNG On-Site Renewable Source', 'CNG Total Compression Capacity',\n",
      "       'CNG Storage Capacity', 'LNG On-Site Renewable Source',\n",
      "       'E85 Other Ethanol Blends', 'EV Pricing', 'EV Pricing (French)',\n",
      "       'LPG Nozzle Types', 'Hydrogen Pressures', 'Hydrogen Standards',\n",
      "       'CNG Fill Type Code', 'CNG PSI', 'CNG Vehicle Class',\n",
      "       'LNG Vehicle Class', 'EV On-Site Renewable Source'],\n",
      "      dtype='object') \n",
      "\n",
      "Index(['POI_ID', 'NAME', 'ADDRESS', 'CITY', 'PROV', 'POST_CODE', 'PHONE', 'X',\n",
      "       'Y', 'CATEGORY'],\n",
      "      dtype='object') \n",
      "\n"
     ]
    }
   ],
   "source": [
    "print(census_dataset.columns,\"\\n\")\n",
    "print(montreal_dataset.columns,'\\n')\n",
    "print(points_of_interest_dataset.columns,'\\n')"
   ]
  },
  {
   "cell_type": "code",
   "execution_count": 31,
   "id": "pursuant-bermuda",
   "metadata": {},
   "outputs": [],
   "source": [
    "#Checking dataset has no null or NaN values"
   ]
  },
  {
   "cell_type": "markdown",
   "id": "normal-juvenile",
   "metadata": {},
   "source": [
    "If 'False', that means there are no missing values"
   ]
  },
  {
   "cell_type": "code",
   "execution_count": 32,
   "id": "ordinary-ghana",
   "metadata": {},
   "outputs": [
    {
     "data": {
      "text/plain": [
       "FID                             False\n",
       "City                            False\n",
       "Metropolitan Area               False\n",
       "Subregion                       False\n",
       "Prov                            False\n",
       "X                               False\n",
       "Y                               False\n",
       "2016 Population                 False\n",
       "2016 Dwelling Count             False\n",
       "2016 Occupied Dwelling Count    False\n",
       "Area (sq. km)                   False\n",
       "dtype: bool"
      ]
     },
     "execution_count": 32,
     "metadata": {},
     "output_type": "execute_result"
    }
   ],
   "source": [
    "census_dataset.isnull().any()"
   ]
  },
  {
   "cell_type": "markdown",
   "id": "complex-cache",
   "metadata": {},
   "source": [
    "This dataset has some null values"
   ]
  },
  {
   "cell_type": "code",
   "execution_count": 33,
   "id": "interracial-devon",
   "metadata": {},
   "outputs": [
    {
     "data": {
      "text/plain": [
       "ï»¿Fuel Type Code              False\n",
       "Station Name                   False\n",
       "Street Address                 False\n",
       "Intersection Directions         True\n",
       "City                           False\n",
       "                               ...  \n",
       "CNG Fill Type Code              True\n",
       "CNG PSI                         True\n",
       "CNG Vehicle Class               True\n",
       "LNG Vehicle Class               True\n",
       "EV On-Site Renewable Source     True\n",
       "Length: 64, dtype: bool"
      ]
     },
     "execution_count": 33,
     "metadata": {},
     "output_type": "execute_result"
    }
   ],
   "source": [
    "montreal_dataset.isnull().any()"
   ]
  },
  {
   "cell_type": "markdown",
   "id": "streaming-sight",
   "metadata": {},
   "source": [
    "This dataset has no null values"
   ]
  },
  {
   "cell_type": "code",
   "execution_count": 34,
   "id": "tired-berlin",
   "metadata": {},
   "outputs": [
    {
     "data": {
      "text/plain": [
       "POI_ID       False\n",
       "NAME         False\n",
       "ADDRESS      False\n",
       "CITY         False\n",
       "PROV         False\n",
       "POST_CODE    False\n",
       "PHONE        False\n",
       "X            False\n",
       "Y            False\n",
       "CATEGORY     False\n",
       "dtype: bool"
      ]
     },
     "execution_count": 34,
     "metadata": {},
     "output_type": "execute_result"
    }
   ],
   "source": [
    "points_of_interest_dataset.isnull().any()"
   ]
  },
  {
   "cell_type": "code",
   "execution_count": 35,
   "id": "functioning-auction",
   "metadata": {
    "scrolled": true
   },
   "outputs": [],
   "source": [
    "#Checking datatypes of each columns"
   ]
  },
  {
   "cell_type": "code",
   "execution_count": 36,
   "id": "elegant-wealth",
   "metadata": {},
   "outputs": [
    {
     "data": {
      "text/plain": [
       "FID                               int64\n",
       "City                             object\n",
       "Metropolitan Area                object\n",
       "Subregion                        object\n",
       "Prov                             object\n",
       "X                               float64\n",
       "Y                               float64\n",
       "2016 Population                   int64\n",
       "2016 Dwelling Count               int64\n",
       "2016 Occupied Dwelling Count      int64\n",
       "Area (sq. km)                   float64\n",
       "dtype: object"
      ]
     },
     "execution_count": 36,
     "metadata": {},
     "output_type": "execute_result"
    }
   ],
   "source": [
    "census_dataset.dtypes"
   ]
  },
  {
   "cell_type": "code",
   "execution_count": 37,
   "id": "blond-india",
   "metadata": {},
   "outputs": [
    {
     "data": {
      "text/plain": [
       "ï»¿Fuel Type Code               object\n",
       "Station Name                    object\n",
       "Street Address                  object\n",
       "Intersection Directions         object\n",
       "City                            object\n",
       "                                ...   \n",
       "CNG Fill Type Code             float64\n",
       "CNG PSI                        float64\n",
       "CNG Vehicle Class              float64\n",
       "LNG Vehicle Class              float64\n",
       "EV On-Site Renewable Source    float64\n",
       "Length: 64, dtype: object"
      ]
     },
     "execution_count": 37,
     "metadata": {},
     "output_type": "execute_result"
    }
   ],
   "source": [
    "montreal_dataset.dtypes"
   ]
  },
  {
   "cell_type": "code",
   "execution_count": 38,
   "id": "comic-gospel",
   "metadata": {},
   "outputs": [
    {
     "data": {
      "text/plain": [
       "POI_ID        object\n",
       "NAME          object\n",
       "ADDRESS       object\n",
       "CITY          object\n",
       "PROV          object\n",
       "POST_CODE     object\n",
       "PHONE         object\n",
       "X            float64\n",
       "Y            float64\n",
       "CATEGORY      object\n",
       "dtype: object"
      ]
     },
     "execution_count": 38,
     "metadata": {},
     "output_type": "execute_result"
    }
   ],
   "source": [
    "points_of_interest_dataset.dtypes"
   ]
  },
  {
   "cell_type": "markdown",
   "id": "enabling-turner",
   "metadata": {},
   "source": [
    "Checking non-null count"
   ]
  },
  {
   "cell_type": "code",
   "execution_count": 39,
   "id": "handled-rebate",
   "metadata": {},
   "outputs": [
    {
     "name": "stdout",
     "output_type": "stream",
     "text": [
      "<class 'pandas.core.frame.DataFrame'>\n",
      "RangeIndex: 37 entries, 0 to 36\n",
      "Data columns (total 11 columns):\n",
      " #   Column                        Non-Null Count  Dtype  \n",
      "---  ------                        --------------  -----  \n",
      " 0   FID                           37 non-null     int64  \n",
      " 1   City                          37 non-null     object \n",
      " 2   Metropolitan Area             37 non-null     object \n",
      " 3   Subregion                     37 non-null     object \n",
      " 4   Prov                          37 non-null     object \n",
      " 5   X                             37 non-null     float64\n",
      " 6   Y                             37 non-null     float64\n",
      " 7   2016 Population               37 non-null     int64  \n",
      " 8   2016 Dwelling Count           37 non-null     int64  \n",
      " 9   2016 Occupied Dwelling Count  37 non-null     int64  \n",
      " 10  Area (sq. km)                 37 non-null     float64\n",
      "dtypes: float64(3), int64(4), object(4)\n",
      "memory usage: 3.3+ KB\n"
     ]
    }
   ],
   "source": [
    "census_dataset.info()"
   ]
  },
  {
   "cell_type": "markdown",
   "id": "widespread-scale",
   "metadata": {},
   "source": [
    "Many values are less than 874 non-null, which means either they are NaN or data is not provided in the cell."
   ]
  },
  {
   "cell_type": "code",
   "execution_count": 40,
   "id": "bound-sculpture",
   "metadata": {},
   "outputs": [
    {
     "name": "stdout",
     "output_type": "stream",
     "text": [
      "<class 'pandas.core.frame.DataFrame'>\n",
      "RangeIndex: 874 entries, 0 to 873\n",
      "Data columns (total 64 columns):\n",
      " #   Column                            Non-Null Count  Dtype  \n",
      "---  ------                            --------------  -----  \n",
      " 0   ï»¿Fuel Type Code                 874 non-null    object \n",
      " 1   Station Name                      874 non-null    object \n",
      " 2   Street Address                    874 non-null    object \n",
      " 3   Intersection Directions           51 non-null     object \n",
      " 4   City                              874 non-null    object \n",
      " 5   State                             874 non-null    object \n",
      " 6   ZIP                               874 non-null    object \n",
      " 7   Plus4                             0 non-null      float64\n",
      " 8   Station Phone                     870 non-null    object \n",
      " 9   Status Code                       874 non-null    object \n",
      " 10  Expected Date                     0 non-null      float64\n",
      " 11  Groups With Access Code           874 non-null    object \n",
      " 12  Access Days Time                  874 non-null    object \n",
      " 13  Cards Accepted                    2 non-null      object \n",
      " 14  BD Blends                         0 non-null      float64\n",
      " 15  NG Fill Type Code                 0 non-null      float64\n",
      " 16  NG PSI                            0 non-null      float64\n",
      " 17  EV Level1 EVSE Num                0 non-null      float64\n",
      " 18  EV Level2 EVSE Num                839 non-null    float64\n",
      " 19  EV DC Fast Count                  55 non-null     float64\n",
      " 20  EV Other Info                     0 non-null      float64\n",
      " 21  EV Network                        874 non-null    object \n",
      " 22  EV Network Web                    851 non-null    object \n",
      " 23  Geocode Status                    874 non-null    object \n",
      " 24  Latitude                          874 non-null    float64\n",
      " 25  Longitude                         874 non-null    float64\n",
      " 26  Date Last Confirmed               872 non-null    object \n",
      " 27  ID                                874 non-null    int64  \n",
      " 28  Updated At                        874 non-null    object \n",
      " 29  Owner Type Code                   59 non-null     object \n",
      " 30  Federal Agency ID                 0 non-null      float64\n",
      " 31  Federal Agency Name               0 non-null      float64\n",
      " 32  Open Date                         59 non-null     object \n",
      " 33  Hydrogen Status Link              0 non-null      float64\n",
      " 34  NG Vehicle Class                  0 non-null      float64\n",
      " 35  LPG Primary                       0 non-null      float64\n",
      " 36  E85 Blender Pump                  0 non-null      float64\n",
      " 37  EV Connector Types                874 non-null    object \n",
      " 38  Country                           874 non-null    object \n",
      " 39  Intersection Directions (French)  4 non-null      object \n",
      " 40  Access Days Time (French)         826 non-null    object \n",
      " 41  BD Blends (French)                0 non-null      float64\n",
      " 42  Groups With Access Code (French)  874 non-null    object \n",
      " 43  Hydrogen Is Retail                0 non-null      float64\n",
      " 44  Access Code                       874 non-null    object \n",
      " 45  Access Detail Code                3 non-null      object \n",
      " 46  Federal Agency Code               0 non-null      float64\n",
      " 47  Facility Type                     48 non-null     object \n",
      " 48  CNG Dispenser Num                 0 non-null      float64\n",
      " 49  CNG On-Site Renewable Source      0 non-null      float64\n",
      " 50  CNG Total Compression Capacity    0 non-null      float64\n",
      " 51  CNG Storage Capacity              0 non-null      float64\n",
      " 52  LNG On-Site Renewable Source      0 non-null      float64\n",
      " 53  E85 Other Ethanol Blends          0 non-null      float64\n",
      " 54  EV Pricing                        103 non-null    object \n",
      " 55  EV Pricing (French)               55 non-null     object \n",
      " 56  LPG Nozzle Types                  0 non-null      float64\n",
      " 57  Hydrogen Pressures                0 non-null      float64\n",
      " 58  Hydrogen Standards                0 non-null      float64\n",
      " 59  CNG Fill Type Code                0 non-null      float64\n",
      " 60  CNG PSI                           0 non-null      float64\n",
      " 61  CNG Vehicle Class                 0 non-null      float64\n",
      " 62  LNG Vehicle Class                 0 non-null      float64\n",
      " 63  EV On-Site Renewable Source       0 non-null      float64\n",
      "dtypes: float64(34), int64(1), object(29)\n",
      "memory usage: 437.1+ KB\n"
     ]
    }
   ],
   "source": [
    "montreal_dataset.info()"
   ]
  },
  {
   "cell_type": "code",
   "execution_count": 41,
   "id": "taken-franklin",
   "metadata": {},
   "outputs": [
    {
     "name": "stdout",
     "output_type": "stream",
     "text": [
      "<class 'pandas.core.frame.DataFrame'>\n",
      "RangeIndex: 4685 entries, 0 to 4684\n",
      "Data columns (total 10 columns):\n",
      " #   Column     Non-Null Count  Dtype  \n",
      "---  ------     --------------  -----  \n",
      " 0   POI_ID     4685 non-null   object \n",
      " 1   NAME       4685 non-null   object \n",
      " 2   ADDRESS    4685 non-null   object \n",
      " 3   CITY       4685 non-null   object \n",
      " 4   PROV       4685 non-null   object \n",
      " 5   POST_CODE  4685 non-null   object \n",
      " 6   PHONE      4685 non-null   object \n",
      " 7   X          4685 non-null   float64\n",
      " 8   Y          4685 non-null   float64\n",
      " 9   CATEGORY   4685 non-null   object \n",
      "dtypes: float64(2), object(8)\n",
      "memory usage: 366.1+ KB\n"
     ]
    }
   ],
   "source": [
    "points_of_interest_dataset.info()"
   ]
  },
  {
   "cell_type": "code",
   "execution_count": 42,
   "id": "polish-acrobat",
   "metadata": {},
   "outputs": [],
   "source": [
    "#Checking relations of dataset"
   ]
  },
  {
   "cell_type": "markdown",
   "id": "departmental-saudi",
   "metadata": {},
   "source": [
    "Since looking at the dataset all object items are unnecessary, so dropping it."
   ]
  },
  {
   "cell_type": "markdown",
   "id": "decreased-captain",
   "metadata": {},
   "source": [
    "X and Y values are coordinate values, these will not be dropped. All those values which are going to drop are specified in below section 'dropping dataset columns'"
   ]
  },
  {
   "cell_type": "markdown",
   "id": "waiting-substitute",
   "metadata": {},
   "source": [
    "X and Y column will be used as key for all object items.\n",
    "\n",
    "Now population will be analyzed alongwith Occupied Dwelling count."
   ]
  },
  {
   "cell_type": "code",
   "execution_count": 43,
   "id": "literary-stranger",
   "metadata": {},
   "outputs": [],
   "source": [
    "# drop_column = ['City','Metropolitan Area','Subregion','Prov','FID]\n",
    "# census_dataset.drop(columns=drop_column)"
   ]
  },
  {
   "cell_type": "code",
   "execution_count": 44,
   "id": "contrary-cooler",
   "metadata": {},
   "outputs": [
    {
     "data": {
      "text/plain": [
       "16    1704694\n",
       "28     422993\n",
       "3      239700\n",
       "1       85721\n",
       "7       84285\n",
       "Name: 2016 Population, dtype: int64"
      ]
     },
     "execution_count": 44,
     "metadata": {},
     "output_type": "execute_result"
    }
   ],
   "source": [
    "census_dataset['2016 Population'].nlargest()\n",
    "# census_dataset.groupby(['2016 Population'])['FID'].nlargest()"
   ]
  },
  {
   "cell_type": "code",
   "execution_count": 45,
   "id": "specific-nerve",
   "metadata": {},
   "outputs": [],
   "source": [
    "#Data Preprocessing"
   ]
  },
  {
   "cell_type": "markdown",
   "id": "motivated-opportunity",
   "metadata": {},
   "source": [
    "Clearing values in dataset that we don't need (both for data analytics and model building)"
   ]
  },
  {
   "cell_type": "markdown",
   "id": "olympic-thompson",
   "metadata": {},
   "source": [
    "Columns that are required are kept and in required columns might have NaN or Null values"
   ]
  },
  {
   "cell_type": "markdown",
   "id": "dimensional-maryland",
   "metadata": {},
   "source": [
    "Checking Fuel Type Codes"
   ]
  },
  {
   "cell_type": "code",
   "execution_count": 46,
   "id": "revolutionary-warning",
   "metadata": {},
   "outputs": [
    {
     "data": {
      "text/plain": [
       "array(['ELEC'], dtype=object)"
      ]
     },
     "execution_count": 46,
     "metadata": {},
     "output_type": "execute_result"
    }
   ],
   "source": [
    "montreal_dataset['ï»¿Fuel Type Code'].unique()"
   ]
  },
  {
   "cell_type": "code",
   "execution_count": 47,
   "id": "rural-blogger",
   "metadata": {},
   "outputs": [
    {
     "name": "stdout",
     "output_type": "stream",
     "text": [
      "<class 'pandas.core.frame.DataFrame'>\n",
      "RangeIndex: 874 entries, 0 to 873\n",
      "Data columns (total 64 columns):\n",
      " #   Column                            Non-Null Count  Dtype  \n",
      "---  ------                            --------------  -----  \n",
      " 0   ï»¿Fuel Type Code                 874 non-null    object \n",
      " 1   Station Name                      874 non-null    object \n",
      " 2   Street Address                    874 non-null    object \n",
      " 3   Intersection Directions           51 non-null     object \n",
      " 4   City                              874 non-null    object \n",
      " 5   State                             874 non-null    object \n",
      " 6   ZIP                               874 non-null    object \n",
      " 7   Plus4                             0 non-null      float64\n",
      " 8   Station Phone                     870 non-null    object \n",
      " 9   Status Code                       874 non-null    object \n",
      " 10  Expected Date                     0 non-null      float64\n",
      " 11  Groups With Access Code           874 non-null    object \n",
      " 12  Access Days Time                  874 non-null    object \n",
      " 13  Cards Accepted                    2 non-null      object \n",
      " 14  BD Blends                         0 non-null      float64\n",
      " 15  NG Fill Type Code                 0 non-null      float64\n",
      " 16  NG PSI                            0 non-null      float64\n",
      " 17  EV Level1 EVSE Num                0 non-null      float64\n",
      " 18  EV Level2 EVSE Num                839 non-null    float64\n",
      " 19  EV DC Fast Count                  55 non-null     float64\n",
      " 20  EV Other Info                     0 non-null      float64\n",
      " 21  EV Network                        874 non-null    object \n",
      " 22  EV Network Web                    851 non-null    object \n",
      " 23  Geocode Status                    874 non-null    object \n",
      " 24  Latitude                          874 non-null    float64\n",
      " 25  Longitude                         874 non-null    float64\n",
      " 26  Date Last Confirmed               872 non-null    object \n",
      " 27  ID                                874 non-null    int64  \n",
      " 28  Updated At                        874 non-null    object \n",
      " 29  Owner Type Code                   59 non-null     object \n",
      " 30  Federal Agency ID                 0 non-null      float64\n",
      " 31  Federal Agency Name               0 non-null      float64\n",
      " 32  Open Date                         59 non-null     object \n",
      " 33  Hydrogen Status Link              0 non-null      float64\n",
      " 34  NG Vehicle Class                  0 non-null      float64\n",
      " 35  LPG Primary                       0 non-null      float64\n",
      " 36  E85 Blender Pump                  0 non-null      float64\n",
      " 37  EV Connector Types                874 non-null    object \n",
      " 38  Country                           874 non-null    object \n",
      " 39  Intersection Directions (French)  4 non-null      object \n",
      " 40  Access Days Time (French)         826 non-null    object \n",
      " 41  BD Blends (French)                0 non-null      float64\n",
      " 42  Groups With Access Code (French)  874 non-null    object \n",
      " 43  Hydrogen Is Retail                0 non-null      float64\n",
      " 44  Access Code                       874 non-null    object \n",
      " 45  Access Detail Code                3 non-null      object \n",
      " 46  Federal Agency Code               0 non-null      float64\n",
      " 47  Facility Type                     48 non-null     object \n",
      " 48  CNG Dispenser Num                 0 non-null      float64\n",
      " 49  CNG On-Site Renewable Source      0 non-null      float64\n",
      " 50  CNG Total Compression Capacity    0 non-null      float64\n",
      " 51  CNG Storage Capacity              0 non-null      float64\n",
      " 52  LNG On-Site Renewable Source      0 non-null      float64\n",
      " 53  E85 Other Ethanol Blends          0 non-null      float64\n",
      " 54  EV Pricing                        103 non-null    object \n",
      " 55  EV Pricing (French)               55 non-null     object \n",
      " 56  LPG Nozzle Types                  0 non-null      float64\n",
      " 57  Hydrogen Pressures                0 non-null      float64\n",
      " 58  Hydrogen Standards                0 non-null      float64\n",
      " 59  CNG Fill Type Code                0 non-null      float64\n",
      " 60  CNG PSI                           0 non-null      float64\n",
      " 61  CNG Vehicle Class                 0 non-null      float64\n",
      " 62  LNG Vehicle Class                 0 non-null      float64\n",
      " 63  EV On-Site Renewable Source       0 non-null      float64\n",
      "dtypes: float64(34), int64(1), object(29)\n",
      "memory usage: 437.1+ KB\n"
     ]
    }
   ],
   "source": [
    "montreal_dataset.info()"
   ]
  },
  {
   "cell_type": "markdown",
   "id": "substantial-theater",
   "metadata": {},
   "source": [
    "Checking Intersection Directions"
   ]
  },
  {
   "cell_type": "markdown",
   "id": "hollow-collaboration",
   "metadata": {},
   "source": [
    "Not relevant, removing this"
   ]
  },
  {
   "cell_type": "code",
   "execution_count": 48,
   "id": "rational-stick",
   "metadata": {},
   "outputs": [
    {
     "data": {
      "text/plain": [
       "array([nan, 'J SCOTTI MITSU; Parking lot', 'CT4021', 'CPE100',\n",
       "       'CPF25\\nCT4000',\n",
       "       \"CBC MONTREAL 1; Ã\\x80 l'usage des employÃ©s de CBC Radio-Canada seulement.  \\nCBC MONTREAL 2; Ã\\x80 l'usage des employÃ©s de CBC Radio-Canada seulement.  \\nCBC MONTREAL 3; -\\nCBC MONTREAL 4; -\\nCBC MONTREAL 5; -\",\n",
       "       'Parking Garage level B', 'STATION 1; Parking', 'Stanley street',\n",
       "       'STATION 3; -',\n",
       "       'ARBORA 03; -\\nSTATION 1; -\\nSTATION 2; Level B one floir down',\n",
       "       'STATION 6; Lower level',\n",
       "       'STATION 1; -\\nSTATION 7; -\\nSTATION 8; -\\nSTATION2; -\\nSTATION3; -\\nSTATION4; -\\nSTATION5; -\\nSTATION6; -',\n",
       "       'STATION 4; B2', 'ARBORA 05; -', 'ARBORA 14; -',\n",
       "       'FOUR SEASONS 1; -\\nFOUR SEASONS 2; -\\nFOUR SEASONS 3; -',\n",
       "       'Monkland at Cavendish', 'PUBLIC; -',\n",
       "       'DC FAST 01; -\\nDC FAST 02; -',\n",
       "       'BMW CANBEC; Front MINI showroom\\nFAST CHARGER; Side of MINI Dealership',\n",
       "       'DCFAST03\\nSHOP1; -\\nSHOP2; -', 'TELUS-8885-SL1',\n",
       "       'TELUS-8885-SL2; -', '4625EV; -', 'DC CHARGER',\n",
       "       'TYPE 2 CHARGER; -', 'EAST REG HQ 1; -',\n",
       "       'CPF25; Service bay use\\nCT4010; Ok the side of service garage, gated after the store is closed.',\n",
       "       'SHOP 01\\nSHOP 02',\n",
       "       'CPE100; side of service parking, gated after store hours.',\n",
       "       'BMW LAVAL FAST; Service Reception\\nSTATION 01; -', '1\\n2\\n3',\n",
       "       'HONDA EVSE L2', 'CPE100\\nCPF25\\nCT4000; -', 'CPF1\\nCT4K',\n",
       "       'LA CAGE; Ã\\x80 gauche de La Cage - Brasserie sportive Ã\\x80 gauche de la porte du bureau de Sportscene',\n",
       "       'CT4K', 'DUAL EVSE; Parking Lot', 'MITSU EVSE DUAL; Parking Lot',\n",
       "       'SA01; Grenier BMW', 'STATION 2; Grenier BMW',\n",
       "       '40-640; Borne de charge Lallier Honda 40-640',\n",
       "       'STATION 01; Grenier BMW', 'CPF25 SHOPFLOOR; Shop Charger',\n",
       "       'GATEWAY 1; Parking Lot', 'BOISVERT MITSU; Parking lot',\n",
       "       'STATION 1\\nSTATION 1 DC', 'MIRABEL 1; -\\nMIRABEL 2; -',\n",
       "       'CPE100\\nCT4000; -', 'BR-3\\nBR-4'], dtype=object)"
      ]
     },
     "execution_count": 48,
     "metadata": {},
     "output_type": "execute_result"
    }
   ],
   "source": [
    "montreal_dataset['Intersection Directions'].unique() "
   ]
  },
  {
   "cell_type": "code",
   "execution_count": 49,
   "id": "uniform-insight",
   "metadata": {},
   "outputs": [
    {
     "data": {
      "text/plain": [
       "array([nan, 'Gare de stationnement niveau B', 'Rue Stanley',\n",
       "       'Monkland Ã\\x83Â\\xa0 Cavendish'], dtype=object)"
      ]
     },
     "execution_count": 49,
     "metadata": {},
     "output_type": "execute_result"
    }
   ],
   "source": [
    "montreal_dataset['Intersection Directions (French)'].unique()"
   ]
  },
  {
   "cell_type": "code",
   "execution_count": 50,
   "id": "breathing-tactics",
   "metadata": {},
   "outputs": [
    {
     "data": {
      "text/plain": [
       "array(['14001 Notre-Dame E.', 'Desjardins - Pointe-aux-Trembles',\n",
       "       '13150 Sherbrooke E', 'St-Hubert - Pointe-aux-Trembles',\n",
       "       'Parc MontrÃ©al-Est',\n",
       "       'Ville de MontrÃ©al-Est - BÃ¢timent des travaux publics',\n",
       "       '12125 Notre-Dame E : Centre communautaire Roussin',\n",
       "       '1515 Boulevard du Tricentenaire', '3939 St-Jean-Baptiste',\n",
       "       'SQI - Ã\\x89tablissement RiviÃ¨res-des-Prairies',\n",
       "       'Restaurant Prima Luna - Tesla Destination',\n",
       "       '9175 Perras: ArÃ©na RenÃ©-Masson', 'FCR - Faubourg des Prairies',\n",
       "       '7599 AndrÃ©-AmpÃ¨re â\\x80\\x93 Piscine Hans Selye',\n",
       "       '9098 Robert-Armour', 'Desjardins - CdS Sainte-Colette',\n",
       "       'CÃ\\x89GEP Marie-Victorin', '10825 Edger', '5195 Alfred',\n",
       "       '3700 Fleury E : ArÃ©na Fleury',\n",
       "       '12000 Rolland : ArÃ©na Henri-Bourassa',\n",
       "       '4701 de Bayonne : Parc SauvÃ©', '11243 Garon - Parc Amos Garon',\n",
       "       'St-Hubert - Pie-IX', '11360 des Laurentides',\n",
       "       '4243 de Charleroi : HÃ´tel de Ville', 'MontrÃ©al',\n",
       "       '8755 4e Croissant', '8261 Haut-Anjou',\n",
       "       '8200 ave ChÃ©nier - ArÃ©na ChÃ©nier',\n",
       "       '7171 Bombardier - Atelier municipal',\n",
       "       '7800 MÃ©tropolitain Est : Centre communautaire',\n",
       "       '8621 Avenue Chaumont (cÃ´tÃ© Nord)', '7501 Rondeau',\n",
       "       'Desjardins - CdS Anjou', '7701 Louis-H. La Fontaine',\n",
       "       'St-Hubert - HonorÃ©-Beaugrand', '9546 Sherbrooke E',\n",
       "       '8646 Hochelaga', '8780 Dubuisson : ArÃ©na ClÃ©ment-JettÃ©',\n",
       "       '8355 Notre-Dame', '2325 Hector', '369 Contrecoeur',\n",
       "       '2850 Pierre-Bernard', '5815 Albert Malouin', 'BRCC - Esso Anjou',\n",
       "       'FLO - Cadillac Fairview - Galeries dâ\\x80\\x99Anjou',\n",
       "       'RONA - Anjou', \"FLO - Les Halles d'Anjou - Sandalwood\",\n",
       "       '7070 Jean-Talon', 'St-Hubert - Cadillac',\n",
       "       'ARTM - Terminus Radisson', '6750 de Marseille : ArÃ©na St-Donat',\n",
       "       '5990 Hochelaga', '6040 La Fontaine', '1311 Bernard',\n",
       "       \"Porte et FenÃªtres de l'est inc.\", '5750 Pierre de Coubertin',\n",
       "       '5600.com', 'Auto Ã\\x89lectrique Gagnon inc.',\n",
       "       'Restaurant A La Vieille Cheminee - Tesla Destination',\n",
       "       '7800 De La Salette', '5275 Lavoisier',\n",
       "       '5300 Robert : ArÃ©na Martin-Brodeur', 'BORNE 1', '4755 Jarry Est',\n",
       "       '7755 Colbert : ArÃ©na Roberto-Luongo', 'Hamel Chevrolet',\n",
       "       'RIMAR VW', 'FCR - SAQ Jean-Talon', 'St-Hubert - Viau',\n",
       "       '6435 26e avenue', '4300 BÃ©langer', '5918 24e Avenue',\n",
       "       '4217 Rue de Rouen', '4119 Ontario Est', '5125 Clanranald',\n",
       "       '1401 De la Salle', '1407 William David', '2251 Aird',\n",
       "       '2002 Leclaire', '4800 Ste-Catherine', '2500 ThÃ©odore',\n",
       "       '2800 Viau', 'RIO - Parc Olympique 2',\n",
       "       '3000 Viau : Centre Pierre-Charbonneau - Espace pour la vie',\n",
       "       '2800 Viau - ArÃ©na Maurice-Richard', 'RIO - Parc Olympique',\n",
       "       '3211 Rachel E', '3535 Rachel', '2730 St-Germain',\n",
       "       '3090 Hochelaga', '3622 Hochelaga', '3450 Ontario',\n",
       "       '3150 Sainte-Catherine E', '3340 CÃ´te Ste-Catherin',\n",
       "       '3333 CÃ´te Ste-Catherin', '3450 Ste-Catherine', '882 DÃ©zÃ©ry',\n",
       "       '1870 Davidson', 'CollÃ¨ge de Maisonneuve', '2222 Valois',\n",
       "       \"2696 D'Orleans\", '4085A BÃ©langer', '3561 Masson',\n",
       "       '1401 Sherbrooke E : Jardin Botanique - Espace pour la vie',\n",
       "       \"4485 D'orlÃ©ans\", '3810 Rosemont', 'CollÃ¨ge de Rosemont',\n",
       "       '6919 19e ave', '5417 13e Avenue', '2980 BÃ©langer',\n",
       "       '2923 St-Zotique', '2550 Beaubien', '2705 Masson', '2900 Masson',\n",
       "       '3189 Masson', '2919 Bellechasse', '3232 BÃ©langer',\n",
       "       '2600 Rue William-Tremblay', '4100 rue Molson', '4050 rue Molson',\n",
       "       'T.A. - 4101 Molson (Publique)',\n",
       "       '3440 Jarry Est - ArÃ©na St-Michel', '3901 Jarry', '9309 De Lille',\n",
       "       '8862 Dâ\\x80\\x99Iberville', '8425 13e Ave', '9050 16e ave',\n",
       "       \"FÃ©dÃ©ration autonome de l'enseignement\",\n",
       "       'Le MarchÃ© PIE-IX S.E.C.', '7707 Shelley',\n",
       "       '7501 FranÃ§ois Perrault : Maison du citoyen',\n",
       "       '2503 Henri-Bourassa E.', 'Desjardins - CdS Sault-au-RÃ©collet',\n",
       "       '2425 Gouin E. - Parc de la Visitation', '1100 Fleury',\n",
       "       'METRO - Fleury', '1780 Fleury', '1110 SauvÃ©',\n",
       "       '10560 Rue St-Hubert : ArÃ©na Ahuntsic', '1530 Fleury',\n",
       "       '10625 Francis',\n",
       "       '10905 rue Basile Routhier : Parc Basile Routhier',\n",
       "       '1348 Jean-Talon', '2225 Jean-Talon E', '7140 Bordeaux',\n",
       "       '2200 Jean-Talon E', '6961 des Ã\\x89cores', '7350 Garnier',\n",
       "       '1550 BÃ©langer', '2160 Beaubien', '1315 Bellechasse',\n",
       "       '1312 des CarriÃ¨res', '5841 des Ã\\x89cores', '2460 Dandurand',\n",
       "       '6420 Cartier', '6679 Rue Garnier', '2248 Marie-Anne',\n",
       "       '4801 Papineau', '5333 Papineau', '3440 St-Laurent',\n",
       "       '4492 rue Parth', '2025 Masson',\n",
       "       'Discount Plateau Mont-Royal/Rosemont',\n",
       "       'Desjardins - Plateau-Mont-Royal', '4490 St-Denis',\n",
       "       '5030 St-Denis', '4752 Berri',\n",
       "       'Centre de services communautaires du MonastÃ¨re',\n",
       "       '5271 St-Hubert', 'VW POPULAR', '4502 Boyer', '5110 Chambord',\n",
       "       '1330 Mont-Royal', '4490 Fabre', '5465 St-Denis',\n",
       "       '2368 Place Dufresne', '2005 Ste-Catherine E', '1405 Dufresne',\n",
       "       \"2027 L'EspÃ©rance\", '2755 Hogan', '1956 Frontenac',\n",
       "       '2251 Lorimier', 'SQI - 1701 Parthenais', '350 rue St-Hubert',\n",
       "       '3660 Mentana', '1125 Ontario Est',\n",
       "       'Auberge Le Pomerol - Tesla Destination', '1436 Atateken',\n",
       "       '1435 Wolfe', 'CBC', '1717 RenÃ©-Levesque Est',\n",
       "       '2005 De Champlain', '3528 Calixa-LavallÃ©e : Parc Lafontaine',\n",
       "       '955 Atateken', '1475 St-Hubert', '3760 St-Hubert',\n",
       "       '4169 St-Hubert', '1085 Berri', '1551 St-Denis',\n",
       "       'Hopital Notre-Dame', '1475 Alexandre DeSÃ¨ve', '1275 Berri',\n",
       "       'COMPLEXE FTQ - Fonds de solidaritÃ© - 545 CrÃ©mazie',\n",
       "       '9475 Lajeunesse', '9335 St-Hubert', '9155 rue Saint-Hubert',\n",
       "       '9494 Papineau', '9480 Christophe-Colomb',\n",
       "       '8800 Christophe-Colomb - Complexe Claude Robillard',\n",
       "       'Desjardins - CdS St-Sulpice',\n",
       "       '9235 Papineau : Stade de Soccer de MontrÃ©al', '8340 Papineau',\n",
       "       'iA - CrÃ©mazie', '205 Chabanel', '460 Chabanel O',\n",
       "       '55 Cremazie O', '15 LiÃ¨ge E', '405 Guizot',\n",
       "       'Carrefour SantÃ© Villeray', '8498 ChÃ¢teaubriand', '8630 Berri',\n",
       "       '8106 Casgrain', '8675 Saint-Dominique', '20 Guizot',\n",
       "       'Complexe Place CrÃ©mazie', '10 Villeray', '1210 Villeray',\n",
       "       '7390 de la Roche', '151 Castelnau', '299 Jean-Talon E',\n",
       "       '7151 St-Dominique', '7352 Drolet', '7501 rue St-Denis',\n",
       "       '7145 rue St-Denis', '7877 Foucher', '7187 St-Hubert',\n",
       "       '8074 St-Hubert',\n",
       "       '8000 de Normanville : Centre sportif Jean-Rougeau',\n",
       "       '227 Gary Carter', '253 Mozart', '1201 BÃ©langer',\n",
       "       '1031 St-Zotique', '19 St-Zotique O',\n",
       "       'SQI - Palais de justice de MontrÃ©al (Rue Bellechasse)',\n",
       "       '6511 St-AndrÃ©', '5808 St-Hubert', '6036 St-Hubert',\n",
       "       '440 Beaubien', '6778 Henri-Julien', '6501 St-Laurent',\n",
       "       '7085 St-Laurent', '7145 Alexandra', '5561 St-Dominique',\n",
       "       '1 Mont-Royal Est', '5004 St-Laurent : Parc Lahaie',\n",
       "       '5223 St-Laurent', '5633 Saint-Dominique : ArÃ©na St-Louis',\n",
       "       '510 Joffre', '1375 Avenue ThÃ©rÃ¨se-Lavoie-Roux', '5185 Parc',\n",
       "       '14899 Oakwood', '620 de lâ\\x80\\x99Ã\\x89pÃ©e',\n",
       "       \"779 de l'Ã\\x89pÃ©e\", '375 St-Viateur', '4604 Parc',\n",
       "       '6517 Jeanne Mance', '4231 St Laurent', '3820 Laval',\n",
       "       '2112 St-Laurent', '640 Prince-Arthur O',\n",
       "       'BRCC - Complexe Desjardins', '1430 St-Laurent', '3553 St-Laurent',\n",
       "       '254 Boisbriand', '3620 St-Denis', 'ITHQ',\n",
       "       'DGI - Complexe Desjardins', '2014 HÃ´tel de ville',\n",
       "       '250 PrÃ©sident-Kennedy', 'Hotel 10 - Tesla Destination',\n",
       "       'GROUPE MACH', '701 Notre-Dame O.',\n",
       "       'Le Saint-Sulpice Hotel Montreal - Tesla Destination',\n",
       "       'SpringHill Suites by Marriott Old Montreal - Tesla Destination',\n",
       "       'Centre de commerce mondial de MontrÃ©al',\n",
       "       'SHDM - Complexe Chaussegros-De-LÃ©ry', 'Vieux-Port de MontrÃ©al',\n",
       "       '1245 St-Urbain', 'Palais des CongrÃ¨s de MontrÃ©al',\n",
       "       '265 St-Antoine', 'SQI - Palais de justice de MontrÃ©al',\n",
       "       '1071 St-Laurent', 'Hotel Le Dauphin Montreal - Tesla Destination',\n",
       "       '163 St-Antoine', '369 St-Antoine', '115 St-Antoine',\n",
       "       'Ã\\x89difice Jacques-Parizeau', 'Bentall Kennedy - Tour KPMG',\n",
       "       '475 President Kennedy', 'IvanhoÃ© Cambridge - Maison Manuvie',\n",
       "       'Lune Rouge - Publique', 'UniversitÃ© McGill - RedÃ©veloppement',\n",
       "       'Hotel le Germain',\n",
       "       'Hotel Le Germain - Montreal - Tesla Destination',\n",
       "       'iA - Le 2020 Robert Bourassa', '2080 Union',\n",
       "       'Hotel Sofitel Montreal Golden Mile - Tesla Destination',\n",
       "       'Immobilier Manuvie - 1001 Maisonneuve', 'Monit Investments',\n",
       "       '1901 City Councillor', '500, rue Sherbrooke Ouest',\n",
       "       'Place MontrÃ©al Trust', '1455 Metcalfe', 'L Avenue',\n",
       "       'Place Ville-Marie',\n",
       "       'Bentall Green Oak - 1250 bld. RenÃ©-LÃ©vesque O.',\n",
       "       'Groupe Petra - 1100 bld. RenÃ©-LÃ©vesque O.',\n",
       "       'Indigo Park - Complexe de la Gare Centrale',\n",
       "       'Stationnement Publique - Renaissance Marriott - Tesla Destination',\n",
       "       'Le Square Phillips Hotel', 'Fairmont Le Reine Elizabeth',\n",
       "       'Centre Eaton', 'Gare Centrale', 'La Laurentienne Building',\n",
       "       'Le 1000 de la GauchetiÃ¨re', 'Stanley Street Parking',\n",
       "       'Bentall Green Oak - 1250 bld. RenÃ©-LÃ©vesque O. - 2',\n",
       "       '1080 Stanley', 'Altitude MontrÃ©al', '1280 St-Jacques',\n",
       "       'Alt Hotel - Montreal Griffintown - Tesla Destination', 'ARBORA',\n",
       "       'TDC2', 'Cite du Multimedia - Tesla Destination', '140 Prince',\n",
       "       '1306 Olier', '799 De La Commune', 'Allied - 111 Duke',\n",
       "       'Allied - 75 Queen', '700 Wellington',\n",
       "       'SociÃ©tÃ© des casinos - Casino de MontrÃ©al',\n",
       "       'Centre Bell - Tesla Destination', 'Centre Bell',\n",
       "       '140 chemin du Chenal Lemoyne',\n",
       "       'Gravel Chevrolet Buick Cadillac GMC', '300 Chemin du golf',\n",
       "       '201 Berlioz : La Station', '282 Elgar', '51 Berlioz',\n",
       "       'FLO - IGA Louise MÃ©nard', '105 chemin de la Pointe Sud',\n",
       "       'Hotel Le Crystal - Tesla Destination',\n",
       "       'The Ritz-Carlton Montreal - Tesla Destination', '3400 Redpath',\n",
       "       'QDLM', 'Le Mount Stephen - Tesla Destination', '1409 Mackay',\n",
       "       'CGI', 'IG Great West Life and London Life',\n",
       "       '2330 Sherbrooke Ouest', '1278 St-Mathieu',\n",
       "       'Le Nouvel Hotel and Spa - Tesla Destination',\n",
       "       'CollÃ¨ge LaSalle - Complexe du Fort', '2441 Notre-Dame',\n",
       "       '256 Charlevoix', '1725 Basin', '6040 Monk', '10490 Lajeunesse',\n",
       "       '555 Des Seigneurs', '1825 Notre-Dame O', '380 Guy',\n",
       "       '1340 Shearer', '1660 Centre', '2157 Centre', '2523 Grand Trunk',\n",
       "       '2190 Favard', '472 Ste-Madeleine', '355 Ash', '2333 Mullins',\n",
       "       '1105 de la Sucrerie', '1010 rue Charlevoix', '201, Ash',\n",
       "       '54 Gouin', '9815 Lajeunesse', 'St-Hubert - Lajeunesse',\n",
       "       '10305 St-Laurent', '10940 St-Laurent', '990 Salaberry',\n",
       "       '1545 Henri-Bourassa',\n",
       "       \"11301 de l'Acadie : ArÃ©na Marcelin-Wilson\", '625 Liege O',\n",
       "       '622 Jarry O', '520 Jean-Talon O', '630 Jean-Talon O',\n",
       "       '917 Jean-Talon', '6900 Parc', '7200 Hutchison',\n",
       "       '8650 Querbes : ArÃ©na Howie Morentz',\n",
       "       'Restaurant et Poissonnerie La Sirene de la Mer - Tesla Destination',\n",
       "       'Restaurant la Sirene de la Mer', 'Centre Rockland',\n",
       "       '2386 chemin Lucerne', \"FCR - Centre d'achats Ville Mont-Royal\",\n",
       "       '1050 Chemin de Dunkirk', '6200 CÃ´te Des-Neiges',\n",
       "       '2940 CÃ´te Ste-Catherine', '2885 Barclay',\n",
       "       '3220 Appleton : Parc Kent', '2405 Cote Ste-Catherine',\n",
       "       '3165 CÃ´te Ste-Catherine', '3175 Chemin CÃ´te Ste-Catherine',\n",
       "       'Hopital General Juif', '2767 Ã\\x89douard-Montpetit',\n",
       "       '3285 Lacombe', '3506 Lacombe', 'P-3744 Jean-Brillant',\n",
       "       '5255 Avenue Louis-Colin', 'St-Hubert - CÃ´te-des-Neiges',\n",
       "       '5307 CÃ´te-Des-Neiges',\n",
       "       'BRCC-MontrÃ©al CÃ´te-des-Neiges -Couche-Tard',\n",
       "       '5600 CÃ´te-des-Neiges', '123 Querbes', '3756 Queen Mary',\n",
       "       '3355 Queen Mary', '4920 VÃ©zina - ArÃ©na Bill-Durnam',\n",
       "       '6450 Victoria', '5137 DÃ©carie', '6245 DÃ©carie', '6521 DÃ©carie',\n",
       "       '4985 West-Hill : Parc de la ConfÃ©dÃ©ration',\n",
       "       '5620 Chemin de la CÃ´te-St-Luc', '4560 DÃ©carie', '5160 Decarie',\n",
       "       '5468 Claranald', 'Decarie Square',\n",
       "       'Westmount - Rue Belmont Crescent',\n",
       "       'Westmount - Stationnement public Victoria',\n",
       "       'Westmount - Centre communautaire Victoria Hall',\n",
       "       'Westmount - Stationnement public Tupper',\n",
       "       'Westmount - Centre des loisirs', 'Alexis Nihon',\n",
       "       'Westmount - Stationnement municipal Greene',\n",
       "       '5038 rue Sherbrooke O', '5225 Sherbrooke', '3407 Royal',\n",
       "       '6045 Upper Lachine', '4268 Royal', '4500 Girouard',\n",
       "       '2240 Addington', '1070 Decarie', '5252 Sherbrooke O',\n",
       "       'CLSC de Benny Farm',\n",
       "       '6400 Monkland : Centre culturel de Notre-Dame-de-GrÃ¢ce',\n",
       "       'UniversitÃ© Concordia', 'Discount St-Jacques Ouest',\n",
       "       'Gabriel Ford Lincoln', '6205 Sherbrooke Ouest',\n",
       "       '3405 Grand Boulevard', '6190 Monkland', '3451 St-Jacques',\n",
       "       '4523 St-Jacques', 'Desjardins - CdS Atwater',\n",
       "       '550 Avenue Atwater', 'BRCC - MarchÃ© Atwater', '3041 Notre-Dame',\n",
       "       '4039 Notre-Dame', '372 Square G-E Cartier', '123 Courcelle',\n",
       "       '2855 Centre', '5505A Angers', '2385 du Parc Garneau',\n",
       "       '2415 Allard', '6712 Jogues', '5640 Monk', '3541 Allard',\n",
       "       '6098 Mazarin', '2550 Augustin-Cantin', '6000 Laurendeau',\n",
       "       '3856 Bannantyne', '3206 Rushbrooke', '3683 Wellington',\n",
       "       '4014 Wellington', '4214 Wellington', '5000 Wellington',\n",
       "       '234 Hickson', '3092 Lasalle', 'St-Hubert Express - Verdun',\n",
       "       \"97 Rue de l'Ã\\x89glise\", '378 de Lâ\\x80\\x99Ã\\x89glise',\n",
       "       \"1105 De L'Ã©glise\", '482 Galt', '1150 Galt',\n",
       "       'SQI - 1035 rue Galt', '4265 Wellington', '4401 Lasalle',\n",
       "       '490 Willibrord', '790Willibrord : HÃ´tel de ville',\n",
       "       '623 Woodland', '6013 Lasalle', '5301 Wellington', '11988 Obrien',\n",
       "       '12373 Notre-Dame des anges - Parc Raimbault', '12505 Lachapelle',\n",
       "       'CDPQ - Gare Bois-Franc', '3100 Toupin', '1677 Poirier',\n",
       "       '1555 Ã\\x89douard-Laurin', '1505 Decelles', '1535 Beaudet',\n",
       "       '1505 Cardinal', '796 Ouimet : Stationnement Ouimet Sud',\n",
       "       '812 Ouimet : Stationnement Ouimet Nord',\n",
       "       'BRCC-St-Laurent-Stationnement Ouimet Nord-1 et 2',\n",
       "       '710 rue St-Germain', '845 Roy : Parc Decelles',\n",
       "       'CÃ\\x89GEP de Saint-Laurent', 'VANIER COLLEGE',\n",
       "       '1295 Basile Moreau', '1230 rue Muir', '1807 Couvrette',\n",
       "       '1375 Grenet : Centre des Loisirs',\n",
       "       '777 Marcel-Laurin : St-Laurent - Mairie',\n",
       "       'Courtyard & Residence Inn Montreal Airport - Tesla Destination',\n",
       "       '360A Meloche', 'CollÃ¨ge de Bois-de-Boulogne',\n",
       "       '10001 Jules-CrÃ©peau',\n",
       "       'MontrÃ©al - MarchÃ© Central - Stat. intÃ©rieur',\n",
       "       \"MontrÃ©al - MarchÃ© Central - 8989 boul L'Acadie\",\n",
       "       \"MontrÃ©al - MarchÃ© Central - 9187 boul L'Acadie\",\n",
       "       'MontrÃ©al - MarchÃ© Central - 1025 rue MarchÃ© Central',\n",
       "       'MontrÃ©al - MarchÃ© Central - 1007 rue du MarchÃ© Central',\n",
       "       'DECARIE', 'BMW CANBEC', '7335 Ostell Cr.', '8272 Mountain Sight',\n",
       "       '7440 DÃ©carie', '4205 Ernest-Hemmingway',\n",
       "       'SAIS Interconnexion - Tesla Destination',\n",
       "       'St-Hubert - Marcel-Laurin',\n",
       "       '2345 Thimens : ArÃ©na Raymond-Bourque',\n",
       "       '2727 Thiemens : BibliothÃ¨que du BoisÃ©',\n",
       "       '2385 Thimens : Complexe Sportif St-Laurent',\n",
       "       'Place Vertu Shopping Centre - Tesla Supercharger',\n",
       "       '13 001 Cavendish : Ateliers municipaux', 'TELUS',\n",
       "       '2695 Ernest-Hemingway', '4405 Bois Franc', '8358150EV',\n",
       "       '5645 Dessiant', '5007 Bois Franc', '6405 Abrams',\n",
       "       'Morguard - Place Innovation Coop',\n",
       "       'Morguard - Place Innovation Coop 2', '3200 Guenette', 'Moneris',\n",
       "       'IKEA Administration', 'CÃ´te-St-Luc - 7500 Mackle',\n",
       "       'CÃ´te Saint-Luc - HÃ´tel de Ville & BibliothÃ¨que Publique Eleanor London',\n",
       "       'Stationnement Westminster Nord',\n",
       "       'AÃ©roport de MontrÃ©al - HotelParc SS2 (Marriott)',\n",
       "       'AÃ©roport de MontrÃ©al â\\x80\\x93 Courte DurÃ©e',\n",
       "       'Place Bonaventure', 'Place des Arts',\n",
       "       'Laval - Arena Saint-FranÃ§ois', 'Laval - Caserne 5',\n",
       "       'Monsieur Muffler', '1275 Avenue du College', 'Laval',\n",
       "       'COMPLEXE 440 VW', 'Desjardins - CdS Duvernay',\n",
       "       'BRCC - Ville de Laval - ArÃ©na Yvon-Chartrand',\n",
       "       'Laval - C.C. Bois-Papineau', 'ARTM - Terminus Cartier',\n",
       "       'Laval - C.C. Auteuil', 'Hydro-QuÃ©bec - Poste Duvernay (privÃ©)',\n",
       "       'Laval - Centre communautaire Lausanne',\n",
       "       \"Laval - Centre d'exploration du Parc de la RiviÃ¨re-des-Mille-Ã\\x8eles\",\n",
       "       'BRCC - Ville de Laval - Caserne 8',\n",
       "       'Motel Ideal - Tesla Destination', 'St-Hubert Express - Ste-Rose',\n",
       "       'BMW CANADA', 'Desjardins â\\x80\\x93 CdS Vimont',\n",
       "       'St-Hubert - Vimont', 'Laval - Place Bell', 'Campus Laval',\n",
       "       'SQI - Place Laval', 'Laval - BibliothÃ¨que Ã\\x89mile-Nelligan',\n",
       "       'Exo - Gare de la Concorde', 'BRCC - Laval - ArÃ©na Cartier',\n",
       "       'St-Hubert - des Laurentides', 'CollÃ¨ge Montmorency',\n",
       "       'METRO - Laval', 'Laval - C.C. Montrougeau', 'FLO - Jadco',\n",
       "       'Laval - BibliothÃ¨que Gabrielle-Roy',\n",
       "       'BRCC - Ville de Laval - Complexe Sportif Guimond',\n",
       "       'FLO - Le MarchÃ© Public 440 LtÃ©e', 'St-Hubert - Fabreville',\n",
       "       '6200 boulevard Arthur-SauvÃ©', 'Centre Laval',\n",
       "       'RÃ©no-DÃ©pÃ´t - Laval', 'Alter Ego Immobilier',\n",
       "       'Hilton MontrÃ©al/Laval', 'Laval - Garage Municipal',\n",
       "       'FLO - Cadillac Fairview - Carrefour Laval',\n",
       "       'CF Carrefour Laval - Tesla Supercharger',\n",
       "       'Alre (BMO St-Martin O)', '3325 boul. St-Martin Ouest',\n",
       "       'Holiday Inn Laval - Montreal - Tesla Destination',\n",
       "       'BRCC-Laval-CosmodÃ´me', 'STATION 1',\n",
       "       'SQI - Palais de justice de Laval', 'Laval - CosmodÃ´me', 'JAGUAR',\n",
       "       'Centropolis', 'BMW LAVAL', 'Laval - 3131 St-Martin',\n",
       "       'Carrefour SantÃ© 440', '4670 Sud Laval', 'Laval - Usine Chomedey',\n",
       "       'Desjardins - Chomedey', 'Laval - Terrasse du Souvenir',\n",
       "       'Laval - HÃ´tel de Ville', 'Laval - Caserne 2',\n",
       "       'Laval - Caserne 4', 'Laval - Arena Martin St-Louis',\n",
       "       'Laval - Centre communautaire Sainte-DorothÃ©e',\n",
       "       'Benny & Co. - Ste-DorothÃ©e', 'St-Hubert Express - Ste-DorothÃ©e',\n",
       "       'CDPQ - Gare de Sainte-DorothÃ©e', '1710 Victoria',\n",
       "       '8050 Jean-Chevalier', 'Metro Nissan', 'Cegep Andre-Laurendeau',\n",
       "       '7615 Bourdeau', 'St-Hubert - Lasalle',\n",
       "       'BRCC - Lasalle - RÃ´tisserie St-Hubert', '7590 Lesage',\n",
       "       \"1080 Dollard : BibliothÃ¨que l'Octogone\", '6971 Louis-HÃ©bert',\n",
       "       '190 Des Ã\\x89rables', '18 Strathyre',\n",
       "       '55 Dupras : HÃ´tel de Ville', '1925 St-Antoine',\n",
       "       '1025 William-Macdonald', '1064 Notre-Dame', '2105 St-Joseph',\n",
       "       '143 Chemin du Canal', '45 15e ave',\n",
       "       '3045 St-Joseph : Ã\\x89cole de Voile',\n",
       "       '3100 St-Antoine : BibliothÃ¨que Saul-Bellow', '5310 St-Joseph',\n",
       "       'St-Hubert - Lachine', 'CDPQ - Gare Roxboro-Pierrefonds',\n",
       "       '9432 Boul. Gouin O. - Parc Nature Bois de Liesse',\n",
       "       'CDPQ - Gare Sunnybrooke',\n",
       "       '155 rue Rose - Parc des Anciens Combattants',\n",
       "       '10 du Centre Commercial',\n",
       "       '13555 boul Pierrefonds : BibliothÃ¨que Pierrefonds',\n",
       "       '13665 de Pierrefonds : Mairie de Pierrefonds-Rox',\n",
       "       '12001 de Salaberry', 'SE CANADA',\n",
       "       '500 MontÃ©e de lâ\\x80\\x99Ã\\x89glise - BibliothÃ¨que Ã\\x8ele-Bizard',\n",
       "       '15795 Gouin Ouest', '14899 Oakwood â\\x80\\x93 Parc Alexander',\n",
       "       'St-Hubert - Kirkland', \"FCR - Centre St-Charles - Wendy's\",\n",
       "       'Hydro Quebec', 'METRO - Kirkland', 'Cegep GÃ©rald - Godin',\n",
       "       'Office', '4600 des Cageux : Parc Grier',\n",
       "       '20099 Gouin O. - Parc nature Cap St-Jacques', 'AÃ©roparc A2',\n",
       "       '7644 Ã\\x89douard : Centre Henri-Lemieux', 'HDS1', 'VWDS',\n",
       "       'Pointe-Claire - Centre Aquatique/ArÃ©na Bob Birnie',\n",
       "       'CF Fairview Pointe-Claire - Tesla Supercharger',\n",
       "       'FLO - Cadillac Fairview - Fairview Pointe Claire',\n",
       "       'RÃ©no-DÃ©pÃ´t - Pointe-Claire', 'Dorval - Complexe sportif',\n",
       "       'CitÃ© de Dorval - CCSD',\n",
       "       'BRCC - Kirkland - RÃ´tisseries St-Hubert', '60 avenue Martin',\n",
       "       'Galeries St-Hyacinthe',\n",
       "       'Ville de Longueuil - BibliothÃ¨que Raymond-LÃ©vesque',\n",
       "       'Sur Rue - Longueuil - 1985 Gaetan-Boucher',\n",
       "       'Desjardins - Saint-Hubert', 'ChargeLab - Boul. Cousineau',\n",
       "       'St-Hubert - Cousineau', 'FCR - RBC St-Hubert',\n",
       "       'FCR - Carrefour St-Hubert', 'Longueuil - Parc de la citÃ©',\n",
       "       'Ville de Longueuil â\\x80\\x93 HÃ´tel de ville',\n",
       "       'BRCC - Longueuil 2', 'ACTION MITSUBIS',\n",
       "       'Hydro-QuÃ©bec - St-Hubert', 'Stationnement Montarville',\n",
       "       'ARTM - Terminus Montarville', 'St-Hubert - Boucherville',\n",
       "       'Ville de Boucherville - HÃ´tel de Ville', '6 rue de Muy', 'IKEA',\n",
       "       'Hotel Mortagne', 'Hotel Mortagne - Tesla Destination',\n",
       "       'SÃ\\x89PAQ - Parc national des Iles-de-Boucherville', 'LA CAGE',\n",
       "       'RONA - SiÃ¨ge social', 'STATIONNEMENT', 'METRO - Boucherville',\n",
       "       'Ville de Boucherville - BibliothÃ¨que Montarville',\n",
       "       'Ville de Boucherville - Complexe aquatique L-E-Cor',\n",
       "       'Discount Boucherville',\n",
       "       'BRCC â\\x80\\x93 Ville de Boucherville â\\x80\\x93 RÃ©no-DÃ©pÃ´t',\n",
       "       'Ville de Boucherville - Centre Multifonctionnel',\n",
       "       'Desjardins - Vieux-Longueuil', '61 Rue Saint-Charles Ouest',\n",
       "       'Ville de Longueuil â\\x80\\x93 300 St-Charles Ouest',\n",
       "       'Centre diocesain', 'Longueuil - Parc Michel Chartrand',\n",
       "       'UdS â\\x80\\x93 Campus Longueuil', 'SSQ - Tour SSQ',\n",
       "       'SantÃ© Canada', 'Hotel Le Dauphin Longueuil - Tesla Destination',\n",
       "       'Groupe Mercille - 111 De la Barre',\n",
       "       'Groupe Mercille - 121 De La Barre', 'Place Longueuil',\n",
       "       'Groupe Mercille - Complexe St-Charles',\n",
       "       'SQI - Palais de justice de Longueuil',\n",
       "       'St-Hubert - Roland-Therrien', 'Parcours du Cerf (privÃ©)',\n",
       "       'Saint-Lambert - avenue Argyle - HÃ´tel de ville',\n",
       "       'Desjardins - Charles-LeMoyne', 'Exo - Gare Saint-Lambert',\n",
       "       'Parc LespÃ©rance',\n",
       "       'Saint-Lambert - rue Elm - Stationnement public', 'BDR St-Lambert',\n",
       "       'BRCC - Longueuil-Montcalm', 'DeSerres - St-Hubert',\n",
       "       'Longueuil - Bibliotheque Greenfield Park',\n",
       "       'HÃ´pital Charles-Lemoyne', 'PJC - Greenfield Park',\n",
       "       'SQI - 201 Place Charles-Le Moyne',\n",
       "       'FLO - Terracap Management Inc.',\n",
       "       'Hotel Brossard - Tesla Destination', \"Wendy's Place Portobello\",\n",
       "       'Mail Champlain', 'Cominar - 1 Place du Commerce',\n",
       "       'FCR - Chocolato place Portobello', 'METRO - Brossard',\n",
       "       'BROSSARD MITSUB', 'BRCC - Brossard - Dix30', 'RONA - Brossard',\n",
       "       'Alt Hotel - Brossard Quartier DIX30 - Tesla Destination',\n",
       "       'Hotel Alt Quartier Dix30 - Tesla Destination',\n",
       "       'Quartier DIX30 - Tesla Supercharger', 'BRCC - Quartier Dix30',\n",
       "       'Benny & Co. - Dix30', 'Montmorency Ford', '6325 boul. Taschereau',\n",
       "       'Hydro-Quebec', 'Brossard - Centre communautaire Nathalie-Croteau',\n",
       "       'ARTM - Stationnement incitatif Chevrier',\n",
       "       \"Ville de Delson - Rue de l'Harmonie\",\n",
       "       'Como Pizzeria (Delson) inc.', 'Ville de Delson',\n",
       "       'Parc Francis-Xavier-Fontaine - Sainte-Catherine',\n",
       "       'Centre Municipal AimÃ©-GuÃ©rin',\n",
       "       \"RÃ©crÃ©oParc - Pavillon d'accueil\",\n",
       "       'HÃ´tel de ville - Sainte-Catherine',\n",
       "       'BRCC-Sainte-Catherine-des-Ã\\x89cluses-Burger King-1',\n",
       "       'AcadÃ©mie Lafontaine', 'BRCC - Saint-JÃ©rÃ´me - Porte du Nord',\n",
       "       'Repentigny - Complexe Sportif Gilles-Tremblay', 'MARC LACHAINE',\n",
       "       'Repentigny - Piscine Municipale',\n",
       "       'CSSDA - Ã\\x89cole Valmont-sur-Parc',\n",
       "       'FCR - Carrefour Charlemagne', 'St-Hubert - Charlemagne',\n",
       "       'FCR - Dollarama Charlemagne', 'FCR - Barbies Charlemagne',\n",
       "       'Repentigny - 225 J-A ParÃ©',\n",
       "       \"CSSDA - Ã\\x89cole Henri-Bourassa / Soleil de l'Aube\",\n",
       "       'Repentigny - Parc Champigny', 'Repentigny - Espace culturel',\n",
       "       'Parc de Saint-Laurent', \"Repentigny - Parc de l'Ã®le Lebel\",\n",
       "       'Repentigny - 435 Notre-Dame',\n",
       "       'BRCC - Repentigny - Caisse Desjardins', 'Galeries Rive-Nord',\n",
       "       'Repentigny - Centre RÃ©crÃ©atif',\n",
       "       'Sur Rue - Repentigny - BibliothÃ¨que',\n",
       "       'Exo - Stationnement incitatif Repentigny', 'METRO - Repentigny',\n",
       "       'St-Hubert - Repentigny', 'GRENIER BMW', 'PUBLIC LALLIER',\n",
       "       'FCR - RBC Lachenaie',\n",
       "       'Terrebonne - Ã\\x89difice Ernest-SÃ©raphin-Mathieu',\n",
       "       'Stationnement Vieux-Terrebonne', 'Caisse Desjardins Terrebonne',\n",
       "       'BRCC - Terrebonne - Caisse Desjardins de Terrebonne',\n",
       "       'CSSDA - Ã\\x89cole Armand-Corbeil',\n",
       "       'Terrebonne - CitÃ© GÃ©nÃ©rAction',\n",
       "       'CSSDA - Ã\\x89cole LÃ©opold-Gravel',\n",
       "       'Terrebonne - Ã\\x89difice Claude Desjardins',\n",
       "       '1185, boulevard Moody', 'CLIENT1', 'Exo - Terminus Terrebonne',\n",
       "       'Imperia Hotel & Suites Terrebonne - Tesla Destination',\n",
       "       'Golf Le Mirage - Tesla Destination',\n",
       "       'BRCC - Terrebonne - Ã\\x89difice Antonio-Daunais',\n",
       "       'Motos Illimitees', 'Parc Angora',\n",
       "       'CSSDA - Ã\\x89cole secondaire des Trois Saisons',\n",
       "       'CSSDA - Ã\\x89cole des Explorateurs',\n",
       "       'Terrebonne - Parc Marcel-De La SablonniÃ¨re',\n",
       "       'Benny & Co. - MichÃ¨le-Bohec', 'CLIENT3', 'Discount Blainville',\n",
       "       'Ville de Blainville - Centre rÃ©crÃ©oaquatique',\n",
       "       'Ville de Blainville - HÃ´tel de Ville',\n",
       "       'Ville de Blainville - BibliothÃ¨que Paul-Mercier',\n",
       "       'Exo - Gare Blainville', 'Ville de Blainville - Parc Ã©questre',\n",
       "       'FLO - CHSLD MichÃ¨le-Bohec', 'Benny & Co. - Blainville',\n",
       "       'HAMEL BMW', 'S.Bourassa (Ste-Janvier)Ltee - Tesla Destination',\n",
       "       'Esso rue Charles Mirabel',\n",
       "       \"BRCC - Caisse Desjardins de l'EnvolÃ©e - Mirabel\",\n",
       "       'St-Hubert - Mirabel', 'Le Groupe Harnois Inc.',\n",
       "       \"Mirabel - ArÃ©na du Val-d'Espoir\",\n",
       "       'Terrebonne - Parc Philippe-Villeneuve',\n",
       "       'Terrebonne - Pavillon Napoleon-Gauthier',\n",
       "       'Mirabel - Centre culturel Domaine Vert-Nord',\n",
       "       'Mirabel - Centre culturel Patrick-Lepage',\n",
       "       'Mirabel - Complexe Jean-Laurin', 'Desjardins - Mirabel',\n",
       "       'Centre culturel St-Benoit', 'MIRABEL', 'Comfort Inn & Suites',\n",
       "       'Comfort Inn & Suites St-Jerome - Tesla Destination',\n",
       "       'BRCC - St-Hubert - St-JÃ©rÃ´me', 'Best Western Plus Hotel',\n",
       "       'VOLKSWAGEN LAUR', 'RONA - St-JÃ©rÃ´me',\n",
       "       'SQI - Palais de Justice St-JÃ©rÃ´me',\n",
       "       'Desjardins - RiviÃ¨re-du-Nord', '280 Rue Latour',\n",
       "       'Exo - Gare Saint-JÃ©rÃ´me', 'Ville de St-JÃ©rÃ´me - rue Labelle',\n",
       "       'CSSS SAINT-JÃ\\x89RO',\n",
       "       'Hydro-QuÃ©bec - St-JÃ©rÃ´me, 333 Jean-Paul-Hogue'], dtype=object)"
      ]
     },
     "execution_count": 50,
     "metadata": {},
     "output_type": "execute_result"
    }
   ],
   "source": [
    "montreal_dataset['Station Name'].unique()"
   ]
  },
  {
   "cell_type": "code",
   "execution_count": 51,
   "id": "other-directive",
   "metadata": {},
   "outputs": [
    {
     "data": {
      "text/html": [
       "<div>\n",
       "<style scoped>\n",
       "    .dataframe tbody tr th:only-of-type {\n",
       "        vertical-align: middle;\n",
       "    }\n",
       "\n",
       "    .dataframe tbody tr th {\n",
       "        vertical-align: top;\n",
       "    }\n",
       "\n",
       "    .dataframe thead th {\n",
       "        text-align: right;\n",
       "    }\n",
       "</style>\n",
       "<table border=\"1\" class=\"dataframe\">\n",
       "  <thead>\n",
       "    <tr style=\"text-align: right;\">\n",
       "      <th></th>\n",
       "      <th>ï»¿Fuel Type Code</th>\n",
       "      <th>Station Name</th>\n",
       "      <th>Street Address</th>\n",
       "      <th>Intersection Directions</th>\n",
       "      <th>City</th>\n",
       "      <th>State</th>\n",
       "      <th>ZIP</th>\n",
       "      <th>Plus4</th>\n",
       "      <th>Station Phone</th>\n",
       "      <th>Status Code</th>\n",
       "      <th>...</th>\n",
       "      <th>EV Pricing</th>\n",
       "      <th>EV Pricing (French)</th>\n",
       "      <th>LPG Nozzle Types</th>\n",
       "      <th>Hydrogen Pressures</th>\n",
       "      <th>Hydrogen Standards</th>\n",
       "      <th>CNG Fill Type Code</th>\n",
       "      <th>CNG PSI</th>\n",
       "      <th>CNG Vehicle Class</th>\n",
       "      <th>LNG Vehicle Class</th>\n",
       "      <th>EV On-Site Renewable Source</th>\n",
       "    </tr>\n",
       "  </thead>\n",
       "  <tbody>\n",
       "    <tr>\n",
       "      <th>0</th>\n",
       "      <td>ELEC</td>\n",
       "      <td>14001 Notre-Dame E.</td>\n",
       "      <td>14001 Notre-Dame E.</td>\n",
       "      <td>NaN</td>\n",
       "      <td>MontrÃ©al</td>\n",
       "      <td>QC</td>\n",
       "      <td>H1A 1T9</td>\n",
       "      <td>NaN</td>\n",
       "      <td>855-999-8378</td>\n",
       "      <td>E</td>\n",
       "      <td>...</td>\n",
       "      <td>NaN</td>\n",
       "      <td>NaN</td>\n",
       "      <td>NaN</td>\n",
       "      <td>NaN</td>\n",
       "      <td>NaN</td>\n",
       "      <td>NaN</td>\n",
       "      <td>NaN</td>\n",
       "      <td>NaN</td>\n",
       "      <td>NaN</td>\n",
       "      <td>NaN</td>\n",
       "    </tr>\n",
       "    <tr>\n",
       "      <th>1</th>\n",
       "      <td>ELEC</td>\n",
       "      <td>Desjardins - Pointe-aux-Trembles</td>\n",
       "      <td>13120 rue Sherbrooke Est</td>\n",
       "      <td>NaN</td>\n",
       "      <td>MontrÃ©al</td>\n",
       "      <td>QC</td>\n",
       "      <td>H1A 3W2</td>\n",
       "      <td>NaN</td>\n",
       "      <td>855-999-8378</td>\n",
       "      <td>E</td>\n",
       "      <td>...</td>\n",
       "      <td>NaN</td>\n",
       "      <td>NaN</td>\n",
       "      <td>NaN</td>\n",
       "      <td>NaN</td>\n",
       "      <td>NaN</td>\n",
       "      <td>NaN</td>\n",
       "      <td>NaN</td>\n",
       "      <td>NaN</td>\n",
       "      <td>NaN</td>\n",
       "      <td>NaN</td>\n",
       "    </tr>\n",
       "    <tr>\n",
       "      <th>2</th>\n",
       "      <td>ELEC</td>\n",
       "      <td>13150 Sherbrooke E</td>\n",
       "      <td>13150 Rue Sherbrooke Est</td>\n",
       "      <td>NaN</td>\n",
       "      <td>MontrÃ©al</td>\n",
       "      <td>QC</td>\n",
       "      <td>H1A 4B1</td>\n",
       "      <td>NaN</td>\n",
       "      <td>855-999-8378</td>\n",
       "      <td>E</td>\n",
       "      <td>...</td>\n",
       "      <td>NaN</td>\n",
       "      <td>NaN</td>\n",
       "      <td>NaN</td>\n",
       "      <td>NaN</td>\n",
       "      <td>NaN</td>\n",
       "      <td>NaN</td>\n",
       "      <td>NaN</td>\n",
       "      <td>NaN</td>\n",
       "      <td>NaN</td>\n",
       "      <td>NaN</td>\n",
       "    </tr>\n",
       "    <tr>\n",
       "      <th>3</th>\n",
       "      <td>ELEC</td>\n",
       "      <td>St-Hubert - Pointe-aux-Trembles</td>\n",
       "      <td>12575 rue Sherbrooke Est</td>\n",
       "      <td>NaN</td>\n",
       "      <td>Pointe-aux-Trembles</td>\n",
       "      <td>QC</td>\n",
       "      <td>H1B 1C8</td>\n",
       "      <td>NaN</td>\n",
       "      <td>855-999-8378</td>\n",
       "      <td>E</td>\n",
       "      <td>...</td>\n",
       "      <td>NaN</td>\n",
       "      <td>NaN</td>\n",
       "      <td>NaN</td>\n",
       "      <td>NaN</td>\n",
       "      <td>NaN</td>\n",
       "      <td>NaN</td>\n",
       "      <td>NaN</td>\n",
       "      <td>NaN</td>\n",
       "      <td>NaN</td>\n",
       "      <td>NaN</td>\n",
       "    </tr>\n",
       "    <tr>\n",
       "      <th>4</th>\n",
       "      <td>ELEC</td>\n",
       "      <td>Parc MontrÃ©al-Est</td>\n",
       "      <td>9839 rue Notre-Dame</td>\n",
       "      <td>NaN</td>\n",
       "      <td>MontrÃ©al-Est</td>\n",
       "      <td>QC</td>\n",
       "      <td>H1B 2W6</td>\n",
       "      <td>NaN</td>\n",
       "      <td>855-999-8378</td>\n",
       "      <td>E</td>\n",
       "      <td>...</td>\n",
       "      <td>NaN</td>\n",
       "      <td>NaN</td>\n",
       "      <td>NaN</td>\n",
       "      <td>NaN</td>\n",
       "      <td>NaN</td>\n",
       "      <td>NaN</td>\n",
       "      <td>NaN</td>\n",
       "      <td>NaN</td>\n",
       "      <td>NaN</td>\n",
       "      <td>NaN</td>\n",
       "    </tr>\n",
       "    <tr>\n",
       "      <th>...</th>\n",
       "      <td>...</td>\n",
       "      <td>...</td>\n",
       "      <td>...</td>\n",
       "      <td>...</td>\n",
       "      <td>...</td>\n",
       "      <td>...</td>\n",
       "      <td>...</td>\n",
       "      <td>...</td>\n",
       "      <td>...</td>\n",
       "      <td>...</td>\n",
       "      <td>...</td>\n",
       "      <td>...</td>\n",
       "      <td>...</td>\n",
       "      <td>...</td>\n",
       "      <td>...</td>\n",
       "      <td>...</td>\n",
       "      <td>...</td>\n",
       "      <td>...</td>\n",
       "      <td>...</td>\n",
       "      <td>...</td>\n",
       "      <td>...</td>\n",
       "    </tr>\n",
       "    <tr>\n",
       "      <th>869</th>\n",
       "      <td>ELEC</td>\n",
       "      <td>280 Rue Latour</td>\n",
       "      <td>280 Rue Latour</td>\n",
       "      <td>NaN</td>\n",
       "      <td>Saint-JÃ©rÃ´me</td>\n",
       "      <td>QC</td>\n",
       "      <td>J7Z 2G7</td>\n",
       "      <td>NaN</td>\n",
       "      <td>855-999-8378</td>\n",
       "      <td>E</td>\n",
       "      <td>...</td>\n",
       "      <td>NaN</td>\n",
       "      <td>NaN</td>\n",
       "      <td>NaN</td>\n",
       "      <td>NaN</td>\n",
       "      <td>NaN</td>\n",
       "      <td>NaN</td>\n",
       "      <td>NaN</td>\n",
       "      <td>NaN</td>\n",
       "      <td>NaN</td>\n",
       "      <td>NaN</td>\n",
       "    </tr>\n",
       "    <tr>\n",
       "      <th>870</th>\n",
       "      <td>ELEC</td>\n",
       "      <td>Exo - Gare Saint-JÃ©rÃ´me</td>\n",
       "      <td>455 boul. Jean-Baptiste-Rolland</td>\n",
       "      <td>NaN</td>\n",
       "      <td>St-JÃ©rÃ´me</td>\n",
       "      <td>QC</td>\n",
       "      <td>J7Z 2H5</td>\n",
       "      <td>NaN</td>\n",
       "      <td>855-999-8378</td>\n",
       "      <td>E</td>\n",
       "      <td>...</td>\n",
       "      <td>NaN</td>\n",
       "      <td>NaN</td>\n",
       "      <td>NaN</td>\n",
       "      <td>NaN</td>\n",
       "      <td>NaN</td>\n",
       "      <td>NaN</td>\n",
       "      <td>NaN</td>\n",
       "      <td>NaN</td>\n",
       "      <td>NaN</td>\n",
       "      <td>NaN</td>\n",
       "    </tr>\n",
       "    <tr>\n",
       "      <th>871</th>\n",
       "      <td>ELEC</td>\n",
       "      <td>Ville de St-JÃ©rÃ´me - rue Labelle</td>\n",
       "      <td>255 Rue Labelle</td>\n",
       "      <td>NaN</td>\n",
       "      <td>St-JÃ©rÃ´me</td>\n",
       "      <td>QC</td>\n",
       "      <td>J7Z 5K8</td>\n",
       "      <td>NaN</td>\n",
       "      <td>888-356-8911</td>\n",
       "      <td>E</td>\n",
       "      <td>...</td>\n",
       "      <td>NaN</td>\n",
       "      <td>NaN</td>\n",
       "      <td>NaN</td>\n",
       "      <td>NaN</td>\n",
       "      <td>NaN</td>\n",
       "      <td>NaN</td>\n",
       "      <td>NaN</td>\n",
       "      <td>NaN</td>\n",
       "      <td>NaN</td>\n",
       "      <td>NaN</td>\n",
       "    </tr>\n",
       "    <tr>\n",
       "      <th>872</th>\n",
       "      <td>ELEC</td>\n",
       "      <td>CSSS SAINT-JÃRO</td>\n",
       "      <td>290 Rue de Montigny</td>\n",
       "      <td>BR-3\\nBR-4</td>\n",
       "      <td>Saint-JÃ©rÃ´me</td>\n",
       "      <td>QC</td>\n",
       "      <td>J7Z 5P9</td>\n",
       "      <td>NaN</td>\n",
       "      <td>888-758-4389</td>\n",
       "      <td>E</td>\n",
       "      <td>...</td>\n",
       "      <td>Free</td>\n",
       "      <td>NaN</td>\n",
       "      <td>NaN</td>\n",
       "      <td>NaN</td>\n",
       "      <td>NaN</td>\n",
       "      <td>NaN</td>\n",
       "      <td>NaN</td>\n",
       "      <td>NaN</td>\n",
       "      <td>NaN</td>\n",
       "      <td>NaN</td>\n",
       "    </tr>\n",
       "    <tr>\n",
       "      <th>873</th>\n",
       "      <td>ELEC</td>\n",
       "      <td>Hydro-QuÃ©bec - St-JÃ©rÃ´me, 333 Jean-Paul-Hogue</td>\n",
       "      <td>333 Jean-Paul-Hogue</td>\n",
       "      <td>NaN</td>\n",
       "      <td>St-JÃ©rÃ´me</td>\n",
       "      <td>QC</td>\n",
       "      <td>J7Z 6Y3</td>\n",
       "      <td>NaN</td>\n",
       "      <td>855-999-8378</td>\n",
       "      <td>E</td>\n",
       "      <td>...</td>\n",
       "      <td>NaN</td>\n",
       "      <td>NaN</td>\n",
       "      <td>NaN</td>\n",
       "      <td>NaN</td>\n",
       "      <td>NaN</td>\n",
       "      <td>NaN</td>\n",
       "      <td>NaN</td>\n",
       "      <td>NaN</td>\n",
       "      <td>NaN</td>\n",
       "      <td>NaN</td>\n",
       "    </tr>\n",
       "  </tbody>\n",
       "</table>\n",
       "<p>874 rows × 64 columns</p>\n",
       "</div>"
      ],
      "text/plain": [
       "    ï»¿Fuel Type Code                                      Station Name  \\\n",
       "0                ELEC                               14001 Notre-Dame E.   \n",
       "1                ELEC                  Desjardins - Pointe-aux-Trembles   \n",
       "2                ELEC                                13150 Sherbrooke E   \n",
       "3                ELEC                   St-Hubert - Pointe-aux-Trembles   \n",
       "4                ELEC                                Parc MontrÃ©al-Est   \n",
       "..                ...                                               ...   \n",
       "869              ELEC                                    280 Rue Latour   \n",
       "870              ELEC                         Exo - Gare Saint-JÃ©rÃ´me   \n",
       "871              ELEC                Ville de St-JÃ©rÃ´me - rue Labelle   \n",
       "872              ELEC                                  CSSS SAINT-JÃRO   \n",
       "873              ELEC  Hydro-QuÃ©bec - St-JÃ©rÃ´me, 333 Jean-Paul-Hogue   \n",
       "\n",
       "                      Street Address Intersection Directions  \\\n",
       "0                14001 Notre-Dame E.                     NaN   \n",
       "1           13120 rue Sherbrooke Est                     NaN   \n",
       "2           13150 Rue Sherbrooke Est                     NaN   \n",
       "3           12575 rue Sherbrooke Est                     NaN   \n",
       "4                9839 rue Notre-Dame                     NaN   \n",
       "..                               ...                     ...   \n",
       "869                   280 Rue Latour                     NaN   \n",
       "870  455 boul. Jean-Baptiste-Rolland                     NaN   \n",
       "871                  255 Rue Labelle                     NaN   \n",
       "872              290 Rue de Montigny              BR-3\\nBR-4   \n",
       "873              333 Jean-Paul-Hogue                     NaN   \n",
       "\n",
       "                    City State      ZIP  Plus4 Station Phone Status Code  ...  \\\n",
       "0              MontrÃ©al    QC  H1A 1T9    NaN  855-999-8378           E  ...   \n",
       "1              MontrÃ©al    QC  H1A 3W2    NaN  855-999-8378           E  ...   \n",
       "2              MontrÃ©al    QC  H1A 4B1    NaN  855-999-8378           E  ...   \n",
       "3    Pointe-aux-Trembles    QC  H1B 1C8    NaN  855-999-8378           E  ...   \n",
       "4          MontrÃ©al-Est    QC  H1B 2W6    NaN  855-999-8378           E  ...   \n",
       "..                   ...   ...      ...    ...           ...         ...  ...   \n",
       "869       Saint-JÃ©rÃ´me    QC  J7Z 2G7    NaN  855-999-8378           E  ...   \n",
       "870          St-JÃ©rÃ´me    QC  J7Z 2H5    NaN  855-999-8378           E  ...   \n",
       "871          St-JÃ©rÃ´me    QC  J7Z 5K8    NaN  888-356-8911           E  ...   \n",
       "872       Saint-JÃ©rÃ´me    QC  J7Z 5P9    NaN  888-758-4389           E  ...   \n",
       "873          St-JÃ©rÃ´me    QC  J7Z 6Y3    NaN  855-999-8378           E  ...   \n",
       "\n",
       "     EV Pricing EV Pricing (French) LPG Nozzle Types Hydrogen Pressures  \\\n",
       "0           NaN                 NaN              NaN                NaN   \n",
       "1           NaN                 NaN              NaN                NaN   \n",
       "2           NaN                 NaN              NaN                NaN   \n",
       "3           NaN                 NaN              NaN                NaN   \n",
       "4           NaN                 NaN              NaN                NaN   \n",
       "..          ...                 ...              ...                ...   \n",
       "869         NaN                 NaN              NaN                NaN   \n",
       "870         NaN                 NaN              NaN                NaN   \n",
       "871         NaN                 NaN              NaN                NaN   \n",
       "872        Free                 NaN              NaN                NaN   \n",
       "873         NaN                 NaN              NaN                NaN   \n",
       "\n",
       "     Hydrogen Standards  CNG Fill Type Code  CNG PSI  CNG Vehicle Class  \\\n",
       "0                   NaN                 NaN      NaN                NaN   \n",
       "1                   NaN                 NaN      NaN                NaN   \n",
       "2                   NaN                 NaN      NaN                NaN   \n",
       "3                   NaN                 NaN      NaN                NaN   \n",
       "4                   NaN                 NaN      NaN                NaN   \n",
       "..                  ...                 ...      ...                ...   \n",
       "869                 NaN                 NaN      NaN                NaN   \n",
       "870                 NaN                 NaN      NaN                NaN   \n",
       "871                 NaN                 NaN      NaN                NaN   \n",
       "872                 NaN                 NaN      NaN                NaN   \n",
       "873                 NaN                 NaN      NaN                NaN   \n",
       "\n",
       "     LNG Vehicle Class  EV On-Site Renewable Source  \n",
       "0                  NaN                          NaN  \n",
       "1                  NaN                          NaN  \n",
       "2                  NaN                          NaN  \n",
       "3                  NaN                          NaN  \n",
       "4                  NaN                          NaN  \n",
       "..                 ...                          ...  \n",
       "869                NaN                          NaN  \n",
       "870                NaN                          NaN  \n",
       "871                NaN                          NaN  \n",
       "872                NaN                          NaN  \n",
       "873                NaN                          NaN  \n",
       "\n",
       "[874 rows x 64 columns]"
      ]
     },
     "execution_count": 51,
     "metadata": {},
     "output_type": "execute_result"
    }
   ],
   "source": [
    "montreal_dataset"
   ]
  },
  {
   "cell_type": "code",
   "execution_count": 52,
   "id": "reported-qatar",
   "metadata": {},
   "outputs": [
    {
     "name": "stdout",
     "output_type": "stream",
     "text": [
      "<class 'pandas.core.frame.DataFrame'>\n",
      "RangeIndex: 874 entries, 0 to 873\n",
      "Data columns (total 64 columns):\n",
      " #   Column                            Non-Null Count  Dtype  \n",
      "---  ------                            --------------  -----  \n",
      " 0   ï»¿Fuel Type Code                 874 non-null    object \n",
      " 1   Station Name                      874 non-null    object \n",
      " 2   Street Address                    874 non-null    object \n",
      " 3   Intersection Directions           51 non-null     object \n",
      " 4   City                              874 non-null    object \n",
      " 5   State                             874 non-null    object \n",
      " 6   ZIP                               874 non-null    object \n",
      " 7   Plus4                             0 non-null      float64\n",
      " 8   Station Phone                     870 non-null    object \n",
      " 9   Status Code                       874 non-null    object \n",
      " 10  Expected Date                     0 non-null      float64\n",
      " 11  Groups With Access Code           874 non-null    object \n",
      " 12  Access Days Time                  874 non-null    object \n",
      " 13  Cards Accepted                    2 non-null      object \n",
      " 14  BD Blends                         0 non-null      float64\n",
      " 15  NG Fill Type Code                 0 non-null      float64\n",
      " 16  NG PSI                            0 non-null      float64\n",
      " 17  EV Level1 EVSE Num                0 non-null      float64\n",
      " 18  EV Level2 EVSE Num                839 non-null    float64\n",
      " 19  EV DC Fast Count                  55 non-null     float64\n",
      " 20  EV Other Info                     0 non-null      float64\n",
      " 21  EV Network                        874 non-null    object \n",
      " 22  EV Network Web                    851 non-null    object \n",
      " 23  Geocode Status                    874 non-null    object \n",
      " 24  Latitude                          874 non-null    float64\n",
      " 25  Longitude                         874 non-null    float64\n",
      " 26  Date Last Confirmed               872 non-null    object \n",
      " 27  ID                                874 non-null    int64  \n",
      " 28  Updated At                        874 non-null    object \n",
      " 29  Owner Type Code                   59 non-null     object \n",
      " 30  Federal Agency ID                 0 non-null      float64\n",
      " 31  Federal Agency Name               0 non-null      float64\n",
      " 32  Open Date                         59 non-null     object \n",
      " 33  Hydrogen Status Link              0 non-null      float64\n",
      " 34  NG Vehicle Class                  0 non-null      float64\n",
      " 35  LPG Primary                       0 non-null      float64\n",
      " 36  E85 Blender Pump                  0 non-null      float64\n",
      " 37  EV Connector Types                874 non-null    object \n",
      " 38  Country                           874 non-null    object \n",
      " 39  Intersection Directions (French)  4 non-null      object \n",
      " 40  Access Days Time (French)         826 non-null    object \n",
      " 41  BD Blends (French)                0 non-null      float64\n",
      " 42  Groups With Access Code (French)  874 non-null    object \n",
      " 43  Hydrogen Is Retail                0 non-null      float64\n",
      " 44  Access Code                       874 non-null    object \n",
      " 45  Access Detail Code                3 non-null      object \n",
      " 46  Federal Agency Code               0 non-null      float64\n",
      " 47  Facility Type                     48 non-null     object \n",
      " 48  CNG Dispenser Num                 0 non-null      float64\n",
      " 49  CNG On-Site Renewable Source      0 non-null      float64\n",
      " 50  CNG Total Compression Capacity    0 non-null      float64\n",
      " 51  CNG Storage Capacity              0 non-null      float64\n",
      " 52  LNG On-Site Renewable Source      0 non-null      float64\n",
      " 53  E85 Other Ethanol Blends          0 non-null      float64\n",
      " 54  EV Pricing                        103 non-null    object \n",
      " 55  EV Pricing (French)               55 non-null     object \n",
      " 56  LPG Nozzle Types                  0 non-null      float64\n",
      " 57  Hydrogen Pressures                0 non-null      float64\n",
      " 58  Hydrogen Standards                0 non-null      float64\n",
      " 59  CNG Fill Type Code                0 non-null      float64\n",
      " 60  CNG PSI                           0 non-null      float64\n",
      " 61  CNG Vehicle Class                 0 non-null      float64\n",
      " 62  LNG Vehicle Class                 0 non-null      float64\n",
      " 63  EV On-Site Renewable Source       0 non-null      float64\n",
      "dtypes: float64(34), int64(1), object(29)\n",
      "memory usage: 437.1+ KB\n"
     ]
    }
   ],
   "source": [
    "montreal_dataset.info()"
   ]
  },
  {
   "cell_type": "code",
   "execution_count": 53,
   "id": "broad-detective",
   "metadata": {},
   "outputs": [
    {
     "data": {
      "text/plain": [
       "count        874\n",
       "unique         3\n",
       "top       Public\n",
       "freq         871\n",
       "Name: Groups With Access Code, dtype: object"
      ]
     },
     "execution_count": 53,
     "metadata": {},
     "output_type": "execute_result"
    }
   ],
   "source": [
    "montreal_dataset['Groups With Access Code'].describe()"
   ]
  },
  {
   "cell_type": "code",
   "execution_count": 54,
   "id": "cooked-magic",
   "metadata": {},
   "outputs": [
    {
     "data": {
      "text/plain": [
       "array(['Public', 'Public - Call ahead',\n",
       "       'Public - Credit card at all times'], dtype=object)"
      ]
     },
     "execution_count": 54,
     "metadata": {},
     "output_type": "execute_result"
    }
   ],
   "source": [
    "montreal_dataset['Groups With Access Code'].unique()"
   ]
  },
  {
   "cell_type": "code",
   "execution_count": 55,
   "id": "revolutionary-member",
   "metadata": {},
   "outputs": [
    {
     "data": {
      "text/plain": [
       "count    839.000000\n",
       "mean       2.333731\n",
       "std        1.709358\n",
       "min        1.000000\n",
       "25%        2.000000\n",
       "50%        2.000000\n",
       "75%        2.000000\n",
       "max       25.000000\n",
       "Name: EV Level2 EVSE Num, dtype: float64"
      ]
     },
     "execution_count": 55,
     "metadata": {},
     "output_type": "execute_result"
    }
   ],
   "source": [
    "montreal_dataset['EV Level2 EVSE Num'].describe()"
   ]
  },
  {
   "cell_type": "code",
   "execution_count": 56,
   "id": "smart-wells",
   "metadata": {
    "scrolled": true
   },
   "outputs": [
    {
     "data": {
      "text/plain": [
       "array([ 2.,  1.,  2.,  1.,  1.,  1.,  2.,  2.,  2.,  4.,  2.,  2.,  1.,\n",
       "        2.,  2.,  1.,  1.,  2.,  2.,  2.,  1.,  2.,  2.,  1.,  2.,  2.,\n",
       "        2.,  2.,  2.,  4.,  8.,  1.,  1.,  2.,  1.,  2.,  1.,  2.,  2.,\n",
       "        2.,  4.,  2.,  2.,  2.,  2., nan,  4.,  2.,  2.,  2.,  1.,  2.,\n",
       "        2.,  2.,  2.,  2.,  1.,  2.,  2.,  2.,  2.,  2.,  2.,  4.,  1.,\n",
       "        2.,  3.,  2.,  2., nan,  1.,  1.,  2.,  2.,  2.,  2.,  2.,  2.,\n",
       "        2.,  2.,  2.,  2.,  2.,  2.,  1.,  6.,  2.,  2., 10.,  2.,  2.,\n",
       "        2.,  2.,  2.,  2.,  2.,  2.,  2.,  2.,  2.,  2.,  1.,  2.,  2.,\n",
       "        2.,  2.,  2.,  2.,  2.,  2.,  2.,  2.,  2.,  2.,  2.,  2.,  2.,\n",
       "        2.,  2.,  2.,  2.,  2.,  2.,  2.,  4.,  2.,  2.,  2.,  2.,  2.,\n",
       "        1.,  4.,  2.,  2.,  2.,  1.,  2.,  2.,  2.,  2.,  2.,  1.,  2.,\n",
       "        2.,  4.,  2.,  2.,  2.,  2.,  2.,  2.,  2.,  2.,  2.,  2.,  2.,\n",
       "        2.,  2.,  2.,  2.,  2.,  2.,  2.,  2.,  2.,  1.,  1.,  2.,  2.,\n",
       "        2., nan,  2.,  2.,  2.,  2.,  2.,  2.,  2.,  2.,  2.,  2.,  2.,\n",
       "        2.,  2.,  2.,  4.,  2.,  2.,  2.,  2.,  2.,  2., 10.,  2.,  2.,\n",
       "        2.,  2.,  2.,  2.,  2.,  2.,  2.,  1.,  2.,  2.,  7.,  2.,  2.,\n",
       "        6.,  2.,  2.,  4.,  1.,  6.,  2.,  3.,  2.,  2.,  2.,  2.,  2.,\n",
       "        3.,  2.,  2.,  2.,  2.,  2.,  1.,  2.,  2.,  2.,  2.,  2.,  2.,\n",
       "        2.,  2.,  2.,  2.,  2.,  2.,  1.,  2.,  2.,  2.,  2.,  2.,  2.,\n",
       "        2.,  4.,  2.,  2.,  2.,  2.,  2.,  2.,  2.,  2.,  2.,  2.,  2.,\n",
       "        2., 10.,  2.,  2.,  2.,  2.,  2.,  2.,  2.,  2.,  2.,  2.,  2.,\n",
       "       nan,  2.,  2.,  2.,  2.,  2., 10.,  2.,  2., 12.,  1.,  2.,  3.,\n",
       "        2.,  4.,  3.,  4.,  2.,  2.,  4.,  4.,  2.,  2.,  4.,  4.,  4.,\n",
       "        4.,  2.,  2., 11.,  5.,  2.,  1.,  3.,  3.,  2.,  8.,  1.,  2.,\n",
       "        2.,  2.,  4.,  2.,  3.,  4.,  2.,  1.,  2., 25.,  1.,  1.,  4.,\n",
       "        3.,  1.,  4.,  1.,  6.,  2.,  2.,  2.,  3.,  2.,  5.,  1., 15.,\n",
       "       12.,  2.,  2.,  2.,  2.,  2.,  2.,  2.,  2.,  2.,  8.,  3.,  2.,\n",
       "        2.,  3.,  2.,  1.,  4.,  2.,  2.,  2.,  9.,  3.,  2.,  6.,  9.,\n",
       "        2.,  2.,  2.,  2.,  2., 12.,  2.,  2.,  2.,  2.,  2.,  2.,  2.,\n",
       "        2.,  2.,  2.,  2.,  2.,  2.,  2.,  2.,  2.,  2.,  2.,  2.,  6.,\n",
       "        2.,  2.,  1.,  2.,  2.,  2.,  2.,  3.,  2.,  2.,  2.,  2.,  2.,\n",
       "        2.,  2.,  1.,  3.,  2.,  4.,  4.,  4.,  2.,  2.,  2.,  2.,  2.,\n",
       "        2.,  2.,  2.,  2.,  2.,  2.,  2.,  3.,  9.,  1.,  2., nan,  2.,\n",
       "        2.,  2.,  4.,  2.,  2.,  2.,  2.,  2.,  1.,  2.,  2.,  2.,  4.,\n",
       "        2.,  2.,  2.,  2.,  2.,  2.,  2.,  2.,  4.,  2.,  2.,  2.,  2.,\n",
       "        2.,  2.,  4.,  2.,  2.,  1.,  4.,  1.,  1.,  2.,  2.,  2.,  2.,\n",
       "        4.,  2.,  1.,  2., nan,  2.,  2.,  2.,  2.,  2.,  2.,  2.,  2.,\n",
       "        2.,  2.,  2.,  2.,  2.,  2.,  2.,  2.,  2.,  2.,  2.,  2.,  2.,\n",
       "        2.,  1.,  2.,  2.,  2.,  2.,  2.,  1.,  2.,  2.,  2.,  1.,  2.,\n",
       "        2.,  2.,  2.,  2.,  2.,  2.,  2.,  2.,  2.,  2.,  2.,  2.,  2.,\n",
       "        1., nan,  1.,  2.,  2.,  1.,  2.,  2.,  4.,  2.,  2.,  2.,  2.,\n",
       "        4.,  1.,  2.,  2.,  2.,  2.,  4., nan,  2.,  2.,  2.,  2.,  4.,\n",
       "        2.,  2.,  1.,  1.,  4.,  5., nan,  2.,  2.,  2.,  2.,  4.,  1.,\n",
       "        2.,  2.,  2.,  6.,  6.,  2.,  1.,  6.,  1.,  2.,  2.,  4.,  4.,\n",
       "        2.,  8.,  2.,  1.,  1.,  4.,  2., nan,  2.,  1., nan,  1.,  2.,\n",
       "        2.,  2.,  3.,  2., nan,  1.,  2.,  2.,  1.,  3.,  4.,  3.,  6.,\n",
       "        2.,  2., nan,  1.,  5.,  2.,  2.,  2.,  2., nan,  4.,  1.,  2.,\n",
       "        2.,  2.,  2.,  4.,  4.,  2., nan,  6.,  2.,  6., nan,  2.,  4.,\n",
       "        2.,  2.,  2., nan,  2.,  2.,  4.,  4.,  2.,  2.,  1.,  4.,  2.,\n",
       "        2.,  2.,  2.,  2.,  2.,  2.,  2.,  2.,  2.,  1.,  4.,  2.,  1.,\n",
       "       nan,  2.,  1.,  2.,  2.,  2.,  2.,  2.,  2.,  2.,  2.,  2.,  2.,\n",
       "        2.,  2.,  2.,  1.,  2.,  4.,  2.,  2.,  2.,  2.,  2., 10.,  6.,\n",
       "        2.,  2.,  2.,  1.,  1., nan,  2.,  4.,  1.,  1.,  2.,  8.,  1.,\n",
       "        1.,  2.,  2., nan,  2.,  2.,  2.,  2., nan,  2.,  4.,  1.,  2.,\n",
       "        1., nan,  1.,  1.,  1.,  2.,  4., nan,  3.,  1.,  2.,  2.,  1.,\n",
       "        2.,  1.,  2.,  4.,  3.,  1.,  2.,  1.,  2.,  1.,  2.,  2.,  1.,\n",
       "       nan,  2.,  1.,  4.,  1.,  1.,  2.,  1.,  3.,  2.,  3.,  3.,  4.,\n",
       "        2.,  2.,  2.,  4.,  1.,  1.,  2.,  1.,  2.,  2.,  2.,  2.,  2.,\n",
       "        1.,  2.,  4.,  1.,  4.,  2.,  5.,  1.,  4.,  2.,  1.,  2.,  2.,\n",
       "       nan,  2.,  8.,  4., nan, nan,  2.,  2.,  1., nan,  1.,  2.,  4.,\n",
       "        2.,  1.,  2.,  2.,  2.,  2., nan,  2., nan,  1.,  2.,  1.,  2.,\n",
       "        2.,  1.,  3.,  1.,  1.,  2.,  2.,  4.,  1.,  2.,  1., nan,  4.,\n",
       "        2.,  2.,  2.,  2.,  1.,  1.,  2.,  2.,  2.,  1.,  1.,  4.,  1.,\n",
       "       nan,  2.,  1.,  2.,  1.,  4.,  1.,  2.,  2.,  2.,  3., nan,  2.,\n",
       "        2.,  2.,  2.,  1.,  2.,  2.,  1.,  1.,  2.,  1.,  2.,  1.,  2.,\n",
       "        2.,  2.,  2.,  1., nan,  1., nan,  1.,  1.,  2.,  1.,  1.,  1.,\n",
       "        1.,  1.,  2.,  2.,  2.,  1.,  1.,  1.,  2.,  8.,  1.,  7.,  2.,\n",
       "        1.,  4.,  1.])"
      ]
     },
     "execution_count": 56,
     "metadata": {},
     "output_type": "execute_result"
    }
   ],
   "source": [
    "montreal_dataset['EV Level2 EVSE Num'].values"
   ]
  },
  {
   "cell_type": "code",
   "execution_count": 57,
   "id": "coupled-northern",
   "metadata": {},
   "outputs": [
    {
     "data": {
      "text/plain": [
       "array([nan,  2.,  1.,  4., 12., 20.,  3.,  5.])"
      ]
     },
     "execution_count": 57,
     "metadata": {},
     "output_type": "execute_result"
    }
   ],
   "source": [
    "montreal_dataset['EV DC Fast Count'].unique()"
   ]
  },
  {
   "cell_type": "markdown",
   "id": "generic-snake",
   "metadata": {},
   "source": [
    "Since we are emphasized on Electrical Vehicles, No need to use this column as its already understood."
   ]
  },
  {
   "cell_type": "code",
   "execution_count": 58,
   "id": "final-luther",
   "metadata": {},
   "outputs": [
    {
     "data": {
      "text/plain": [
       "array(['ELEC'], dtype=object)"
      ]
     },
     "execution_count": 58,
     "metadata": {},
     "output_type": "execute_result"
    }
   ],
   "source": [
    "montreal_dataset['ï»¿Fuel Type Code'].unique()"
   ]
  },
  {
   "cell_type": "code",
   "execution_count": 59,
   "id": "saving-technology",
   "metadata": {},
   "outputs": [],
   "source": [
    "# Not relevant"
   ]
  },
  {
   "cell_type": "code",
   "execution_count": 60,
   "id": "joined-database",
   "metadata": {},
   "outputs": [
    {
     "data": {
      "text/plain": [
       "array(['E'], dtype=object)"
      ]
     },
     "execution_count": 60,
     "metadata": {},
     "output_type": "execute_result"
    }
   ],
   "source": [
    "montreal_dataset['Status Code'].unique() "
   ]
  },
  {
   "cell_type": "code",
   "execution_count": 61,
   "id": "round-brush",
   "metadata": {},
   "outputs": [
    {
     "data": {
      "text/plain": [
       "array([nan])"
      ]
     },
     "execution_count": 61,
     "metadata": {},
     "output_type": "execute_result"
    }
   ],
   "source": [
    "montreal_dataset['EV Level1 EVSE Num'].unique()"
   ]
  },
  {
   "cell_type": "code",
   "execution_count": 62,
   "id": "incorrect-debut",
   "metadata": {},
   "outputs": [
    {
     "data": {
      "text/plain": [
       "array([nan])"
      ]
     },
     "execution_count": 62,
     "metadata": {},
     "output_type": "execute_result"
    }
   ],
   "source": [
    "montreal_dataset['EV Other Info'].unique()"
   ]
  },
  {
   "cell_type": "code",
   "execution_count": 63,
   "id": "indirect-diameter",
   "metadata": {},
   "outputs": [
    {
     "data": {
      "text/plain": [
       "array([nan, 'P'], dtype=object)"
      ]
     },
     "execution_count": 63,
     "metadata": {},
     "output_type": "execute_result"
    }
   ],
   "source": [
    "montreal_dataset['Owner Type Code'].unique()"
   ]
  },
  {
   "cell_type": "code",
   "execution_count": 64,
   "id": "clinical-hebrew",
   "metadata": {},
   "outputs": [
    {
     "data": {
      "text/plain": [
       "array([nan, 'CALL', 'CREDIT_CARD_ALWAYS'], dtype=object)"
      ]
     },
     "execution_count": 64,
     "metadata": {},
     "output_type": "execute_result"
    }
   ],
   "source": [
    "montreal_dataset['Access Detail Code'].unique()"
   ]
  },
  {
   "cell_type": "code",
   "execution_count": 65,
   "id": "accepting-steering",
   "metadata": {},
   "outputs": [
    {
     "data": {
      "text/plain": [
       "array([nan, nan, nan, nan, nan, nan, nan, nan, nan, nan, nan, nan, nan,\n",
       "       nan, nan, nan, nan, nan, nan, nan, nan, nan, nan, nan, nan, nan,\n",
       "       nan, nan, nan, nan, nan, nan, nan, nan, nan, nan, nan, nan, nan,\n",
       "       nan, nan, nan, nan, nan, nan, nan, nan, nan, nan, nan, nan, nan,\n",
       "       nan, nan, nan, nan, nan, nan, nan, nan, nan, nan, nan, nan, nan,\n",
       "       nan, nan, nan, nan, nan, nan, nan, nan, nan, nan, nan, nan, nan,\n",
       "       nan, nan, nan, nan, nan, nan, nan, nan, nan, nan, nan, nan, nan,\n",
       "       nan, nan, nan, nan, nan, nan, nan, nan, nan, nan, nan, nan, nan,\n",
       "       nan, nan, nan, nan, nan, nan, nan, nan, nan, nan, nan, nan, nan,\n",
       "       nan, nan, nan, nan, nan, nan, nan, nan, nan, nan, nan, nan, nan,\n",
       "       nan, nan, nan, nan, nan, nan, nan, nan, nan, nan, nan, nan, nan,\n",
       "       nan, nan, nan, nan, nan, nan, nan, nan, nan, nan, nan, nan, nan,\n",
       "       nan, nan, nan, nan, nan, nan, nan, nan, nan, nan, nan, nan, nan,\n",
       "       nan, nan, nan, nan, nan, nan, nan, nan, nan, nan, nan, nan, nan,\n",
       "       nan, nan, nan, nan, nan, nan, nan, nan, nan, nan, nan, nan, nan,\n",
       "       nan, nan, nan, nan, nan, nan, nan, nan, nan, nan, nan, nan, nan,\n",
       "       nan, nan, nan, nan, nan, nan, nan, nan, nan, nan, nan, nan, nan,\n",
       "       nan, nan, nan, nan, nan, nan, nan, nan, nan, nan, nan, nan, nan,\n",
       "       nan, nan, nan, nan, nan, nan, nan, nan, nan, nan, nan, nan, nan,\n",
       "       nan, nan, nan, nan, nan, nan, nan, nan, nan, nan, nan, nan, nan,\n",
       "       nan, nan, nan, nan, nan, nan, nan, nan, nan, nan, nan, nan, nan,\n",
       "       nan, nan, nan, nan, nan, nan, nan, nan, nan, nan, nan, nan, nan,\n",
       "       nan, nan, nan, nan, nan, nan, nan, nan, nan, nan, nan, nan, nan,\n",
       "       nan, nan, nan, nan, nan, nan, nan, nan, nan, nan, nan, nan, nan,\n",
       "       nan, nan, nan, nan, nan, nan, nan, nan, nan, nan, nan, nan, nan,\n",
       "       nan, nan, nan, nan, nan, nan, nan, nan, nan, nan, nan, nan, nan,\n",
       "       nan, nan, nan, nan, nan, nan, nan, nan, nan, nan, nan, nan, nan,\n",
       "       nan, nan, nan, nan, nan, nan, nan, nan, nan, nan, nan, nan, nan,\n",
       "       nan, nan, nan, nan, nan, nan, nan, nan, nan, nan, nan, nan, nan,\n",
       "       nan, nan, nan, nan, nan, nan, nan, nan, nan, nan, nan, nan, nan,\n",
       "       nan, nan, nan, nan, nan, nan, nan, nan, nan, nan, nan, nan, nan,\n",
       "       nan, nan, nan, nan, nan, nan, nan, nan, nan, nan, nan, nan, nan,\n",
       "       nan, nan, nan, nan, nan, nan, nan, nan, nan, nan, nan, nan, nan,\n",
       "       nan, nan, nan, nan, nan, nan, nan, nan, nan, nan, nan, nan, nan,\n",
       "       nan, nan, nan, nan, nan, nan, nan, nan, nan, nan, nan, nan, nan,\n",
       "       nan, nan, nan, nan, nan, nan, nan, nan, nan, nan, nan, nan, nan,\n",
       "       nan, nan, nan, nan, nan, nan, nan, nan, nan, nan, nan, nan, nan,\n",
       "       nan, nan, nan, nan, nan, nan, nan, nan, nan, nan, nan, nan, nan,\n",
       "       nan, nan, nan, nan, nan, nan, nan, nan, nan, nan, nan, nan, nan,\n",
       "       nan, nan, nan, nan, nan, nan, nan, nan, nan, nan, nan, nan, nan,\n",
       "       nan, nan, nan, nan, nan, nan, nan, nan, nan, nan, nan, nan, nan,\n",
       "       nan, nan, nan, nan, nan, nan, nan, nan, nan, nan, nan, nan, nan,\n",
       "       nan, nan, nan, nan, nan, nan, nan, nan, nan, nan, nan, nan, nan,\n",
       "       nan, nan, nan, nan, nan, nan, nan, nan, nan, nan, nan, nan, nan,\n",
       "       nan, nan, nan, nan, nan, nan, nan, nan, nan, nan, nan, nan, nan,\n",
       "       nan, nan, nan, nan, nan, nan, nan, nan, nan, nan, nan, nan, nan,\n",
       "       nan, nan, nan, nan, nan, nan, nan, nan, nan, nan, nan, nan, nan,\n",
       "       nan, nan, nan, nan, nan, nan, nan, nan, nan, nan, nan, nan, nan,\n",
       "       nan, nan, nan, nan, nan, nan, nan, nan, nan, nan, nan, nan, nan,\n",
       "       nan, nan, nan, nan, nan, nan, nan, nan, nan, 'CALL', nan, nan, nan,\n",
       "       nan, nan, nan, nan, nan, nan, nan, nan, nan, nan, nan, nan, nan,\n",
       "       nan, nan, nan, nan, nan, nan, nan, nan, nan, nan, nan, nan, nan,\n",
       "       nan, nan, nan, nan, nan, nan, nan, nan, nan, nan, nan, nan, nan,\n",
       "       nan, nan, nan, nan, nan, nan, nan, nan, nan, nan, nan, nan, nan,\n",
       "       nan, 'CREDIT_CARD_ALWAYS', nan, nan, nan, nan, nan, nan, nan, nan,\n",
       "       nan, nan, nan, nan, nan, nan, nan, nan, nan, nan, nan, nan, nan,\n",
       "       nan, nan, nan, nan, nan, nan, nan, nan, nan, nan, nan, nan, nan,\n",
       "       nan, nan, nan, nan, nan, nan, nan, nan, nan, nan, nan, nan, nan,\n",
       "       nan, nan, nan, nan, nan, nan, nan, nan, nan, nan, nan, nan, nan,\n",
       "       nan, nan, nan, nan, nan, nan, nan, nan, nan, nan, nan, nan, nan,\n",
       "       nan, nan, nan, nan, nan, nan, nan, nan, nan, nan, nan, nan, nan,\n",
       "       nan, nan, nan, nan, nan, nan, nan, nan, nan, nan, nan, nan, nan,\n",
       "       nan, nan, nan, nan, nan, nan, nan, nan, nan, nan, nan, nan, nan,\n",
       "       nan, nan, nan, nan, nan, nan, nan, nan, nan, nan, nan, nan, nan,\n",
       "       nan, nan, 'CALL', nan, nan, nan, nan, nan, nan, nan, nan, nan, nan,\n",
       "       nan, nan, nan, nan, nan, nan, nan, nan, nan, nan, nan, nan, nan,\n",
       "       nan, nan, nan, nan, nan, nan, nan, nan, nan, nan, nan, nan, nan,\n",
       "       nan, nan, nan, nan, nan, nan], dtype=object)"
      ]
     },
     "execution_count": 65,
     "metadata": {},
     "output_type": "execute_result"
    }
   ],
   "source": [
    "montreal_dataset['Access Detail Code'].values"
   ]
  },
  {
   "cell_type": "code",
   "execution_count": 66,
   "id": "protecting-intermediate",
   "metadata": {},
   "outputs": [
    {
     "data": {
      "text/plain": [
       "array(['E'], dtype=object)"
      ]
     },
     "execution_count": 66,
     "metadata": {},
     "output_type": "execute_result"
    }
   ],
   "source": [
    "montreal_dataset['Status Code'].unique()"
   ]
  },
  {
   "cell_type": "code",
   "execution_count": 67,
   "id": "lonely-racing",
   "metadata": {},
   "outputs": [
    {
     "data": {
      "text/plain": [
       "array(['public'], dtype=object)"
      ]
     },
     "execution_count": 67,
     "metadata": {},
     "output_type": "execute_result"
    }
   ],
   "source": [
    "montreal_dataset['Access Code'].unique()"
   ]
  },
  {
   "cell_type": "code",
   "execution_count": 68,
   "id": "automated-istanbul",
   "metadata": {},
   "outputs": [
    {
     "data": {
      "text/plain": [
       "array([nan, 'Free',\n",
       "       'Pricing is based on length of time. $0 per hour for the first 1 hour, and $1.5 per additional hour',\n",
       "       'Pricing is based on length of time. $0.1 per hour for the first 1 hour, and $0.2 per additional hour',\n",
       "       '$0.5 per hour', '$1 per hour', 'free', '$1 per kWh',\n",
       "       'Pricing is based on length of time and kWh used. $0 per hour for the first 3 hours, and $5 per additional hour, $1 per kWh, minimum payment of $1, maximum payment of $30',\n",
       "       '$0.44 per minute above 60 kW and $0.22 per minute at or below 60 kW',\n",
       "       '$2 per hour', '$5 per session, maximum session time is 1 hour',\n",
       "       '$1.00/Hr Parking Fee', '$2 per hour, maximum payment of $20',\n",
       "       'Billed by time plugged in',\n",
       "       'Pricing is based on length of time. $1 per hour, and $3 per additional hour'],\n",
       "      dtype=object)"
      ]
     },
     "execution_count": 68,
     "metadata": {},
     "output_type": "execute_result"
    }
   ],
   "source": [
    "montreal_dataset['EV Pricing'].unique()"
   ]
  },
  {
   "cell_type": "markdown",
   "id": "social-certificate",
   "metadata": {},
   "source": [
    "There will be no need of 'Category' column under 'points_of_interest' dataset since all the Facility Type is already mentioned here."
   ]
  },
  {
   "cell_type": "code",
   "execution_count": 69,
   "id": "endangered-ribbon",
   "metadata": {},
   "outputs": [
    {
     "data": {
      "text/plain": [
       "array([nan, 'RESTAURANT', 'HOSPITAL', 'HOTEL', 'PAY_GARAGE',\n",
       "       'TRAVEL_CENTER', 'OFFICE_BLDG', 'OTHER', 'CAR_DEALER',\n",
       "       'GAS_STATION', 'SHOPPING_CENTER', 'REC_SPORTS_FACILITY'],\n",
       "      dtype=object)"
      ]
     },
     "execution_count": 69,
     "metadata": {},
     "output_type": "execute_result"
    }
   ],
   "source": [
    "montreal_dataset['Facility Type'].unique() "
   ]
  },
  {
   "cell_type": "code",
   "execution_count": 70,
   "id": "featured-irrigation",
   "metadata": {},
   "outputs": [
    {
     "data": {
      "text/plain": [
       "array([nan, 'Free',\n",
       "       'Pricing is based on length of time. $0 per hour for the first 1 hour, and $1.5 per additional hour',\n",
       "       'Pricing is based on length of time. $0.1 per hour for the first 1 hour, and $0.2 per additional hour',\n",
       "       '$0.5 per hour', '$1 per hour', 'free', '$1 per kWh',\n",
       "       'Pricing is based on length of time and kWh used. $0 per hour for the first 3 hours, and $5 per additional hour, $1 per kWh, minimum payment of $1, maximum payment of $30',\n",
       "       '$0.44 per minute above 60 kW and $0.22 per minute at or below 60 kW',\n",
       "       '$2 per hour', '$5 per session, maximum session time is 1 hour',\n",
       "       '$1.00/Hr Parking Fee', '$2 per hour, maximum payment of $20',\n",
       "       'Billed by time plugged in',\n",
       "       'Pricing is based on length of time. $1 per hour, and $3 per additional hour'],\n",
       "      dtype=object)"
      ]
     },
     "execution_count": 70,
     "metadata": {},
     "output_type": "execute_result"
    }
   ],
   "source": [
    "montreal_dataset['EV Pricing'].unique()"
   ]
  },
  {
   "cell_type": "code",
   "execution_count": 71,
   "id": "agricultural-recording",
   "metadata": {},
   "outputs": [
    {
     "data": {
      "text/plain": [
       "array([nan, 'Gratuit', \"1$ de l'heure\", 'free', '1$ par heure',\n",
       "       '$0.44 par minute au-dessus de 60 kW et $0.22 par minute Ã\\xa0 60 kW ou moins',\n",
       "       'Facturation par temps branchÃ©'], dtype=object)"
      ]
     },
     "execution_count": 71,
     "metadata": {},
     "output_type": "execute_result"
    }
   ],
   "source": [
    "montreal_dataset['EV Pricing (French)'].unique()"
   ]
  },
  {
   "cell_type": "code",
   "execution_count": 72,
   "id": "accessory-bunny",
   "metadata": {},
   "outputs": [],
   "source": [
    "#Dropping dataset Columns"
   ]
  },
  {
   "cell_type": "markdown",
   "id": "administrative-equality",
   "metadata": {},
   "source": [
    "Dropping columns that have all Null/NaN values"
   ]
  },
  {
   "cell_type": "code",
   "execution_count": 73,
   "id": "serious-europe",
   "metadata": {},
   "outputs": [],
   "source": [
    "# drop_montreal_dataset = montreal_dataset.dropna(axis=1,how='all',thresh=50)\n",
    "# drop_montreal_dataset = montreal_dataset.dropna(axis=1,how='all')\n",
    "montreal_dataset.dropna(axis=1,how='all',inplace=True)"
   ]
  },
  {
   "cell_type": "markdown",
   "id": "least-fever",
   "metadata": {},
   "source": [
    "Coming from 64 columns to only 34 columns, all columns removed that had all NaN values"
   ]
  },
  {
   "cell_type": "code",
   "execution_count": 74,
   "id": "specified-craps",
   "metadata": {},
   "outputs": [
    {
     "data": {
      "text/html": [
       "<div>\n",
       "<style scoped>\n",
       "    .dataframe tbody tr th:only-of-type {\n",
       "        vertical-align: middle;\n",
       "    }\n",
       "\n",
       "    .dataframe tbody tr th {\n",
       "        vertical-align: top;\n",
       "    }\n",
       "\n",
       "    .dataframe thead th {\n",
       "        text-align: right;\n",
       "    }\n",
       "</style>\n",
       "<table border=\"1\" class=\"dataframe\">\n",
       "  <thead>\n",
       "    <tr style=\"text-align: right;\">\n",
       "      <th></th>\n",
       "      <th>ï»¿Fuel Type Code</th>\n",
       "      <th>Station Name</th>\n",
       "      <th>Street Address</th>\n",
       "      <th>Intersection Directions</th>\n",
       "      <th>City</th>\n",
       "      <th>State</th>\n",
       "      <th>ZIP</th>\n",
       "      <th>Station Phone</th>\n",
       "      <th>Status Code</th>\n",
       "      <th>Groups With Access Code</th>\n",
       "      <th>...</th>\n",
       "      <th>EV Connector Types</th>\n",
       "      <th>Country</th>\n",
       "      <th>Intersection Directions (French)</th>\n",
       "      <th>Access Days Time (French)</th>\n",
       "      <th>Groups With Access Code (French)</th>\n",
       "      <th>Access Code</th>\n",
       "      <th>Access Detail Code</th>\n",
       "      <th>Facility Type</th>\n",
       "      <th>EV Pricing</th>\n",
       "      <th>EV Pricing (French)</th>\n",
       "    </tr>\n",
       "  </thead>\n",
       "  <tbody>\n",
       "    <tr>\n",
       "      <th>0</th>\n",
       "      <td>ELEC</td>\n",
       "      <td>14001 Notre-Dame E.</td>\n",
       "      <td>14001 Notre-Dame E.</td>\n",
       "      <td>NaN</td>\n",
       "      <td>MontrÃ©al</td>\n",
       "      <td>QC</td>\n",
       "      <td>H1A 1T9</td>\n",
       "      <td>855-999-8378</td>\n",
       "      <td>E</td>\n",
       "      <td>Public</td>\n",
       "      <td>...</td>\n",
       "      <td>J1772</td>\n",
       "      <td>CA</td>\n",
       "      <td>NaN</td>\n",
       "      <td>Accessible 24 heures par jour</td>\n",
       "      <td>Public</td>\n",
       "      <td>public</td>\n",
       "      <td>NaN</td>\n",
       "      <td>NaN</td>\n",
       "      <td>NaN</td>\n",
       "      <td>NaN</td>\n",
       "    </tr>\n",
       "    <tr>\n",
       "      <th>1</th>\n",
       "      <td>ELEC</td>\n",
       "      <td>Desjardins - Pointe-aux-Trembles</td>\n",
       "      <td>13120 rue Sherbrooke Est</td>\n",
       "      <td>NaN</td>\n",
       "      <td>MontrÃ©al</td>\n",
       "      <td>QC</td>\n",
       "      <td>H1A 3W2</td>\n",
       "      <td>855-999-8378</td>\n",
       "      <td>E</td>\n",
       "      <td>Public</td>\n",
       "      <td>...</td>\n",
       "      <td>J1772</td>\n",
       "      <td>CA</td>\n",
       "      <td>NaN</td>\n",
       "      <td>Accessible 24 heures par jour</td>\n",
       "      <td>Public</td>\n",
       "      <td>public</td>\n",
       "      <td>NaN</td>\n",
       "      <td>NaN</td>\n",
       "      <td>NaN</td>\n",
       "      <td>NaN</td>\n",
       "    </tr>\n",
       "    <tr>\n",
       "      <th>2</th>\n",
       "      <td>ELEC</td>\n",
       "      <td>13150 Sherbrooke E</td>\n",
       "      <td>13150 Rue Sherbrooke Est</td>\n",
       "      <td>NaN</td>\n",
       "      <td>MontrÃ©al</td>\n",
       "      <td>QC</td>\n",
       "      <td>H1A 4B1</td>\n",
       "      <td>855-999-8378</td>\n",
       "      <td>E</td>\n",
       "      <td>Public</td>\n",
       "      <td>...</td>\n",
       "      <td>J1772</td>\n",
       "      <td>CA</td>\n",
       "      <td>NaN</td>\n",
       "      <td>Accessible 24 heures par jour</td>\n",
       "      <td>Public</td>\n",
       "      <td>public</td>\n",
       "      <td>NaN</td>\n",
       "      <td>NaN</td>\n",
       "      <td>NaN</td>\n",
       "      <td>NaN</td>\n",
       "    </tr>\n",
       "    <tr>\n",
       "      <th>3</th>\n",
       "      <td>ELEC</td>\n",
       "      <td>St-Hubert - Pointe-aux-Trembles</td>\n",
       "      <td>12575 rue Sherbrooke Est</td>\n",
       "      <td>NaN</td>\n",
       "      <td>Pointe-aux-Trembles</td>\n",
       "      <td>QC</td>\n",
       "      <td>H1B 1C8</td>\n",
       "      <td>855-999-8378</td>\n",
       "      <td>E</td>\n",
       "      <td>Public</td>\n",
       "      <td>...</td>\n",
       "      <td>J1772</td>\n",
       "      <td>CA</td>\n",
       "      <td>NaN</td>\n",
       "      <td>Accessible 24 heures par jour</td>\n",
       "      <td>Public</td>\n",
       "      <td>public</td>\n",
       "      <td>NaN</td>\n",
       "      <td>NaN</td>\n",
       "      <td>NaN</td>\n",
       "      <td>NaN</td>\n",
       "    </tr>\n",
       "    <tr>\n",
       "      <th>4</th>\n",
       "      <td>ELEC</td>\n",
       "      <td>Parc MontrÃ©al-Est</td>\n",
       "      <td>9839 rue Notre-Dame</td>\n",
       "      <td>NaN</td>\n",
       "      <td>MontrÃ©al-Est</td>\n",
       "      <td>QC</td>\n",
       "      <td>H1B 2W6</td>\n",
       "      <td>855-999-8378</td>\n",
       "      <td>E</td>\n",
       "      <td>Public</td>\n",
       "      <td>...</td>\n",
       "      <td>J1772</td>\n",
       "      <td>CA</td>\n",
       "      <td>NaN</td>\n",
       "      <td>Accessible 24 heures par jour</td>\n",
       "      <td>Public</td>\n",
       "      <td>public</td>\n",
       "      <td>NaN</td>\n",
       "      <td>NaN</td>\n",
       "      <td>NaN</td>\n",
       "      <td>NaN</td>\n",
       "    </tr>\n",
       "    <tr>\n",
       "      <th>...</th>\n",
       "      <td>...</td>\n",
       "      <td>...</td>\n",
       "      <td>...</td>\n",
       "      <td>...</td>\n",
       "      <td>...</td>\n",
       "      <td>...</td>\n",
       "      <td>...</td>\n",
       "      <td>...</td>\n",
       "      <td>...</td>\n",
       "      <td>...</td>\n",
       "      <td>...</td>\n",
       "      <td>...</td>\n",
       "      <td>...</td>\n",
       "      <td>...</td>\n",
       "      <td>...</td>\n",
       "      <td>...</td>\n",
       "      <td>...</td>\n",
       "      <td>...</td>\n",
       "      <td>...</td>\n",
       "      <td>...</td>\n",
       "      <td>...</td>\n",
       "    </tr>\n",
       "    <tr>\n",
       "      <th>869</th>\n",
       "      <td>ELEC</td>\n",
       "      <td>280 Rue Latour</td>\n",
       "      <td>280 Rue Latour</td>\n",
       "      <td>NaN</td>\n",
       "      <td>Saint-JÃ©rÃ´me</td>\n",
       "      <td>QC</td>\n",
       "      <td>J7Z 2G7</td>\n",
       "      <td>855-999-8378</td>\n",
       "      <td>E</td>\n",
       "      <td>Public</td>\n",
       "      <td>...</td>\n",
       "      <td>CHADEMO J1772 J1772COMBO</td>\n",
       "      <td>CA</td>\n",
       "      <td>NaN</td>\n",
       "      <td>Accessible 24 heures par jour</td>\n",
       "      <td>Public</td>\n",
       "      <td>public</td>\n",
       "      <td>NaN</td>\n",
       "      <td>NaN</td>\n",
       "      <td>NaN</td>\n",
       "      <td>NaN</td>\n",
       "    </tr>\n",
       "    <tr>\n",
       "      <th>870</th>\n",
       "      <td>ELEC</td>\n",
       "      <td>Exo - Gare Saint-JÃ©rÃ´me</td>\n",
       "      <td>455 boul. Jean-Baptiste-Rolland</td>\n",
       "      <td>NaN</td>\n",
       "      <td>St-JÃ©rÃ´me</td>\n",
       "      <td>QC</td>\n",
       "      <td>J7Z 2H5</td>\n",
       "      <td>855-999-8378</td>\n",
       "      <td>E</td>\n",
       "      <td>Public</td>\n",
       "      <td>...</td>\n",
       "      <td>J1772</td>\n",
       "      <td>CA</td>\n",
       "      <td>NaN</td>\n",
       "      <td>Accessible 24 heures par jour</td>\n",
       "      <td>Public</td>\n",
       "      <td>public</td>\n",
       "      <td>NaN</td>\n",
       "      <td>NaN</td>\n",
       "      <td>NaN</td>\n",
       "      <td>NaN</td>\n",
       "    </tr>\n",
       "    <tr>\n",
       "      <th>871</th>\n",
       "      <td>ELEC</td>\n",
       "      <td>Ville de St-JÃ©rÃ´me - rue Labelle</td>\n",
       "      <td>255 Rue Labelle</td>\n",
       "      <td>NaN</td>\n",
       "      <td>St-JÃ©rÃ´me</td>\n",
       "      <td>QC</td>\n",
       "      <td>J7Z 5K8</td>\n",
       "      <td>888-356-8911</td>\n",
       "      <td>E</td>\n",
       "      <td>Public</td>\n",
       "      <td>...</td>\n",
       "      <td>J1772</td>\n",
       "      <td>CA</td>\n",
       "      <td>NaN</td>\n",
       "      <td>Accessible 24 heures par jour</td>\n",
       "      <td>Public</td>\n",
       "      <td>public</td>\n",
       "      <td>NaN</td>\n",
       "      <td>NaN</td>\n",
       "      <td>NaN</td>\n",
       "      <td>NaN</td>\n",
       "    </tr>\n",
       "    <tr>\n",
       "      <th>872</th>\n",
       "      <td>ELEC</td>\n",
       "      <td>CSSS SAINT-JÃRO</td>\n",
       "      <td>290 Rue de Montigny</td>\n",
       "      <td>BR-3\\nBR-4</td>\n",
       "      <td>Saint-JÃ©rÃ´me</td>\n",
       "      <td>QC</td>\n",
       "      <td>J7Z 5P9</td>\n",
       "      <td>888-758-4389</td>\n",
       "      <td>E</td>\n",
       "      <td>Public</td>\n",
       "      <td>...</td>\n",
       "      <td>J1772</td>\n",
       "      <td>CA</td>\n",
       "      <td>NaN</td>\n",
       "      <td>NaN</td>\n",
       "      <td>Public</td>\n",
       "      <td>public</td>\n",
       "      <td>NaN</td>\n",
       "      <td>NaN</td>\n",
       "      <td>Free</td>\n",
       "      <td>NaN</td>\n",
       "    </tr>\n",
       "    <tr>\n",
       "      <th>873</th>\n",
       "      <td>ELEC</td>\n",
       "      <td>Hydro-QuÃ©bec - St-JÃ©rÃ´me, 333 Jean-Paul-Hogue</td>\n",
       "      <td>333 Jean-Paul-Hogue</td>\n",
       "      <td>NaN</td>\n",
       "      <td>St-JÃ©rÃ´me</td>\n",
       "      <td>QC</td>\n",
       "      <td>J7Z 6Y3</td>\n",
       "      <td>855-999-8378</td>\n",
       "      <td>E</td>\n",
       "      <td>Public</td>\n",
       "      <td>...</td>\n",
       "      <td>J1772</td>\n",
       "      <td>CA</td>\n",
       "      <td>NaN</td>\n",
       "      <td>Accessible 24 heures par jour</td>\n",
       "      <td>Public</td>\n",
       "      <td>public</td>\n",
       "      <td>NaN</td>\n",
       "      <td>NaN</td>\n",
       "      <td>NaN</td>\n",
       "      <td>NaN</td>\n",
       "    </tr>\n",
       "  </tbody>\n",
       "</table>\n",
       "<p>874 rows × 34 columns</p>\n",
       "</div>"
      ],
      "text/plain": [
       "    ï»¿Fuel Type Code                                      Station Name  \\\n",
       "0                ELEC                               14001 Notre-Dame E.   \n",
       "1                ELEC                  Desjardins - Pointe-aux-Trembles   \n",
       "2                ELEC                                13150 Sherbrooke E   \n",
       "3                ELEC                   St-Hubert - Pointe-aux-Trembles   \n",
       "4                ELEC                                Parc MontrÃ©al-Est   \n",
       "..                ...                                               ...   \n",
       "869              ELEC                                    280 Rue Latour   \n",
       "870              ELEC                         Exo - Gare Saint-JÃ©rÃ´me   \n",
       "871              ELEC                Ville de St-JÃ©rÃ´me - rue Labelle   \n",
       "872              ELEC                                  CSSS SAINT-JÃRO   \n",
       "873              ELEC  Hydro-QuÃ©bec - St-JÃ©rÃ´me, 333 Jean-Paul-Hogue   \n",
       "\n",
       "                      Street Address Intersection Directions  \\\n",
       "0                14001 Notre-Dame E.                     NaN   \n",
       "1           13120 rue Sherbrooke Est                     NaN   \n",
       "2           13150 Rue Sherbrooke Est                     NaN   \n",
       "3           12575 rue Sherbrooke Est                     NaN   \n",
       "4                9839 rue Notre-Dame                     NaN   \n",
       "..                               ...                     ...   \n",
       "869                   280 Rue Latour                     NaN   \n",
       "870  455 boul. Jean-Baptiste-Rolland                     NaN   \n",
       "871                  255 Rue Labelle                     NaN   \n",
       "872              290 Rue de Montigny              BR-3\\nBR-4   \n",
       "873              333 Jean-Paul-Hogue                     NaN   \n",
       "\n",
       "                    City State      ZIP Station Phone Status Code  \\\n",
       "0              MontrÃ©al    QC  H1A 1T9  855-999-8378           E   \n",
       "1              MontrÃ©al    QC  H1A 3W2  855-999-8378           E   \n",
       "2              MontrÃ©al    QC  H1A 4B1  855-999-8378           E   \n",
       "3    Pointe-aux-Trembles    QC  H1B 1C8  855-999-8378           E   \n",
       "4          MontrÃ©al-Est    QC  H1B 2W6  855-999-8378           E   \n",
       "..                   ...   ...      ...           ...         ...   \n",
       "869       Saint-JÃ©rÃ´me    QC  J7Z 2G7  855-999-8378           E   \n",
       "870          St-JÃ©rÃ´me    QC  J7Z 2H5  855-999-8378           E   \n",
       "871          St-JÃ©rÃ´me    QC  J7Z 5K8  888-356-8911           E   \n",
       "872       Saint-JÃ©rÃ´me    QC  J7Z 5P9  888-758-4389           E   \n",
       "873          St-JÃ©rÃ´me    QC  J7Z 6Y3  855-999-8378           E   \n",
       "\n",
       "    Groups With Access Code  ...        EV Connector Types Country  \\\n",
       "0                    Public  ...                     J1772      CA   \n",
       "1                    Public  ...                     J1772      CA   \n",
       "2                    Public  ...                     J1772      CA   \n",
       "3                    Public  ...                     J1772      CA   \n",
       "4                    Public  ...                     J1772      CA   \n",
       "..                      ...  ...                       ...     ...   \n",
       "869                  Public  ...  CHADEMO J1772 J1772COMBO      CA   \n",
       "870                  Public  ...                     J1772      CA   \n",
       "871                  Public  ...                     J1772      CA   \n",
       "872                  Public  ...                     J1772      CA   \n",
       "873                  Public  ...                     J1772      CA   \n",
       "\n",
       "     Intersection Directions (French)      Access Days Time (French)  \\\n",
       "0                                 NaN  Accessible 24 heures par jour   \n",
       "1                                 NaN  Accessible 24 heures par jour   \n",
       "2                                 NaN  Accessible 24 heures par jour   \n",
       "3                                 NaN  Accessible 24 heures par jour   \n",
       "4                                 NaN  Accessible 24 heures par jour   \n",
       "..                                ...                            ...   \n",
       "869                               NaN  Accessible 24 heures par jour   \n",
       "870                               NaN  Accessible 24 heures par jour   \n",
       "871                               NaN  Accessible 24 heures par jour   \n",
       "872                               NaN                            NaN   \n",
       "873                               NaN  Accessible 24 heures par jour   \n",
       "\n",
       "    Groups With Access Code (French) Access Code Access Detail Code  \\\n",
       "0                             Public      public                NaN   \n",
       "1                             Public      public                NaN   \n",
       "2                             Public      public                NaN   \n",
       "3                             Public      public                NaN   \n",
       "4                             Public      public                NaN   \n",
       "..                               ...         ...                ...   \n",
       "869                           Public      public                NaN   \n",
       "870                           Public      public                NaN   \n",
       "871                           Public      public                NaN   \n",
       "872                           Public      public                NaN   \n",
       "873                           Public      public                NaN   \n",
       "\n",
       "     Facility Type  EV Pricing EV Pricing (French)  \n",
       "0              NaN         NaN                 NaN  \n",
       "1              NaN         NaN                 NaN  \n",
       "2              NaN         NaN                 NaN  \n",
       "3              NaN         NaN                 NaN  \n",
       "4              NaN         NaN                 NaN  \n",
       "..             ...         ...                 ...  \n",
       "869            NaN         NaN                 NaN  \n",
       "870            NaN         NaN                 NaN  \n",
       "871            NaN         NaN                 NaN  \n",
       "872            NaN        Free                 NaN  \n",
       "873            NaN         NaN                 NaN  \n",
       "\n",
       "[874 rows x 34 columns]"
      ]
     },
     "execution_count": 74,
     "metadata": {},
     "output_type": "execute_result"
    }
   ],
   "source": [
    "montreal_dataset\n"
   ]
  },
  {
   "cell_type": "markdown",
   "id": "complicated-investigation",
   "metadata": {},
   "source": [
    "We are more concerned about the coorelation of location and population of specific area"
   ]
  },
  {
   "cell_type": "code",
   "execution_count": 75,
   "id": "scenic-dealer",
   "metadata": {},
   "outputs": [],
   "source": [
    "# there are some string values that we are not conerned about right now (like Intersection Directions, Station Name)\n",
    "drop_columns = ['ï»¿Fuel Type Code',\n",
    "                'Intersection Directions',\n",
    "                'Station Name',\n",
    "                'Street Address',\n",
    "                #'ZIP',\n",
    "                'Station Phone',\n",
    "                'Status Code',\n",
    "                'Groups With Access Code',    # we are not concerned right now if the station can have credit card or not! We are concerned with the user demand!\n",
    "                'Cards Accepted',\n",
    "                'EV Network Web',             # Not interested in website url\n",
    "                'Geocode Status',             # its ignored since we are evaluating with longitude and latitude\n",
    "                'Date Last Confirmed',\n",
    "                'ID',\n",
    "                'Updated At',\n",
    "                'Owner Type Code',\n",
    "                'Open Date',\n",
    "                'Intersection Directions (French)',\n",
    "                'Access Days Time (French)',\t\n",
    "                'Groups With Access Code (French)',\n",
    "                'EV Pricing (French)',\n",
    "                ]"
   ]
  },
  {
   "cell_type": "code",
   "execution_count": 76,
   "id": "flexible-hearing",
   "metadata": {},
   "outputs": [],
   "source": [
    "montreal_dataset.drop(drop_columns,axis=1,inplace=True)"
   ]
  },
  {
   "cell_type": "code",
   "execution_count": 77,
   "id": "introductory-inspiration",
   "metadata": {},
   "outputs": [
    {
     "data": {
      "text/html": [
       "<div>\n",
       "<style scoped>\n",
       "    .dataframe tbody tr th:only-of-type {\n",
       "        vertical-align: middle;\n",
       "    }\n",
       "\n",
       "    .dataframe tbody tr th {\n",
       "        vertical-align: top;\n",
       "    }\n",
       "\n",
       "    .dataframe thead th {\n",
       "        text-align: right;\n",
       "    }\n",
       "</style>\n",
       "<table border=\"1\" class=\"dataframe\">\n",
       "  <thead>\n",
       "    <tr style=\"text-align: right;\">\n",
       "      <th></th>\n",
       "      <th>City</th>\n",
       "      <th>State</th>\n",
       "      <th>ZIP</th>\n",
       "      <th>Access Days Time</th>\n",
       "      <th>EV Level2 EVSE Num</th>\n",
       "      <th>EV DC Fast Count</th>\n",
       "      <th>EV Network</th>\n",
       "      <th>Latitude</th>\n",
       "      <th>Longitude</th>\n",
       "      <th>EV Connector Types</th>\n",
       "      <th>Country</th>\n",
       "      <th>Access Code</th>\n",
       "      <th>Access Detail Code</th>\n",
       "      <th>Facility Type</th>\n",
       "      <th>EV Pricing</th>\n",
       "    </tr>\n",
       "  </thead>\n",
       "  <tbody>\n",
       "    <tr>\n",
       "      <th>0</th>\n",
       "      <td>MontrÃ©al</td>\n",
       "      <td>QC</td>\n",
       "      <td>H1A 1T9</td>\n",
       "      <td>24 hours daily</td>\n",
       "      <td>2.0</td>\n",
       "      <td>NaN</td>\n",
       "      <td>Circuit Ã©lectrique</td>\n",
       "      <td>45.668567</td>\n",
       "      <td>-73.494620</td>\n",
       "      <td>J1772</td>\n",
       "      <td>CA</td>\n",
       "      <td>public</td>\n",
       "      <td>NaN</td>\n",
       "      <td>NaN</td>\n",
       "      <td>NaN</td>\n",
       "    </tr>\n",
       "    <tr>\n",
       "      <th>1</th>\n",
       "      <td>MontrÃ©al</td>\n",
       "      <td>QC</td>\n",
       "      <td>H1A 3W2</td>\n",
       "      <td>24 hours daily</td>\n",
       "      <td>1.0</td>\n",
       "      <td>NaN</td>\n",
       "      <td>Circuit Ã©lectrique</td>\n",
       "      <td>45.657335</td>\n",
       "      <td>-73.508256</td>\n",
       "      <td>J1772</td>\n",
       "      <td>CA</td>\n",
       "      <td>public</td>\n",
       "      <td>NaN</td>\n",
       "      <td>NaN</td>\n",
       "      <td>NaN</td>\n",
       "    </tr>\n",
       "    <tr>\n",
       "      <th>2</th>\n",
       "      <td>MontrÃ©al</td>\n",
       "      <td>QC</td>\n",
       "      <td>H1A 4B1</td>\n",
       "      <td>24 hours daily</td>\n",
       "      <td>2.0</td>\n",
       "      <td>NaN</td>\n",
       "      <td>Circuit Ã©lectrique</td>\n",
       "      <td>45.657871</td>\n",
       "      <td>-73.508430</td>\n",
       "      <td>J1772</td>\n",
       "      <td>CA</td>\n",
       "      <td>public</td>\n",
       "      <td>NaN</td>\n",
       "      <td>NaN</td>\n",
       "      <td>NaN</td>\n",
       "    </tr>\n",
       "    <tr>\n",
       "      <th>3</th>\n",
       "      <td>Pointe-aux-Trembles</td>\n",
       "      <td>QC</td>\n",
       "      <td>H1B 1C8</td>\n",
       "      <td>24 hours daily</td>\n",
       "      <td>1.0</td>\n",
       "      <td>NaN</td>\n",
       "      <td>Circuit Ã©lectrique</td>\n",
       "      <td>45.650494</td>\n",
       "      <td>-73.511673</td>\n",
       "      <td>J1772</td>\n",
       "      <td>CA</td>\n",
       "      <td>public</td>\n",
       "      <td>NaN</td>\n",
       "      <td>NaN</td>\n",
       "      <td>NaN</td>\n",
       "    </tr>\n",
       "    <tr>\n",
       "      <th>4</th>\n",
       "      <td>MontrÃ©al-Est</td>\n",
       "      <td>QC</td>\n",
       "      <td>H1B 2W6</td>\n",
       "      <td>24 hours daily</td>\n",
       "      <td>1.0</td>\n",
       "      <td>NaN</td>\n",
       "      <td>Circuit Ã©lectrique</td>\n",
       "      <td>45.612501</td>\n",
       "      <td>-73.510362</td>\n",
       "      <td>J1772</td>\n",
       "      <td>CA</td>\n",
       "      <td>public</td>\n",
       "      <td>NaN</td>\n",
       "      <td>NaN</td>\n",
       "      <td>NaN</td>\n",
       "    </tr>\n",
       "    <tr>\n",
       "      <th>...</th>\n",
       "      <td>...</td>\n",
       "      <td>...</td>\n",
       "      <td>...</td>\n",
       "      <td>...</td>\n",
       "      <td>...</td>\n",
       "      <td>...</td>\n",
       "      <td>...</td>\n",
       "      <td>...</td>\n",
       "      <td>...</td>\n",
       "      <td>...</td>\n",
       "      <td>...</td>\n",
       "      <td>...</td>\n",
       "      <td>...</td>\n",
       "      <td>...</td>\n",
       "      <td>...</td>\n",
       "    </tr>\n",
       "    <tr>\n",
       "      <th>869</th>\n",
       "      <td>Saint-JÃ©rÃ´me</td>\n",
       "      <td>QC</td>\n",
       "      <td>J7Z 2G7</td>\n",
       "      <td>24 hours daily</td>\n",
       "      <td>7.0</td>\n",
       "      <td>2.0</td>\n",
       "      <td>Circuit Ã©lectrique</td>\n",
       "      <td>45.773582</td>\n",
       "      <td>-73.999863</td>\n",
       "      <td>CHADEMO J1772 J1772COMBO</td>\n",
       "      <td>CA</td>\n",
       "      <td>public</td>\n",
       "      <td>NaN</td>\n",
       "      <td>NaN</td>\n",
       "      <td>NaN</td>\n",
       "    </tr>\n",
       "    <tr>\n",
       "      <th>870</th>\n",
       "      <td>St-JÃ©rÃ´me</td>\n",
       "      <td>QC</td>\n",
       "      <td>J7Z 2H5</td>\n",
       "      <td>24 hours daily</td>\n",
       "      <td>2.0</td>\n",
       "      <td>NaN</td>\n",
       "      <td>Circuit Ã©lectrique</td>\n",
       "      <td>45.771883</td>\n",
       "      <td>-73.996031</td>\n",
       "      <td>J1772</td>\n",
       "      <td>CA</td>\n",
       "      <td>public</td>\n",
       "      <td>NaN</td>\n",
       "      <td>NaN</td>\n",
       "      <td>NaN</td>\n",
       "    </tr>\n",
       "    <tr>\n",
       "      <th>871</th>\n",
       "      <td>St-JÃ©rÃ´me</td>\n",
       "      <td>QC</td>\n",
       "      <td>J7Z 5K8</td>\n",
       "      <td>24 hours daily</td>\n",
       "      <td>1.0</td>\n",
       "      <td>NaN</td>\n",
       "      <td>FLO</td>\n",
       "      <td>45.774653</td>\n",
       "      <td>-74.003878</td>\n",
       "      <td>J1772</td>\n",
       "      <td>CA</td>\n",
       "      <td>public</td>\n",
       "      <td>NaN</td>\n",
       "      <td>NaN</td>\n",
       "      <td>NaN</td>\n",
       "    </tr>\n",
       "    <tr>\n",
       "      <th>872</th>\n",
       "      <td>Saint-JÃ©rÃ´me</td>\n",
       "      <td>QC</td>\n",
       "      <td>J7Z 5P9</td>\n",
       "      <td>24 hours daily</td>\n",
       "      <td>4.0</td>\n",
       "      <td>NaN</td>\n",
       "      <td>ChargePoint Network</td>\n",
       "      <td>45.766680</td>\n",
       "      <td>-73.999248</td>\n",
       "      <td>J1772</td>\n",
       "      <td>CA</td>\n",
       "      <td>public</td>\n",
       "      <td>NaN</td>\n",
       "      <td>NaN</td>\n",
       "      <td>Free</td>\n",
       "    </tr>\n",
       "    <tr>\n",
       "      <th>873</th>\n",
       "      <td>St-JÃ©rÃ´me</td>\n",
       "      <td>QC</td>\n",
       "      <td>J7Z 6Y3</td>\n",
       "      <td>24 hours daily</td>\n",
       "      <td>1.0</td>\n",
       "      <td>NaN</td>\n",
       "      <td>Circuit Ã©lectrique</td>\n",
       "      <td>45.761751</td>\n",
       "      <td>-73.997054</td>\n",
       "      <td>J1772</td>\n",
       "      <td>CA</td>\n",
       "      <td>public</td>\n",
       "      <td>NaN</td>\n",
       "      <td>NaN</td>\n",
       "      <td>NaN</td>\n",
       "    </tr>\n",
       "  </tbody>\n",
       "</table>\n",
       "<p>874 rows × 15 columns</p>\n",
       "</div>"
      ],
      "text/plain": [
       "                    City State      ZIP Access Days Time  EV Level2 EVSE Num  \\\n",
       "0              MontrÃ©al    QC  H1A 1T9   24 hours daily                 2.0   \n",
       "1              MontrÃ©al    QC  H1A 3W2   24 hours daily                 1.0   \n",
       "2              MontrÃ©al    QC  H1A 4B1   24 hours daily                 2.0   \n",
       "3    Pointe-aux-Trembles    QC  H1B 1C8   24 hours daily                 1.0   \n",
       "4          MontrÃ©al-Est    QC  H1B 2W6   24 hours daily                 1.0   \n",
       "..                   ...   ...      ...              ...                 ...   \n",
       "869       Saint-JÃ©rÃ´me    QC  J7Z 2G7   24 hours daily                 7.0   \n",
       "870          St-JÃ©rÃ´me    QC  J7Z 2H5   24 hours daily                 2.0   \n",
       "871          St-JÃ©rÃ´me    QC  J7Z 5K8   24 hours daily                 1.0   \n",
       "872       Saint-JÃ©rÃ´me    QC  J7Z 5P9   24 hours daily                 4.0   \n",
       "873          St-JÃ©rÃ´me    QC  J7Z 6Y3   24 hours daily                 1.0   \n",
       "\n",
       "     EV DC Fast Count           EV Network   Latitude  Longitude  \\\n",
       "0                 NaN  Circuit Ã©lectrique  45.668567 -73.494620   \n",
       "1                 NaN  Circuit Ã©lectrique  45.657335 -73.508256   \n",
       "2                 NaN  Circuit Ã©lectrique  45.657871 -73.508430   \n",
       "3                 NaN  Circuit Ã©lectrique  45.650494 -73.511673   \n",
       "4                 NaN  Circuit Ã©lectrique  45.612501 -73.510362   \n",
       "..                ...                  ...        ...        ...   \n",
       "869               2.0  Circuit Ã©lectrique  45.773582 -73.999863   \n",
       "870               NaN  Circuit Ã©lectrique  45.771883 -73.996031   \n",
       "871               NaN                  FLO  45.774653 -74.003878   \n",
       "872               NaN  ChargePoint Network  45.766680 -73.999248   \n",
       "873               NaN  Circuit Ã©lectrique  45.761751 -73.997054   \n",
       "\n",
       "           EV Connector Types Country Access Code Access Detail Code  \\\n",
       "0                       J1772      CA      public                NaN   \n",
       "1                       J1772      CA      public                NaN   \n",
       "2                       J1772      CA      public                NaN   \n",
       "3                       J1772      CA      public                NaN   \n",
       "4                       J1772      CA      public                NaN   \n",
       "..                        ...     ...         ...                ...   \n",
       "869  CHADEMO J1772 J1772COMBO      CA      public                NaN   \n",
       "870                     J1772      CA      public                NaN   \n",
       "871                     J1772      CA      public                NaN   \n",
       "872                     J1772      CA      public                NaN   \n",
       "873                     J1772      CA      public                NaN   \n",
       "\n",
       "    Facility Type EV Pricing  \n",
       "0             NaN        NaN  \n",
       "1             NaN        NaN  \n",
       "2             NaN        NaN  \n",
       "3             NaN        NaN  \n",
       "4             NaN        NaN  \n",
       "..            ...        ...  \n",
       "869           NaN        NaN  \n",
       "870           NaN        NaN  \n",
       "871           NaN        NaN  \n",
       "872           NaN       Free  \n",
       "873           NaN        NaN  \n",
       "\n",
       "[874 rows x 15 columns]"
      ]
     },
     "execution_count": 77,
     "metadata": {},
     "output_type": "execute_result"
    }
   ],
   "source": [
    "montreal_dataset"
   ]
  },
  {
   "cell_type": "code",
   "execution_count": 78,
   "id": "eight-graduation",
   "metadata": {},
   "outputs": [
    {
     "data": {
      "text/plain": [
       "array(['QC'], dtype=object)"
      ]
     },
     "execution_count": 78,
     "metadata": {},
     "output_type": "execute_result"
    }
   ],
   "source": [
    "montreal_dataset['State'].unique() # this will be removed"
   ]
  },
  {
   "cell_type": "code",
   "execution_count": 79,
   "id": "white-antigua",
   "metadata": {},
   "outputs": [
    {
     "data": {
      "text/plain": [
       "array(['MontrÃ©al', 'Pointe-aux-Trembles', 'MontrÃ©al-Est', 'Montreal',\n",
       "       'MontrÃ©al-Nord', 'Anjou', 'Outremont', 'St-LÃ©onard',\n",
       "       'Montrâ\\x88\\x9aÂ©al', 'Saint-LÃ©onard', 'Ville-Marie', 'Verdun',\n",
       "       'Ile des Soeurs', 'Mont-Royal', 'Mount-Royal', 'Ville Mont-Royal',\n",
       "       'Westmount', 'Saint-Laurent', 'Ville St-Laurent', 'St-Laurent',\n",
       "       'Saint Laurent', 'Ville St Laurent', 'CÃ´te-Saint-Luc',\n",
       "       'Montreal-West', 'Dorval', 'Laval', 'LaSalle', 'Lasalle',\n",
       "       'Lasalla', 'Lachine', 'Pierrefonds', 'Dollard-des-ormeaux',\n",
       "       'Dollard-des-Ormeaux', 'Sainte-GeneviÃ¨ve', 'Kirkland',\n",
       "       'Pointe-Claire', 'Saint-Hyacinthe', 'Longueuil', 'Saint-Hubert',\n",
       "       'St-Hubert', 'Boucherville', 'Saint-Lambert', 'Saint Lambert',\n",
       "       'Greenfield Park', 'Brossard', 'Delson', 'Sainte-catherine',\n",
       "       'Sainte-Catherine', 'Saint-JÃ©rÃ´me', 'Repentigny', 'Charlemagne',\n",
       "       'Terrebonne', 'Lachenaie', 'BLAINVILLE', 'Blainville', 'Mirabel',\n",
       "       'Saint-Jerome', 'St-JÃ©rÃ´me', 'St-Jerome'], dtype=object)"
      ]
     },
     "execution_count": 79,
     "metadata": {},
     "output_type": "execute_result"
    }
   ],
   "source": [
    "montreal_dataset['City'].unique() # that will be removed"
   ]
  },
  {
   "cell_type": "code",
   "execution_count": 80,
   "id": "invisible-bunny",
   "metadata": {},
   "outputs": [
    {
     "data": {
      "text/plain": [
       "array(['CA'], dtype=object)"
      ]
     },
     "execution_count": 80,
     "metadata": {},
     "output_type": "execute_result"
    }
   ],
   "source": [
    "montreal_dataset['Country'].unique() # that will be removed"
   ]
  },
  {
   "cell_type": "markdown",
   "id": "civic-diploma",
   "metadata": {},
   "source": [
    "All connection types have J1772, difference is company name, but there will be same standards for charger port, however they might have variations in charging voltage"
   ]
  },
  {
   "cell_type": "code",
   "execution_count": 81,
   "id": "sixth-mission",
   "metadata": {},
   "outputs": [
    {
     "data": {
      "text/plain": [
       "array(['J1772', 'CHADEMO J1772 J1772COMBO', 'J1772 TESLA',\n",
       "       'CHADEMO J1772COMBO', 'TESLA', 'J1772COMBO', 'J1772 J1772COMBO',\n",
       "       'CHADEMO'], dtype=object)"
      ]
     },
     "execution_count": 81,
     "metadata": {},
     "output_type": "execute_result"
    }
   ],
   "source": [
    "montreal_dataset['EV Connector Types'].unique()"
   ]
  },
  {
   "cell_type": "code",
   "execution_count": 82,
   "id": "buried-restaurant",
   "metadata": {},
   "outputs": [],
   "source": [
    "remove_city_country_columns = ['Country','City','State']"
   ]
  },
  {
   "cell_type": "code",
   "execution_count": 83,
   "id": "subject-ground",
   "metadata": {},
   "outputs": [],
   "source": [
    "montreal_dataset.drop(remove_city_country_columns,axis=1,inplace=True)"
   ]
  },
  {
   "cell_type": "code",
   "execution_count": 84,
   "id": "guilty-liberia",
   "metadata": {},
   "outputs": [
    {
     "data": {
      "text/html": [
       "<div>\n",
       "<style scoped>\n",
       "    .dataframe tbody tr th:only-of-type {\n",
       "        vertical-align: middle;\n",
       "    }\n",
       "\n",
       "    .dataframe tbody tr th {\n",
       "        vertical-align: top;\n",
       "    }\n",
       "\n",
       "    .dataframe thead th {\n",
       "        text-align: right;\n",
       "    }\n",
       "</style>\n",
       "<table border=\"1\" class=\"dataframe\">\n",
       "  <thead>\n",
       "    <tr style=\"text-align: right;\">\n",
       "      <th></th>\n",
       "      <th>ZIP</th>\n",
       "      <th>Access Days Time</th>\n",
       "      <th>EV Level2 EVSE Num</th>\n",
       "      <th>EV DC Fast Count</th>\n",
       "      <th>EV Network</th>\n",
       "      <th>Latitude</th>\n",
       "      <th>Longitude</th>\n",
       "      <th>EV Connector Types</th>\n",
       "      <th>Access Code</th>\n",
       "      <th>Access Detail Code</th>\n",
       "      <th>Facility Type</th>\n",
       "      <th>EV Pricing</th>\n",
       "    </tr>\n",
       "  </thead>\n",
       "  <tbody>\n",
       "    <tr>\n",
       "      <th>0</th>\n",
       "      <td>H1A 1T9</td>\n",
       "      <td>24 hours daily</td>\n",
       "      <td>2.0</td>\n",
       "      <td>NaN</td>\n",
       "      <td>Circuit Ã©lectrique</td>\n",
       "      <td>45.668567</td>\n",
       "      <td>-73.494620</td>\n",
       "      <td>J1772</td>\n",
       "      <td>public</td>\n",
       "      <td>NaN</td>\n",
       "      <td>NaN</td>\n",
       "      <td>NaN</td>\n",
       "    </tr>\n",
       "    <tr>\n",
       "      <th>1</th>\n",
       "      <td>H1A 3W2</td>\n",
       "      <td>24 hours daily</td>\n",
       "      <td>1.0</td>\n",
       "      <td>NaN</td>\n",
       "      <td>Circuit Ã©lectrique</td>\n",
       "      <td>45.657335</td>\n",
       "      <td>-73.508256</td>\n",
       "      <td>J1772</td>\n",
       "      <td>public</td>\n",
       "      <td>NaN</td>\n",
       "      <td>NaN</td>\n",
       "      <td>NaN</td>\n",
       "    </tr>\n",
       "    <tr>\n",
       "      <th>2</th>\n",
       "      <td>H1A 4B1</td>\n",
       "      <td>24 hours daily</td>\n",
       "      <td>2.0</td>\n",
       "      <td>NaN</td>\n",
       "      <td>Circuit Ã©lectrique</td>\n",
       "      <td>45.657871</td>\n",
       "      <td>-73.508430</td>\n",
       "      <td>J1772</td>\n",
       "      <td>public</td>\n",
       "      <td>NaN</td>\n",
       "      <td>NaN</td>\n",
       "      <td>NaN</td>\n",
       "    </tr>\n",
       "    <tr>\n",
       "      <th>3</th>\n",
       "      <td>H1B 1C8</td>\n",
       "      <td>24 hours daily</td>\n",
       "      <td>1.0</td>\n",
       "      <td>NaN</td>\n",
       "      <td>Circuit Ã©lectrique</td>\n",
       "      <td>45.650494</td>\n",
       "      <td>-73.511673</td>\n",
       "      <td>J1772</td>\n",
       "      <td>public</td>\n",
       "      <td>NaN</td>\n",
       "      <td>NaN</td>\n",
       "      <td>NaN</td>\n",
       "    </tr>\n",
       "    <tr>\n",
       "      <th>4</th>\n",
       "      <td>H1B 2W6</td>\n",
       "      <td>24 hours daily</td>\n",
       "      <td>1.0</td>\n",
       "      <td>NaN</td>\n",
       "      <td>Circuit Ã©lectrique</td>\n",
       "      <td>45.612501</td>\n",
       "      <td>-73.510362</td>\n",
       "      <td>J1772</td>\n",
       "      <td>public</td>\n",
       "      <td>NaN</td>\n",
       "      <td>NaN</td>\n",
       "      <td>NaN</td>\n",
       "    </tr>\n",
       "    <tr>\n",
       "      <th>...</th>\n",
       "      <td>...</td>\n",
       "      <td>...</td>\n",
       "      <td>...</td>\n",
       "      <td>...</td>\n",
       "      <td>...</td>\n",
       "      <td>...</td>\n",
       "      <td>...</td>\n",
       "      <td>...</td>\n",
       "      <td>...</td>\n",
       "      <td>...</td>\n",
       "      <td>...</td>\n",
       "      <td>...</td>\n",
       "    </tr>\n",
       "    <tr>\n",
       "      <th>869</th>\n",
       "      <td>J7Z 2G7</td>\n",
       "      <td>24 hours daily</td>\n",
       "      <td>7.0</td>\n",
       "      <td>2.0</td>\n",
       "      <td>Circuit Ã©lectrique</td>\n",
       "      <td>45.773582</td>\n",
       "      <td>-73.999863</td>\n",
       "      <td>CHADEMO J1772 J1772COMBO</td>\n",
       "      <td>public</td>\n",
       "      <td>NaN</td>\n",
       "      <td>NaN</td>\n",
       "      <td>NaN</td>\n",
       "    </tr>\n",
       "    <tr>\n",
       "      <th>870</th>\n",
       "      <td>J7Z 2H5</td>\n",
       "      <td>24 hours daily</td>\n",
       "      <td>2.0</td>\n",
       "      <td>NaN</td>\n",
       "      <td>Circuit Ã©lectrique</td>\n",
       "      <td>45.771883</td>\n",
       "      <td>-73.996031</td>\n",
       "      <td>J1772</td>\n",
       "      <td>public</td>\n",
       "      <td>NaN</td>\n",
       "      <td>NaN</td>\n",
       "      <td>NaN</td>\n",
       "    </tr>\n",
       "    <tr>\n",
       "      <th>871</th>\n",
       "      <td>J7Z 5K8</td>\n",
       "      <td>24 hours daily</td>\n",
       "      <td>1.0</td>\n",
       "      <td>NaN</td>\n",
       "      <td>FLO</td>\n",
       "      <td>45.774653</td>\n",
       "      <td>-74.003878</td>\n",
       "      <td>J1772</td>\n",
       "      <td>public</td>\n",
       "      <td>NaN</td>\n",
       "      <td>NaN</td>\n",
       "      <td>NaN</td>\n",
       "    </tr>\n",
       "    <tr>\n",
       "      <th>872</th>\n",
       "      <td>J7Z 5P9</td>\n",
       "      <td>24 hours daily</td>\n",
       "      <td>4.0</td>\n",
       "      <td>NaN</td>\n",
       "      <td>ChargePoint Network</td>\n",
       "      <td>45.766680</td>\n",
       "      <td>-73.999248</td>\n",
       "      <td>J1772</td>\n",
       "      <td>public</td>\n",
       "      <td>NaN</td>\n",
       "      <td>NaN</td>\n",
       "      <td>Free</td>\n",
       "    </tr>\n",
       "    <tr>\n",
       "      <th>873</th>\n",
       "      <td>J7Z 6Y3</td>\n",
       "      <td>24 hours daily</td>\n",
       "      <td>1.0</td>\n",
       "      <td>NaN</td>\n",
       "      <td>Circuit Ã©lectrique</td>\n",
       "      <td>45.761751</td>\n",
       "      <td>-73.997054</td>\n",
       "      <td>J1772</td>\n",
       "      <td>public</td>\n",
       "      <td>NaN</td>\n",
       "      <td>NaN</td>\n",
       "      <td>NaN</td>\n",
       "    </tr>\n",
       "  </tbody>\n",
       "</table>\n",
       "<p>874 rows × 12 columns</p>\n",
       "</div>"
      ],
      "text/plain": [
       "         ZIP Access Days Time  EV Level2 EVSE Num  EV DC Fast Count  \\\n",
       "0    H1A 1T9   24 hours daily                 2.0               NaN   \n",
       "1    H1A 3W2   24 hours daily                 1.0               NaN   \n",
       "2    H1A 4B1   24 hours daily                 2.0               NaN   \n",
       "3    H1B 1C8   24 hours daily                 1.0               NaN   \n",
       "4    H1B 2W6   24 hours daily                 1.0               NaN   \n",
       "..       ...              ...                 ...               ...   \n",
       "869  J7Z 2G7   24 hours daily                 7.0               2.0   \n",
       "870  J7Z 2H5   24 hours daily                 2.0               NaN   \n",
       "871  J7Z 5K8   24 hours daily                 1.0               NaN   \n",
       "872  J7Z 5P9   24 hours daily                 4.0               NaN   \n",
       "873  J7Z 6Y3   24 hours daily                 1.0               NaN   \n",
       "\n",
       "              EV Network   Latitude  Longitude        EV Connector Types  \\\n",
       "0    Circuit Ã©lectrique  45.668567 -73.494620                     J1772   \n",
       "1    Circuit Ã©lectrique  45.657335 -73.508256                     J1772   \n",
       "2    Circuit Ã©lectrique  45.657871 -73.508430                     J1772   \n",
       "3    Circuit Ã©lectrique  45.650494 -73.511673                     J1772   \n",
       "4    Circuit Ã©lectrique  45.612501 -73.510362                     J1772   \n",
       "..                   ...        ...        ...                       ...   \n",
       "869  Circuit Ã©lectrique  45.773582 -73.999863  CHADEMO J1772 J1772COMBO   \n",
       "870  Circuit Ã©lectrique  45.771883 -73.996031                     J1772   \n",
       "871                  FLO  45.774653 -74.003878                     J1772   \n",
       "872  ChargePoint Network  45.766680 -73.999248                     J1772   \n",
       "873  Circuit Ã©lectrique  45.761751 -73.997054                     J1772   \n",
       "\n",
       "    Access Code Access Detail Code Facility Type EV Pricing  \n",
       "0        public                NaN           NaN        NaN  \n",
       "1        public                NaN           NaN        NaN  \n",
       "2        public                NaN           NaN        NaN  \n",
       "3        public                NaN           NaN        NaN  \n",
       "4        public                NaN           NaN        NaN  \n",
       "..          ...                ...           ...        ...  \n",
       "869      public                NaN           NaN        NaN  \n",
       "870      public                NaN           NaN        NaN  \n",
       "871      public                NaN           NaN        NaN  \n",
       "872      public                NaN           NaN       Free  \n",
       "873      public                NaN           NaN        NaN  \n",
       "\n",
       "[874 rows x 12 columns]"
      ]
     },
     "execution_count": 84,
     "metadata": {},
     "output_type": "execute_result"
    }
   ],
   "source": [
    "montreal_dataset # this is the final preprocessed dataset"
   ]
  },
  {
   "cell_type": "code",
   "execution_count": 85,
   "id": "checked-virtue",
   "metadata": {},
   "outputs": [
    {
     "data": {
      "text/plain": [
       "array(['24 hours daily',\n",
       "       '24 hours daily; for customer use only; see valet for access',\n",
       "       '24 hours daily; for customer use only',\n",
       "       '24 hours daily; see front desk for access',\n",
       "       '24 hours daily; for customer use only; see front desk for access',\n",
       "       '24 hours daily; pay lot; see valet for access',\n",
       "       '24 hours daily; for guest use only; see valet for access',\n",
       "       '24 hours daily; for guest use only', '24 hours daily; pay lot',\n",
       "       '24 hours daily; see valet for access',\n",
       "       '24 hours daily; for guest use only; see front desk for access',\n",
       "       'Dealership business hours', '24 hours daily; for Tesla use only',\n",
       "       '7am-11pm daily',\n",
       "       'MO: 12:00am-12:00am; TU: 12:00am-12:00am; WE: 12:00am-12:00am; TH: 12:00am-12:00am; FR: 12:00am-12:00am; SA: 12:00am-12:00am; SU: 12:00am-12:00am',\n",
       "       '10am-9pm M-F, 9am-5pm Sat-Sun',\n",
       "       'Dealership business hours; for client use only',\n",
       "       '9am-6pm M-W; 9am-9pm Th-F; 9am-4pm Sat'], dtype=object)"
      ]
     },
     "execution_count": 85,
     "metadata": {},
     "output_type": "execute_result"
    }
   ],
   "source": [
    "montreal_dataset['Access Days Time'].unique()"
   ]
  },
  {
   "cell_type": "code",
   "execution_count": 86,
   "id": "defensive-fabric",
   "metadata": {},
   "outputs": [],
   "source": [
    "#Doing some analytics on EVSE level2, Fast DC Count and Type of Building"
   ]
  },
  {
   "cell_type": "markdown",
   "id": "developed-branch",
   "metadata": {},
   "source": [
    "First checking relation between EV Level2 EVSE Num and EV DC Fast Count"
   ]
  },
  {
   "cell_type": "code",
   "execution_count": 87,
   "id": "necessary-donna",
   "metadata": {},
   "outputs": [
    {
     "data": {
      "text/plain": [
       "array([ 2.,  1.,  4.,  8., nan,  3.,  6., 10.,  7., 12., 11.,  5., 25.,\n",
       "       15.,  9.])"
      ]
     },
     "execution_count": 87,
     "metadata": {},
     "output_type": "execute_result"
    }
   ],
   "source": [
    "montreal_dataset['EV Level2 EVSE Num'].unique()"
   ]
  },
  {
   "cell_type": "code",
   "execution_count": 88,
   "id": "surprising-scott",
   "metadata": {},
   "outputs": [
    {
     "data": {
      "text/plain": [
       "array([nan,  2.,  1.,  4., 12., 20.,  3.,  5.])"
      ]
     },
     "execution_count": 88,
     "metadata": {},
     "output_type": "execute_result"
    }
   ],
   "source": [
    "montreal_dataset['EV DC Fast Count'].unique()"
   ]
  },
  {
   "cell_type": "markdown",
   "id": "stable-maria",
   "metadata": {},
   "source": [
    "Checking in plotly as how values correlate with each other"
   ]
  },
  {
   "cell_type": "code",
   "execution_count": 89,
   "id": "executive-bikini",
   "metadata": {},
   "outputs": [
    {
     "data": {
      "image/png": "[encoded data removed]",
      "text/plain": [
       "<Figure size 432x288 with 1 Axes>"
      ]
     },
     "metadata": {
      "needs_background": "light"
     },
     "output_type": "display_data"
    }
   ],
   "source": [
    "plt.scatter(montreal_dataset['EV Level2 EVSE Num'],montreal_dataset['EV DC Fast Count'],c='black')\n",
    "plt.xlabel(\"EV Level2 EVSE Num\")\n",
    "plt.ylabel(\"EV DC Fast Count\")\n",
    "plt.show()"
   ]
  },
  {
   "cell_type": "code",
   "execution_count": 90,
   "id": "romantic-contractor",
   "metadata": {},
   "outputs": [],
   "source": [
    "analysis = montreal_dataset[['EV Level2 EVSE Num','EV DC Fast Count']]"
   ]
  },
  {
   "cell_type": "code",
   "execution_count": 91,
   "id": "collected-prototype",
   "metadata": {},
   "outputs": [
    {
     "data": {
      "text/html": [
       "<div>\n",
       "<style scoped>\n",
       "    .dataframe tbody tr th:only-of-type {\n",
       "        vertical-align: middle;\n",
       "    }\n",
       "\n",
       "    .dataframe tbody tr th {\n",
       "        vertical-align: top;\n",
       "    }\n",
       "\n",
       "    .dataframe thead th {\n",
       "        text-align: right;\n",
       "    }\n",
       "</style>\n",
       "<table border=\"1\" class=\"dataframe\">\n",
       "  <thead>\n",
       "    <tr style=\"text-align: right;\">\n",
       "      <th></th>\n",
       "      <th>EV Level2 EVSE Num</th>\n",
       "      <th>EV DC Fast Count</th>\n",
       "    </tr>\n",
       "  </thead>\n",
       "  <tbody>\n",
       "    <tr>\n",
       "      <th>0</th>\n",
       "      <td>2.0</td>\n",
       "      <td>NaN</td>\n",
       "    </tr>\n",
       "    <tr>\n",
       "      <th>1</th>\n",
       "      <td>1.0</td>\n",
       "      <td>NaN</td>\n",
       "    </tr>\n",
       "    <tr>\n",
       "      <th>2</th>\n",
       "      <td>2.0</td>\n",
       "      <td>NaN</td>\n",
       "    </tr>\n",
       "    <tr>\n",
       "      <th>3</th>\n",
       "      <td>1.0</td>\n",
       "      <td>NaN</td>\n",
       "    </tr>\n",
       "    <tr>\n",
       "      <th>4</th>\n",
       "      <td>1.0</td>\n",
       "      <td>NaN</td>\n",
       "    </tr>\n",
       "    <tr>\n",
       "      <th>...</th>\n",
       "      <td>...</td>\n",
       "      <td>...</td>\n",
       "    </tr>\n",
       "    <tr>\n",
       "      <th>869</th>\n",
       "      <td>7.0</td>\n",
       "      <td>2.0</td>\n",
       "    </tr>\n",
       "    <tr>\n",
       "      <th>870</th>\n",
       "      <td>2.0</td>\n",
       "      <td>NaN</td>\n",
       "    </tr>\n",
       "    <tr>\n",
       "      <th>871</th>\n",
       "      <td>1.0</td>\n",
       "      <td>NaN</td>\n",
       "    </tr>\n",
       "    <tr>\n",
       "      <th>872</th>\n",
       "      <td>4.0</td>\n",
       "      <td>NaN</td>\n",
       "    </tr>\n",
       "    <tr>\n",
       "      <th>873</th>\n",
       "      <td>1.0</td>\n",
       "      <td>NaN</td>\n",
       "    </tr>\n",
       "  </tbody>\n",
       "</table>\n",
       "<p>874 rows × 2 columns</p>\n",
       "</div>"
      ],
      "text/plain": [
       "     EV Level2 EVSE Num  EV DC Fast Count\n",
       "0                   2.0               NaN\n",
       "1                   1.0               NaN\n",
       "2                   2.0               NaN\n",
       "3                   1.0               NaN\n",
       "4                   1.0               NaN\n",
       "..                  ...               ...\n",
       "869                 7.0               2.0\n",
       "870                 2.0               NaN\n",
       "871                 1.0               NaN\n",
       "872                 4.0               NaN\n",
       "873                 1.0               NaN\n",
       "\n",
       "[874 rows x 2 columns]"
      ]
     },
     "execution_count": 91,
     "metadata": {},
     "output_type": "execute_result"
    }
   ],
   "source": [
    "analysis"
   ]
  },
  {
   "cell_type": "markdown",
   "id": "laden-mercury",
   "metadata": {},
   "source": [
    "This shows that EV Level2 EVSE Num has 2.0 correlating with EV DC Fast Count of value 12 (maximum)"
   ]
  },
  {
   "cell_type": "code",
   "execution_count": 92,
   "id": "political-vacation",
   "metadata": {},
   "outputs": [
    {
     "data": {
      "text/plain": [
       "EV Level2 EVSE Num\n",
       "1.0      5\n",
       "2.0     12\n",
       "3.0      0\n",
       "4.0      2\n",
       "5.0      0\n",
       "6.0      0\n",
       "7.0      1\n",
       "8.0      0\n",
       "9.0      0\n",
       "10.0     0\n",
       "11.0     0\n",
       "12.0     0\n",
       "15.0     0\n",
       "25.0     0\n",
       "Name: EV DC Fast Count, dtype: int64"
      ]
     },
     "execution_count": 92,
     "metadata": {},
     "output_type": "execute_result"
    }
   ],
   "source": [
    "montreal_dataset.groupby(['EV Level2 EVSE Num'])['EV DC Fast Count'].count()"
   ]
  },
  {
   "cell_type": "code",
   "execution_count": 93,
   "id": "handled-train",
   "metadata": {},
   "outputs": [],
   "source": [
    "# montreal_dataset.groupby(['EV Level2 EVSE Num'])['EV DC Fast Count'].count().describe()"
   ]
  },
  {
   "cell_type": "code",
   "execution_count": 94,
   "id": "preceding-boutique",
   "metadata": {},
   "outputs": [],
   "source": [
    "analytics2 = montreal_dataset[[\"EV Level2 EVSE Num\",\"EV DC Fast Count\",\"Facility Type\"]]"
   ]
  },
  {
   "cell_type": "code",
   "execution_count": 95,
   "id": "affected-estate",
   "metadata": {},
   "outputs": [
    {
     "data": {
      "text/html": [
       "<div>\n",
       "<style scoped>\n",
       "    .dataframe tbody tr th:only-of-type {\n",
       "        vertical-align: middle;\n",
       "    }\n",
       "\n",
       "    .dataframe tbody tr th {\n",
       "        vertical-align: top;\n",
       "    }\n",
       "\n",
       "    .dataframe thead th {\n",
       "        text-align: right;\n",
       "    }\n",
       "</style>\n",
       "<table border=\"1\" class=\"dataframe\">\n",
       "  <thead>\n",
       "    <tr style=\"text-align: right;\">\n",
       "      <th></th>\n",
       "      <th>EV Level2 EVSE Num</th>\n",
       "      <th>EV DC Fast Count</th>\n",
       "      <th>Facility Type</th>\n",
       "    </tr>\n",
       "  </thead>\n",
       "  <tbody>\n",
       "    <tr>\n",
       "      <th>0</th>\n",
       "      <td>2.0</td>\n",
       "      <td>NaN</td>\n",
       "      <td>NaN</td>\n",
       "    </tr>\n",
       "    <tr>\n",
       "      <th>1</th>\n",
       "      <td>1.0</td>\n",
       "      <td>NaN</td>\n",
       "      <td>NaN</td>\n",
       "    </tr>\n",
       "    <tr>\n",
       "      <th>2</th>\n",
       "      <td>2.0</td>\n",
       "      <td>NaN</td>\n",
       "      <td>NaN</td>\n",
       "    </tr>\n",
       "    <tr>\n",
       "      <th>3</th>\n",
       "      <td>1.0</td>\n",
       "      <td>NaN</td>\n",
       "      <td>NaN</td>\n",
       "    </tr>\n",
       "    <tr>\n",
       "      <th>4</th>\n",
       "      <td>1.0</td>\n",
       "      <td>NaN</td>\n",
       "      <td>NaN</td>\n",
       "    </tr>\n",
       "    <tr>\n",
       "      <th>...</th>\n",
       "      <td>...</td>\n",
       "      <td>...</td>\n",
       "      <td>...</td>\n",
       "    </tr>\n",
       "    <tr>\n",
       "      <th>869</th>\n",
       "      <td>7.0</td>\n",
       "      <td>2.0</td>\n",
       "      <td>NaN</td>\n",
       "    </tr>\n",
       "    <tr>\n",
       "      <th>870</th>\n",
       "      <td>2.0</td>\n",
       "      <td>NaN</td>\n",
       "      <td>NaN</td>\n",
       "    </tr>\n",
       "    <tr>\n",
       "      <th>871</th>\n",
       "      <td>1.0</td>\n",
       "      <td>NaN</td>\n",
       "      <td>NaN</td>\n",
       "    </tr>\n",
       "    <tr>\n",
       "      <th>872</th>\n",
       "      <td>4.0</td>\n",
       "      <td>NaN</td>\n",
       "      <td>NaN</td>\n",
       "    </tr>\n",
       "    <tr>\n",
       "      <th>873</th>\n",
       "      <td>1.0</td>\n",
       "      <td>NaN</td>\n",
       "      <td>NaN</td>\n",
       "    </tr>\n",
       "  </tbody>\n",
       "</table>\n",
       "<p>874 rows × 3 columns</p>\n",
       "</div>"
      ],
      "text/plain": [
       "     EV Level2 EVSE Num  EV DC Fast Count Facility Type\n",
       "0                   2.0               NaN           NaN\n",
       "1                   1.0               NaN           NaN\n",
       "2                   2.0               NaN           NaN\n",
       "3                   1.0               NaN           NaN\n",
       "4                   1.0               NaN           NaN\n",
       "..                  ...               ...           ...\n",
       "869                 7.0               2.0           NaN\n",
       "870                 2.0               NaN           NaN\n",
       "871                 1.0               NaN           NaN\n",
       "872                 4.0               NaN           NaN\n",
       "873                 1.0               NaN           NaN\n",
       "\n",
       "[874 rows x 3 columns]"
      ]
     },
     "execution_count": 95,
     "metadata": {},
     "output_type": "execute_result"
    }
   ],
   "source": [
    "analytics2"
   ]
  },
  {
   "cell_type": "code",
   "execution_count": 96,
   "id": "broadband-dakota",
   "metadata": {},
   "outputs": [
    {
     "data": {
      "text/plain": [
       "EV Level2 EVSE Num\n",
       "1.0      9\n",
       "2.0     14\n",
       "3.0     11\n",
       "4.0      2\n",
       "5.0      1\n",
       "6.0      2\n",
       "7.0      0\n",
       "8.0      2\n",
       "9.0      1\n",
       "10.0     0\n",
       "11.0     0\n",
       "12.0     3\n",
       "15.0     0\n",
       "25.0     1\n",
       "Name: Facility Type, dtype: int64"
      ]
     },
     "execution_count": 96,
     "metadata": {},
     "output_type": "execute_result"
    }
   ],
   "source": [
    "montreal_dataset.groupby(['EV Level2 EVSE Num'])['Facility Type'].count()"
   ]
  },
  {
   "cell_type": "code",
   "execution_count": 97,
   "id": "significant-binary",
   "metadata": {},
   "outputs": [
    {
     "data": {
      "text/plain": [
       "EV Level2 EVSE Num\n",
       "1.0       [nan, HOSPITAL, HOTEL, OFFICE_BLDG, CAR_DEALER]\n",
       "2.0     [nan, RESTAURANT, HOTEL, OFFICE_BLDG, HOSPITAL...\n",
       "3.0     [nan, HOTEL, TRAVEL_CENTER, OTHER, CAR_DEALER,...\n",
       "4.0                                          [nan, HOTEL]\n",
       "5.0                                          [nan, HOTEL]\n",
       "6.0                             [nan, OFFICE_BLDG, HOTEL]\n",
       "7.0                                                 [nan]\n",
       "8.0                                          [nan, HOTEL]\n",
       "9.0                                          [nan, HOTEL]\n",
       "10.0                                                [nan]\n",
       "11.0                                                [nan]\n",
       "12.0                                  [HOTEL, PAY_GARAGE]\n",
       "15.0                                                [nan]\n",
       "25.0                                         [PAY_GARAGE]\n",
       "Name: Facility Type, dtype: object"
      ]
     },
     "execution_count": 97,
     "metadata": {},
     "output_type": "execute_result"
    }
   ],
   "source": [
    "montreal_dataset.groupby(['EV Level2 EVSE Num'])['Facility Type'].unique()"
   ]
  },
  {
   "cell_type": "code",
   "execution_count": 98,
   "id": "amazing-coating",
   "metadata": {},
   "outputs": [
    {
     "data": {
      "text/plain": [
       "EV Level2 EVSE Num\n",
       "1.0     4\n",
       "2.0     6\n",
       "3.0     6\n",
       "4.0     1\n",
       "5.0     1\n",
       "6.0     2\n",
       "7.0     0\n",
       "8.0     1\n",
       "9.0     1\n",
       "10.0    0\n",
       "11.0    0\n",
       "12.0    2\n",
       "15.0    0\n",
       "25.0    1\n",
       "Name: Facility Type, dtype: int64"
      ]
     },
     "execution_count": 98,
     "metadata": {},
     "output_type": "execute_result"
    }
   ],
   "source": [
    "montreal_dataset.groupby(['EV Level2 EVSE Num'])['Facility Type'].nunique()"
   ]
  },
  {
   "cell_type": "code",
   "execution_count": 99,
   "id": "associate-timing",
   "metadata": {},
   "outputs": [
    {
     "data": {
      "text/plain": [
       "Facility Type\n",
       "CAR_DEALER              5\n",
       "GAS_STATION             0\n",
       "HOSPITAL                3\n",
       "HOTEL                  24\n",
       "OFFICE_BLDG             4\n",
       "OTHER                   1\n",
       "PAY_GARAGE              2\n",
       "REC_SPORTS_FACILITY     1\n",
       "RESTAURANT              3\n",
       "SHOPPING_CENTER         2\n",
       "TRAVEL_CENTER           1\n",
       "Name: EV Level2 EVSE Num, dtype: int64"
      ]
     },
     "execution_count": 99,
     "metadata": {},
     "output_type": "execute_result"
    }
   ],
   "source": [
    "montreal_dataset.groupby(['Facility Type'])['EV Level2 EVSE Num'].count()"
   ]
  },
  {
   "cell_type": "code",
   "execution_count": 100,
   "id": "ordinary-theta",
   "metadata": {},
   "outputs": [
    {
     "data": {
      "text/plain": [
       "Facility Type\n",
       "CAR_DEALER                                            [3.0, 1.0, 2.0]\n",
       "GAS_STATION                                                     [nan]\n",
       "HOSPITAL                                                   [1.0, 2.0]\n",
       "HOTEL                  [12.0, 3.0, 2.0, 1.0, 8.0, 9.0, 6.0, 4.0, 5.0]\n",
       "OFFICE_BLDG                                           [1.0, 2.0, 6.0]\n",
       "OTHER                                                           [3.0]\n",
       "PAY_GARAGE                                               [25.0, 12.0]\n",
       "REC_SPORTS_FACILITY                                             [3.0]\n",
       "RESTAURANT                                            [2.0, 3.0, nan]\n",
       "SHOPPING_CENTER                                                 [2.0]\n",
       "TRAVEL_CENTER                                                   [3.0]\n",
       "Name: EV Level2 EVSE Num, dtype: object"
      ]
     },
     "execution_count": 100,
     "metadata": {},
     "output_type": "execute_result"
    }
   ],
   "source": [
    "montreal_dataset.groupby(['Facility Type'])['EV Level2 EVSE Num'].unique()"
   ]
  },
  {
   "cell_type": "code",
   "execution_count": 101,
   "id": "supreme-prevention",
   "metadata": {},
   "outputs": [
    {
     "data": {
      "text/plain": [
       "Facility Type\n",
       "CAR_DEALER             0\n",
       "GAS_STATION            1\n",
       "HOSPITAL               0\n",
       "HOTEL                  0\n",
       "OFFICE_BLDG            0\n",
       "OTHER                  0\n",
       "PAY_GARAGE             0\n",
       "REC_SPORTS_FACILITY    0\n",
       "RESTAURANT             1\n",
       "SHOPPING_CENTER        0\n",
       "TRAVEL_CENTER          0\n",
       "Name: EV DC Fast Count, dtype: int64"
      ]
     },
     "execution_count": 101,
     "metadata": {},
     "output_type": "execute_result"
    }
   ],
   "source": [
    "montreal_dataset.groupby(['Facility Type'])['EV DC Fast Count'].count()"
   ]
  },
  {
   "cell_type": "code",
   "execution_count": 102,
   "id": "indonesian-hurricane",
   "metadata": {},
   "outputs": [
    {
     "data": {
      "text/plain": [
       "Facility Type\n",
       "CAR_DEALER                  [nan]\n",
       "GAS_STATION                 [1.0]\n",
       "HOSPITAL                    [nan]\n",
       "HOTEL                       [nan]\n",
       "OFFICE_BLDG                 [nan]\n",
       "OTHER                       [nan]\n",
       "PAY_GARAGE                  [nan]\n",
       "REC_SPORTS_FACILITY         [nan]\n",
       "RESTAURANT             [nan, 2.0]\n",
       "SHOPPING_CENTER             [nan]\n",
       "TRAVEL_CENTER               [nan]\n",
       "Name: EV DC Fast Count, dtype: object"
      ]
     },
     "execution_count": 102,
     "metadata": {},
     "output_type": "execute_result"
    }
   ],
   "source": [
    "montreal_dataset.groupby(['Facility Type'])['EV DC Fast Count'].unique()"
   ]
  },
  {
   "cell_type": "code",
   "execution_count": 103,
   "id": "widespread-proportion",
   "metadata": {},
   "outputs": [],
   "source": [
    "#Using K-means clustering: Algorithm implementation"
   ]
  },
  {
   "cell_type": "markdown",
   "id": "varying-soviet",
   "metadata": {},
   "source": [
    "Checking NA values in dataset"
   ]
  },
  {
   "cell_type": "code",
   "execution_count": 104,
   "id": "unknown-sherman",
   "metadata": {},
   "outputs": [
    {
     "data": {
      "text/plain": [
       "ZIP                   False\n",
       "Access Days Time      False\n",
       "EV Level2 EVSE Num     True\n",
       "EV DC Fast Count       True\n",
       "EV Network            False\n",
       "Latitude              False\n",
       "Longitude             False\n",
       "EV Connector Types    False\n",
       "Access Code           False\n",
       "Access Detail Code     True\n",
       "Facility Type          True\n",
       "EV Pricing             True\n",
       "dtype: bool"
      ]
     },
     "execution_count": 104,
     "metadata": {},
     "output_type": "execute_result"
    }
   ],
   "source": [
    "montreal_dataset.isnull().any()"
   ]
  },
  {
   "cell_type": "code",
   "execution_count": 105,
   "id": "formed-surgery",
   "metadata": {},
   "outputs": [],
   "source": [
    "#Data Imputation"
   ]
  },
  {
   "cell_type": "markdown",
   "id": "legislative-disclaimer",
   "metadata": {},
   "source": [
    "Found some Null / Na Values, going to imputate them for clustering"
   ]
  },
  {
   "cell_type": "code",
   "execution_count": 106,
   "id": "actual-spirituality",
   "metadata": {},
   "outputs": [
    {
     "data": {
      "text/plain": [
       "2.0"
      ]
     },
     "execution_count": 106,
     "metadata": {},
     "output_type": "execute_result"
    }
   ],
   "source": [
    "montreal_dataset['EV DC Fast Count'].median()"
   ]
  },
  {
   "cell_type": "code",
   "execution_count": 107,
   "id": "resident-bachelor",
   "metadata": {},
   "outputs": [],
   "source": [
    "montreal_dataset['EV DC Fast Count'].fillna(stats.mode(montreal_dataset[\"EV DC Fast Count\"])[0][0],inplace=True)"
   ]
  },
  {
   "cell_type": "code",
   "execution_count": 108,
   "id": "employed-garbage",
   "metadata": {},
   "outputs": [
    {
     "data": {
      "text/plain": [
       "0      1.0\n",
       "1      1.0\n",
       "2      1.0\n",
       "3      1.0\n",
       "4      1.0\n",
       "      ... \n",
       "869    2.0\n",
       "870    1.0\n",
       "871    1.0\n",
       "872    1.0\n",
       "873    1.0\n",
       "Name: EV DC Fast Count, Length: 874, dtype: float64"
      ]
     },
     "execution_count": 108,
     "metadata": {},
     "output_type": "execute_result"
    }
   ],
   "source": [
    "montreal_dataset[\"EV DC Fast Count\"]"
   ]
  },
  {
   "cell_type": "code",
   "execution_count": 109,
   "id": "sporting-entry",
   "metadata": {},
   "outputs": [],
   "source": [
    "montreal_dataset.fillna(montreal_dataset.median(),inplace=True)"
   ]
  },
  {
   "cell_type": "markdown",
   "id": "simplified-blackjack",
   "metadata": {},
   "source": [
    "Found again some Null values, they are string"
   ]
  },
  {
   "cell_type": "code",
   "execution_count": 110,
   "id": "funky-winner",
   "metadata": {},
   "outputs": [
    {
     "data": {
      "text/plain": [
       "ZIP                   False\n",
       "Access Days Time      False\n",
       "EV Level2 EVSE Num    False\n",
       "EV DC Fast Count      False\n",
       "EV Network            False\n",
       "Latitude              False\n",
       "Longitude             False\n",
       "EV Connector Types    False\n",
       "Access Code           False\n",
       "Access Detail Code     True\n",
       "Facility Type          True\n",
       "EV Pricing             True\n",
       "dtype: bool"
      ]
     },
     "execution_count": 110,
     "metadata": {},
     "output_type": "execute_result"
    }
   ],
   "source": [
    "montreal_dataset.isna().any()"
   ]
  },
  {
   "cell_type": "markdown",
   "id": "judicial-portfolio",
   "metadata": {},
   "source": [
    "Dtype object means string values"
   ]
  },
  {
   "cell_type": "code",
   "execution_count": 111,
   "id": "executed-receiver",
   "metadata": {},
   "outputs": [
    {
     "name": "stdout",
     "output_type": "stream",
     "text": [
      "<class 'pandas.core.frame.DataFrame'>\n",
      "RangeIndex: 874 entries, 0 to 873\n",
      "Data columns (total 12 columns):\n",
      " #   Column              Non-Null Count  Dtype  \n",
      "---  ------              --------------  -----  \n",
      " 0   ZIP                 874 non-null    object \n",
      " 1   Access Days Time    874 non-null    object \n",
      " 2   EV Level2 EVSE Num  874 non-null    float64\n",
      " 3   EV DC Fast Count    874 non-null    float64\n",
      " 4   EV Network          874 non-null    object \n",
      " 5   Latitude            874 non-null    float64\n",
      " 6   Longitude           874 non-null    float64\n",
      " 7   EV Connector Types  874 non-null    object \n",
      " 8   Access Code         874 non-null    object \n",
      " 9   Access Detail Code  3 non-null      object \n",
      " 10  Facility Type       48 non-null     object \n",
      " 11  EV Pricing          103 non-null    object \n",
      "dtypes: float64(4), object(8)\n",
      "memory usage: 82.1+ KB\n"
     ]
    }
   ],
   "source": [
    "montreal_dataset.info()"
   ]
  },
  {
   "cell_type": "code",
   "execution_count": 112,
   "id": "measured-camcorder",
   "metadata": {},
   "outputs": [
    {
     "data": {
      "text/plain": [
       "array(['Circuit Ã©lectrique', 'FLO', 'Tesla Destination',\n",
       "       'ChargePoint Network', 'Non-Networked', 'Tesla',\n",
       "       'SemaCharge Network', 'CHARGELAB'], dtype=object)"
      ]
     },
     "execution_count": 112,
     "metadata": {},
     "output_type": "execute_result"
    }
   ],
   "source": [
    "montreal_dataset['EV Network'].unique()"
   ]
  },
  {
   "cell_type": "code",
   "execution_count": 113,
   "id": "special-stone",
   "metadata": {},
   "outputs": [
    {
     "data": {
      "text/plain": [
       "array([nan, 'CALL', 'CREDIT_CARD_ALWAYS'], dtype=object)"
      ]
     },
     "execution_count": 113,
     "metadata": {},
     "output_type": "execute_result"
    }
   ],
   "source": [
    "montreal_dataset['Access Detail Code'].unique()"
   ]
  },
  {
   "cell_type": "code",
   "execution_count": 114,
   "id": "purple-concept",
   "metadata": {},
   "outputs": [
    {
     "data": {
      "text/plain": [
       "array(['public'], dtype=object)"
      ]
     },
     "execution_count": 114,
     "metadata": {},
     "output_type": "execute_result"
    }
   ],
   "source": [
    "montreal_dataset['Access Code'].unique()"
   ]
  },
  {
   "cell_type": "code",
   "execution_count": 115,
   "id": "threaded-bernard",
   "metadata": {},
   "outputs": [
    {
     "data": {
      "text/plain": [
       "array(['J1772', 'CHADEMO J1772 J1772COMBO', 'J1772 TESLA',\n",
       "       'CHADEMO J1772COMBO', 'TESLA', 'J1772COMBO', 'J1772 J1772COMBO',\n",
       "       'CHADEMO'], dtype=object)"
      ]
     },
     "execution_count": 115,
     "metadata": {},
     "output_type": "execute_result"
    }
   ],
   "source": [
    "montreal_dataset['EV Connector Types'].unique()"
   ]
  },
  {
   "cell_type": "markdown",
   "id": "continental-special",
   "metadata": {},
   "source": [
    "Changing all EV Connector Types value to J1772"
   ]
  },
  {
   "cell_type": "code",
   "execution_count": 116,
   "id": "broadband-behavior",
   "metadata": {},
   "outputs": [],
   "source": [
    "montreal_dataset.loc[(montreal_dataset['EV Connector Types'] != 'J1772'), 'EV Connector Types'] = 'J1772'"
   ]
  },
  {
   "cell_type": "code",
   "execution_count": 117,
   "id": "million-bowling",
   "metadata": {},
   "outputs": [
    {
     "data": {
      "text/plain": [
       "array(['J1772'], dtype=object)"
      ]
     },
     "execution_count": 117,
     "metadata": {},
     "output_type": "execute_result"
    }
   ],
   "source": [
    "montreal_dataset['EV Connector Types'].unique()"
   ]
  },
  {
   "cell_type": "code",
   "execution_count": 118,
   "id": "deadly-schedule",
   "metadata": {},
   "outputs": [
    {
     "data": {
      "text/plain": [
       "874"
      ]
     },
     "execution_count": 118,
     "metadata": {},
     "output_type": "execute_result"
    }
   ],
   "source": [
    "montreal_dataset['EV Connector Types'].count()"
   ]
  },
  {
   "cell_type": "code",
   "execution_count": 119,
   "id": "extreme-factor",
   "metadata": {},
   "outputs": [
    {
     "data": {
      "text/html": [
       "<div>\n",
       "<style scoped>\n",
       "    .dataframe tbody tr th:only-of-type {\n",
       "        vertical-align: middle;\n",
       "    }\n",
       "\n",
       "    .dataframe tbody tr th {\n",
       "        vertical-align: top;\n",
       "    }\n",
       "\n",
       "    .dataframe thead th {\n",
       "        text-align: right;\n",
       "    }\n",
       "</style>\n",
       "<table border=\"1\" class=\"dataframe\">\n",
       "  <thead>\n",
       "    <tr style=\"text-align: right;\">\n",
       "      <th></th>\n",
       "      <th>EV Network</th>\n",
       "      <th>Access Detail Code</th>\n",
       "      <th>Facility Type</th>\n",
       "      <th>EV Pricing</th>\n",
       "    </tr>\n",
       "  </thead>\n",
       "  <tbody>\n",
       "    <tr>\n",
       "      <th>0</th>\n",
       "      <td>Circuit Ã©lectrique</td>\n",
       "      <td>NaN</td>\n",
       "      <td>NaN</td>\n",
       "      <td>NaN</td>\n",
       "    </tr>\n",
       "    <tr>\n",
       "      <th>1</th>\n",
       "      <td>Circuit Ã©lectrique</td>\n",
       "      <td>NaN</td>\n",
       "      <td>NaN</td>\n",
       "      <td>NaN</td>\n",
       "    </tr>\n",
       "    <tr>\n",
       "      <th>2</th>\n",
       "      <td>Circuit Ã©lectrique</td>\n",
       "      <td>NaN</td>\n",
       "      <td>NaN</td>\n",
       "      <td>NaN</td>\n",
       "    </tr>\n",
       "    <tr>\n",
       "      <th>3</th>\n",
       "      <td>Circuit Ã©lectrique</td>\n",
       "      <td>NaN</td>\n",
       "      <td>NaN</td>\n",
       "      <td>NaN</td>\n",
       "    </tr>\n",
       "    <tr>\n",
       "      <th>4</th>\n",
       "      <td>Circuit Ã©lectrique</td>\n",
       "      <td>NaN</td>\n",
       "      <td>NaN</td>\n",
       "      <td>NaN</td>\n",
       "    </tr>\n",
       "    <tr>\n",
       "      <th>...</th>\n",
       "      <td>...</td>\n",
       "      <td>...</td>\n",
       "      <td>...</td>\n",
       "      <td>...</td>\n",
       "    </tr>\n",
       "    <tr>\n",
       "      <th>869</th>\n",
       "      <td>Circuit Ã©lectrique</td>\n",
       "      <td>NaN</td>\n",
       "      <td>NaN</td>\n",
       "      <td>NaN</td>\n",
       "    </tr>\n",
       "    <tr>\n",
       "      <th>870</th>\n",
       "      <td>Circuit Ã©lectrique</td>\n",
       "      <td>NaN</td>\n",
       "      <td>NaN</td>\n",
       "      <td>NaN</td>\n",
       "    </tr>\n",
       "    <tr>\n",
       "      <th>871</th>\n",
       "      <td>FLO</td>\n",
       "      <td>NaN</td>\n",
       "      <td>NaN</td>\n",
       "      <td>NaN</td>\n",
       "    </tr>\n",
       "    <tr>\n",
       "      <th>872</th>\n",
       "      <td>ChargePoint Network</td>\n",
       "      <td>NaN</td>\n",
       "      <td>NaN</td>\n",
       "      <td>Free</td>\n",
       "    </tr>\n",
       "    <tr>\n",
       "      <th>873</th>\n",
       "      <td>Circuit Ã©lectrique</td>\n",
       "      <td>NaN</td>\n",
       "      <td>NaN</td>\n",
       "      <td>NaN</td>\n",
       "    </tr>\n",
       "  </tbody>\n",
       "</table>\n",
       "<p>874 rows × 4 columns</p>\n",
       "</div>"
      ],
      "text/plain": [
       "              EV Network Access Detail Code Facility Type EV Pricing\n",
       "0    Circuit Ã©lectrique                NaN           NaN        NaN\n",
       "1    Circuit Ã©lectrique                NaN           NaN        NaN\n",
       "2    Circuit Ã©lectrique                NaN           NaN        NaN\n",
       "3    Circuit Ã©lectrique                NaN           NaN        NaN\n",
       "4    Circuit Ã©lectrique                NaN           NaN        NaN\n",
       "..                   ...                ...           ...        ...\n",
       "869  Circuit Ã©lectrique                NaN           NaN        NaN\n",
       "870  Circuit Ã©lectrique                NaN           NaN        NaN\n",
       "871                  FLO                NaN           NaN        NaN\n",
       "872  ChargePoint Network                NaN           NaN       Free\n",
       "873  Circuit Ã©lectrique                NaN           NaN        NaN\n",
       "\n",
       "[874 rows x 4 columns]"
      ]
     },
     "execution_count": 119,
     "metadata": {},
     "output_type": "execute_result"
    }
   ],
   "source": [
    "montreal_dataset[['EV Network','Access Detail Code','Facility Type','EV Pricing']]"
   ]
  },
  {
   "cell_type": "code",
   "execution_count": 120,
   "id": "speaking-imagination",
   "metadata": {},
   "outputs": [
    {
     "data": {
      "text/plain": [
       "ZIP                     0\n",
       "Access Days Time        0\n",
       "EV Level2 EVSE Num      0\n",
       "EV DC Fast Count        0\n",
       "EV Network              0\n",
       "Latitude                0\n",
       "Longitude               0\n",
       "EV Connector Types      0\n",
       "Access Code             0\n",
       "Access Detail Code    871\n",
       "Facility Type         826\n",
       "EV Pricing            771\n",
       "dtype: int64"
      ]
     },
     "execution_count": 120,
     "metadata": {},
     "output_type": "execute_result"
    }
   ],
   "source": [
    "montreal_dataset.isna().sum()"
   ]
  },
  {
   "cell_type": "markdown",
   "id": "military-sharp",
   "metadata": {},
   "source": [
    "Filling Null values in EV pricing, Facility Type and Access Detail Code to \"Not Available\""
   ]
  },
  {
   "cell_type": "code",
   "execution_count": 121,
   "id": "median-alloy",
   "metadata": {},
   "outputs": [],
   "source": [
    "montreal_dataset['Access Detail Code'].fillna(\"Not Available\",inplace=True)"
   ]
  },
  {
   "cell_type": "code",
   "execution_count": 122,
   "id": "posted-marina",
   "metadata": {},
   "outputs": [
    {
     "data": {
      "text/plain": [
       "array(['Not Available', 'CALL', 'CREDIT_CARD_ALWAYS'], dtype=object)"
      ]
     },
     "execution_count": 122,
     "metadata": {},
     "output_type": "execute_result"
    }
   ],
   "source": [
    "montreal_dataset['Access Detail Code'].unique()"
   ]
  },
  {
   "cell_type": "code",
   "execution_count": 123,
   "id": "adverse-making",
   "metadata": {},
   "outputs": [],
   "source": [
    "montreal_dataset['EV Pricing'].fillna(\"Not Available\",inplace=True)"
   ]
  },
  {
   "cell_type": "code",
   "execution_count": 124,
   "id": "bibliographic-volunteer",
   "metadata": {},
   "outputs": [
    {
     "data": {
      "text/plain": [
       "array(['Not Available', 'Free',\n",
       "       'Pricing is based on length of time. $0 per hour for the first 1 hour, and $1.5 per additional hour',\n",
       "       'Pricing is based on length of time. $0.1 per hour for the first 1 hour, and $0.2 per additional hour',\n",
       "       '$0.5 per hour', '$1 per hour', 'free', '$1 per kWh',\n",
       "       'Pricing is based on length of time and kWh used. $0 per hour for the first 3 hours, and $5 per additional hour, $1 per kWh, minimum payment of $1, maximum payment of $30',\n",
       "       '$0.44 per minute above 60 kW and $0.22 per minute at or below 60 kW',\n",
       "       '$2 per hour', '$5 per session, maximum session time is 1 hour',\n",
       "       '$1.00/Hr Parking Fee', '$2 per hour, maximum payment of $20',\n",
       "       'Billed by time plugged in',\n",
       "       'Pricing is based on length of time. $1 per hour, and $3 per additional hour'],\n",
       "      dtype=object)"
      ]
     },
     "execution_count": 124,
     "metadata": {},
     "output_type": "execute_result"
    }
   ],
   "source": [
    "montreal_dataset['EV Pricing'].unique()"
   ]
  },
  {
   "cell_type": "code",
   "execution_count": 125,
   "id": "common-karaoke",
   "metadata": {},
   "outputs": [],
   "source": [
    "montreal_dataset['Facility Type'].fillna(\"Not Available\",inplace=True)"
   ]
  },
  {
   "cell_type": "code",
   "execution_count": 126,
   "id": "macro-mounting",
   "metadata": {},
   "outputs": [
    {
     "data": {
      "text/plain": [
       "array(['Not Available', 'RESTAURANT', 'HOSPITAL', 'HOTEL', 'PAY_GARAGE',\n",
       "       'TRAVEL_CENTER', 'OFFICE_BLDG', 'OTHER', 'CAR_DEALER',\n",
       "       'GAS_STATION', 'SHOPPING_CENTER', 'REC_SPORTS_FACILITY'],\n",
       "      dtype=object)"
      ]
     },
     "execution_count": 126,
     "metadata": {},
     "output_type": "execute_result"
    }
   ],
   "source": [
    "montreal_dataset['Facility Type'].unique()"
   ]
  },
  {
   "cell_type": "code",
   "execution_count": 127,
   "id": "known-portuguese",
   "metadata": {},
   "outputs": [
    {
     "name": "stdout",
     "output_type": "stream",
     "text": [
      "<class 'pandas.core.frame.DataFrame'>\n",
      "RangeIndex: 874 entries, 0 to 873\n",
      "Data columns (total 12 columns):\n",
      " #   Column              Non-Null Count  Dtype  \n",
      "---  ------              --------------  -----  \n",
      " 0   ZIP                 874 non-null    object \n",
      " 1   Access Days Time    874 non-null    object \n",
      " 2   EV Level2 EVSE Num  874 non-null    float64\n",
      " 3   EV DC Fast Count    874 non-null    float64\n",
      " 4   EV Network          874 non-null    object \n",
      " 5   Latitude            874 non-null    float64\n",
      " 6   Longitude           874 non-null    float64\n",
      " 7   EV Connector Types  874 non-null    object \n",
      " 8   Access Code         874 non-null    object \n",
      " 9   Access Detail Code  874 non-null    object \n",
      " 10  Facility Type       874 non-null    object \n",
      " 11  EV Pricing          874 non-null    object \n",
      "dtypes: float64(4), object(8)\n",
      "memory usage: 82.1+ KB\n"
     ]
    }
   ],
   "source": [
    "montreal_dataset.info()"
   ]
  },
  {
   "cell_type": "code",
   "execution_count": 128,
   "id": "living-dairy",
   "metadata": {},
   "outputs": [
    {
     "data": {
      "text/html": [
       "<div>\n",
       "<style scoped>\n",
       "    .dataframe tbody tr th:only-of-type {\n",
       "        vertical-align: middle;\n",
       "    }\n",
       "\n",
       "    .dataframe tbody tr th {\n",
       "        vertical-align: top;\n",
       "    }\n",
       "\n",
       "    .dataframe thead th {\n",
       "        text-align: right;\n",
       "    }\n",
       "</style>\n",
       "<table border=\"1\" class=\"dataframe\">\n",
       "  <thead>\n",
       "    <tr style=\"text-align: right;\">\n",
       "      <th></th>\n",
       "      <th>EV Network</th>\n",
       "      <th>Access Detail Code</th>\n",
       "      <th>Facility Type</th>\n",
       "      <th>EV Pricing</th>\n",
       "    </tr>\n",
       "  </thead>\n",
       "  <tbody>\n",
       "    <tr>\n",
       "      <th>0</th>\n",
       "      <td>Circuit Ã©lectrique</td>\n",
       "      <td>Not Available</td>\n",
       "      <td>Not Available</td>\n",
       "      <td>Not Available</td>\n",
       "    </tr>\n",
       "    <tr>\n",
       "      <th>1</th>\n",
       "      <td>Circuit Ã©lectrique</td>\n",
       "      <td>Not Available</td>\n",
       "      <td>Not Available</td>\n",
       "      <td>Not Available</td>\n",
       "    </tr>\n",
       "    <tr>\n",
       "      <th>2</th>\n",
       "      <td>Circuit Ã©lectrique</td>\n",
       "      <td>Not Available</td>\n",
       "      <td>Not Available</td>\n",
       "      <td>Not Available</td>\n",
       "    </tr>\n",
       "    <tr>\n",
       "      <th>3</th>\n",
       "      <td>Circuit Ã©lectrique</td>\n",
       "      <td>Not Available</td>\n",
       "      <td>Not Available</td>\n",
       "      <td>Not Available</td>\n",
       "    </tr>\n",
       "    <tr>\n",
       "      <th>4</th>\n",
       "      <td>Circuit Ã©lectrique</td>\n",
       "      <td>Not Available</td>\n",
       "      <td>Not Available</td>\n",
       "      <td>Not Available</td>\n",
       "    </tr>\n",
       "    <tr>\n",
       "      <th>...</th>\n",
       "      <td>...</td>\n",
       "      <td>...</td>\n",
       "      <td>...</td>\n",
       "      <td>...</td>\n",
       "    </tr>\n",
       "    <tr>\n",
       "      <th>869</th>\n",
       "      <td>Circuit Ã©lectrique</td>\n",
       "      <td>Not Available</td>\n",
       "      <td>Not Available</td>\n",
       "      <td>Not Available</td>\n",
       "    </tr>\n",
       "    <tr>\n",
       "      <th>870</th>\n",
       "      <td>Circuit Ã©lectrique</td>\n",
       "      <td>Not Available</td>\n",
       "      <td>Not Available</td>\n",
       "      <td>Not Available</td>\n",
       "    </tr>\n",
       "    <tr>\n",
       "      <th>871</th>\n",
       "      <td>FLO</td>\n",
       "      <td>Not Available</td>\n",
       "      <td>Not Available</td>\n",
       "      <td>Not Available</td>\n",
       "    </tr>\n",
       "    <tr>\n",
       "      <th>872</th>\n",
       "      <td>ChargePoint Network</td>\n",
       "      <td>Not Available</td>\n",
       "      <td>Not Available</td>\n",
       "      <td>Free</td>\n",
       "    </tr>\n",
       "    <tr>\n",
       "      <th>873</th>\n",
       "      <td>Circuit Ã©lectrique</td>\n",
       "      <td>Not Available</td>\n",
       "      <td>Not Available</td>\n",
       "      <td>Not Available</td>\n",
       "    </tr>\n",
       "  </tbody>\n",
       "</table>\n",
       "<p>874 rows × 4 columns</p>\n",
       "</div>"
      ],
      "text/plain": [
       "              EV Network Access Detail Code  Facility Type     EV Pricing\n",
       "0    Circuit Ã©lectrique      Not Available  Not Available  Not Available\n",
       "1    Circuit Ã©lectrique      Not Available  Not Available  Not Available\n",
       "2    Circuit Ã©lectrique      Not Available  Not Available  Not Available\n",
       "3    Circuit Ã©lectrique      Not Available  Not Available  Not Available\n",
       "4    Circuit Ã©lectrique      Not Available  Not Available  Not Available\n",
       "..                   ...                ...            ...            ...\n",
       "869  Circuit Ã©lectrique      Not Available  Not Available  Not Available\n",
       "870  Circuit Ã©lectrique      Not Available  Not Available  Not Available\n",
       "871                  FLO      Not Available  Not Available  Not Available\n",
       "872  ChargePoint Network      Not Available  Not Available           Free\n",
       "873  Circuit Ã©lectrique      Not Available  Not Available  Not Available\n",
       "\n",
       "[874 rows x 4 columns]"
      ]
     },
     "execution_count": 128,
     "metadata": {},
     "output_type": "execute_result"
    }
   ],
   "source": [
    "montreal_dataset[['EV Network','Access Detail Code','Facility Type','EV Pricing']]"
   ]
  },
  {
   "cell_type": "code",
   "execution_count": 129,
   "id": "numerical-curtis",
   "metadata": {},
   "outputs": [
    {
     "data": {
      "text/plain": [
       "Facility Type\n",
       "CAR_DEALER                                                        [Free]\n",
       "GAS_STATION                                  [Billed by time plugged in]\n",
       "HOSPITAL                                           [Free, Not Available]\n",
       "HOTEL                                                             [Free]\n",
       "Not Available          [Not Available, Free, Pricing is based on leng...\n",
       "OFFICE_BLDG                                    [free, $1 per hour, Free]\n",
       "OTHER                                                             [Free]\n",
       "PAY_GARAGE                                                        [Free]\n",
       "REC_SPORTS_FACILITY                                               [Free]\n",
       "RESTAURANT                                         [Free, Not Available]\n",
       "SHOPPING_CENTER                                                   [Free]\n",
       "TRAVEL_CENTER                                              [$1 per hour]\n",
       "Name: EV Pricing, dtype: object"
      ]
     },
     "execution_count": 129,
     "metadata": {},
     "output_type": "execute_result"
    }
   ],
   "source": [
    "montreal_dataset.groupby('Facility Type')['EV Pricing'].unique()"
   ]
  },
  {
   "cell_type": "code",
   "execution_count": 130,
   "id": "curious-alpha",
   "metadata": {},
   "outputs": [
    {
     "data": {
      "text/plain": [
       "Facility Type\n",
       "CAR_DEALER             [Not Available, CALL]\n",
       "GAS_STATION             [CREDIT_CARD_ALWAYS]\n",
       "HOSPITAL                     [Not Available]\n",
       "HOTEL                        [Not Available]\n",
       "Not Available                [Not Available]\n",
       "OFFICE_BLDG                  [Not Available]\n",
       "OTHER                        [Not Available]\n",
       "PAY_GARAGE                   [Not Available]\n",
       "REC_SPORTS_FACILITY          [Not Available]\n",
       "RESTAURANT                   [Not Available]\n",
       "SHOPPING_CENTER              [Not Available]\n",
       "TRAVEL_CENTER                [Not Available]\n",
       "Name: Access Detail Code, dtype: object"
      ]
     },
     "execution_count": 130,
     "metadata": {},
     "output_type": "execute_result"
    }
   ],
   "source": [
    "montreal_dataset.groupby('Facility Type')['Access Detail Code'].unique()"
   ]
  },
  {
   "cell_type": "code",
   "execution_count": 131,
   "id": "dependent-hypothesis",
   "metadata": {},
   "outputs": [
    {
     "data": {
      "text/plain": [
       "Facility Type\n",
       "CAR_DEALER                                               [Non-Networked]\n",
       "GAS_STATION                                                  [CHARGELAB]\n",
       "HOSPITAL                                                 [Non-Networked]\n",
       "HOTEL                                 [Tesla Destination, Non-Networked]\n",
       "Not Available          [Circuit Ã©lectrique, FLO, Tesla Destination, ...\n",
       "OFFICE_BLDG                                              [Non-Networked]\n",
       "OTHER                                                [Tesla Destination]\n",
       "PAY_GARAGE                                           [Tesla Destination]\n",
       "REC_SPORTS_FACILITY                                  [Tesla Destination]\n",
       "RESTAURANT                            [Tesla Destination, Non-Networked]\n",
       "SHOPPING_CENTER                       [Non-Networked, Tesla Destination]\n",
       "TRAVEL_CENTER                                            [Non-Networked]\n",
       "Name: EV Network, dtype: object"
      ]
     },
     "execution_count": 131,
     "metadata": {},
     "output_type": "execute_result"
    }
   ],
   "source": [
    "montreal_dataset.groupby('Facility Type')['EV Network'].unique()"
   ]
  },
  {
   "cell_type": "code",
   "execution_count": 132,
   "id": "classical-contributor",
   "metadata": {},
   "outputs": [
    {
     "name": "stdout",
     "output_type": "stream",
     "text": [
      "<class 'pandas.core.frame.DataFrame'>\n",
      "RangeIndex: 874 entries, 0 to 873\n",
      "Data columns (total 12 columns):\n",
      " #   Column              Non-Null Count  Dtype  \n",
      "---  ------              --------------  -----  \n",
      " 0   ZIP                 874 non-null    object \n",
      " 1   Access Days Time    874 non-null    object \n",
      " 2   EV Level2 EVSE Num  874 non-null    float64\n",
      " 3   EV DC Fast Count    874 non-null    float64\n",
      " 4   EV Network          874 non-null    object \n",
      " 5   Latitude            874 non-null    float64\n",
      " 6   Longitude           874 non-null    float64\n",
      " 7   EV Connector Types  874 non-null    object \n",
      " 8   Access Code         874 non-null    object \n",
      " 9   Access Detail Code  874 non-null    object \n",
      " 10  Facility Type       874 non-null    object \n",
      " 11  EV Pricing          874 non-null    object \n",
      "dtypes: float64(4), object(8)\n",
      "memory usage: 82.1+ KB\n"
     ]
    }
   ],
   "source": [
    "montreal_dataset.info()"
   ]
  },
  {
   "cell_type": "code",
   "execution_count": 133,
   "id": "found-wisconsin",
   "metadata": {},
   "outputs": [],
   "source": [
    "#Ranking Facility type and Category in montreal and point of interest dataset respectively"
   ]
  },
  {
   "cell_type": "markdown",
   "id": "minus-midnight",
   "metadata": {},
   "source": [
    "Changing value of Department Stores in poi dataset since it has same values repeated two times"
   ]
  },
  {
   "cell_type": "code",
   "execution_count": 134,
   "id": "vertical-charger",
   "metadata": {},
   "outputs": [
    {
     "data": {
      "text/plain": [
       "array(['Restaurants', 'Amusement and Recreation Services',\n",
       "       'Universities, and Colleges', 'Motor Vehicle Dealers',\n",
       "       'Museums and Art Galleries', 'Bar', 'Hotels', 'Parking ',\n",
       "       'Movie Theaters', 'Department Stores', 'Furniture Stores',\n",
       "       'Shopping Center and Malls', 'Warehouse Stores',\n",
       "       ' Department Stores'], dtype=object)"
      ]
     },
     "execution_count": 134,
     "metadata": {},
     "output_type": "execute_result"
    }
   ],
   "source": [
    "points_of_interest_dataset['CATEGORY'].unique()"
   ]
  },
  {
   "cell_type": "code",
   "execution_count": 135,
   "id": "arbitrary-manitoba",
   "metadata": {},
   "outputs": [],
   "source": [
    "points_of_interest_dataset.loc[(points_of_interest_dataset['CATEGORY'] == ' Department Stores'), 'CATEGORY'] = 'Department Stores'"
   ]
  },
  {
   "cell_type": "code",
   "execution_count": 136,
   "id": "ordinary-viking",
   "metadata": {},
   "outputs": [
    {
     "data": {
      "text/plain": [
       "array(['Restaurants', 'Amusement and Recreation Services',\n",
       "       'Universities, and Colleges', 'Motor Vehicle Dealers',\n",
       "       'Museums and Art Galleries', 'Bar', 'Hotels', 'Parking ',\n",
       "       'Movie Theaters', 'Department Stores', 'Furniture Stores',\n",
       "       'Shopping Center and Malls', 'Warehouse Stores'], dtype=object)"
      ]
     },
     "execution_count": 136,
     "metadata": {},
     "output_type": "execute_result"
    }
   ],
   "source": [
    "points_of_interest_dataset['CATEGORY'].unique()"
   ]
  },
  {
   "cell_type": "markdown",
   "id": "realistic-basis",
   "metadata": {},
   "source": [
    "Ranking according to the same labels in both columns"
   ]
  },
  {
   "cell_type": "code",
   "execution_count": 137,
   "id": "political-piece",
   "metadata": {},
   "outputs": [],
   "source": [
    "rank = pd.DataFrame({\"Facility Type\":montreal_dataset[\"Facility Type\"],\"CATEGORY\":points_of_interest_dataset[\"CATEGORY\"]},index=points_of_interest_dataset.index)"
   ]
  },
  {
   "cell_type": "code",
   "execution_count": 138,
   "id": "russian-growth",
   "metadata": {},
   "outputs": [],
   "source": [
    "from scipy.stats import rankdata"
   ]
  },
  {
   "cell_type": "code",
   "execution_count": 139,
   "id": "senior-administration",
   "metadata": {},
   "outputs": [],
   "source": [
    "rank['r category'] = (rankdata(rank['CATEGORY'],method='dense') -1).astype(int)"
   ]
  },
  {
   "cell_type": "markdown",
   "id": "single-glance",
   "metadata": {},
   "source": [
    "Discarding rank values since there are some values that dont reside with each other alphabetically, but logically reside"
   ]
  },
  {
   "cell_type": "code",
   "execution_count": 140,
   "id": "altered-trader",
   "metadata": {},
   "outputs": [
    {
     "data": {
      "text/plain": [
       "array([ 9,  0, 11,  5,  7,  1,  4,  8,  6,  2,  3, 10, 12])"
      ]
     },
     "execution_count": 140,
     "metadata": {},
     "output_type": "execute_result"
    }
   ],
   "source": [
    "rank['r category'].unique()"
   ]
  },
  {
   "cell_type": "code",
   "execution_count": 141,
   "id": "industrial-shade",
   "metadata": {},
   "outputs": [
    {
     "data": {
      "text/plain": [
       "array(['Not Available', 'RESTAURANT', 'HOSPITAL', 'HOTEL', 'PAY_GARAGE',\n",
       "       'TRAVEL_CENTER', 'OFFICE_BLDG', 'OTHER', 'CAR_DEALER',\n",
       "       'GAS_STATION', 'SHOPPING_CENTER', 'REC_SPORTS_FACILITY', nan],\n",
       "      dtype=object)"
      ]
     },
     "execution_count": 141,
     "metadata": {},
     "output_type": "execute_result"
    }
   ],
   "source": [
    "rank['Facility Type'].unique()"
   ]
  },
  {
   "cell_type": "code",
   "execution_count": 142,
   "id": "introductory-equipment",
   "metadata": {},
   "outputs": [
    {
     "data": {
      "text/plain": [
       "array(['Restaurants', 'Amusement and Recreation Services',\n",
       "       'Universities, and Colleges', 'Motor Vehicle Dealers',\n",
       "       'Museums and Art Galleries', 'Bar', 'Hotels', 'Parking ',\n",
       "       'Movie Theaters', 'Department Stores', 'Furniture Stores',\n",
       "       'Shopping Center and Malls', 'Warehouse Stores'], dtype=object)"
      ]
     },
     "execution_count": 142,
     "metadata": {},
     "output_type": "execute_result"
    }
   ],
   "source": [
    "rank['CATEGORY'].unique()"
   ]
  },
  {
   "cell_type": "markdown",
   "id": "suspended-bronze",
   "metadata": {},
   "source": [
    "Doing ranking manually since fuzzywuzzy is not giving accurate results"
   ]
  },
  {
   "cell_type": "code",
   "execution_count": 143,
   "id": "blind-making",
   "metadata": {},
   "outputs": [],
   "source": [
    "# pip install fuzzywuzzy[speedup]\n",
    "# from fuzzywuzzy import fuzz"
   ]
  },
  {
   "cell_type": "code",
   "execution_count": 144,
   "id": "stuffed-rental",
   "metadata": {},
   "outputs": [],
   "source": [
    "def resolveRankSingle(param1:str,ranknumber:int):\n",
    "  return [param1,ranknumber]"
   ]
  },
  {
   "cell_type": "code",
   "execution_count": 145,
   "id": "arabic-reporter",
   "metadata": {},
   "outputs": [],
   "source": [
    "def resolveRank(param1:str, param2:str, ranknumber:int):\n",
    "  return [param1,param2, ranknumber]"
   ]
  },
  {
   "cell_type": "code",
   "execution_count": 146,
   "id": "acute-demand",
   "metadata": {},
   "outputs": [],
   "source": [
    "resolved= []\n",
    "resolved.append(resolveRank('RESTAURANT','Restaurants',2))\n",
    "resolved.append(resolveRank('HOTEL','Hotels',2))\n",
    "resolved.append(resolveRank('SHOPPING_CENTER','Shopping Center and Malls',2))\n",
    "resolved.append(resolveRank('PAY_GARAGE','Parking ',3))\n",
    "resolved.append(resolveRank('CAR_DEALER','Motor Vehicle Dealers',4))\n",
    "resolved.append(resolveRank('REC_SPORTS_FACILITY','Amusement and Recreation Services',5))\n",
    "\n",
    "# other values that dont reside with each other\n",
    "resolved.append(resolveRankSingle('HOSPITAL',12))\n",
    "resolved.append(resolveRankSingle('TRAVEL_CENTER',3))\n",
    "resolved.append(resolveRankSingle('OFFICE_BLDG',3))\n",
    "resolved.append(resolveRankSingle('OTHER',15))\n",
    "resolved.append(resolveRankSingle('GAS_STATION',3))\n",
    "resolved.append(resolveRankSingle('Not Available',17))\n",
    "resolved.append(resolveRankSingle('Bar',18))\n",
    "\n",
    "resolved.append(resolveRankSingle('Universities, and Colleges',6))\n",
    "resolved.append(resolveRankSingle('Museums and Art Galleries',7))\n",
    "resolved.append(resolveRankSingle('Movie Theaters',8))\n",
    "resolved.append(resolveRankSingle('Department Stores',9))\n",
    "resolved.append(resolveRankSingle('Furniture Stores',10))\n",
    "resolved.append(resolveRankSingle('Warehouse Stores',11))"
   ]
  },
  {
   "cell_type": "markdown",
   "id": "strategic-phrase",
   "metadata": {},
   "source": [
    "Thus all the values are mapped according to ranking, directly we can put the rank number in the datasets"
   ]
  },
  {
   "cell_type": "code",
   "execution_count": 147,
   "id": "straight-imaging",
   "metadata": {},
   "outputs": [],
   "source": [
    "points_of_interest_dataset.loc[(points_of_interest_dataset['CATEGORY'] == 'Restaurants'), 'CATEGORY'] = 0\n",
    "points_of_interest_dataset.loc[(points_of_interest_dataset['CATEGORY'] == 'Hotels'), 'CATEGORY'] = 1\n",
    "points_of_interest_dataset.loc[(points_of_interest_dataset['CATEGORY'] == 'Shopping Center and Malls'), 'CATEGORY'] = 2\n",
    "points_of_interest_dataset.loc[(points_of_interest_dataset['CATEGORY'] == 'Parking '), 'CATEGORY'] = 3\n",
    "points_of_interest_dataset.loc[(points_of_interest_dataset['CATEGORY'] == 'Motor Vehicle Dealers'), 'CATEGORY'] = 4\n",
    "points_of_interest_dataset.loc[(points_of_interest_dataset['CATEGORY'] == 'Amusement and Recreation Services'), 'CATEGORY'] = 5\n",
    "points_of_interest_dataset.loc[(points_of_interest_dataset['CATEGORY'] == 'Universities, and Colleges'), 'CATEGORY'] = 6\n",
    "points_of_interest_dataset.loc[(points_of_interest_dataset['CATEGORY'] == 'Museums and Art Galleries'), 'CATEGORY'] = 7\n",
    "points_of_interest_dataset.loc[(points_of_interest_dataset['CATEGORY'] == 'Movie Theaters'), 'CATEGORY'] = 8\n",
    "points_of_interest_dataset.loc[(points_of_interest_dataset['CATEGORY'] == 'Department Stores'), 'CATEGORY'] = 9\n",
    "points_of_interest_dataset.loc[(points_of_interest_dataset['CATEGORY'] == 'Furniture Stores'), 'CATEGORY'] = 10\n",
    "points_of_interest_dataset.loc[(points_of_interest_dataset['CATEGORY'] == 'Warehouse Stores'), 'CATEGORY'] = 11\n",
    "points_of_interest_dataset.loc[(points_of_interest_dataset['CATEGORY'] == 'Bar'), 'CATEGORY'] = 18"
   ]
  },
  {
   "cell_type": "code",
   "execution_count": 148,
   "id": "exposed-afternoon",
   "metadata": {},
   "outputs": [],
   "source": [
    "montreal_dataset.loc[(montreal_dataset['Facility Type'] == 'RESTAURANT'), 'Facility Type'] = 0\n",
    "montreal_dataset.loc[(montreal_dataset['Facility Type'] == 'HOTEL'), 'Facility Type'] = 1\n",
    "montreal_dataset.loc[(montreal_dataset['Facility Type'] == 'SHOPPING_CENTER'), 'Facility Type'] = 2\n",
    "montreal_dataset.loc[(montreal_dataset['Facility Type'] == 'PAY_GARAGE'), 'Facility Type'] = 3\n",
    "montreal_dataset.loc[(montreal_dataset['Facility Type'] == 'CAR_DEALER'), 'Facility Type'] = 4\n",
    "montreal_dataset.loc[(montreal_dataset['Facility Type'] == 'REC_SPORTS_FACILITY'), 'Facility Type'] = 5\n",
    "montreal_dataset.loc[(montreal_dataset['Facility Type'] == 'HOSPITAL'), 'Facility Type'] = 12\n",
    "montreal_dataset.loc[(montreal_dataset['Facility Type'] == 'TRAVEL_CENTER'), 'Facility Type'] = 13\n",
    "montreal_dataset.loc[(montreal_dataset['Facility Type'] == 'OFFICE_BLDG'), 'Facility Type'] = 14\n",
    "montreal_dataset.loc[(montreal_dataset['Facility Type'] == 'OTHER'), 'Facility Type'] = 15\n",
    "montreal_dataset.loc[(montreal_dataset['Facility Type'] == 'GAS_STATION'), 'Facility Type'] = 16\n",
    "montreal_dataset.loc[(montreal_dataset['Facility Type'] == 'Not Available'), 'Facility Type'] = 17"
   ]
  },
  {
   "cell_type": "code",
   "execution_count": 149,
   "id": "global-music",
   "metadata": {},
   "outputs": [],
   "source": [
    "# Used that before but it skipped the values after 873\n",
    "# rank['Facility Type'] = montreal_dataset[\"Facility Type\"]\n",
    "# rank['CATEGORY'] = points_of_interest_dataset[\"CATEGORY\"]"
   ]
  },
  {
   "cell_type": "markdown",
   "id": "least-heavy",
   "metadata": {},
   "source": [
    "Now performing LabelEncoding to all object dtypes"
   ]
  },
  {
   "cell_type": "code",
   "execution_count": 150,
   "id": "conservative-delivery",
   "metadata": {},
   "outputs": [],
   "source": [
    "le = LabelEncoder()\n",
    "le.fit(montreal_dataset['Access Days Time'])\n",
    "montreal_dataset['Access Days Time'] = le.transform(montreal_dataset['Access Days Time'])\n",
    "le.fit(montreal_dataset['EV Network'])\n",
    "montreal_dataset['EV Network'] = le.transform(montreal_dataset['EV Network'])\n",
    "le.fit(montreal_dataset['ZIP'])\n",
    "montreal_dataset['ZIP'] = le.transform(montreal_dataset['ZIP'])\n",
    "\n",
    "# mapping labelencoding values for decoding to specific postal code in future\n",
    "zip_mapping = dict(zip(le.classes_, range(1, len(le.classes_)+1)))\n",
    "le.fit(montreal_dataset['EV Connector Types'])\n",
    "montreal_dataset['EV Connector Types']=le.transform(montreal_dataset['EV Connector Types'])\n",
    "le.fit(montreal_dataset['Access Code'])\n",
    "montreal_dataset['Access Code']=le.transform(montreal_dataset['Access Code'])\n",
    "le.fit(montreal_dataset['Access Detail Code'])\n",
    "montreal_dataset['Access Detail Code']=le.transform(montreal_dataset['Access Detail Code'])\n",
    "\n",
    "# Not using labelencoding on Facility type since we are using rank method\n",
    "# le.fit(montreal_dataset['Facility Type'])\n",
    "# montreal_dataset['Facility Type']=le.transform(montreal_dataset['Facility Type'])\n",
    "\n",
    "le.fit(montreal_dataset['EV Pricing'])\n",
    "montreal_dataset['EV Pricing']=le.transform(montreal_dataset['EV Pricing'])"
   ]
  },
  {
   "cell_type": "code",
   "execution_count": 151,
   "id": "funky-opening",
   "metadata": {},
   "outputs": [
    {
     "data": {
      "text/html": [
       "<div>\n",
       "<style scoped>\n",
       "    .dataframe tbody tr th:only-of-type {\n",
       "        vertical-align: middle;\n",
       "    }\n",
       "\n",
       "    .dataframe tbody tr th {\n",
       "        vertical-align: top;\n",
       "    }\n",
       "\n",
       "    .dataframe thead th {\n",
       "        text-align: right;\n",
       "    }\n",
       "</style>\n",
       "<table border=\"1\" class=\"dataframe\">\n",
       "  <thead>\n",
       "    <tr style=\"text-align: right;\">\n",
       "      <th></th>\n",
       "      <th>ZIP</th>\n",
       "      <th>Access Days Time</th>\n",
       "      <th>EV Level2 EVSE Num</th>\n",
       "      <th>EV DC Fast Count</th>\n",
       "      <th>EV Network</th>\n",
       "      <th>Latitude</th>\n",
       "      <th>Longitude</th>\n",
       "      <th>EV Connector Types</th>\n",
       "      <th>Access Code</th>\n",
       "      <th>Access Detail Code</th>\n",
       "      <th>Facility Type</th>\n",
       "      <th>EV Pricing</th>\n",
       "    </tr>\n",
       "  </thead>\n",
       "  <tbody>\n",
       "    <tr>\n",
       "      <th>0</th>\n",
       "      <td>0</td>\n",
       "      <td>1</td>\n",
       "      <td>2.0</td>\n",
       "      <td>1.0</td>\n",
       "      <td>2</td>\n",
       "      <td>45.668567</td>\n",
       "      <td>-73.494620</td>\n",
       "      <td>0</td>\n",
       "      <td>0</td>\n",
       "      <td>2</td>\n",
       "      <td>17</td>\n",
       "      <td>10</td>\n",
       "    </tr>\n",
       "    <tr>\n",
       "      <th>1</th>\n",
       "      <td>1</td>\n",
       "      <td>1</td>\n",
       "      <td>1.0</td>\n",
       "      <td>1.0</td>\n",
       "      <td>2</td>\n",
       "      <td>45.657335</td>\n",
       "      <td>-73.508256</td>\n",
       "      <td>0</td>\n",
       "      <td>0</td>\n",
       "      <td>2</td>\n",
       "      <td>17</td>\n",
       "      <td>10</td>\n",
       "    </tr>\n",
       "    <tr>\n",
       "      <th>2</th>\n",
       "      <td>2</td>\n",
       "      <td>1</td>\n",
       "      <td>2.0</td>\n",
       "      <td>1.0</td>\n",
       "      <td>2</td>\n",
       "      <td>45.657871</td>\n",
       "      <td>-73.508430</td>\n",
       "      <td>0</td>\n",
       "      <td>0</td>\n",
       "      <td>2</td>\n",
       "      <td>17</td>\n",
       "      <td>10</td>\n",
       "    </tr>\n",
       "    <tr>\n",
       "      <th>3</th>\n",
       "      <td>3</td>\n",
       "      <td>1</td>\n",
       "      <td>1.0</td>\n",
       "      <td>1.0</td>\n",
       "      <td>2</td>\n",
       "      <td>45.650494</td>\n",
       "      <td>-73.511673</td>\n",
       "      <td>0</td>\n",
       "      <td>0</td>\n",
       "      <td>2</td>\n",
       "      <td>17</td>\n",
       "      <td>10</td>\n",
       "    </tr>\n",
       "    <tr>\n",
       "      <th>4</th>\n",
       "      <td>4</td>\n",
       "      <td>1</td>\n",
       "      <td>1.0</td>\n",
       "      <td>1.0</td>\n",
       "      <td>2</td>\n",
       "      <td>45.612501</td>\n",
       "      <td>-73.510362</td>\n",
       "      <td>0</td>\n",
       "      <td>0</td>\n",
       "      <td>2</td>\n",
       "      <td>17</td>\n",
       "      <td>10</td>\n",
       "    </tr>\n",
       "    <tr>\n",
       "      <th>...</th>\n",
       "      <td>...</td>\n",
       "      <td>...</td>\n",
       "      <td>...</td>\n",
       "      <td>...</td>\n",
       "      <td>...</td>\n",
       "      <td>...</td>\n",
       "      <td>...</td>\n",
       "      <td>...</td>\n",
       "      <td>...</td>\n",
       "      <td>...</td>\n",
       "      <td>...</td>\n",
       "      <td>...</td>\n",
       "    </tr>\n",
       "    <tr>\n",
       "      <th>869</th>\n",
       "      <td>800</td>\n",
       "      <td>1</td>\n",
       "      <td>7.0</td>\n",
       "      <td>2.0</td>\n",
       "      <td>2</td>\n",
       "      <td>45.773582</td>\n",
       "      <td>-73.999863</td>\n",
       "      <td>0</td>\n",
       "      <td>0</td>\n",
       "      <td>2</td>\n",
       "      <td>17</td>\n",
       "      <td>10</td>\n",
       "    </tr>\n",
       "    <tr>\n",
       "      <th>870</th>\n",
       "      <td>801</td>\n",
       "      <td>1</td>\n",
       "      <td>2.0</td>\n",
       "      <td>1.0</td>\n",
       "      <td>2</td>\n",
       "      <td>45.771883</td>\n",
       "      <td>-73.996031</td>\n",
       "      <td>0</td>\n",
       "      <td>0</td>\n",
       "      <td>2</td>\n",
       "      <td>17</td>\n",
       "      <td>10</td>\n",
       "    </tr>\n",
       "    <tr>\n",
       "      <th>871</th>\n",
       "      <td>802</td>\n",
       "      <td>1</td>\n",
       "      <td>1.0</td>\n",
       "      <td>1.0</td>\n",
       "      <td>3</td>\n",
       "      <td>45.774653</td>\n",
       "      <td>-74.003878</td>\n",
       "      <td>0</td>\n",
       "      <td>0</td>\n",
       "      <td>2</td>\n",
       "      <td>17</td>\n",
       "      <td>10</td>\n",
       "    </tr>\n",
       "    <tr>\n",
       "      <th>872</th>\n",
       "      <td>803</td>\n",
       "      <td>1</td>\n",
       "      <td>4.0</td>\n",
       "      <td>1.0</td>\n",
       "      <td>1</td>\n",
       "      <td>45.766680</td>\n",
       "      <td>-73.999248</td>\n",
       "      <td>0</td>\n",
       "      <td>0</td>\n",
       "      <td>2</td>\n",
       "      <td>17</td>\n",
       "      <td>9</td>\n",
       "    </tr>\n",
       "    <tr>\n",
       "      <th>873</th>\n",
       "      <td>804</td>\n",
       "      <td>1</td>\n",
       "      <td>1.0</td>\n",
       "      <td>1.0</td>\n",
       "      <td>2</td>\n",
       "      <td>45.761751</td>\n",
       "      <td>-73.997054</td>\n",
       "      <td>0</td>\n",
       "      <td>0</td>\n",
       "      <td>2</td>\n",
       "      <td>17</td>\n",
       "      <td>10</td>\n",
       "    </tr>\n",
       "  </tbody>\n",
       "</table>\n",
       "<p>874 rows × 12 columns</p>\n",
       "</div>"
      ],
      "text/plain": [
       "     ZIP  Access Days Time  EV Level2 EVSE Num  EV DC Fast Count  EV Network  \\\n",
       "0      0                 1                 2.0               1.0           2   \n",
       "1      1                 1                 1.0               1.0           2   \n",
       "2      2                 1                 2.0               1.0           2   \n",
       "3      3                 1                 1.0               1.0           2   \n",
       "4      4                 1                 1.0               1.0           2   \n",
       "..   ...               ...                 ...               ...         ...   \n",
       "869  800                 1                 7.0               2.0           2   \n",
       "870  801                 1                 2.0               1.0           2   \n",
       "871  802                 1                 1.0               1.0           3   \n",
       "872  803                 1                 4.0               1.0           1   \n",
       "873  804                 1                 1.0               1.0           2   \n",
       "\n",
       "      Latitude  Longitude  EV Connector Types  Access Code  \\\n",
       "0    45.668567 -73.494620                   0            0   \n",
       "1    45.657335 -73.508256                   0            0   \n",
       "2    45.657871 -73.508430                   0            0   \n",
       "3    45.650494 -73.511673                   0            0   \n",
       "4    45.612501 -73.510362                   0            0   \n",
       "..         ...        ...                 ...          ...   \n",
       "869  45.773582 -73.999863                   0            0   \n",
       "870  45.771883 -73.996031                   0            0   \n",
       "871  45.774653 -74.003878                   0            0   \n",
       "872  45.766680 -73.999248                   0            0   \n",
       "873  45.761751 -73.997054                   0            0   \n",
       "\n",
       "     Access Detail Code Facility Type  EV Pricing  \n",
       "0                     2            17          10  \n",
       "1                     2            17          10  \n",
       "2                     2            17          10  \n",
       "3                     2            17          10  \n",
       "4                     2            17          10  \n",
       "..                  ...           ...         ...  \n",
       "869                   2            17          10  \n",
       "870                   2            17          10  \n",
       "871                   2            17          10  \n",
       "872                   2            17           9  \n",
       "873                   2            17          10  \n",
       "\n",
       "[874 rows x 12 columns]"
      ]
     },
     "execution_count": 151,
     "metadata": {},
     "output_type": "execute_result"
    }
   ],
   "source": [
    "montreal_dataset"
   ]
  },
  {
   "cell_type": "markdown",
   "id": "exempt-riding",
   "metadata": {},
   "source": [
    "Finding optimal no. of clusters (to predict optimal-tier location based on dataset)"
   ]
  },
  {
   "cell_type": "code",
   "execution_count": 152,
   "id": "fewer-introduction",
   "metadata": {},
   "outputs": [],
   "source": [
    "wcss = []\n",
    "for i in range(1, 11):\n",
    "    kmeans = KMeans(n_clusters = i)\n",
    "    # kmeans = KMeans(n_clusters = i, init = 'k-means++', random_state = 42)\n",
    "    # kmeans.fit(montreal_dataset)\n",
    "    # mon_dataset = montreal_dataset[['EV Level2 EVSE Num','EV DC Fast Count','Latitude','Longitude','Facility Type','ZIP']]\n",
    "    mon_dataset = montreal_dataset[['EV Level2 EVSE Num','EV DC Fast Count','Latitude','Longitude','Facility Type','ZIP','EV Connector Types','Access Code']]\n",
    "    X = mon_dataset\n",
    "    # removed EV Network, Access Detail Code, EV pricing since they are not our interested values\n",
    "    kmeans.fit(X)\n",
    "    # kmeans.fit(montreal_dataset[['EV Level2 EVSE Num','EV DC Fast Count',\t'EV Network','Latitude','Longitude','Access Detail Code','Facility Type','EV Pricing']])\n",
    "    \n",
    "    # inertia method returns wcss for that model\n",
    "    wcss.append(kmeans.inertia_)"
   ]
  },
  {
   "cell_type": "markdown",
   "id": "broadband-mayor",
   "metadata": {},
   "source": [
    "Fitting K-Means to the dataset"
   ]
  },
  {
   "cell_type": "code",
   "execution_count": 153,
   "id": "growing-pharmacy",
   "metadata": {},
   "outputs": [],
   "source": [
    "kmeans = KMeans(n_clusters = 30)    \n",
    "y_kmeans = kmeans.fit_predict(X)"
   ]
  },
  {
   "cell_type": "code",
   "execution_count": 154,
   "id": "seeing-business",
   "metadata": {},
   "outputs": [
    {
     "data": {
      "text/plain": [
       "array([[  2.32258065,   1.        ,  45.52999668, -73.59926752,\n",
       "         17.        , 241.87096774,   0.        ,   0.        ],\n",
       "       [  1.81481481,   1.        ,  45.54934242, -73.42877885,\n",
       "         15.22222222, 661.81481481,   0.        ,   0.        ],\n",
       "       [  2.32      ,   1.04      ,  45.60287283, -73.55141014,\n",
       "         17.        ,  34.2       ,   0.        ,   0.        ],\n",
       "       [  1.89655172,   1.        ,  45.48294173, -73.61928542,\n",
       "         17.        , 476.        ,   0.        ,   0.        ],\n",
       "       [  1.80645161,   1.06451613,  45.7056169 , -73.65044881,\n",
       "         15.67741935, 760.90322581,   0.        ,   0.        ],\n",
       "       [  3.29166667,   1.        ,  45.51949968, -73.57731725,\n",
       "         14.875     , 343.95833333,   0.        ,   0.        ],\n",
       "       [  2.08571429,   1.        ,  45.57767277, -73.60518098,\n",
       "         17.        , 117.65714286,   0.        ,   0.        ],\n",
       "       [  2.60714286,   1.75      ,  45.55493178, -73.75885882,\n",
       "         16.42857143, 585.35714286,   0.        ,   0.        ],\n",
       "       [  2.64516129,   1.        ,  45.54623165, -73.58347052,\n",
       "         16.83870968, 183.        ,   0.        ,   0.        ],\n",
       "       [  1.96551724,   1.03448276,  45.48447134, -73.57890823,\n",
       "         16.55172414, 447.62068966,   0.        ,   0.        ],\n",
       "       [  2.65517241,   1.03448276,  45.55004299, -73.68361715,\n",
       "         16.89655172, 534.72413793,   0.        ,   0.        ],\n",
       "       [  2.48148148,   1.55555556,  45.45895335, -73.46977943,\n",
       "         14.11111111, 712.03703704,   0.        ,   0.        ],\n",
       "       [  3.27586207,   1.        ,  45.49337369, -73.5585131 ,\n",
       "         15.24137931, 320.17241379,   0.        ,   0.        ],\n",
       "       [  2.5       ,   1.        ,  45.50562866, -73.62883263,\n",
       "         15.7       , 393.63333333,   0.        ,   0.        ],\n",
       "       [  2.48387097,   1.80645161,  45.48721323, -73.76325819,\n",
       "         17.        , 637.        ,   0.        ,   0.        ],\n",
       "       [  2.3030303 ,   1.        ,  45.54932209, -73.55746936,\n",
       "         17.        ,  86.3030303 ,   0.        ,   0.        ],\n",
       "       [  1.94285714,   1.        ,  45.53553388, -73.58485565,\n",
       "         17.        , 151.2       ,   0.        ,   0.        ],\n",
       "       [  3.22222222,   1.11111111,  45.50720655, -73.56396952,\n",
       "         15.22222222, 270.        ,   0.        ,   0.        ],\n",
       "       [  1.88235294,   1.05882353,  45.71853885, -73.95460415,\n",
       "         15.14705882, 788.97058824,   0.        ,   0.        ],\n",
       "       [  1.72      ,   1.04      ,  45.67375641, -73.48456768,\n",
       "         16.32      ,  11.        ,   0.        ,   0.        ],\n",
       "       [  2.10344828,   1.        ,  45.54401472, -73.629203  ,\n",
       "         17.        , 213.        ,   0.        ,   0.        ],\n",
       "       [  2.20512821,   1.33333333,  45.51149919, -73.68477385,\n",
       "         16.58974359, 505.87179487,   0.        ,   0.        ],\n",
       "       [  2.        ,   1.03703704,  45.53027514, -73.67218026,\n",
       "         16.51851852, 610.25925926,   0.        ,   0.        ],\n",
       "       [  2.40740741,   1.14814815,  45.57388408, -73.75426108,\n",
       "         16.40740741, 561.25925926,   0.        ,   0.        ],\n",
       "       [  1.89285714,   1.17857143,  45.67481567, -73.52218143,\n",
       "         17.        , 736.        ,   0.        ,   0.        ],\n",
       "       [  2.21428571,   1.        ,  45.47828645, -73.61845392,\n",
       "         16.82142857, 421.42857143,   0.        ,   0.        ],\n",
       "       [  1.92857143,   1.        ,  45.57127416, -73.57296626,\n",
       "         17.        ,  59.35714286,   0.        ,   0.        ],\n",
       "       [  2.07692308,   1.03846154,  45.52695955, -73.49840203,\n",
       "         16.38461538, 687.07692308,   0.        ,   0.        ],\n",
       "       [  2.16      ,   1.        ,  45.51322666, -73.61309289,\n",
       "         17.        , 368.        ,   0.        ,   0.        ],\n",
       "       [  3.77777778,   1.        ,  45.50217916, -73.57143383,\n",
       "         13.96296296, 296.        ,   0.        ,   0.        ]])"
      ]
     },
     "execution_count": 154,
     "metadata": {},
     "output_type": "execute_result"
    }
   ],
   "source": [
    "kmeans.cluster_centers_"
   ]
  },
  {
   "cell_type": "code",
   "execution_count": 155,
   "id": "enhanced-printer",
   "metadata": {},
   "outputs": [],
   "source": [
    "montreal_centroids = kmeans.cluster_centers_"
   ]
  },
  {
   "cell_type": "code",
   "execution_count": 156,
   "id": "faced-position",
   "metadata": {},
   "outputs": [
    {
     "data": {
      "text/plain": [
       "array([2.32258065, 1.81481481, 2.32      , 1.89655172, 1.80645161,\n",
       "       3.29166667, 2.08571429, 2.60714286, 2.64516129, 1.96551724,\n",
       "       2.65517241, 2.48148148, 3.27586207, 2.5       , 2.48387097,\n",
       "       2.3030303 , 1.94285714, 3.22222222, 1.88235294, 1.72      ,\n",
       "       2.10344828, 2.20512821, 2.        , 2.40740741, 1.89285714,\n",
       "       2.21428571, 1.92857143, 2.07692308, 2.16      , 3.77777778])"
      ]
     },
     "execution_count": 156,
     "metadata": {},
     "output_type": "execute_result"
    }
   ],
   "source": [
    "montreal_centroids[:, 0]"
   ]
  },
  {
   "cell_type": "markdown",
   "id": "proper-grain",
   "metadata": {},
   "source": [
    "Ideal Location for Latitude and Longitude according to the concerned data values from the greater montreal dataset"
   ]
  },
  {
   "cell_type": "code",
   "execution_count": 157,
   "id": "hired-herald",
   "metadata": {},
   "outputs": [
    {
     "data": {
      "image/png": "[encoded data removed]",
      "text/plain": [
       "<Figure size 432x288 with 1 Axes>"
      ]
     },
     "metadata": {
      "needs_background": "light"
     },
     "output_type": "display_data"
    },
    {
     "name": "stdout",
     "output_type": "stream",
     "text": [
      "Ideal points for Latitude: [45.52999668 45.54934242 45.60287283 45.48294173 45.7056169  45.51949968\n",
      " 45.57767277 45.55493178 45.54623165 45.48447134 45.55004299 45.45895335\n",
      " 45.49337369 45.50562866 45.48721323 45.54932209 45.53553388 45.50720655\n",
      " 45.71853885 45.67375641 45.54401472 45.51149919 45.53027514 45.57388408\n",
      " 45.67481567 45.47828645 45.57127416 45.52695955 45.51322666 45.50217916]\n",
      "Ideal points for Longitude: [-73.59926752 -73.42877885 -73.55141014 -73.61928542 -73.65044881\n",
      " -73.57731725 -73.60518098 -73.75885882 -73.58347052 -73.57890823\n",
      " -73.68361715 -73.46977943 -73.5585131  -73.62883263 -73.76325819\n",
      " -73.55746936 -73.58485565 -73.56396952 -73.95460415 -73.48456768\n",
      " -73.629203   -73.68477385 -73.67218026 -73.75426108 -73.52218143\n",
      " -73.61845392 -73.57296626 -73.49840203 -73.61309289 -73.57143383]\n"
     ]
    }
   ],
   "source": [
    "plt.scatter(montreal_dataset['Latitude'],montreal_dataset['Longitude'],c='black', label= 'Longitude & Latitude',s=5)\n",
    "plt.scatter(montreal_centroids[:, 2], montreal_centroids[:, 3], c='red', label='Ideal points for Latitude and Longitude', s=10)\n",
    "plt.xlabel('Latitude')\n",
    "plt.ylabel('Longitude')\n",
    "plt.legend()\n",
    "plt.show()\n",
    "print(\"Ideal points for Latitude:\", montreal_centroids[:, 2])\n",
    "print(\"Ideal points for Longitude:\", montreal_centroids[:, 3])"
   ]
  },
  {
   "cell_type": "markdown",
   "id": "brown-connectivity",
   "metadata": {},
   "source": [
    "Ideal for EVSE Level Num2 and EV DC Fast Count"
   ]
  },
  {
   "cell_type": "code",
   "execution_count": 158,
   "id": "manufactured-identifier",
   "metadata": {},
   "outputs": [
    {
     "data": {
      "image/png": "[encoded data removed]",
      "text/plain": [
       "<Figure size 432x288 with 1 Axes>"
      ]
     },
     "metadata": {
      "needs_background": "light"
     },
     "output_type": "display_data"
    },
    {
     "name": "stdout",
     "output_type": "stream",
     "text": [
      "Ideal Location for EV Level2 EVSE Num: [2.32258065 1.81481481 2.32       1.89655172 1.80645161 3.29166667\n",
      " 2.08571429 2.60714286 2.64516129 1.96551724 2.65517241 2.48148148\n",
      " 3.27586207 2.5        2.48387097 2.3030303  1.94285714 3.22222222\n",
      " 1.88235294 1.72       2.10344828 2.20512821 2.         2.40740741\n",
      " 1.89285714 2.21428571 1.92857143 2.07692308 2.16       3.77777778]\n",
      "Ideal Location for EV DC Fast Count: [1.         1.         1.04       1.         1.06451613 1.\n",
      " 1.         1.75       1.         1.03448276 1.03448276 1.55555556\n",
      " 1.         1.         1.80645161 1.         1.         1.11111111\n",
      " 1.05882353 1.04       1.         1.33333333 1.03703704 1.14814815\n",
      " 1.17857143 1.         1.         1.03846154 1.         1.        ]\n"
     ]
    }
   ],
   "source": [
    "plt.scatter(montreal_dataset['EV Level2 EVSE Num'],montreal_dataset['EV DC Fast Count'],c='black', label= 'EV Level2 EVSE Num & EV DC Fast Count',s=5)\n",
    "plt.scatter(montreal_centroids[:, 0], montreal_centroids[:, 1], c='red',label=\"Ideal points for EVSE Level Num2 & EV DC Fast Count\", s=10)\n",
    "plt.xlabel(\"EV Level2 EVSE Num\")\n",
    "plt.ylabel(\"EV DC Fast Count\")\n",
    "plt.legend()\n",
    "plt.show()\n",
    "print('Ideal Location for EV Level2 EVSE Num:', montreal_centroids[:,0])\n",
    "print('Ideal Location for EV DC Fast Count:', montreal_centroids[:,1])"
   ]
  },
  {
   "cell_type": "code",
   "execution_count": 159,
   "id": "available-ladder",
   "metadata": {},
   "outputs": [
    {
     "data": {
      "text/html": [
       "<div>\n",
       "<style scoped>\n",
       "    .dataframe tbody tr th:only-of-type {\n",
       "        vertical-align: middle;\n",
       "    }\n",
       "\n",
       "    .dataframe tbody tr th {\n",
       "        vertical-align: top;\n",
       "    }\n",
       "\n",
       "    .dataframe thead th {\n",
       "        text-align: right;\n",
       "    }\n",
       "</style>\n",
       "<table border=\"1\" class=\"dataframe\">\n",
       "  <thead>\n",
       "    <tr style=\"text-align: right;\">\n",
       "      <th></th>\n",
       "      <th>EV Level2 EVSE Num</th>\n",
       "      <th>EV DC Fast Count</th>\n",
       "      <th>Latitude</th>\n",
       "      <th>Longitude</th>\n",
       "      <th>Facility Type</th>\n",
       "      <th>ZIP</th>\n",
       "      <th>EV Connector Types</th>\n",
       "      <th>Access Code</th>\n",
       "    </tr>\n",
       "  </thead>\n",
       "  <tbody>\n",
       "    <tr>\n",
       "      <th>0</th>\n",
       "      <td>2.0</td>\n",
       "      <td>1.0</td>\n",
       "      <td>45.668567</td>\n",
       "      <td>-73.494620</td>\n",
       "      <td>17</td>\n",
       "      <td>0</td>\n",
       "      <td>0</td>\n",
       "      <td>0</td>\n",
       "    </tr>\n",
       "    <tr>\n",
       "      <th>1</th>\n",
       "      <td>1.0</td>\n",
       "      <td>1.0</td>\n",
       "      <td>45.657335</td>\n",
       "      <td>-73.508256</td>\n",
       "      <td>17</td>\n",
       "      <td>1</td>\n",
       "      <td>0</td>\n",
       "      <td>0</td>\n",
       "    </tr>\n",
       "    <tr>\n",
       "      <th>2</th>\n",
       "      <td>2.0</td>\n",
       "      <td>1.0</td>\n",
       "      <td>45.657871</td>\n",
       "      <td>-73.508430</td>\n",
       "      <td>17</td>\n",
       "      <td>2</td>\n",
       "      <td>0</td>\n",
       "      <td>0</td>\n",
       "    </tr>\n",
       "    <tr>\n",
       "      <th>3</th>\n",
       "      <td>1.0</td>\n",
       "      <td>1.0</td>\n",
       "      <td>45.650494</td>\n",
       "      <td>-73.511673</td>\n",
       "      <td>17</td>\n",
       "      <td>3</td>\n",
       "      <td>0</td>\n",
       "      <td>0</td>\n",
       "    </tr>\n",
       "    <tr>\n",
       "      <th>4</th>\n",
       "      <td>1.0</td>\n",
       "      <td>1.0</td>\n",
       "      <td>45.612501</td>\n",
       "      <td>-73.510362</td>\n",
       "      <td>17</td>\n",
       "      <td>4</td>\n",
       "      <td>0</td>\n",
       "      <td>0</td>\n",
       "    </tr>\n",
       "    <tr>\n",
       "      <th>...</th>\n",
       "      <td>...</td>\n",
       "      <td>...</td>\n",
       "      <td>...</td>\n",
       "      <td>...</td>\n",
       "      <td>...</td>\n",
       "      <td>...</td>\n",
       "      <td>...</td>\n",
       "      <td>...</td>\n",
       "    </tr>\n",
       "    <tr>\n",
       "      <th>869</th>\n",
       "      <td>7.0</td>\n",
       "      <td>2.0</td>\n",
       "      <td>45.773582</td>\n",
       "      <td>-73.999863</td>\n",
       "      <td>17</td>\n",
       "      <td>800</td>\n",
       "      <td>0</td>\n",
       "      <td>0</td>\n",
       "    </tr>\n",
       "    <tr>\n",
       "      <th>870</th>\n",
       "      <td>2.0</td>\n",
       "      <td>1.0</td>\n",
       "      <td>45.771883</td>\n",
       "      <td>-73.996031</td>\n",
       "      <td>17</td>\n",
       "      <td>801</td>\n",
       "      <td>0</td>\n",
       "      <td>0</td>\n",
       "    </tr>\n",
       "    <tr>\n",
       "      <th>871</th>\n",
       "      <td>1.0</td>\n",
       "      <td>1.0</td>\n",
       "      <td>45.774653</td>\n",
       "      <td>-74.003878</td>\n",
       "      <td>17</td>\n",
       "      <td>802</td>\n",
       "      <td>0</td>\n",
       "      <td>0</td>\n",
       "    </tr>\n",
       "    <tr>\n",
       "      <th>872</th>\n",
       "      <td>4.0</td>\n",
       "      <td>1.0</td>\n",
       "      <td>45.766680</td>\n",
       "      <td>-73.999248</td>\n",
       "      <td>17</td>\n",
       "      <td>803</td>\n",
       "      <td>0</td>\n",
       "      <td>0</td>\n",
       "    </tr>\n",
       "    <tr>\n",
       "      <th>873</th>\n",
       "      <td>1.0</td>\n",
       "      <td>1.0</td>\n",
       "      <td>45.761751</td>\n",
       "      <td>-73.997054</td>\n",
       "      <td>17</td>\n",
       "      <td>804</td>\n",
       "      <td>0</td>\n",
       "      <td>0</td>\n",
       "    </tr>\n",
       "  </tbody>\n",
       "</table>\n",
       "<p>874 rows × 8 columns</p>\n",
       "</div>"
      ],
      "text/plain": [
       "     EV Level2 EVSE Num  EV DC Fast Count   Latitude  Longitude Facility Type  \\\n",
       "0                   2.0               1.0  45.668567 -73.494620            17   \n",
       "1                   1.0               1.0  45.657335 -73.508256            17   \n",
       "2                   2.0               1.0  45.657871 -73.508430            17   \n",
       "3                   1.0               1.0  45.650494 -73.511673            17   \n",
       "4                   1.0               1.0  45.612501 -73.510362            17   \n",
       "..                  ...               ...        ...        ...           ...   \n",
       "869                 7.0               2.0  45.773582 -73.999863            17   \n",
       "870                 2.0               1.0  45.771883 -73.996031            17   \n",
       "871                 1.0               1.0  45.774653 -74.003878            17   \n",
       "872                 4.0               1.0  45.766680 -73.999248            17   \n",
       "873                 1.0               1.0  45.761751 -73.997054            17   \n",
       "\n",
       "     ZIP  EV Connector Types  Access Code  \n",
       "0      0                   0            0  \n",
       "1      1                   0            0  \n",
       "2      2                   0            0  \n",
       "3      3                   0            0  \n",
       "4      4                   0            0  \n",
       "..   ...                 ...          ...  \n",
       "869  800                   0            0  \n",
       "870  801                   0            0  \n",
       "871  802                   0            0  \n",
       "872  803                   0            0  \n",
       "873  804                   0            0  \n",
       "\n",
       "[874 rows x 8 columns]"
      ]
     },
     "execution_count": 159,
     "metadata": {},
     "output_type": "execute_result"
    }
   ],
   "source": [
    "mon_dataset"
   ]
  },
  {
   "cell_type": "code",
   "execution_count": 160,
   "id": "original-miniature",
   "metadata": {},
   "outputs": [
    {
     "data": {
      "text/plain": [
       "1.7199999999999998"
      ]
     },
     "execution_count": 160,
     "metadata": {},
     "output_type": "execute_result"
    }
   ],
   "source": [
    "stats.mode(montreal_centroids[:,0])[0][0]"
   ]
  },
  {
   "cell_type": "code",
   "execution_count": 161,
   "id": "statewide-savannah",
   "metadata": {},
   "outputs": [
    {
     "data": {
      "text/plain": [
       "2.3329616569441316"
      ]
     },
     "execution_count": 161,
     "metadata": {},
     "output_type": "execute_result"
    }
   ],
   "source": [
    "np.mean(montreal_centroids[:,0])"
   ]
  },
  {
   "cell_type": "code",
   "execution_count": 162,
   "id": "alike-composite",
   "metadata": {},
   "outputs": [
    {
     "data": {
      "text/plain": [
       "2.20970695970696"
      ]
     },
     "execution_count": 162,
     "metadata": {},
     "output_type": "execute_result"
    }
   ],
   "source": [
    "np.median(montreal_centroids[:,0])"
   ]
  },
  {
   "cell_type": "markdown",
   "id": "alone-bracket",
   "metadata": {},
   "source": [
    "Ideal EV DC Fast Count"
   ]
  },
  {
   "cell_type": "code",
   "execution_count": 163,
   "id": "capable-collective",
   "metadata": {},
   "outputs": [
    {
     "data": {
      "text/plain": [
       "1.0"
      ]
     },
     "execution_count": 163,
     "metadata": {},
     "output_type": "execute_result"
    }
   ],
   "source": [
    "stats.mode(montreal_centroids[:,1])[0][0]"
   ]
  },
  {
   "cell_type": "markdown",
   "id": "western-rendering",
   "metadata": {},
   "source": [
    "Looking for ideal location ZIP code"
   ]
  },
  {
   "cell_type": "code",
   "execution_count": 164,
   "id": "logical-lightweight",
   "metadata": {},
   "outputs": [],
   "source": [
    "zip_mode = stats.mode(montreal_centroids[:,5])   # last column is of ZIP"
   ]
  },
  {
   "cell_type": "code",
   "execution_count": 165,
   "id": "aggregate-branch",
   "metadata": {},
   "outputs": [
    {
     "data": {
      "text/plain": [
       "11.0"
      ]
     },
     "execution_count": 165,
     "metadata": {},
     "output_type": "execute_result"
    }
   ],
   "source": [
    "zip_mode[0][0]   # we have found our number, we then decode to the value"
   ]
  },
  {
   "cell_type": "code",
   "execution_count": 166,
   "id": "white-dimension",
   "metadata": {},
   "outputs": [],
   "source": [
    "# function to return key for any value\n",
    "def get_key(val,my_dict):\n",
    "    for key, value in my_dict.items():\n",
    "         if val == value:\n",
    "             return key\n",
    " \n",
    "    return \"key doesn't exist\""
   ]
  },
  {
   "cell_type": "code",
   "execution_count": 167,
   "id": "specialized-notification",
   "metadata": {},
   "outputs": [
    {
     "data": {
      "text/plain": [
       "'H1H 4W3'"
      ]
     },
     "execution_count": 167,
     "metadata": {},
     "output_type": "execute_result"
    }
   ],
   "source": [
    "get_key(23,zip_mapping)   # here is the value of ZIP"
   ]
  },
  {
   "cell_type": "code",
   "execution_count": 168,
   "id": "permanent-public",
   "metadata": {},
   "outputs": [
    {
     "data": {
      "text/plain": [
       "'H1H 5R5'"
      ]
     },
     "execution_count": 168,
     "metadata": {},
     "output_type": "execute_result"
    }
   ],
   "source": [
    "get_key(24,zip_mapping)   # since we got vale 23.55, we have assumed both the values of 23 and 24"
   ]
  },
  {
   "cell_type": "markdown",
   "id": "rocky-effects",
   "metadata": {},
   "source": [
    "Applying kmeans clustering to other datasets as well"
   ]
  },
  {
   "cell_type": "code",
   "execution_count": 169,
   "id": "absolute-consumption",
   "metadata": {},
   "outputs": [],
   "source": [
    "census_1 = census_dataset[['X','Y','2016 Population','2016 Dwelling Count','2016 Occupied Dwelling Count','Area (sq. km)']]"
   ]
  },
  {
   "cell_type": "code",
   "execution_count": 170,
   "id": "accepting-stevens",
   "metadata": {
    "scrolled": true
   },
   "outputs": [
    {
     "data": {
      "text/html": [
       "<div>\n",
       "<style scoped>\n",
       "    .dataframe tbody tr th:only-of-type {\n",
       "        vertical-align: middle;\n",
       "    }\n",
       "\n",
       "    .dataframe tbody tr th {\n",
       "        vertical-align: top;\n",
       "    }\n",
       "\n",
       "    .dataframe thead th {\n",
       "        text-align: right;\n",
       "    }\n",
       "</style>\n",
       "<table border=\"1\" class=\"dataframe\">\n",
       "  <thead>\n",
       "    <tr style=\"text-align: right;\">\n",
       "      <th></th>\n",
       "      <th>X</th>\n",
       "      <th>Y</th>\n",
       "      <th>2016 Population</th>\n",
       "      <th>2016 Dwelling Count</th>\n",
       "      <th>2016 Occupied Dwelling Count</th>\n",
       "      <th>Area (sq. km)</th>\n",
       "    </tr>\n",
       "  </thead>\n",
       "  <tbody>\n",
       "    <tr>\n",
       "      <th>0</th>\n",
       "      <td>-74.01211</td>\n",
       "      <td>45.66353</td>\n",
       "      <td>50513</td>\n",
       "      <td>20395</td>\n",
       "      <td>19631</td>\n",
       "      <td>994.845387</td>\n",
       "    </tr>\n",
       "    <tr>\n",
       "      <th>1</th>\n",
       "      <td>-73.49604</td>\n",
       "      <td>45.54300</td>\n",
       "      <td>85721</td>\n",
       "      <td>34249</td>\n",
       "      <td>33257</td>\n",
       "      <td>92.228456</td>\n",
       "    </tr>\n",
       "    <tr>\n",
       "      <th>2</th>\n",
       "      <td>-73.49604</td>\n",
       "      <td>45.54300</td>\n",
       "      <td>41671</td>\n",
       "      <td>17134</td>\n",
       "      <td>16888</td>\n",
       "      <td>144.089454</td>\n",
       "    </tr>\n",
       "    <tr>\n",
       "      <th>3</th>\n",
       "      <td>-73.49604</td>\n",
       "      <td>45.54300</td>\n",
       "      <td>239700</td>\n",
       "      <td>110761</td>\n",
       "      <td>105533</td>\n",
       "      <td>235.667385</td>\n",
       "    </tr>\n",
       "    <tr>\n",
       "      <th>4</th>\n",
       "      <td>-73.49604</td>\n",
       "      <td>45.54300</td>\n",
       "      <td>26394</td>\n",
       "      <td>10418</td>\n",
       "      <td>10243</td>\n",
       "      <td>89.449089</td>\n",
       "    </tr>\n",
       "    <tr>\n",
       "      <th>5</th>\n",
       "      <td>-73.42399</td>\n",
       "      <td>45.83146</td>\n",
       "      <td>5913</td>\n",
       "      <td>2962</td>\n",
       "      <td>2878</td>\n",
       "      <td>4.751278</td>\n",
       "    </tr>\n",
       "    <tr>\n",
       "      <th>6</th>\n",
       "      <td>-73.42399</td>\n",
       "      <td>45.83146</td>\n",
       "      <td>3439</td>\n",
       "      <td>1494</td>\n",
       "      <td>1435</td>\n",
       "      <td>74.937797</td>\n",
       "    </tr>\n",
       "    <tr>\n",
       "      <th>7</th>\n",
       "      <td>-73.42399</td>\n",
       "      <td>45.83146</td>\n",
       "      <td>84285</td>\n",
       "      <td>33876</td>\n",
       "      <td>33321</td>\n",
       "      <td>127.932585</td>\n",
       "    </tr>\n",
       "    <tr>\n",
       "      <th>8</th>\n",
       "      <td>-73.42399</td>\n",
       "      <td>45.83146</td>\n",
       "      <td>22429</td>\n",
       "      <td>8932</td>\n",
       "      <td>8736</td>\n",
       "      <td>207.825104</td>\n",
       "    </tr>\n",
       "    <tr>\n",
       "      <th>9</th>\n",
       "      <td>-73.42399</td>\n",
       "      <td>45.83146</td>\n",
       "      <td>5493</td>\n",
       "      <td>2240</td>\n",
       "      <td>2166</td>\n",
       "      <td>4.908156</td>\n",
       "    </tr>\n",
       "    <tr>\n",
       "      <th>10</th>\n",
       "      <td>-73.42399</td>\n",
       "      <td>45.83146</td>\n",
       "      <td>3200</td>\n",
       "      <td>1324</td>\n",
       "      <td>1232</td>\n",
       "      <td>113.521740</td>\n",
       "    </tr>\n",
       "    <tr>\n",
       "      <th>11</th>\n",
       "      <td>-73.49604</td>\n",
       "      <td>45.54300</td>\n",
       "      <td>21861</td>\n",
       "      <td>10446</td>\n",
       "      <td>9814</td>\n",
       "      <td>15.451078</td>\n",
       "    </tr>\n",
       "    <tr>\n",
       "      <th>12</th>\n",
       "      <td>-73.55469</td>\n",
       "      <td>45.51240</td>\n",
       "      <td>32448</td>\n",
       "      <td>14376</td>\n",
       "      <td>13490</td>\n",
       "      <td>14.158796</td>\n",
       "    </tr>\n",
       "    <tr>\n",
       "      <th>13</th>\n",
       "      <td>-73.55469</td>\n",
       "      <td>45.51240</td>\n",
       "      <td>6973</td>\n",
       "      <td>2623</td>\n",
       "      <td>2473</td>\n",
       "      <td>3.651437</td>\n",
       "    </tr>\n",
       "    <tr>\n",
       "      <th>14</th>\n",
       "      <td>-73.55469</td>\n",
       "      <td>45.51240</td>\n",
       "      <td>20276</td>\n",
       "      <td>7914</td>\n",
       "      <td>7373</td>\n",
       "      <td>15.342187</td>\n",
       "    </tr>\n",
       "    <tr>\n",
       "      <th>15</th>\n",
       "      <td>-73.55469</td>\n",
       "      <td>45.51240</td>\n",
       "      <td>3850</td>\n",
       "      <td>1856</td>\n",
       "      <td>1734</td>\n",
       "      <td>25.097341</td>\n",
       "    </tr>\n",
       "    <tr>\n",
       "      <th>16</th>\n",
       "      <td>-73.55469</td>\n",
       "      <td>45.51240</td>\n",
       "      <td>1704694</td>\n",
       "      <td>843872</td>\n",
       "      <td>779802</td>\n",
       "      <td>746.007589</td>\n",
       "    </tr>\n",
       "    <tr>\n",
       "      <th>17</th>\n",
       "      <td>-73.55469</td>\n",
       "      <td>45.51240</td>\n",
       "      <td>20312</td>\n",
       "      <td>9617</td>\n",
       "      <td>8685</td>\n",
       "      <td>8.229913</td>\n",
       "    </tr>\n",
       "    <tr>\n",
       "      <th>18</th>\n",
       "      <td>-73.55469</td>\n",
       "      <td>45.51240</td>\n",
       "      <td>3823</td>\n",
       "      <td>1381</td>\n",
       "      <td>1334</td>\n",
       "      <td>12.239964</td>\n",
       "    </tr>\n",
       "    <tr>\n",
       "      <th>19</th>\n",
       "      <td>-73.55469</td>\n",
       "      <td>45.51240</td>\n",
       "      <td>4958</td>\n",
       "      <td>2195</td>\n",
       "      <td>1960</td>\n",
       "      <td>21.301870</td>\n",
       "    </tr>\n",
       "    <tr>\n",
       "      <th>20</th>\n",
       "      <td>-73.55469</td>\n",
       "      <td>45.51240</td>\n",
       "      <td>19324</td>\n",
       "      <td>6828</td>\n",
       "      <td>6662</td>\n",
       "      <td>22.386558</td>\n",
       "    </tr>\n",
       "    <tr>\n",
       "      <th>21</th>\n",
       "      <td>-73.55469</td>\n",
       "      <td>45.51240</td>\n",
       "      <td>921</td>\n",
       "      <td>375</td>\n",
       "      <td>346</td>\n",
       "      <td>15.277311</td>\n",
       "    </tr>\n",
       "    <tr>\n",
       "      <th>22</th>\n",
       "      <td>-73.55469</td>\n",
       "      <td>45.51240</td>\n",
       "      <td>48899</td>\n",
       "      <td>17627</td>\n",
       "      <td>17210</td>\n",
       "      <td>30.673465</td>\n",
       "    </tr>\n",
       "    <tr>\n",
       "      <th>23</th>\n",
       "      <td>-73.55469</td>\n",
       "      <td>45.51240</td>\n",
       "      <td>5</td>\n",
       "      <td>60</td>\n",
       "      <td>4</td>\n",
       "      <td>0.389321</td>\n",
       "    </tr>\n",
       "    <tr>\n",
       "      <th>24</th>\n",
       "      <td>-73.55469</td>\n",
       "      <td>45.51240</td>\n",
       "      <td>31380</td>\n",
       "      <td>12835</td>\n",
       "      <td>12376</td>\n",
       "      <td>38.425267</td>\n",
       "    </tr>\n",
       "    <tr>\n",
       "      <th>25</th>\n",
       "      <td>-73.55469</td>\n",
       "      <td>45.51240</td>\n",
       "      <td>18980</td>\n",
       "      <td>8818</td>\n",
       "      <td>8392</td>\n",
       "      <td>42.507970</td>\n",
       "    </tr>\n",
       "    <tr>\n",
       "      <th>26</th>\n",
       "      <td>-73.55469</td>\n",
       "      <td>45.51240</td>\n",
       "      <td>20151</td>\n",
       "      <td>6779</td>\n",
       "      <td>6682</td>\n",
       "      <td>19.574071</td>\n",
       "    </tr>\n",
       "    <tr>\n",
       "      <th>27</th>\n",
       "      <td>-73.89274</td>\n",
       "      <td>45.54179</td>\n",
       "      <td>1686</td>\n",
       "      <td>865</td>\n",
       "      <td>730</td>\n",
       "      <td>87.569349</td>\n",
       "    </tr>\n",
       "    <tr>\n",
       "      <th>28</th>\n",
       "      <td>-73.74433</td>\n",
       "      <td>45.55201</td>\n",
       "      <td>422993</td>\n",
       "      <td>165686</td>\n",
       "      <td>160328</td>\n",
       "      <td>504.765526</td>\n",
       "    </tr>\n",
       "    <tr>\n",
       "      <th>29</th>\n",
       "      <td>-73.55469</td>\n",
       "      <td>45.51240</td>\n",
       "      <td>5050</td>\n",
       "      <td>1956</td>\n",
       "      <td>1850</td>\n",
       "      <td>2.780542</td>\n",
       "    </tr>\n",
       "    <tr>\n",
       "      <th>30</th>\n",
       "      <td>-73.89274</td>\n",
       "      <td>45.54179</td>\n",
       "      <td>17496</td>\n",
       "      <td>7240</td>\n",
       "      <td>7093</td>\n",
       "      <td>12.409227</td>\n",
       "    </tr>\n",
       "    <tr>\n",
       "      <th>31</th>\n",
       "      <td>-73.89274</td>\n",
       "      <td>45.54179</td>\n",
       "      <td>6428</td>\n",
       "      <td>2696</td>\n",
       "      <td>2618</td>\n",
       "      <td>10.302565</td>\n",
       "    </tr>\n",
       "    <tr>\n",
       "      <th>32</th>\n",
       "      <td>-73.89274</td>\n",
       "      <td>45.54179</td>\n",
       "      <td>18074</td>\n",
       "      <td>6941</td>\n",
       "      <td>6870</td>\n",
       "      <td>18.198250</td>\n",
       "    </tr>\n",
       "    <tr>\n",
       "      <th>33</th>\n",
       "      <td>-73.89274</td>\n",
       "      <td>45.54179</td>\n",
       "      <td>6687</td>\n",
       "      <td>2608</td>\n",
       "      <td>2527</td>\n",
       "      <td>84.732976</td>\n",
       "    </tr>\n",
       "    <tr>\n",
       "      <th>34</th>\n",
       "      <td>-73.89274</td>\n",
       "      <td>45.54179</td>\n",
       "      <td>44008</td>\n",
       "      <td>18742</td>\n",
       "      <td>18347</td>\n",
       "      <td>144.306329</td>\n",
       "    </tr>\n",
       "    <tr>\n",
       "      <th>35</th>\n",
       "      <td>-73.89274</td>\n",
       "      <td>45.54179</td>\n",
       "      <td>3824</td>\n",
       "      <td>1636</td>\n",
       "      <td>1563</td>\n",
       "      <td>117.592420</td>\n",
       "    </tr>\n",
       "    <tr>\n",
       "      <th>36</th>\n",
       "      <td>-73.89274</td>\n",
       "      <td>45.54179</td>\n",
       "      <td>0</td>\n",
       "      <td>0</td>\n",
       "      <td>0</td>\n",
       "      <td>24.129391</td>\n",
       "    </tr>\n",
       "  </tbody>\n",
       "</table>\n",
       "</div>"
      ],
      "text/plain": [
       "           X         Y  2016 Population  2016 Dwelling Count  \\\n",
       "0  -74.01211  45.66353            50513                20395   \n",
       "1  -73.49604  45.54300            85721                34249   \n",
       "2  -73.49604  45.54300            41671                17134   \n",
       "3  -73.49604  45.54300           239700               110761   \n",
       "4  -73.49604  45.54300            26394                10418   \n",
       "5  -73.42399  45.83146             5913                 2962   \n",
       "6  -73.42399  45.83146             3439                 1494   \n",
       "7  -73.42399  45.83146            84285                33876   \n",
       "8  -73.42399  45.83146            22429                 8932   \n",
       "9  -73.42399  45.83146             5493                 2240   \n",
       "10 -73.42399  45.83146             3200                 1324   \n",
       "11 -73.49604  45.54300            21861                10446   \n",
       "12 -73.55469  45.51240            32448                14376   \n",
       "13 -73.55469  45.51240             6973                 2623   \n",
       "14 -73.55469  45.51240            20276                 7914   \n",
       "15 -73.55469  45.51240             3850                 1856   \n",
       "16 -73.55469  45.51240          1704694               843872   \n",
       "17 -73.55469  45.51240            20312                 9617   \n",
       "18 -73.55469  45.51240             3823                 1381   \n",
       "19 -73.55469  45.51240             4958                 2195   \n",
       "20 -73.55469  45.51240            19324                 6828   \n",
       "21 -73.55469  45.51240              921                  375   \n",
       "22 -73.55469  45.51240            48899                17627   \n",
       "23 -73.55469  45.51240                5                   60   \n",
       "24 -73.55469  45.51240            31380                12835   \n",
       "25 -73.55469  45.51240            18980                 8818   \n",
       "26 -73.55469  45.51240            20151                 6779   \n",
       "27 -73.89274  45.54179             1686                  865   \n",
       "28 -73.74433  45.55201           422993               165686   \n",
       "29 -73.55469  45.51240             5050                 1956   \n",
       "30 -73.89274  45.54179            17496                 7240   \n",
       "31 -73.89274  45.54179             6428                 2696   \n",
       "32 -73.89274  45.54179            18074                 6941   \n",
       "33 -73.89274  45.54179             6687                 2608   \n",
       "34 -73.89274  45.54179            44008                18742   \n",
       "35 -73.89274  45.54179             3824                 1636   \n",
       "36 -73.89274  45.54179                0                    0   \n",
       "\n",
       "    2016 Occupied Dwelling Count  Area (sq. km)  \n",
       "0                          19631     994.845387  \n",
       "1                          33257      92.228456  \n",
       "2                          16888     144.089454  \n",
       "3                         105533     235.667385  \n",
       "4                          10243      89.449089  \n",
       "5                           2878       4.751278  \n",
       "6                           1435      74.937797  \n",
       "7                          33321     127.932585  \n",
       "8                           8736     207.825104  \n",
       "9                           2166       4.908156  \n",
       "10                          1232     113.521740  \n",
       "11                          9814      15.451078  \n",
       "12                         13490      14.158796  \n",
       "13                          2473       3.651437  \n",
       "14                          7373      15.342187  \n",
       "15                          1734      25.097341  \n",
       "16                        779802     746.007589  \n",
       "17                          8685       8.229913  \n",
       "18                          1334      12.239964  \n",
       "19                          1960      21.301870  \n",
       "20                          6662      22.386558  \n",
       "21                           346      15.277311  \n",
       "22                         17210      30.673465  \n",
       "23                             4       0.389321  \n",
       "24                         12376      38.425267  \n",
       "25                          8392      42.507970  \n",
       "26                          6682      19.574071  \n",
       "27                           730      87.569349  \n",
       "28                        160328     504.765526  \n",
       "29                          1850       2.780542  \n",
       "30                          7093      12.409227  \n",
       "31                          2618      10.302565  \n",
       "32                          6870      18.198250  \n",
       "33                          2527      84.732976  \n",
       "34                         18347     144.306329  \n",
       "35                          1563     117.592420  \n",
       "36                             0      24.129391  "
      ]
     },
     "execution_count": 170,
     "metadata": {},
     "output_type": "execute_result"
    }
   ],
   "source": [
    "census_1"
   ]
  },
  {
   "cell_type": "markdown",
   "id": "wired-listing",
   "metadata": {},
   "source": [
    "Applying k-means clustering to census dataset"
   ]
  },
  {
   "cell_type": "code",
   "execution_count": 171,
   "id": "demanding-atlas",
   "metadata": {},
   "outputs": [],
   "source": [
    "wcss = []\n",
    "for i in range(1, 11):\n",
    "    kmeans = KMeans(n_clusters = i)\n",
    "    # kmeans = KMeans(n_clusters = i, init = 'k-means++', random_state = 42)\n",
    "    X = census_1\n",
    "    kmeans.fit(X)\n",
    "    # inertia method returns wcss for that model\n",
    "    wcss.append(kmeans.inertia_)"
   ]
  },
  {
   "cell_type": "markdown",
   "id": "packed-latitude",
   "metadata": {},
   "source": [
    "Fitting k-means to the dataset"
   ]
  },
  {
   "cell_type": "code",
   "execution_count": 172,
   "id": "finnish-halifax",
   "metadata": {},
   "outputs": [],
   "source": [
    "kmeans = KMeans(n_clusters = 30)\n",
    "y_kmeans = kmeans.fit_predict(X)"
   ]
  },
  {
   "cell_type": "code",
   "execution_count": 173,
   "id": "killing-trainer",
   "metadata": {},
   "outputs": [
    {
     "data": {
      "text/plain": [
       "array([[-7.35546900e+01,  4.55124000e+01,  4.88990000e+04,\n",
       "         1.76270000e+04,  1.72100000e+04,  3.06734651e+01],\n",
       "       [-7.35546900e+01,  4.55124000e+01,  1.70469400e+06,\n",
       "         8.43872000e+05,  7.79802000e+05,  7.46007589e+02],\n",
       "       [-7.37443300e+01,  4.55520100e+01,  4.22993000e+05,\n",
       "         1.65686000e+05,  1.60328000e+05,  5.04765526e+02],\n",
       "       [-7.34239900e+01,  4.58314600e+01,  5.91300000e+03,\n",
       "         2.96200000e+03,  2.87800000e+03,  4.75127830e+00],\n",
       "       [-7.34960400e+01,  4.55430000e+01,  2.39700000e+05,\n",
       "         1.10761000e+05,  1.05533000e+05,  2.35667385e+02],\n",
       "       [-7.34960400e+01,  4.55430000e+01,  8.57210000e+04,\n",
       "         3.42490000e+04,  3.32570000e+04,  9.22284556e+01],\n",
       "       [-7.34239900e+01,  4.58314600e+01,  2.24290000e+04,\n",
       "         8.93200000e+03,  8.73600000e+03,  2.07825104e+02],\n",
       "       [-7.38927400e+01,  4.55417900e+01,  1.68600000e+03,\n",
       "         8.65000000e+02,  7.30000000e+02,  8.75693488e+01],\n",
       "       [-7.35546900e+01,  4.55124000e+01,  3.24480000e+04,\n",
       "         1.43760000e+04,  1.34900000e+04,  1.41587956e+01],\n",
       "       [-7.35546900e+01,  4.55124000e+01,  2.01510000e+04,\n",
       "         6.77900000e+03,  6.68200000e+03,  1.95740705e+01],\n",
       "       [-7.38927400e+01,  4.55417900e+01,  4.40080000e+04,\n",
       "         1.87420000e+04,  1.83470000e+04,  1.44306329e+02],\n",
       "       [-7.34239900e+01,  4.58314600e+01,  3.31950000e+03,\n",
       "         1.40900000e+03,  1.33350000e+03,  9.42297687e+01],\n",
       "       [-7.40121100e+01,  4.56635300e+01,  5.05130000e+04,\n",
       "         2.03950000e+04,  1.96310000e+04,  9.94845387e+02],\n",
       "       [-7.34960400e+01,  4.55430000e+01,  2.63940000e+04,\n",
       "         1.04180000e+04,  1.02430000e+04,  8.94490890e+01],\n",
       "       [-7.38927400e+01,  4.55417900e+01,  1.74960000e+04,\n",
       "         7.24000000e+03,  7.09300000e+03,  1.24092270e+01],\n",
       "       [-7.34960400e+01,  4.55430000e+01,  4.16710000e+04,\n",
       "         1.71340000e+04,  1.68880000e+04,  1.44089454e+02],\n",
       "       [-7.35546900e+01,  4.55124000e+01,  1.89800000e+04,\n",
       "         8.81800000e+03,  8.39200000e+03,  4.25079696e+01],\n",
       "       [-7.37237150e+01,  4.55270950e+01,  2.50000000e+00,\n",
       "         3.00000000e+01,  2.00000000e+00,  1.22593562e+01],\n",
       "       [-7.35546900e+01,  4.55124000e+01,  3.13800000e+04,\n",
       "         1.28350000e+04,  1.23760000e+04,  3.84252670e+01],\n",
       "       [-7.34960400e+01,  4.55430000e+01,  2.18610000e+04,\n",
       "         1.04460000e+04,  9.81400000e+03,  1.54510780e+01],\n",
       "       [-7.35546900e+01,  4.55124000e+01,  5.00400000e+03,\n",
       "         2.07550000e+03,  1.90500000e+03,  1.20412058e+01],\n",
       "       [-7.35546900e+01,  4.55124000e+01,  2.03120000e+04,\n",
       "         9.61700000e+03,  8.68500000e+03,  8.22991267e+00],\n",
       "       [-7.37800567e+01,  4.55319933e+01,  6.69600000e+03,\n",
       "         2.64233333e+03,  2.53933333e+03,  3.28956592e+01],\n",
       "       [-7.34239900e+01,  4.58314600e+01,  8.42850000e+04,\n",
       "         3.38760000e+04,  3.33210000e+04,  1.27932585e+02],\n",
       "       [-7.35546900e+01,  4.55124000e+01,  2.02760000e+04,\n",
       "         7.91400000e+03,  7.37300000e+03,  1.53421867e+01],\n",
       "       [-7.36673733e+01,  4.55221967e+01,  3.83233333e+03,\n",
       "         1.62433333e+03,  1.54366667e+03,  5.16432416e+01],\n",
       "       [-7.35546900e+01,  4.55124000e+01,  1.93240000e+04,\n",
       "         6.82800000e+03,  6.66200000e+03,  2.23865583e+01],\n",
       "       [-7.35546900e+01,  4.55124000e+01,  9.21000000e+02,\n",
       "         3.75000000e+02,  3.46000000e+02,  1.52773114e+01],\n",
       "       [-7.38927400e+01,  4.55417900e+01,  1.80740000e+04,\n",
       "         6.94100000e+03,  6.87000000e+03,  1.81982501e+01],\n",
       "       [-7.34239900e+01,  4.58314600e+01,  5.49300000e+03,\n",
       "         2.24000000e+03,  2.16600000e+03,  4.90815554e+00]])"
      ]
     },
     "execution_count": 173,
     "metadata": {},
     "output_type": "execute_result"
    }
   ],
   "source": [
    "kmeans.cluster_centers_"
   ]
  },
  {
   "cell_type": "code",
   "execution_count": 174,
   "id": "excess-reporter",
   "metadata": {},
   "outputs": [],
   "source": [
    "census_centroids = kmeans.cluster_centers_"
   ]
  },
  {
   "cell_type": "code",
   "execution_count": 175,
   "id": "supposed-anaheim",
   "metadata": {},
   "outputs": [
    {
     "data": {
      "text/plain": [
       "(array([-73.55469   , -73.55469   , -73.74433   , -73.42399   ,\n",
       "        -73.49604   , -73.49604   , -73.42399   , -73.89274   ,\n",
       "        -73.55469   , -73.55469   , -73.89274   , -73.42399   ,\n",
       "        -74.01211   , -73.49604   , -73.89274   , -73.49604   ,\n",
       "        -73.55469   , -73.723715  , -73.55469   , -73.49604   ,\n",
       "        -73.55469   , -73.55469   , -73.78005667, -73.42399   ,\n",
       "        -73.55469   , -73.66737333, -73.55469   , -73.55469   ,\n",
       "        -73.89274   , -73.42399   ]),\n",
       " array([45.5124    , 45.5124    , 45.55201   , 45.83146   , 45.543     ,\n",
       "        45.543     , 45.83146   , 45.54179   , 45.5124    , 45.5124    ,\n",
       "        45.54179   , 45.83146   , 45.66353   , 45.543     , 45.54179   ,\n",
       "        45.543     , 45.5124    , 45.527095  , 45.5124    , 45.543     ,\n",
       "        45.5124    , 45.5124    , 45.53199333, 45.83146   , 45.5124    ,\n",
       "        45.52219667, 45.5124    , 45.5124    , 45.54179   , 45.83146   ]))"
      ]
     },
     "execution_count": 175,
     "metadata": {},
     "output_type": "execute_result"
    }
   ],
   "source": [
    "census_centroids[:, 0],census_centroids[:,1]"
   ]
  },
  {
   "cell_type": "markdown",
   "id": "initial-broadway",
   "metadata": {},
   "source": [
    "Ideal Location for Latitude and Longitude according to the concerned data values from the census dataset"
   ]
  },
  {
   "cell_type": "code",
   "execution_count": 176,
   "id": "hidden-mortality",
   "metadata": {},
   "outputs": [
    {
     "data": {
      "image/png": "[encoded data removed]",
      "text/plain": [
       "<Figure size 432x288 with 1 Axes>"
      ]
     },
     "metadata": {
      "needs_background": "light"
     },
     "output_type": "display_data"
    },
    {
     "name": "stdout",
     "output_type": "stream",
     "text": [
      "Ideal points for Latitude: [45.5124     45.5124     45.55201    45.83146    45.543      45.543\n",
      " 45.83146    45.54179    45.5124     45.5124     45.54179    45.83146\n",
      " 45.66353    45.543      45.54179    45.543      45.5124     45.527095\n",
      " 45.5124     45.543      45.5124     45.5124     45.53199333 45.83146\n",
      " 45.5124     45.52219667 45.5124     45.5124     45.54179    45.83146   ]\n",
      "Ideal points for Longitude: [-73.55469    -73.55469    -73.74433    -73.42399    -73.49604\n",
      " -73.49604    -73.42399    -73.89274    -73.55469    -73.55469\n",
      " -73.89274    -73.42399    -74.01211    -73.49604    -73.89274\n",
      " -73.49604    -73.55469    -73.723715   -73.55469    -73.49604\n",
      " -73.55469    -73.55469    -73.78005667 -73.42399    -73.55469\n",
      " -73.66737333 -73.55469    -73.55469    -73.89274    -73.42399   ]\n"
     ]
    }
   ],
   "source": [
    "plt.scatter(census_1['Y'],census_1['X'],c='black', label= 'Longitude & Latitude',s=5)\n",
    "plt.scatter(census_centroids[:, 1], census_centroids[:, 0], c='red', label='Ideal points for Latitude and Longitude', s=10)\n",
    "plt.xlabel('Latitude')\n",
    "plt.ylabel('Longitude')\n",
    "plt.legend()\n",
    "plt.show()\n",
    "print(\"Ideal points for Latitude:\", census_centroids[:, 1])\n",
    "print(\"Ideal points for Longitude:\", census_centroids[:, 0])"
   ]
  },
  {
   "cell_type": "markdown",
   "id": "decent-procedure",
   "metadata": {},
   "source": [
    "Ideal for Population and Dwelling Count"
   ]
  },
  {
   "cell_type": "code",
   "execution_count": 177,
   "id": "studied-contributor",
   "metadata": {},
   "outputs": [
    {
     "data": {
      "image/png": "[encoded data removed]",
      "text/plain": [
       "<Figure size 432x288 with 1 Axes>"
      ]
     },
     "metadata": {
      "needs_background": "light"
     },
     "output_type": "display_data"
    },
    {
     "name": "stdout",
     "output_type": "stream",
     "text": [
      "Ideal Location for Population: [4.88990000e+04 1.70469400e+06 4.22993000e+05 5.91300000e+03\n",
      " 2.39700000e+05 8.57210000e+04 2.24290000e+04 1.68600000e+03\n",
      " 3.24480000e+04 2.01510000e+04 4.40080000e+04 3.31950000e+03\n",
      " 5.05130000e+04 2.63940000e+04 1.74960000e+04 4.16710000e+04\n",
      " 1.89800000e+04 2.50000000e+00 3.13800000e+04 2.18610000e+04\n",
      " 5.00400000e+03 2.03120000e+04 6.69600000e+03 8.42850000e+04\n",
      " 2.02760000e+04 3.83233333e+03 1.93240000e+04 9.21000000e+02\n",
      " 1.80740000e+04 5.49300000e+03]\n",
      "Ideal Location for Dwelling Count: [1.76270000e+04 8.43872000e+05 1.65686000e+05 2.96200000e+03\n",
      " 1.10761000e+05 3.42490000e+04 8.93200000e+03 8.65000000e+02\n",
      " 1.43760000e+04 6.77900000e+03 1.87420000e+04 1.40900000e+03\n",
      " 2.03950000e+04 1.04180000e+04 7.24000000e+03 1.71340000e+04\n",
      " 8.81800000e+03 3.00000000e+01 1.28350000e+04 1.04460000e+04\n",
      " 2.07550000e+03 9.61700000e+03 2.64233333e+03 3.38760000e+04\n",
      " 7.91400000e+03 1.62433333e+03 6.82800000e+03 3.75000000e+02\n",
      " 6.94100000e+03 2.24000000e+03]\n"
     ]
    }
   ],
   "source": [
    "plt.scatter(census_1['2016 Population'],census_1['2016 Dwelling Count'],c='black', label= 'Population and Dwelling Count',s=5)\n",
    "plt.scatter(census_centroids[:, 2], census_centroids[:, 3], c='red',label=\"Ideal points for Population and Dwelling Count\", s=10)\n",
    "plt.xlabel(\"Population\")\n",
    "plt.ylabel(\"Dwelling Count\")\n",
    "plt.legend()\n",
    "plt.show()\n",
    "print('Ideal Location for Population:', census_centroids[:,2])\n",
    "print('Ideal Location for Dwelling Count:', census_centroids[:,3])"
   ]
  },
  {
   "cell_type": "raw",
   "id": "conventional-blond",
   "metadata": {},
   "source": [
    "Ideal Area (sq. km.) according to Latitude and Longitude"
   ]
  },
  {
   "cell_type": "code",
   "execution_count": 178,
   "id": "partial-blink",
   "metadata": {},
   "outputs": [
    {
     "name": "stdout",
     "output_type": "stream",
     "text": [
      "Ideal Location for Area:\n",
      " [ 30.67346514 746.00758943 504.76552629   4.7512783  235.66738549\n",
      "  92.22845557 207.82510431  87.56934883  14.15879559  19.57407053\n",
      " 144.30632869  94.22976867 994.84538701  89.44908903  12.40922698\n",
      " 144.0894542   42.50796963  12.25935623  38.42526698  15.45107799\n",
      "  12.04120585   8.22991267  32.89565918 127.93258518  15.34218673\n",
      "  51.64324163  22.38655829  15.27731142  18.19825013   4.90815554]\n",
      "\n",
      "\n",
      "Ideal Location for Longitude and Latitude:\n",
      " [-73.55469    -73.55469    -73.74433    -73.42399    -73.49604\n",
      " -73.49604    -73.42399    -73.89274    -73.55469    -73.55469\n",
      " -73.89274    -73.42399    -74.01211    -73.49604    -73.89274\n",
      " -73.49604    -73.55469    -73.723715   -73.55469    -73.49604\n",
      " -73.55469    -73.55469    -73.78005667 -73.42399    -73.55469\n",
      " -73.66737333 -73.55469    -73.55469    -73.89274    -73.42399   ] \n",
      " \n",
      " [45.5124     45.5124     45.55201    45.83146    45.543      45.543\n",
      " 45.83146    45.54179    45.5124     45.5124     45.54179    45.83146\n",
      " 45.66353    45.543      45.54179    45.543      45.5124     45.527095\n",
      " 45.5124     45.543      45.5124     45.5124     45.53199333 45.83146\n",
      " 45.5124     45.52219667 45.5124     45.5124     45.54179    45.83146   ]\n"
     ]
    }
   ],
   "source": [
    "print('Ideal Location for Area:\\n', census_centroids[:,5])\n",
    "print('\\n')\n",
    "print('Ideal Location for Longitude and Latitude:\\n', census_centroids[:,0], '\\n', '\\n', census_centroids[:,1])"
   ]
  },
  {
   "cell_type": "markdown",
   "id": "figured-championship",
   "metadata": {},
   "source": [
    "Now applying K-means on Points of Interests dataset"
   ]
  },
  {
   "cell_type": "code",
   "execution_count": 179,
   "id": "distributed-value",
   "metadata": {},
   "outputs": [
    {
     "data": {
      "text/html": [
       "<div>\n",
       "<style scoped>\n",
       "    .dataframe tbody tr th:only-of-type {\n",
       "        vertical-align: middle;\n",
       "    }\n",
       "\n",
       "    .dataframe tbody tr th {\n",
       "        vertical-align: top;\n",
       "    }\n",
       "\n",
       "    .dataframe thead th {\n",
       "        text-align: right;\n",
       "    }\n",
       "</style>\n",
       "<table border=\"1\" class=\"dataframe\">\n",
       "  <thead>\n",
       "    <tr style=\"text-align: right;\">\n",
       "      <th></th>\n",
       "      <th>POI_ID</th>\n",
       "      <th>NAME</th>\n",
       "      <th>ADDRESS</th>\n",
       "      <th>CITY</th>\n",
       "      <th>PROV</th>\n",
       "      <th>POST_CODE</th>\n",
       "      <th>PHONE</th>\n",
       "      <th>X</th>\n",
       "      <th>Y</th>\n",
       "      <th>CATEGORY</th>\n",
       "    </tr>\n",
       "  </thead>\n",
       "  <tbody>\n",
       "    <tr>\n",
       "      <th>0</th>\n",
       "      <td>POI10004697</td>\n",
       "      <td>RESTAURANT ALADDIN</td>\n",
       "      <td>6700 CH DE LA CÃƒÆ’Ã‚â€TE DES NEIGES</td>\n",
       "      <td>MONTREAL</td>\n",
       "      <td>QC</td>\n",
       "      <td>H3S 2B2</td>\n",
       "      <td>514-342-7808</td>\n",
       "      <td>-73.637063</td>\n",
       "      <td>45.502503</td>\n",
       "      <td>0</td>\n",
       "    </tr>\n",
       "    <tr>\n",
       "      <th>1</th>\n",
       "      <td>POI10014792</td>\n",
       "      <td>PIZZERIA SAINT-DENIS</td>\n",
       "      <td>1617 RUE SAINT DENIS</td>\n",
       "      <td>MONTREAL</td>\n",
       "      <td>QC</td>\n",
       "      <td>H2X 3K3</td>\n",
       "      <td>514-281-6669</td>\n",
       "      <td>-73.562842</td>\n",
       "      <td>45.515012</td>\n",
       "      <td>0</td>\n",
       "    </tr>\n",
       "    <tr>\n",
       "      <th>2</th>\n",
       "      <td>POI10014794</td>\n",
       "      <td>TIFFANY CASINO</td>\n",
       "      <td>3775 BOUL INDUSTRIEL</td>\n",
       "      <td>MONTREAL</td>\n",
       "      <td>QC</td>\n",
       "      <td>H1H 2Y8</td>\n",
       "      <td>514-328-0080</td>\n",
       "      <td>-73.633118</td>\n",
       "      <td>45.580402</td>\n",
       "      <td>5</td>\n",
       "    </tr>\n",
       "    <tr>\n",
       "      <th>3</th>\n",
       "      <td>POI10014903</td>\n",
       "      <td>EL TACO DEL TABARNACO</td>\n",
       "      <td>916 AV DULUTH E</td>\n",
       "      <td>MONTREAL</td>\n",
       "      <td>QC</td>\n",
       "      <td>H2L 1B6</td>\n",
       "      <td>514-528-9865</td>\n",
       "      <td>-73.573235</td>\n",
       "      <td>45.523408</td>\n",
       "      <td>0</td>\n",
       "    </tr>\n",
       "    <tr>\n",
       "      <th>4</th>\n",
       "      <td>POI10014917</td>\n",
       "      <td>EL DIONELLI</td>\n",
       "      <td>5600 RUE DE SALABERRY</td>\n",
       "      <td>MONTREAL</td>\n",
       "      <td>QC</td>\n",
       "      <td>H4J 1J7</td>\n",
       "      <td>514-332-8999</td>\n",
       "      <td>-73.710948</td>\n",
       "      <td>45.528730</td>\n",
       "      <td>0</td>\n",
       "    </tr>\n",
       "    <tr>\n",
       "      <th>...</th>\n",
       "      <td>...</td>\n",
       "      <td>...</td>\n",
       "      <td>...</td>\n",
       "      <td>...</td>\n",
       "      <td>...</td>\n",
       "      <td>...</td>\n",
       "      <td>...</td>\n",
       "      <td>...</td>\n",
       "      <td>...</td>\n",
       "      <td>...</td>\n",
       "    </tr>\n",
       "    <tr>\n",
       "      <th>4680</th>\n",
       "      <td>POI85872</td>\n",
       "      <td>RESTAURANT PIZZERIA SANDHU</td>\n",
       "      <td>4548 AV PAPINEAU</td>\n",
       "      <td>MONTREAL</td>\n",
       "      <td>QC</td>\n",
       "      <td>H2H 1V3</td>\n",
       "      <td>514-524-8685</td>\n",
       "      <td>-73.575604</td>\n",
       "      <td>45.533146</td>\n",
       "      <td>0</td>\n",
       "    </tr>\n",
       "    <tr>\n",
       "      <th>4681</th>\n",
       "      <td>POI96916</td>\n",
       "      <td>HÃƒÆ’Ã‚â€TEL LA RÃ‰SIDENCE DU VOYAGEUR</td>\n",
       "      <td>847 RUE SHERBROOKE E</td>\n",
       "      <td>MONTREAL</td>\n",
       "      <td>QC</td>\n",
       "      <td>H2L 1K6</td>\n",
       "      <td>514-527-9515</td>\n",
       "      <td>-73.566512</td>\n",
       "      <td>45.519761</td>\n",
       "      <td>1</td>\n",
       "    </tr>\n",
       "    <tr>\n",
       "      <th>4682</th>\n",
       "      <td>POI98943</td>\n",
       "      <td>PICASSO SERRE</td>\n",
       "      <td>6810 RUE SAINT JACQUES</td>\n",
       "      <td>MONTREAL</td>\n",
       "      <td>QC</td>\n",
       "      <td>H4B 1V8</td>\n",
       "      <td>514-484-2832</td>\n",
       "      <td>-73.627736</td>\n",
       "      <td>45.457981</td>\n",
       "      <td>0</td>\n",
       "    </tr>\n",
       "    <tr>\n",
       "      <th>4683</th>\n",
       "      <td>POI99080</td>\n",
       "      <td>HOTEL RITZ-CARLTON MONTREAL</td>\n",
       "      <td>1228 RUE SHERBROOKE O</td>\n",
       "      <td>MONTREAL</td>\n",
       "      <td>QC</td>\n",
       "      <td>H3G 1H6</td>\n",
       "      <td>514-842-4212</td>\n",
       "      <td>-73.578030</td>\n",
       "      <td>45.500217</td>\n",
       "      <td>1</td>\n",
       "    </tr>\n",
       "    <tr>\n",
       "      <th>4684</th>\n",
       "      <td>POI99162</td>\n",
       "      <td>TRE MARIE RESTAURANT</td>\n",
       "      <td>6934 RUE CLARK</td>\n",
       "      <td>MONTREAL</td>\n",
       "      <td>QC</td>\n",
       "      <td>H2S 3G2</td>\n",
       "      <td>514-277-9859</td>\n",
       "      <td>-73.615850</td>\n",
       "      <td>45.532553</td>\n",
       "      <td>0</td>\n",
       "    </tr>\n",
       "  </tbody>\n",
       "</table>\n",
       "<p>4685 rows × 10 columns</p>\n",
       "</div>"
      ],
      "text/plain": [
       "           POI_ID                                     NAME  \\\n",
       "0     POI10004697                       RESTAURANT ALADDIN   \n",
       "1     POI10014792                     PIZZERIA SAINT-DENIS   \n",
       "2     POI10014794                           TIFFANY CASINO   \n",
       "3     POI10014903                    EL TACO DEL TABARNACO   \n",
       "4     POI10014917                              EL DIONELLI   \n",
       "...           ...                                      ...   \n",
       "4680     POI85872               RESTAURANT PIZZERIA SANDHU   \n",
       "4681     POI96916  HÃƒÆ’Ã‚â€TEL LA RÃ‰SIDENCE DU VOYAGEUR   \n",
       "4682     POI98943                            PICASSO SERRE   \n",
       "4683     POI99080              HOTEL RITZ-CARLTON MONTREAL   \n",
       "4684     POI99162                     TRE MARIE RESTAURANT   \n",
       "\n",
       "                                    ADDRESS      CITY PROV POST_CODE  \\\n",
       "0     6700 CH DE LA CÃƒÆ’Ã‚â€TE DES NEIGES  MONTREAL   QC   H3S 2B2   \n",
       "1                      1617 RUE SAINT DENIS  MONTREAL   QC   H2X 3K3   \n",
       "2                      3775 BOUL INDUSTRIEL  MONTREAL   QC   H1H 2Y8   \n",
       "3                           916 AV DULUTH E  MONTREAL   QC   H2L 1B6   \n",
       "4                     5600 RUE DE SALABERRY  MONTREAL   QC   H4J 1J7   \n",
       "...                                     ...       ...  ...       ...   \n",
       "4680                       4548 AV PAPINEAU  MONTREAL   QC   H2H 1V3   \n",
       "4681                   847 RUE SHERBROOKE E  MONTREAL   QC   H2L 1K6   \n",
       "4682                 6810 RUE SAINT JACQUES  MONTREAL   QC   H4B 1V8   \n",
       "4683                  1228 RUE SHERBROOKE O  MONTREAL   QC   H3G 1H6   \n",
       "4684                         6934 RUE CLARK  MONTREAL   QC   H2S 3G2   \n",
       "\n",
       "             PHONE          X          Y CATEGORY  \n",
       "0     514-342-7808 -73.637063  45.502503        0  \n",
       "1     514-281-6669 -73.562842  45.515012        0  \n",
       "2     514-328-0080 -73.633118  45.580402        5  \n",
       "3     514-528-9865 -73.573235  45.523408        0  \n",
       "4     514-332-8999 -73.710948  45.528730        0  \n",
       "...            ...        ...        ...      ...  \n",
       "4680  514-524-8685 -73.575604  45.533146        0  \n",
       "4681  514-527-9515 -73.566512  45.519761        1  \n",
       "4682  514-484-2832 -73.627736  45.457981        0  \n",
       "4683  514-842-4212 -73.578030  45.500217        1  \n",
       "4684  514-277-9859 -73.615850  45.532553        0  \n",
       "\n",
       "[4685 rows x 10 columns]"
      ]
     },
     "execution_count": 179,
     "metadata": {},
     "output_type": "execute_result"
    }
   ],
   "source": [
    "points_of_interest_dataset # this dataset has values of restaurants, banks and other interest regions"
   ]
  },
  {
   "cell_type": "code",
   "execution_count": 180,
   "id": "assumed-mount",
   "metadata": {},
   "outputs": [],
   "source": [
    "poi_dataset = points_of_interest_dataset[['X','Y','CATEGORY','POST_CODE']]"
   ]
  },
  {
   "cell_type": "code",
   "execution_count": 181,
   "id": "structured-archives",
   "metadata": {},
   "outputs": [
    {
     "data": {
      "text/html": [
       "<div>\n",
       "<style scoped>\n",
       "    .dataframe tbody tr th:only-of-type {\n",
       "        vertical-align: middle;\n",
       "    }\n",
       "\n",
       "    .dataframe tbody tr th {\n",
       "        vertical-align: top;\n",
       "    }\n",
       "\n",
       "    .dataframe thead th {\n",
       "        text-align: right;\n",
       "    }\n",
       "</style>\n",
       "<table border=\"1\" class=\"dataframe\">\n",
       "  <thead>\n",
       "    <tr style=\"text-align: right;\">\n",
       "      <th></th>\n",
       "      <th>X</th>\n",
       "      <th>Y</th>\n",
       "      <th>CATEGORY</th>\n",
       "      <th>POST_CODE</th>\n",
       "    </tr>\n",
       "  </thead>\n",
       "  <tbody>\n",
       "    <tr>\n",
       "      <th>0</th>\n",
       "      <td>-73.637063</td>\n",
       "      <td>45.502503</td>\n",
       "      <td>0</td>\n",
       "      <td>H3S 2B2</td>\n",
       "    </tr>\n",
       "    <tr>\n",
       "      <th>1</th>\n",
       "      <td>-73.562842</td>\n",
       "      <td>45.515012</td>\n",
       "      <td>0</td>\n",
       "      <td>H2X 3K3</td>\n",
       "    </tr>\n",
       "    <tr>\n",
       "      <th>2</th>\n",
       "      <td>-73.633118</td>\n",
       "      <td>45.580402</td>\n",
       "      <td>5</td>\n",
       "      <td>H1H 2Y8</td>\n",
       "    </tr>\n",
       "    <tr>\n",
       "      <th>3</th>\n",
       "      <td>-73.573235</td>\n",
       "      <td>45.523408</td>\n",
       "      <td>0</td>\n",
       "      <td>H2L 1B6</td>\n",
       "    </tr>\n",
       "    <tr>\n",
       "      <th>4</th>\n",
       "      <td>-73.710948</td>\n",
       "      <td>45.528730</td>\n",
       "      <td>0</td>\n",
       "      <td>H4J 1J7</td>\n",
       "    </tr>\n",
       "    <tr>\n",
       "      <th>...</th>\n",
       "      <td>...</td>\n",
       "      <td>...</td>\n",
       "      <td>...</td>\n",
       "      <td>...</td>\n",
       "    </tr>\n",
       "    <tr>\n",
       "      <th>4680</th>\n",
       "      <td>-73.575604</td>\n",
       "      <td>45.533146</td>\n",
       "      <td>0</td>\n",
       "      <td>H2H 1V3</td>\n",
       "    </tr>\n",
       "    <tr>\n",
       "      <th>4681</th>\n",
       "      <td>-73.566512</td>\n",
       "      <td>45.519761</td>\n",
       "      <td>1</td>\n",
       "      <td>H2L 1K6</td>\n",
       "    </tr>\n",
       "    <tr>\n",
       "      <th>4682</th>\n",
       "      <td>-73.627736</td>\n",
       "      <td>45.457981</td>\n",
       "      <td>0</td>\n",
       "      <td>H4B 1V8</td>\n",
       "    </tr>\n",
       "    <tr>\n",
       "      <th>4683</th>\n",
       "      <td>-73.578030</td>\n",
       "      <td>45.500217</td>\n",
       "      <td>1</td>\n",
       "      <td>H3G 1H6</td>\n",
       "    </tr>\n",
       "    <tr>\n",
       "      <th>4684</th>\n",
       "      <td>-73.615850</td>\n",
       "      <td>45.532553</td>\n",
       "      <td>0</td>\n",
       "      <td>H2S 3G2</td>\n",
       "    </tr>\n",
       "  </tbody>\n",
       "</table>\n",
       "<p>4685 rows × 4 columns</p>\n",
       "</div>"
      ],
      "text/plain": [
       "              X          Y CATEGORY POST_CODE\n",
       "0    -73.637063  45.502503        0   H3S 2B2\n",
       "1    -73.562842  45.515012        0   H2X 3K3\n",
       "2    -73.633118  45.580402        5   H1H 2Y8\n",
       "3    -73.573235  45.523408        0   H2L 1B6\n",
       "4    -73.710948  45.528730        0   H4J 1J7\n",
       "...         ...        ...      ...       ...\n",
       "4680 -73.575604  45.533146        0   H2H 1V3\n",
       "4681 -73.566512  45.519761        1   H2L 1K6\n",
       "4682 -73.627736  45.457981        0   H4B 1V8\n",
       "4683 -73.578030  45.500217        1   H3G 1H6\n",
       "4684 -73.615850  45.532553        0   H2S 3G2\n",
       "\n",
       "[4685 rows x 4 columns]"
      ]
     },
     "execution_count": 181,
     "metadata": {},
     "output_type": "execute_result"
    }
   ],
   "source": [
    "poi_dataset"
   ]
  },
  {
   "cell_type": "code",
   "execution_count": 182,
   "id": "affected-amendment",
   "metadata": {},
   "outputs": [
    {
     "data": {
      "text/html": [
       "<div>\n",
       "<style scoped>\n",
       "    .dataframe tbody tr th:only-of-type {\n",
       "        vertical-align: middle;\n",
       "    }\n",
       "\n",
       "    .dataframe tbody tr th {\n",
       "        vertical-align: top;\n",
       "    }\n",
       "\n",
       "    .dataframe thead th {\n",
       "        text-align: right;\n",
       "    }\n",
       "</style>\n",
       "<table border=\"1\" class=\"dataframe\">\n",
       "  <thead>\n",
       "    <tr style=\"text-align: right;\">\n",
       "      <th></th>\n",
       "      <th>X</th>\n",
       "      <th>Y</th>\n",
       "      <th>CATEGORY</th>\n",
       "      <th>POST_CODE</th>\n",
       "    </tr>\n",
       "  </thead>\n",
       "  <tbody>\n",
       "    <tr>\n",
       "      <th>0</th>\n",
       "      <td>-73.637063</td>\n",
       "      <td>45.502503</td>\n",
       "      <td>0</td>\n",
       "      <td>H3S 2B2</td>\n",
       "    </tr>\n",
       "    <tr>\n",
       "      <th>1</th>\n",
       "      <td>-73.562842</td>\n",
       "      <td>45.515012</td>\n",
       "      <td>0</td>\n",
       "      <td>H2X 3K3</td>\n",
       "    </tr>\n",
       "    <tr>\n",
       "      <th>2</th>\n",
       "      <td>-73.633118</td>\n",
       "      <td>45.580402</td>\n",
       "      <td>5</td>\n",
       "      <td>H1H 2Y8</td>\n",
       "    </tr>\n",
       "    <tr>\n",
       "      <th>3</th>\n",
       "      <td>-73.573235</td>\n",
       "      <td>45.523408</td>\n",
       "      <td>0</td>\n",
       "      <td>H2L 1B6</td>\n",
       "    </tr>\n",
       "    <tr>\n",
       "      <th>4</th>\n",
       "      <td>-73.710948</td>\n",
       "      <td>45.528730</td>\n",
       "      <td>0</td>\n",
       "      <td>H4J 1J7</td>\n",
       "    </tr>\n",
       "    <tr>\n",
       "      <th>...</th>\n",
       "      <td>...</td>\n",
       "      <td>...</td>\n",
       "      <td>...</td>\n",
       "      <td>...</td>\n",
       "    </tr>\n",
       "    <tr>\n",
       "      <th>4680</th>\n",
       "      <td>-73.575604</td>\n",
       "      <td>45.533146</td>\n",
       "      <td>0</td>\n",
       "      <td>H2H 1V3</td>\n",
       "    </tr>\n",
       "    <tr>\n",
       "      <th>4681</th>\n",
       "      <td>-73.566512</td>\n",
       "      <td>45.519761</td>\n",
       "      <td>1</td>\n",
       "      <td>H2L 1K6</td>\n",
       "    </tr>\n",
       "    <tr>\n",
       "      <th>4682</th>\n",
       "      <td>-73.627736</td>\n",
       "      <td>45.457981</td>\n",
       "      <td>0</td>\n",
       "      <td>H4B 1V8</td>\n",
       "    </tr>\n",
       "    <tr>\n",
       "      <th>4683</th>\n",
       "      <td>-73.578030</td>\n",
       "      <td>45.500217</td>\n",
       "      <td>1</td>\n",
       "      <td>H3G 1H6</td>\n",
       "    </tr>\n",
       "    <tr>\n",
       "      <th>4684</th>\n",
       "      <td>-73.615850</td>\n",
       "      <td>45.532553</td>\n",
       "      <td>0</td>\n",
       "      <td>H2S 3G2</td>\n",
       "    </tr>\n",
       "  </tbody>\n",
       "</table>\n",
       "<p>4685 rows × 4 columns</p>\n",
       "</div>"
      ],
      "text/plain": [
       "              X          Y CATEGORY POST_CODE\n",
       "0    -73.637063  45.502503        0   H3S 2B2\n",
       "1    -73.562842  45.515012        0   H2X 3K3\n",
       "2    -73.633118  45.580402        5   H1H 2Y8\n",
       "3    -73.573235  45.523408        0   H2L 1B6\n",
       "4    -73.710948  45.528730        0   H4J 1J7\n",
       "...         ...        ...      ...       ...\n",
       "4680 -73.575604  45.533146        0   H2H 1V3\n",
       "4681 -73.566512  45.519761        1   H2L 1K6\n",
       "4682 -73.627736  45.457981        0   H4B 1V8\n",
       "4683 -73.578030  45.500217        1   H3G 1H6\n",
       "4684 -73.615850  45.532553        0   H2S 3G2\n",
       "\n",
       "[4685 rows x 4 columns]"
      ]
     },
     "execution_count": 182,
     "metadata": {},
     "output_type": "execute_result"
    }
   ],
   "source": [
    "poi_dataset[['X','Y','CATEGORY','POST_CODE']]"
   ]
  },
  {
   "cell_type": "code",
   "execution_count": 183,
   "id": "precious-railway",
   "metadata": {},
   "outputs": [],
   "source": [
    "# le.fit_transform(poi_dataset[\"CATEGORY\"])"
   ]
  },
  {
   "cell_type": "code",
   "execution_count": 184,
   "id": "welsh-laptop",
   "metadata": {},
   "outputs": [
    {
     "name": "stderr",
     "output_type": "stream",
     "text": [
      "c:\\users\\omaim\\appdata\\local\\programs\\python\\python36\\lib\\site-packages\\ipykernel_launcher.py:3: SettingWithCopyWarning: \n",
      "A value is trying to be set on a copy of a slice from a DataFrame.\n",
      "Try using .loc[row_indexer,col_indexer] = value instead\n",
      "\n",
      "See the caveats in the documentation: https://pandas.pydata.org/pandas-docs/stable/user_guide/indexing.html#returning-a-view-versus-a-copy\n",
      "  This is separate from the ipykernel package so we can avoid doing imports until\n"
     ]
    }
   ],
   "source": [
    "# poi_dataset[\"CATEGORY\"] = le.fit_transform(poi_dataset[\"CATEGORY\"])\n",
    "# category_mapping = dict(zip(le.classes_, range(1, len(le.classes_)+1)))\n",
    "poi_dataset[\"POST_CODE\"] = le.fit_transform(poi_dataset[\"POST_CODE\"])\n",
    "postcode_mapping = dict(zip(le.classes_, range(1, len(le.classes_)+1)))"
   ]
  },
  {
   "cell_type": "code",
   "execution_count": 185,
   "id": "weighted-victory",
   "metadata": {},
   "outputs": [
    {
     "data": {
      "text/html": [
       "<div>\n",
       "<style scoped>\n",
       "    .dataframe tbody tr th:only-of-type {\n",
       "        vertical-align: middle;\n",
       "    }\n",
       "\n",
       "    .dataframe tbody tr th {\n",
       "        vertical-align: top;\n",
       "    }\n",
       "\n",
       "    .dataframe thead th {\n",
       "        text-align: right;\n",
       "    }\n",
       "</style>\n",
       "<table border=\"1\" class=\"dataframe\">\n",
       "  <thead>\n",
       "    <tr style=\"text-align: right;\">\n",
       "      <th></th>\n",
       "      <th>X</th>\n",
       "      <th>Y</th>\n",
       "      <th>CATEGORY</th>\n",
       "      <th>POST_CODE</th>\n",
       "    </tr>\n",
       "  </thead>\n",
       "  <tbody>\n",
       "    <tr>\n",
       "      <th>0</th>\n",
       "      <td>-73.637063</td>\n",
       "      <td>45.502503</td>\n",
       "      <td>0</td>\n",
       "      <td>1995</td>\n",
       "    </tr>\n",
       "    <tr>\n",
       "      <th>1</th>\n",
       "      <td>-73.562842</td>\n",
       "      <td>45.515012</td>\n",
       "      <td>0</td>\n",
       "      <td>1338</td>\n",
       "    </tr>\n",
       "    <tr>\n",
       "      <th>2</th>\n",
       "      <td>-73.633118</td>\n",
       "      <td>45.580402</td>\n",
       "      <td>5</td>\n",
       "      <td>108</td>\n",
       "    </tr>\n",
       "    <tr>\n",
       "      <th>3</th>\n",
       "      <td>-73.573235</td>\n",
       "      <td>45.523408</td>\n",
       "      <td>0</td>\n",
       "      <td>788</td>\n",
       "    </tr>\n",
       "    <tr>\n",
       "      <th>4</th>\n",
       "      <td>-73.710948</td>\n",
       "      <td>45.528730</td>\n",
       "      <td>0</td>\n",
       "      <td>2251</td>\n",
       "    </tr>\n",
       "    <tr>\n",
       "      <th>...</th>\n",
       "      <td>...</td>\n",
       "      <td>...</td>\n",
       "      <td>...</td>\n",
       "      <td>...</td>\n",
       "    </tr>\n",
       "    <tr>\n",
       "      <th>4680</th>\n",
       "      <td>-73.575604</td>\n",
       "      <td>45.533146</td>\n",
       "      <td>0</td>\n",
       "      <td>640</td>\n",
       "    </tr>\n",
       "    <tr>\n",
       "      <th>4681</th>\n",
       "      <td>-73.566512</td>\n",
       "      <td>45.519761</td>\n",
       "      <td>1</td>\n",
       "      <td>800</td>\n",
       "    </tr>\n",
       "    <tr>\n",
       "      <th>4682</th>\n",
       "      <td>-73.627736</td>\n",
       "      <td>45.457981</td>\n",
       "      <td>0</td>\n",
       "      <td>2167</td>\n",
       "    </tr>\n",
       "    <tr>\n",
       "      <th>4683</th>\n",
       "      <td>-73.578030</td>\n",
       "      <td>45.500217</td>\n",
       "      <td>1</td>\n",
       "      <td>1732</td>\n",
       "    </tr>\n",
       "    <tr>\n",
       "      <th>4684</th>\n",
       "      <td>-73.615850</td>\n",
       "      <td>45.532553</td>\n",
       "      <td>0</td>\n",
       "      <td>1098</td>\n",
       "    </tr>\n",
       "  </tbody>\n",
       "</table>\n",
       "<p>4685 rows × 4 columns</p>\n",
       "</div>"
      ],
      "text/plain": [
       "              X          Y CATEGORY  POST_CODE\n",
       "0    -73.637063  45.502503        0       1995\n",
       "1    -73.562842  45.515012        0       1338\n",
       "2    -73.633118  45.580402        5        108\n",
       "3    -73.573235  45.523408        0        788\n",
       "4    -73.710948  45.528730        0       2251\n",
       "...         ...        ...      ...        ...\n",
       "4680 -73.575604  45.533146        0        640\n",
       "4681 -73.566512  45.519761        1        800\n",
       "4682 -73.627736  45.457981        0       2167\n",
       "4683 -73.578030  45.500217        1       1732\n",
       "4684 -73.615850  45.532553        0       1098\n",
       "\n",
       "[4685 rows x 4 columns]"
      ]
     },
     "execution_count": 185,
     "metadata": {},
     "output_type": "execute_result"
    }
   ],
   "source": [
    "poi_dataset"
   ]
  },
  {
   "cell_type": "code",
   "execution_count": 186,
   "id": "coral-journal",
   "metadata": {},
   "outputs": [
    {
     "data": {
      "text/plain": [
       "array([0, 5, 6, 4, 7, 18, 1, 3, 8, 9, 10, 2, 11], dtype=object)"
      ]
     },
     "execution_count": 186,
     "metadata": {},
     "output_type": "execute_result"
    }
   ],
   "source": [
    "poi_dataset['CATEGORY'].unique()"
   ]
  },
  {
   "cell_type": "code",
   "execution_count": 187,
   "id": "regular-timeline",
   "metadata": {},
   "outputs": [],
   "source": [
    "wcss = []\n",
    "for i in range(1, 11):\n",
    "    kmeans = KMeans(n_clusters = i)\n",
    "    # kmeans = KMeans(n_clusters = i, init = 'k-means++', random_state = 42)\n",
    "    X = poi_dataset[['X','Y','CATEGORY','POST_CODE']]\n",
    "    kmeans.fit(X)\n",
    "    # inertia method returns wcss for that model\n",
    "    wcss.append(kmeans.inertia_)"
   ]
  },
  {
   "cell_type": "markdown",
   "id": "absent-trash",
   "metadata": {},
   "source": [
    "Fitting k-means to the dataset"
   ]
  },
  {
   "cell_type": "code",
   "execution_count": 188,
   "id": "sharing-fellowship",
   "metadata": {},
   "outputs": [],
   "source": [
    "kmeans = KMeans(n_clusters = 30)\n",
    "y_kmeans = kmeans.fit_predict(X)"
   ]
  },
  {
   "cell_type": "code",
   "execution_count": 189,
   "id": "mediterranean-energy",
   "metadata": {},
   "outputs": [
    {
     "data": {
      "text/plain": [
       "array([[-7.35938468e+01,  4.56024429e+01,  3.09009009e+00,\n",
       "         1.18360360e+02],\n",
       "       [-7.35796644e+01,  4.54926769e+01,  2.32947977e+00,\n",
       "         1.83583237e+03],\n",
       "       [-7.36175198e+01,  4.55383740e+01,  2.34027778e+00,\n",
       "         1.00115972e+03],\n",
       "       [-7.36822039e+01,  4.54991314e+01,  1.74000000e+00,\n",
       "         2.33292000e+03],\n",
       "       [-7.35606486e+01,  4.55057086e+01,  1.27329193e+00,\n",
       "         1.47821739e+03],\n",
       "       [-7.36141812e+01,  4.55496767e+01,  3.02205882e+00,\n",
       "         5.80286765e+02],\n",
       "       [-7.36071732e+01,  4.54672782e+01,  3.27480916e+00,\n",
       "         2.17108397e+03],\n",
       "       [-7.35721822e+01,  4.55157262e+01,  2.79775281e+00,\n",
       "         1.25447753e+03],\n",
       "       [-7.35690672e+01,  4.55713947e+01,  2.86400000e+00,\n",
       "         2.91168000e+02],\n",
       "       [-7.35685217e+01,  4.55008247e+01,  1.63139932e+00,\n",
       "         1.65346416e+03],\n",
       "       [-7.35581009e+01,  4.55189024e+01,  2.82926829e+00,\n",
       "         8.37262195e+02],\n",
       "       [-7.36266528e+01,  4.55008555e+01,  1.84353741e+00,\n",
       "         2.01140816e+03],\n",
       "       [-7.36139163e+01,  4.55655928e+01,  2.31944444e+00,\n",
       "         4.76736111e+02],\n",
       "       [-7.35675085e+01,  4.55131131e+01,  2.67479675e+00,\n",
       "         1.33374390e+03],\n",
       "       [-7.35622795e+01,  4.55267299e+01,  2.21359223e+00,\n",
       "         7.63844660e+02],\n",
       "       [-7.36371121e+01,  4.54481087e+01,  1.26865672e+00,\n",
       "         2.40141045e+03],\n",
       "       [-7.36026540e+01,  4.55303469e+01,  2.75274725e+00,\n",
       "         1.09619231e+03],\n",
       "       [-7.35750469e+01,  4.55032208e+01,  2.37125749e+00,\n",
       "         1.56068862e+03],\n",
       "       [-7.36482146e+01,  4.54950902e+01,  1.96694215e+00,\n",
       "         2.25125620e+03],\n",
       "       [-7.37763104e+01,  4.54843911e+01,  2.21929825e+00,\n",
       "         2.48661404e+03],\n",
       "       [-7.36323356e+01,  4.55246501e+01,  2.74137931e+00,\n",
       "         1.92123276e+03],\n",
       "       [-7.35620545e+01,  4.55491917e+01,  2.98550725e+00,\n",
       "         3.81862319e+02],\n",
       "       [-7.35494021e+01,  4.55898561e+01,  1.83428571e+00,\n",
       "         2.03811429e+02],\n",
       "       [-7.35702965e+01,  4.54954428e+01,  2.88888889e+00,\n",
       "         1.75785043e+03],\n",
       "       [-7.35968131e+01,  4.55209764e+01,  2.10828025e+00,\n",
       "         1.18063057e+03],\n",
       "       [-7.35759153e+01,  4.56257271e+01,  2.25210084e+00,\n",
       "         4.00168067e+01],\n",
       "       [-7.36171589e+01,  4.55365169e+01,  2.55474453e+00,\n",
       "         9.11817518e+02],\n",
       "       [-7.35580010e+01,  4.55037739e+01,  1.49285714e+00,\n",
       "         1.40420714e+03],\n",
       "       [-7.36197748e+01,  4.54805184e+01,  1.64071856e+00,\n",
       "         2.08834132e+03],\n",
       "       [-7.35796605e+01,  4.55280644e+01,  2.96067416e+00,\n",
       "         6.83415730e+02]])"
      ]
     },
     "execution_count": 189,
     "metadata": {},
     "output_type": "execute_result"
    }
   ],
   "source": [
    "kmeans.cluster_centers_"
   ]
  },
  {
   "cell_type": "code",
   "execution_count": 190,
   "id": "photographic-tackle",
   "metadata": {},
   "outputs": [
    {
     "data": {
      "text/plain": [
       "array([[-7.35938468e+01,  4.56024429e+01,  3.09009009e+00,\n",
       "         1.18360360e+02],\n",
       "       [-7.35796644e+01,  4.54926769e+01,  2.32947977e+00,\n",
       "         1.83583237e+03],\n",
       "       [-7.36175198e+01,  4.55383740e+01,  2.34027778e+00,\n",
       "         1.00115972e+03],\n",
       "       [-7.36822039e+01,  4.54991314e+01,  1.74000000e+00,\n",
       "         2.33292000e+03],\n",
       "       [-7.35606486e+01,  4.55057086e+01,  1.27329193e+00,\n",
       "         1.47821739e+03],\n",
       "       [-7.36141812e+01,  4.55496767e+01,  3.02205882e+00,\n",
       "         5.80286765e+02],\n",
       "       [-7.36071732e+01,  4.54672782e+01,  3.27480916e+00,\n",
       "         2.17108397e+03],\n",
       "       [-7.35721822e+01,  4.55157262e+01,  2.79775281e+00,\n",
       "         1.25447753e+03],\n",
       "       [-7.35690672e+01,  4.55713947e+01,  2.86400000e+00,\n",
       "         2.91168000e+02],\n",
       "       [-7.35685217e+01,  4.55008247e+01,  1.63139932e+00,\n",
       "         1.65346416e+03],\n",
       "       [-7.35581009e+01,  4.55189024e+01,  2.82926829e+00,\n",
       "         8.37262195e+02],\n",
       "       [-7.36266528e+01,  4.55008555e+01,  1.84353741e+00,\n",
       "         2.01140816e+03],\n",
       "       [-7.36139163e+01,  4.55655928e+01,  2.31944444e+00,\n",
       "         4.76736111e+02],\n",
       "       [-7.35675085e+01,  4.55131131e+01,  2.67479675e+00,\n",
       "         1.33374390e+03],\n",
       "       [-7.35622795e+01,  4.55267299e+01,  2.21359223e+00,\n",
       "         7.63844660e+02],\n",
       "       [-7.36371121e+01,  4.54481087e+01,  1.26865672e+00,\n",
       "         2.40141045e+03],\n",
       "       [-7.36026540e+01,  4.55303469e+01,  2.75274725e+00,\n",
       "         1.09619231e+03],\n",
       "       [-7.35750469e+01,  4.55032208e+01,  2.37125749e+00,\n",
       "         1.56068862e+03],\n",
       "       [-7.36482146e+01,  4.54950902e+01,  1.96694215e+00,\n",
       "         2.25125620e+03],\n",
       "       [-7.37763104e+01,  4.54843911e+01,  2.21929825e+00,\n",
       "         2.48661404e+03],\n",
       "       [-7.36323356e+01,  4.55246501e+01,  2.74137931e+00,\n",
       "         1.92123276e+03],\n",
       "       [-7.35620545e+01,  4.55491917e+01,  2.98550725e+00,\n",
       "         3.81862319e+02],\n",
       "       [-7.35494021e+01,  4.55898561e+01,  1.83428571e+00,\n",
       "         2.03811429e+02],\n",
       "       [-7.35702965e+01,  4.54954428e+01,  2.88888889e+00,\n",
       "         1.75785043e+03],\n",
       "       [-7.35968131e+01,  4.55209764e+01,  2.10828025e+00,\n",
       "         1.18063057e+03],\n",
       "       [-7.35759153e+01,  4.56257271e+01,  2.25210084e+00,\n",
       "         4.00168067e+01],\n",
       "       [-7.36171589e+01,  4.55365169e+01,  2.55474453e+00,\n",
       "         9.11817518e+02],\n",
       "       [-7.35580010e+01,  4.55037739e+01,  1.49285714e+00,\n",
       "         1.40420714e+03],\n",
       "       [-7.36197748e+01,  4.54805184e+01,  1.64071856e+00,\n",
       "         2.08834132e+03],\n",
       "       [-7.35796605e+01,  4.55280644e+01,  2.96067416e+00,\n",
       "         6.83415730e+02]])"
      ]
     },
     "execution_count": 190,
     "metadata": {},
     "output_type": "execute_result"
    }
   ],
   "source": [
    "kmeans.cluster_centers_"
   ]
  },
  {
   "cell_type": "code",
   "execution_count": 191,
   "id": "fallen-serbia",
   "metadata": {},
   "outputs": [],
   "source": [
    "poi_dataset_centroids = kmeans.cluster_centers_"
   ]
  },
  {
   "cell_type": "code",
   "execution_count": 192,
   "id": "derived-concert",
   "metadata": {},
   "outputs": [
    {
     "data": {
      "text/plain": [
       "(array([-73.59384676, -73.57966445, -73.61751979, -73.68220393,\n",
       "        -73.5606486 , -73.6141812 , -73.60717316, -73.57218222,\n",
       "        -73.56906724, -73.56852171, -73.55810095, -73.62665283,\n",
       "        -73.61391628, -73.56750845, -73.56227949, -73.63711211,\n",
       "        -73.60265404, -73.57504686, -73.64821455, -73.77631043,\n",
       "        -73.63233555, -73.56205453, -73.54940209, -73.57029653,\n",
       "        -73.59681312, -73.57591534, -73.61715886, -73.55800101,\n",
       "        -73.61977479, -73.5796605 ]),\n",
       " array([45.60244294, 45.49267688, 45.53837399, 45.49913138, 45.50570856,\n",
       "        45.54967674, 45.46727823, 45.51572615, 45.57139467, 45.50082467,\n",
       "        45.51890239, 45.50085552, 45.56559285, 45.51311308, 45.5267299 ,\n",
       "        45.44810869, 45.53034685, 45.50322082, 45.49509017, 45.48439112,\n",
       "        45.52465014, 45.54919166, 45.58985614, 45.49544277, 45.52097643,\n",
       "        45.62572705, 45.53651694, 45.50377389, 45.48051841, 45.52806442]))"
      ]
     },
     "execution_count": 192,
     "metadata": {},
     "output_type": "execute_result"
    }
   ],
   "source": [
    "poi_dataset_centroids[:, 0],poi_dataset_centroids[:,1]"
   ]
  },
  {
   "cell_type": "code",
   "execution_count": 193,
   "id": "partial-horizontal",
   "metadata": {},
   "outputs": [
    {
     "data": {
      "text/plain": [
       "array([ 118.36036036, 1835.83236994, 1001.15972222, 2332.92      ,\n",
       "       1478.2173913 ,  580.28676471, 2171.08396947, 1254.47752809,\n",
       "        291.168     , 1653.46416382,  837.26219512, 2011.40816327,\n",
       "        476.73611111, 1333.74390244,  763.84466019, 2401.41044776,\n",
       "       1096.19230769, 1560.68862275, 2251.25619835, 2486.61403509,\n",
       "       1921.23275862,  381.86231884,  203.81142857, 1757.85042735,\n",
       "       1180.63057325,   40.01680672,  911.81751825, 1404.20714286,\n",
       "       2088.34131737,  683.41573034])"
      ]
     },
     "execution_count": 193,
     "metadata": {},
     "output_type": "execute_result"
    }
   ],
   "source": [
    "poi_dataset_centroids[:,-1]"
   ]
  },
  {
   "cell_type": "markdown",
   "id": "interesting-senegal",
   "metadata": {},
   "source": [
    "Ideal location for Latitude and Longitude according to the concerned data values from the points of interest dataset"
   ]
  },
  {
   "cell_type": "code",
   "execution_count": 194,
   "id": "adequate-repair",
   "metadata": {},
   "outputs": [
    {
     "data": {
      "image/png": "[encoded data removed]",
      "text/plain": [
       "<Figure size 432x288 with 1 Axes>"
      ]
     },
     "metadata": {
      "needs_background": "light"
     },
     "output_type": "display_data"
    },
    {
     "name": "stdout",
     "output_type": "stream",
     "text": [
      "Ideal points for Longitude: [-73.59384676 -73.57966445 -73.61751979 -73.68220393 -73.5606486\n",
      " -73.6141812  -73.60717316 -73.57218222 -73.56906724 -73.56852171\n",
      " -73.55810095 -73.62665283 -73.61391628 -73.56750845 -73.56227949\n",
      " -73.63711211 -73.60265404 -73.57504686 -73.64821455 -73.77631043\n",
      " -73.63233555 -73.56205453 -73.54940209 -73.57029653 -73.59681312\n",
      " -73.57591534 -73.61715886 -73.55800101 -73.61977479 -73.5796605 ]\n",
      "Ideal points for Latitude: [45.60244294 45.49267688 45.53837399 45.49913138 45.50570856 45.54967674\n",
      " 45.46727823 45.51572615 45.57139467 45.50082467 45.51890239 45.50085552\n",
      " 45.56559285 45.51311308 45.5267299  45.44810869 45.53034685 45.50322082\n",
      " 45.49509017 45.48439112 45.52465014 45.54919166 45.58985614 45.49544277\n",
      " 45.52097643 45.62572705 45.53651694 45.50377389 45.48051841 45.52806442]\n"
     ]
    }
   ],
   "source": [
    "plt.scatter(poi_dataset['X'],poi_dataset['Y'],c='black', label= 'Longitude & Latitude',s=5)\n",
    "plt.scatter(poi_dataset_centroids[:, 0], poi_dataset_centroids[:, 1], c='red', label='Ideal points for Latitude and Longitude', s=10)\n",
    "plt.xlabel('Longitude')\n",
    "plt.ylabel('Latitude')\n",
    "plt.legend()\n",
    "plt.show()\n",
    "print(\"Ideal points for Longitude:\", poi_dataset_centroids[:, 0])\n",
    "print(\"Ideal points for Latitude:\", poi_dataset_centroids[:, 1])"
   ]
  },
  {
   "cell_type": "markdown",
   "id": "enormous-mother",
   "metadata": {},
   "source": [
    "Looking for ideal category value"
   ]
  },
  {
   "cell_type": "code",
   "execution_count": 195,
   "id": "welcome-deployment",
   "metadata": {},
   "outputs": [],
   "source": [
    "category_mode = stats.mode(poi_dataset_centroids[:,-2])  # for CATEGORY values\n",
    "# category_mode = np.median(poi_dataset_centroids[:,-2])  # for CATEGORY values"
   ]
  },
  {
   "cell_type": "code",
   "execution_count": 196,
   "id": "stock-tooth",
   "metadata": {},
   "outputs": [
    {
     "data": {
      "text/plain": [
       "1"
      ]
     },
     "execution_count": 196,
     "metadata": {},
     "output_type": "execute_result"
    }
   ],
   "source": [
    "round(category_mode[0][0])\n",
    "# category_mode"
   ]
  },
  {
   "cell_type": "code",
   "execution_count": 197,
   "id": "revolutionary-midnight",
   "metadata": {},
   "outputs": [],
   "source": [
    "category_ideal = round(np.mean(poi_dataset_centroids[:,-2]))"
   ]
  },
  {
   "cell_type": "code",
   "execution_count": 198,
   "id": "dominant-stream",
   "metadata": {},
   "outputs": [
    {
     "data": {
      "text/plain": [
       "[['RESTAURANT', 'Restaurants', 2],\n",
       " ['HOTEL', 'Hotels', 2],\n",
       " ['SHOPPING_CENTER', 'Shopping Center and Malls', 2],\n",
       " ['PAY_GARAGE', 'Parking ', 3],\n",
       " ['CAR_DEALER', 'Motor Vehicle Dealers', 4],\n",
       " ['REC_SPORTS_FACILITY', 'Amusement and Recreation Services', 5],\n",
       " ['HOSPITAL', 12],\n",
       " ['TRAVEL_CENTER', 3],\n",
       " ['OFFICE_BLDG', 3],\n",
       " ['OTHER', 15],\n",
       " ['GAS_STATION', 3],\n",
       " ['Not Available', 17],\n",
       " ['Bar', 18],\n",
       " ['Universities, and Colleges', 6],\n",
       " ['Museums and Art Galleries', 7],\n",
       " ['Movie Theaters', 8],\n",
       " ['Department Stores', 9],\n",
       " ['Furniture Stores', 10],\n",
       " ['Warehouse Stores', 11]]"
      ]
     },
     "execution_count": 198,
     "metadata": {},
     "output_type": "execute_result"
    }
   ],
   "source": [
    "resolved # Ideal category value "
   ]
  },
  {
   "cell_type": "markdown",
   "id": "artificial-remainder",
   "metadata": {},
   "source": [
    "Hotel and Shopping Center and Malls are the Ideal Category Value\n"
   ]
  },
  {
   "cell_type": "code",
   "execution_count": 199,
   "id": "therapeutic-jewel",
   "metadata": {},
   "outputs": [],
   "source": [
    "postcode_mode = stats.mode(poi_dataset_centroids[:,-1]) # for POST_CODE values"
   ]
  },
  {
   "cell_type": "code",
   "execution_count": 200,
   "id": "sharing-soccer",
   "metadata": {},
   "outputs": [
    {
     "data": {
      "text/plain": [
       "40"
      ]
     },
     "execution_count": 200,
     "metadata": {},
     "output_type": "execute_result"
    }
   ],
   "source": [
    "round(postcode_mode[0][0])"
   ]
  },
  {
   "cell_type": "code",
   "execution_count": 201,
   "id": "experienced-midwest",
   "metadata": {},
   "outputs": [],
   "source": [
    "postcode_ideal = round(np.mean(poi_dataset_centroids[:,-1]))"
   ]
  },
  {
   "cell_type": "markdown",
   "id": "plain-weather",
   "metadata": {},
   "source": [
    "Ideal category values are mentioned below"
   ]
  },
  {
   "cell_type": "code",
   "execution_count": 202,
   "id": "embedded-style",
   "metadata": {},
   "outputs": [],
   "source": [
    "# function to return key for any value\n",
    "def get_key(val,my_dict):\n",
    "    for key, value in my_dict.items():\n",
    "         if val == value:\n",
    "             return key\n",
    " \n",
    "    return \"key doesn't exist\""
   ]
  },
  {
   "cell_type": "code",
   "execution_count": 203,
   "id": "described-corner",
   "metadata": {},
   "outputs": [
    {
     "data": {
      "text/plain": [
       "'H2X 1R9'"
      ]
     },
     "execution_count": 203,
     "metadata": {},
     "output_type": "execute_result"
    }
   ],
   "source": [
    "get_key(postcode_ideal,postcode_mapping) # Ideal post_code"
   ]
  },
  {
   "cell_type": "code",
   "execution_count": 204,
   "id": "outside-friday",
   "metadata": {},
   "outputs": [
    {
     "data": {
      "text/plain": [
       "'H1E 3L1'"
      ]
     },
     "execution_count": 204,
     "metadata": {},
     "output_type": "execute_result"
    }
   ],
   "source": [
    "get_key(round(postcode_mode[0][0]),postcode_mapping) # Ideal post_code"
   ]
  },
  {
   "cell_type": "markdown",
   "id": "green-nature",
   "metadata": {},
   "source": [
    "H2X 1P4 and H1A 0A1 are ideal post code values"
   ]
  },
  {
   "cell_type": "code",
   "execution_count": 205,
   "id": "adjustable-mouth",
   "metadata": {},
   "outputs": [],
   "source": [
    "#Most optimal values to install EV charging station"
   ]
  },
  {
   "cell_type": "code",
   "execution_count": 206,
   "id": "cordless-exploration",
   "metadata": {},
   "outputs": [
    {
     "data": {
      "text/plain": [
       "Index(['X', 'Y', 'CATEGORY', 'POST_CODE'], dtype='object')"
      ]
     },
     "execution_count": 206,
     "metadata": {},
     "output_type": "execute_result"
    }
   ],
   "source": [
    "poi_dataset.columns"
   ]
  },
  {
   "cell_type": "code",
   "execution_count": 207,
   "id": "charming-aluminum",
   "metadata": {},
   "outputs": [
    {
     "data": {
      "text/html": [
       "<div>\n",
       "<style scoped>\n",
       "    .dataframe tbody tr th:only-of-type {\n",
       "        vertical-align: middle;\n",
       "    }\n",
       "\n",
       "    .dataframe tbody tr th {\n",
       "        vertical-align: top;\n",
       "    }\n",
       "\n",
       "    .dataframe thead th {\n",
       "        text-align: right;\n",
       "    }\n",
       "</style>\n",
       "<table border=\"1\" class=\"dataframe\">\n",
       "  <thead>\n",
       "    <tr style=\"text-align: right;\">\n",
       "      <th></th>\n",
       "      <th>X</th>\n",
       "      <th>Y</th>\n",
       "      <th>2016 Population</th>\n",
       "      <th>2016 Dwelling Count</th>\n",
       "      <th>2016 Occupied Dwelling Count</th>\n",
       "      <th>Area (sq. km)</th>\n",
       "    </tr>\n",
       "  </thead>\n",
       "  <tbody>\n",
       "    <tr>\n",
       "      <th>0</th>\n",
       "      <td>-74.01211</td>\n",
       "      <td>45.66353</td>\n",
       "      <td>50513</td>\n",
       "      <td>20395</td>\n",
       "      <td>19631</td>\n",
       "      <td>994.845387</td>\n",
       "    </tr>\n",
       "    <tr>\n",
       "      <th>1</th>\n",
       "      <td>-73.49604</td>\n",
       "      <td>45.54300</td>\n",
       "      <td>85721</td>\n",
       "      <td>34249</td>\n",
       "      <td>33257</td>\n",
       "      <td>92.228456</td>\n",
       "    </tr>\n",
       "    <tr>\n",
       "      <th>2</th>\n",
       "      <td>-73.49604</td>\n",
       "      <td>45.54300</td>\n",
       "      <td>41671</td>\n",
       "      <td>17134</td>\n",
       "      <td>16888</td>\n",
       "      <td>144.089454</td>\n",
       "    </tr>\n",
       "    <tr>\n",
       "      <th>3</th>\n",
       "      <td>-73.49604</td>\n",
       "      <td>45.54300</td>\n",
       "      <td>239700</td>\n",
       "      <td>110761</td>\n",
       "      <td>105533</td>\n",
       "      <td>235.667385</td>\n",
       "    </tr>\n",
       "    <tr>\n",
       "      <th>4</th>\n",
       "      <td>-73.49604</td>\n",
       "      <td>45.54300</td>\n",
       "      <td>26394</td>\n",
       "      <td>10418</td>\n",
       "      <td>10243</td>\n",
       "      <td>89.449089</td>\n",
       "    </tr>\n",
       "    <tr>\n",
       "      <th>5</th>\n",
       "      <td>-73.42399</td>\n",
       "      <td>45.83146</td>\n",
       "      <td>5913</td>\n",
       "      <td>2962</td>\n",
       "      <td>2878</td>\n",
       "      <td>4.751278</td>\n",
       "    </tr>\n",
       "    <tr>\n",
       "      <th>6</th>\n",
       "      <td>-73.42399</td>\n",
       "      <td>45.83146</td>\n",
       "      <td>3439</td>\n",
       "      <td>1494</td>\n",
       "      <td>1435</td>\n",
       "      <td>74.937797</td>\n",
       "    </tr>\n",
       "    <tr>\n",
       "      <th>7</th>\n",
       "      <td>-73.42399</td>\n",
       "      <td>45.83146</td>\n",
       "      <td>84285</td>\n",
       "      <td>33876</td>\n",
       "      <td>33321</td>\n",
       "      <td>127.932585</td>\n",
       "    </tr>\n",
       "    <tr>\n",
       "      <th>8</th>\n",
       "      <td>-73.42399</td>\n",
       "      <td>45.83146</td>\n",
       "      <td>22429</td>\n",
       "      <td>8932</td>\n",
       "      <td>8736</td>\n",
       "      <td>207.825104</td>\n",
       "    </tr>\n",
       "    <tr>\n",
       "      <th>9</th>\n",
       "      <td>-73.42399</td>\n",
       "      <td>45.83146</td>\n",
       "      <td>5493</td>\n",
       "      <td>2240</td>\n",
       "      <td>2166</td>\n",
       "      <td>4.908156</td>\n",
       "    </tr>\n",
       "    <tr>\n",
       "      <th>10</th>\n",
       "      <td>-73.42399</td>\n",
       "      <td>45.83146</td>\n",
       "      <td>3200</td>\n",
       "      <td>1324</td>\n",
       "      <td>1232</td>\n",
       "      <td>113.521740</td>\n",
       "    </tr>\n",
       "    <tr>\n",
       "      <th>11</th>\n",
       "      <td>-73.49604</td>\n",
       "      <td>45.54300</td>\n",
       "      <td>21861</td>\n",
       "      <td>10446</td>\n",
       "      <td>9814</td>\n",
       "      <td>15.451078</td>\n",
       "    </tr>\n",
       "    <tr>\n",
       "      <th>12</th>\n",
       "      <td>-73.55469</td>\n",
       "      <td>45.51240</td>\n",
       "      <td>32448</td>\n",
       "      <td>14376</td>\n",
       "      <td>13490</td>\n",
       "      <td>14.158796</td>\n",
       "    </tr>\n",
       "    <tr>\n",
       "      <th>13</th>\n",
       "      <td>-73.55469</td>\n",
       "      <td>45.51240</td>\n",
       "      <td>6973</td>\n",
       "      <td>2623</td>\n",
       "      <td>2473</td>\n",
       "      <td>3.651437</td>\n",
       "    </tr>\n",
       "    <tr>\n",
       "      <th>14</th>\n",
       "      <td>-73.55469</td>\n",
       "      <td>45.51240</td>\n",
       "      <td>20276</td>\n",
       "      <td>7914</td>\n",
       "      <td>7373</td>\n",
       "      <td>15.342187</td>\n",
       "    </tr>\n",
       "    <tr>\n",
       "      <th>15</th>\n",
       "      <td>-73.55469</td>\n",
       "      <td>45.51240</td>\n",
       "      <td>3850</td>\n",
       "      <td>1856</td>\n",
       "      <td>1734</td>\n",
       "      <td>25.097341</td>\n",
       "    </tr>\n",
       "    <tr>\n",
       "      <th>16</th>\n",
       "      <td>-73.55469</td>\n",
       "      <td>45.51240</td>\n",
       "      <td>1704694</td>\n",
       "      <td>843872</td>\n",
       "      <td>779802</td>\n",
       "      <td>746.007589</td>\n",
       "    </tr>\n",
       "    <tr>\n",
       "      <th>17</th>\n",
       "      <td>-73.55469</td>\n",
       "      <td>45.51240</td>\n",
       "      <td>20312</td>\n",
       "      <td>9617</td>\n",
       "      <td>8685</td>\n",
       "      <td>8.229913</td>\n",
       "    </tr>\n",
       "    <tr>\n",
       "      <th>18</th>\n",
       "      <td>-73.55469</td>\n",
       "      <td>45.51240</td>\n",
       "      <td>3823</td>\n",
       "      <td>1381</td>\n",
       "      <td>1334</td>\n",
       "      <td>12.239964</td>\n",
       "    </tr>\n",
       "    <tr>\n",
       "      <th>19</th>\n",
       "      <td>-73.55469</td>\n",
       "      <td>45.51240</td>\n",
       "      <td>4958</td>\n",
       "      <td>2195</td>\n",
       "      <td>1960</td>\n",
       "      <td>21.301870</td>\n",
       "    </tr>\n",
       "    <tr>\n",
       "      <th>20</th>\n",
       "      <td>-73.55469</td>\n",
       "      <td>45.51240</td>\n",
       "      <td>19324</td>\n",
       "      <td>6828</td>\n",
       "      <td>6662</td>\n",
       "      <td>22.386558</td>\n",
       "    </tr>\n",
       "    <tr>\n",
       "      <th>21</th>\n",
       "      <td>-73.55469</td>\n",
       "      <td>45.51240</td>\n",
       "      <td>921</td>\n",
       "      <td>375</td>\n",
       "      <td>346</td>\n",
       "      <td>15.277311</td>\n",
       "    </tr>\n",
       "    <tr>\n",
       "      <th>22</th>\n",
       "      <td>-73.55469</td>\n",
       "      <td>45.51240</td>\n",
       "      <td>48899</td>\n",
       "      <td>17627</td>\n",
       "      <td>17210</td>\n",
       "      <td>30.673465</td>\n",
       "    </tr>\n",
       "    <tr>\n",
       "      <th>23</th>\n",
       "      <td>-73.55469</td>\n",
       "      <td>45.51240</td>\n",
       "      <td>5</td>\n",
       "      <td>60</td>\n",
       "      <td>4</td>\n",
       "      <td>0.389321</td>\n",
       "    </tr>\n",
       "    <tr>\n",
       "      <th>24</th>\n",
       "      <td>-73.55469</td>\n",
       "      <td>45.51240</td>\n",
       "      <td>31380</td>\n",
       "      <td>12835</td>\n",
       "      <td>12376</td>\n",
       "      <td>38.425267</td>\n",
       "    </tr>\n",
       "    <tr>\n",
       "      <th>25</th>\n",
       "      <td>-73.55469</td>\n",
       "      <td>45.51240</td>\n",
       "      <td>18980</td>\n",
       "      <td>8818</td>\n",
       "      <td>8392</td>\n",
       "      <td>42.507970</td>\n",
       "    </tr>\n",
       "    <tr>\n",
       "      <th>26</th>\n",
       "      <td>-73.55469</td>\n",
       "      <td>45.51240</td>\n",
       "      <td>20151</td>\n",
       "      <td>6779</td>\n",
       "      <td>6682</td>\n",
       "      <td>19.574071</td>\n",
       "    </tr>\n",
       "    <tr>\n",
       "      <th>27</th>\n",
       "      <td>-73.89274</td>\n",
       "      <td>45.54179</td>\n",
       "      <td>1686</td>\n",
       "      <td>865</td>\n",
       "      <td>730</td>\n",
       "      <td>87.569349</td>\n",
       "    </tr>\n",
       "    <tr>\n",
       "      <th>28</th>\n",
       "      <td>-73.74433</td>\n",
       "      <td>45.55201</td>\n",
       "      <td>422993</td>\n",
       "      <td>165686</td>\n",
       "      <td>160328</td>\n",
       "      <td>504.765526</td>\n",
       "    </tr>\n",
       "    <tr>\n",
       "      <th>29</th>\n",
       "      <td>-73.55469</td>\n",
       "      <td>45.51240</td>\n",
       "      <td>5050</td>\n",
       "      <td>1956</td>\n",
       "      <td>1850</td>\n",
       "      <td>2.780542</td>\n",
       "    </tr>\n",
       "    <tr>\n",
       "      <th>30</th>\n",
       "      <td>-73.89274</td>\n",
       "      <td>45.54179</td>\n",
       "      <td>17496</td>\n",
       "      <td>7240</td>\n",
       "      <td>7093</td>\n",
       "      <td>12.409227</td>\n",
       "    </tr>\n",
       "    <tr>\n",
       "      <th>31</th>\n",
       "      <td>-73.89274</td>\n",
       "      <td>45.54179</td>\n",
       "      <td>6428</td>\n",
       "      <td>2696</td>\n",
       "      <td>2618</td>\n",
       "      <td>10.302565</td>\n",
       "    </tr>\n",
       "    <tr>\n",
       "      <th>32</th>\n",
       "      <td>-73.89274</td>\n",
       "      <td>45.54179</td>\n",
       "      <td>18074</td>\n",
       "      <td>6941</td>\n",
       "      <td>6870</td>\n",
       "      <td>18.198250</td>\n",
       "    </tr>\n",
       "    <tr>\n",
       "      <th>33</th>\n",
       "      <td>-73.89274</td>\n",
       "      <td>45.54179</td>\n",
       "      <td>6687</td>\n",
       "      <td>2608</td>\n",
       "      <td>2527</td>\n",
       "      <td>84.732976</td>\n",
       "    </tr>\n",
       "    <tr>\n",
       "      <th>34</th>\n",
       "      <td>-73.89274</td>\n",
       "      <td>45.54179</td>\n",
       "      <td>44008</td>\n",
       "      <td>18742</td>\n",
       "      <td>18347</td>\n",
       "      <td>144.306329</td>\n",
       "    </tr>\n",
       "    <tr>\n",
       "      <th>35</th>\n",
       "      <td>-73.89274</td>\n",
       "      <td>45.54179</td>\n",
       "      <td>3824</td>\n",
       "      <td>1636</td>\n",
       "      <td>1563</td>\n",
       "      <td>117.592420</td>\n",
       "    </tr>\n",
       "    <tr>\n",
       "      <th>36</th>\n",
       "      <td>-73.89274</td>\n",
       "      <td>45.54179</td>\n",
       "      <td>0</td>\n",
       "      <td>0</td>\n",
       "      <td>0</td>\n",
       "      <td>24.129391</td>\n",
       "    </tr>\n",
       "  </tbody>\n",
       "</table>\n",
       "</div>"
      ],
      "text/plain": [
       "           X         Y  2016 Population  2016 Dwelling Count  \\\n",
       "0  -74.01211  45.66353            50513                20395   \n",
       "1  -73.49604  45.54300            85721                34249   \n",
       "2  -73.49604  45.54300            41671                17134   \n",
       "3  -73.49604  45.54300           239700               110761   \n",
       "4  -73.49604  45.54300            26394                10418   \n",
       "5  -73.42399  45.83146             5913                 2962   \n",
       "6  -73.42399  45.83146             3439                 1494   \n",
       "7  -73.42399  45.83146            84285                33876   \n",
       "8  -73.42399  45.83146            22429                 8932   \n",
       "9  -73.42399  45.83146             5493                 2240   \n",
       "10 -73.42399  45.83146             3200                 1324   \n",
       "11 -73.49604  45.54300            21861                10446   \n",
       "12 -73.55469  45.51240            32448                14376   \n",
       "13 -73.55469  45.51240             6973                 2623   \n",
       "14 -73.55469  45.51240            20276                 7914   \n",
       "15 -73.55469  45.51240             3850                 1856   \n",
       "16 -73.55469  45.51240          1704694               843872   \n",
       "17 -73.55469  45.51240            20312                 9617   \n",
       "18 -73.55469  45.51240             3823                 1381   \n",
       "19 -73.55469  45.51240             4958                 2195   \n",
       "20 -73.55469  45.51240            19324                 6828   \n",
       "21 -73.55469  45.51240              921                  375   \n",
       "22 -73.55469  45.51240            48899                17627   \n",
       "23 -73.55469  45.51240                5                   60   \n",
       "24 -73.55469  45.51240            31380                12835   \n",
       "25 -73.55469  45.51240            18980                 8818   \n",
       "26 -73.55469  45.51240            20151                 6779   \n",
       "27 -73.89274  45.54179             1686                  865   \n",
       "28 -73.74433  45.55201           422993               165686   \n",
       "29 -73.55469  45.51240             5050                 1956   \n",
       "30 -73.89274  45.54179            17496                 7240   \n",
       "31 -73.89274  45.54179             6428                 2696   \n",
       "32 -73.89274  45.54179            18074                 6941   \n",
       "33 -73.89274  45.54179             6687                 2608   \n",
       "34 -73.89274  45.54179            44008                18742   \n",
       "35 -73.89274  45.54179             3824                 1636   \n",
       "36 -73.89274  45.54179                0                    0   \n",
       "\n",
       "    2016 Occupied Dwelling Count  Area (sq. km)  \n",
       "0                          19631     994.845387  \n",
       "1                          33257      92.228456  \n",
       "2                          16888     144.089454  \n",
       "3                         105533     235.667385  \n",
       "4                          10243      89.449089  \n",
       "5                           2878       4.751278  \n",
       "6                           1435      74.937797  \n",
       "7                          33321     127.932585  \n",
       "8                           8736     207.825104  \n",
       "9                           2166       4.908156  \n",
       "10                          1232     113.521740  \n",
       "11                          9814      15.451078  \n",
       "12                         13490      14.158796  \n",
       "13                          2473       3.651437  \n",
       "14                          7373      15.342187  \n",
       "15                          1734      25.097341  \n",
       "16                        779802     746.007589  \n",
       "17                          8685       8.229913  \n",
       "18                          1334      12.239964  \n",
       "19                          1960      21.301870  \n",
       "20                          6662      22.386558  \n",
       "21                           346      15.277311  \n",
       "22                         17210      30.673465  \n",
       "23                             4       0.389321  \n",
       "24                         12376      38.425267  \n",
       "25                          8392      42.507970  \n",
       "26                          6682      19.574071  \n",
       "27                           730      87.569349  \n",
       "28                        160328     504.765526  \n",
       "29                          1850       2.780542  \n",
       "30                          7093      12.409227  \n",
       "31                          2618      10.302565  \n",
       "32                          6870      18.198250  \n",
       "33                          2527      84.732976  \n",
       "34                         18347     144.306329  \n",
       "35                          1563     117.592420  \n",
       "36                             0      24.129391  "
      ]
     },
     "execution_count": 207,
     "metadata": {},
     "output_type": "execute_result"
    }
   ],
   "source": [
    "census_1"
   ]
  },
  {
   "cell_type": "code",
   "execution_count": 208,
   "id": "advance-reply",
   "metadata": {},
   "outputs": [
    {
     "data": {
      "text/plain": [
       "Index(['X', 'Y', '2016 Population', '2016 Dwelling Count',\n",
       "       '2016 Occupied Dwelling Count', 'Area (sq. km)'],\n",
       "      dtype='object')"
      ]
     },
     "execution_count": 208,
     "metadata": {},
     "output_type": "execute_result"
    }
   ],
   "source": [
    "census_1.columns"
   ]
  },
  {
   "cell_type": "code",
   "execution_count": 209,
   "id": "transparent-jacob",
   "metadata": {},
   "outputs": [
    {
     "data": {
      "text/plain": [
       "Index(['EV Level2 EVSE Num', 'EV DC Fast Count', 'Latitude', 'Longitude',\n",
       "       'Facility Type', 'ZIP', 'EV Connector Types', 'Access Code'],\n",
       "      dtype='object')"
      ]
     },
     "execution_count": 209,
     "metadata": {},
     "output_type": "execute_result"
    }
   ],
   "source": [
    "mon_dataset.columns"
   ]
  },
  {
   "cell_type": "code",
   "execution_count": 210,
   "id": "expired-animation",
   "metadata": {},
   "outputs": [
    {
     "data": {
      "text/plain": [
       "(-73.60667616666666, -73.59980724525424, -73.61131139900611)"
      ]
     },
     "execution_count": 210,
     "metadata": {},
     "output_type": "execute_result"
    }
   ],
   "source": [
    "census_centroids[:,0].mean() , poi_dataset_centroids[:,0].mean() , montreal_centroids[:,3].mean()"
   ]
  },
  {
   "cell_type": "code",
   "execution_count": 211,
   "id": "funny-table",
   "metadata": {},
   "outputs": [],
   "source": [
    "some_list = []\n",
    "def ideal_points(start, stop, cen_col, poi_col, mon_col, label):\n",
    "  if abs(start - stop) == 3:\n",
    "    for i in range(start,stop):\n",
    "      something = census_centroids[i,cen_col], poi_dataset_centroids[i,poi_col], montreal_centroids[i,mon_col]\n",
    "      some_list.append(something)\n",
    "    print(\"Ideal point on\", label, np.mean(some_list))\n",
    "    some_list.clear()\n",
    "  else:\n",
    "    raise ValueError(\"The value is not equal to 3. Value:\", abs(start-stop))"
   ]
  },
  {
   "cell_type": "markdown",
   "id": "violent-laser",
   "metadata": {},
   "source": [
    "Optimal values according to Longitude"
   ]
  },
  {
   "cell_type": "code",
   "execution_count": 212,
   "id": "complete-hawaiian",
   "metadata": {},
   "outputs": [
    {
     "name": "stdout",
     "output_type": "stream",
     "text": [
      "Ideal point on longitude -73.58046638835052\n",
      "Ideal point on longitude -73.5689061350571\n",
      "Ideal point on longitude -73.61859476931383\n",
      "Ideal point on longitude -73.59522225621977\n",
      "Ideal point on longitude -73.67724423816534\n",
      "Ideal point on longitude -73.58839472714916\n",
      "Ideal point on longitude -73.63673948535\n",
      "Ideal point on longitude -73.61685611250239\n",
      "Ideal point on longitude -73.58669358477573\n",
      "Ideal point on longitude -73.59019833953948\n"
     ]
    }
   ],
   "source": [
    "label = 'longitude'\n",
    "cen_col = 0\n",
    "poi_col = 0\n",
    "mon_col = 3\n",
    "ideal_points(0,3,cen_col,poi_col,mon_col,label)     #1\n",
    "ideal_points(3,6,cen_col,poi_col,mon_col,label)     #2\n",
    "ideal_points(6,9,cen_col,poi_col,mon_col,label)     #3\n",
    "ideal_points(9,12,cen_col,poi_col,mon_col,label)    #4\n",
    "ideal_points(12,15,cen_col,poi_col,mon_col,label)   #5\n",
    "ideal_points(15,18,cen_col,poi_col,mon_col,label)   #6\n",
    "ideal_points(18,21,cen_col,poi_col,mon_col,label)   #7\n",
    "ideal_points(21,24,cen_col,poi_col,mon_col,label)   #8\n",
    "ideal_points(24,27,cen_col,poi_col,mon_col,label)   #9\n",
    "ideal_points(27,30,cen_col,poi_col,mon_col,label)   #10"
   ]
  },
  {
   "cell_type": "markdown",
   "id": "happy-sixth",
   "metadata": {},
   "source": [
    "Optimal values according to Latitude"
   ]
  },
  {
   "cell_type": "code",
   "execution_count": 213,
   "id": "cathedral-lafayette",
   "metadata": {},
   "outputs": [
    {
     "name": "stdout",
     "output_type": "stream",
     "text": [
      "Ideal point on latitude 45.54361285868539\n",
      "Ideal point on latitude 45.57555944413708\n",
      "Ideal point on latitude 45.56876502683734\n",
      "Ideal point on latitude 45.544411138906746\n",
      "Ideal point on latitude 45.53777460135297\n",
      "Ideal point on latitude 45.517359319462685\n",
      "Ideal point on latitude 45.556471268322284\n",
      "Ideal point on latitude 45.56955581438777\n",
      "Ideal point on latitude 45.550510375429404\n",
      "Ideal point on latitude 45.54893023314959\n"
     ]
    }
   ],
   "source": [
    "label = 'latitude'\n",
    "cen_col = 1\n",
    "poi_col = 1\n",
    "mon_col = 2\n",
    "ideal_points(0,3,cen_col,poi_col,mon_col,label)     #1\n",
    "ideal_points(3,6,cen_col,poi_col,mon_col,label)     #2\n",
    "ideal_points(6,9,cen_col,poi_col,mon_col,label)     #3\n",
    "ideal_points(9,12,cen_col,poi_col,mon_col,label)    #4\n",
    "ideal_points(12,15,cen_col,poi_col,mon_col,label)   #5\n",
    "ideal_points(15,18,cen_col,poi_col,mon_col,label)   #6\n",
    "ideal_points(18,21,cen_col,poi_col,mon_col,label)   #7\n",
    "ideal_points(21,24,cen_col,poi_col,mon_col,label)   #8\n",
    "ideal_points(24,27,cen_col,poi_col,mon_col,label)   #9\n",
    "ideal_points(27,30,cen_col,poi_col,mon_col,label)   #10"
   ]
  },
  {
   "cell_type": "markdown",
   "id": "catholic-birthday",
   "metadata": {},
   "source": [
    "Merging points in an array (list)"
   ]
  },
  {
   "cell_type": "code",
   "execution_count": 214,
   "id": "classical-freeware",
   "metadata": {},
   "outputs": [],
   "source": [
    "longitude_list = []\n",
    "for i in range(len(census_centroids)):\n",
    "      something = census_centroids[i,0], poi_dataset_centroids[i,0], montreal_centroids[i,3]\n",
    "      longitude_list.append(np.mean(something))"
   ]
  },
  {
   "cell_type": "code",
   "execution_count": 215,
   "id": "manufactured-firmware",
   "metadata": {},
   "outputs": [
    {
     "data": {
      "text/plain": [
       "[-73.58260142628835,\n",
       " -73.52104443071828,\n",
       " -73.6377533080449,\n",
       " -73.57515978434643,\n",
       " -73.56904580206269,\n",
       " -73.56251281876217,\n",
       " -73.54544804463337,\n",
       " -73.74126034469658,\n",
       " -73.56907591861153,\n",
       " -73.56737331388784,\n",
       " -73.7114860340106,\n",
       " -73.5068074207609,\n",
       " -73.72817979295105,\n",
       " -73.56412702768888,\n",
       " -73.7394258938561,\n",
       " -73.56354049113177,\n",
       " -73.58073322940055,\n",
       " -73.6209104609152,\n",
       " -73.71916956893199,\n",
       " -73.58563937043188,\n",
       " -73.60540951668621,\n",
       " -73.60050612555763,\n",
       " -73.66721300679426,\n",
       " -73.58284920515531,\n",
       " -73.55789484999856,\n",
       " -73.62058086640606,\n",
       " -73.58160503792256,\n",
       " -73.53703101344416,\n",
       " -73.70853589383054,\n",
       " -73.52502811134377]"
      ]
     },
     "execution_count": 215,
     "metadata": {},
     "output_type": "execute_result"
    }
   ],
   "source": [
    "longitude_list"
   ]
  },
  {
   "cell_type": "code",
   "execution_count": 216,
   "id": "blocked-routine",
   "metadata": {},
   "outputs": [],
   "source": [
    "latitude_list = []\n",
    "for i in range(len(census_centroids)):\n",
    "      something = census_centroids[i,1], poi_dataset_centroids[i,1], montreal_centroids[i,2]\n",
    "      latitude_list.append(np.mean(something))"
   ]
  },
  {
   "cell_type": "code",
   "execution_count": 217,
   "id": "infectious-clearing",
   "metadata": {},
   "outputs": [
    {
     "data": {
      "text/plain": [
       "[45.54827987114219,\n",
       " 45.51813976760264,\n",
       " 45.56441893731134,\n",
       " 45.60451103773045,\n",
       " 45.584775152553654,\n",
       " 45.537392142127125,\n",
       " 45.62547033121134,\n",
       " 45.53748264419894,\n",
       " 45.543342105101765,\n",
       " 45.49923200485849,\n",
       " 45.53691179070504,\n",
       " 45.59708962115672,\n",
       " 45.57416551209908,\n",
       " 45.52058058005582,\n",
       " 45.518577711903994,\n",
       " 45.51347692704681,\n",
       " 45.52609357546868,\n",
       " 45.51250745587257,\n",
       " 45.57534300789177,\n",
       " 45.567049176522225,\n",
       " 45.527021620552865,\n",
       " 45.52436361952118,\n",
       " 45.550708205771684,\n",
       " 45.63359561787042,\n",
       " 45.56939736835232,\n",
       " 45.54207005697909,\n",
       " 45.540063700956786,\n",
       " 45.514377813934374,\n",
       " 45.51184502396607,\n",
       " 45.62056786154833]"
      ]
     },
     "execution_count": 217,
     "metadata": {},
     "output_type": "execute_result"
    }
   ],
   "source": [
    "latitude_list"
   ]
  },
  {
   "cell_type": "markdown",
   "id": "appointed-guitar",
   "metadata": {},
   "source": [
    "Converting Latitude and Longitude to Postal Codes"
   ]
  },
  {
   "cell_type": "code",
   "execution_count": 218,
   "id": "changing-filter",
   "metadata": {},
   "outputs": [],
   "source": [
    "def get_zipcode(df, geolocator, lat_field, lon_field):\n",
    "    location = geolocator.reverse((df[lat_field], df[lon_field]))\n",
    "    return location.raw['address']['postcode']"
   ]
  },
  {
   "cell_type": "code",
   "execution_count": 219,
   "id": "bottom-lighting",
   "metadata": {},
   "outputs": [],
   "source": [
    "geolocator = geopy.Nominatim(user_agent='sheisomaima@gmail.com')"
   ]
  },
  {
   "cell_type": "code",
   "execution_count": 220,
   "id": "geographic-stability",
   "metadata": {},
   "outputs": [],
   "source": [
    "df = pd.DataFrame({\n",
    "    'Lat': latitude_list,\n",
    "    'Lon': longitude_list\n",
    "})\n"
   ]
  },
  {
   "cell_type": "code",
   "execution_count": 221,
   "id": "secondary-portfolio",
   "metadata": {},
   "outputs": [],
   "source": [
    "zipcodes = df.apply(get_zipcode, axis=1, geolocator=geolocator, lat_field='Lat', lon_field='Lon')"
   ]
  },
  {
   "cell_type": "code",
   "execution_count": 222,
   "id": "pointed-marathon",
   "metadata": {},
   "outputs": [
    {
     "data": {
      "text/plain": [
       "0     H1Y 1W5\n",
       "1     J4K 1A7\n",
       "2     H2M 2M1\n",
       "3     H1J 1G5\n",
       "4     H1T 2L7\n",
       "5     H2K 3E2\n",
       "6     H1B 5Y3\n",
       "7     H7V 2T2\n",
       "8     H1Y 3J8\n",
       "9     H3B 1R2\n",
       "10    H4J 1Y4\n",
       "11    H1L 3L2\n",
       "12    H7S 1N2\n",
       "13    H2L 1H8\n",
       "14    H4K 1N4\n",
       "15    H2X 1J2\n",
       "16    H2J 1W9\n",
       "17    H3S 1N8\n",
       "18    H7M 5G4\n",
       "19    H1T 1B6\n",
       "20    H2T 2J1\n",
       "21    H2T 2L1\n",
       "22    H3L 2P5\n",
       "23    H1E 5Y8\n",
       "24    H1Y 2G3\n",
       "25    H2P 1V6\n",
       "26    H2H 2P9\n",
       "27    H2L 5C1\n",
       "28    H4R 3B1\n",
       "29    H1L 6P2\n",
       "dtype: object"
      ]
     },
     "execution_count": 222,
     "metadata": {},
     "output_type": "execute_result"
    }
   ],
   "source": [
    "zipcodes"
   ]
  },
  {
   "cell_type": "code",
   "execution_count": 223,
   "id": "serious-worthy",
   "metadata": {},
   "outputs": [
    {
     "data": {
      "text/plain": [
       "30"
      ]
     },
     "execution_count": 223,
     "metadata": {},
     "output_type": "execute_result"
    }
   ],
   "source": [
    "len(zipcodes)"
   ]
  },
  {
   "cell_type": "code",
   "execution_count": 224,
   "id": "appointed-flavor",
   "metadata": {},
   "outputs": [],
   "source": [
    "zipcode_list = []"
   ]
  },
  {
   "cell_type": "code",
   "execution_count": 225,
   "id": "remarkable-manufacturer",
   "metadata": {},
   "outputs": [],
   "source": [
    "zipcode_list.append([i for i in zipcodes])"
   ]
  },
  {
   "cell_type": "code",
   "execution_count": 226,
   "id": "limiting-reason",
   "metadata": {},
   "outputs": [
    {
     "data": {
      "text/plain": [
       "[['H1Y 1W5',\n",
       "  'J4K 1A7',\n",
       "  'H2M 2M1',\n",
       "  'H1J 1G5',\n",
       "  'H1T 2L7',\n",
       "  'H2K 3E2',\n",
       "  'H1B 5Y3',\n",
       "  'H7V 2T2',\n",
       "  'H1Y 3J8',\n",
       "  'H3B 1R2',\n",
       "  'H4J 1Y4',\n",
       "  'H1L 3L2',\n",
       "  'H7S 1N2',\n",
       "  'H2L 1H8',\n",
       "  'H4K 1N4',\n",
       "  'H2X 1J2',\n",
       "  'H2J 1W9',\n",
       "  'H3S 1N8',\n",
       "  'H7M 5G4',\n",
       "  'H1T 1B6',\n",
       "  'H2T 2J1',\n",
       "  'H2T 2L1',\n",
       "  'H3L 2P5',\n",
       "  'H1E 5Y8',\n",
       "  'H1Y 2G3',\n",
       "  'H2P 1V6',\n",
       "  'H2H 2P9',\n",
       "  'H2L 5C1',\n",
       "  'H4R 3B1',\n",
       "  'H1L 6P2']]"
      ]
     },
     "execution_count": 226,
     "metadata": {},
     "output_type": "execute_result"
    }
   ],
   "source": [
    "zipcode_list"
   ]
  },
  {
   "cell_type": "code",
   "execution_count": 227,
   "id": "reflected-oracle",
   "metadata": {},
   "outputs": [
    {
     "data": {
      "text/plain": [
       "1"
      ]
     },
     "execution_count": 227,
     "metadata": {},
     "output_type": "execute_result"
    }
   ],
   "source": [
    "len(zipcode_list)"
   ]
  },
  {
   "cell_type": "code",
   "execution_count": 228,
   "id": "infectious-locator",
   "metadata": {},
   "outputs": [],
   "source": [
    "zip_list = []\n",
    "for i in zipcode_list:\n",
    "  zip_list.append(i)"
   ]
  },
  {
   "cell_type": "code",
   "execution_count": 229,
   "id": "final-sandwich",
   "metadata": {},
   "outputs": [
    {
     "data": {
      "text/plain": [
       "[['H1Y 1W5',\n",
       "  'J4K 1A7',\n",
       "  'H2M 2M1',\n",
       "  'H1J 1G5',\n",
       "  'H1T 2L7',\n",
       "  'H2K 3E2',\n",
       "  'H1B 5Y3',\n",
       "  'H7V 2T2',\n",
       "  'H1Y 3J8',\n",
       "  'H3B 1R2',\n",
       "  'H4J 1Y4',\n",
       "  'H1L 3L2',\n",
       "  'H7S 1N2',\n",
       "  'H2L 1H8',\n",
       "  'H4K 1N4',\n",
       "  'H2X 1J2',\n",
       "  'H2J 1W9',\n",
       "  'H3S 1N8',\n",
       "  'H7M 5G4',\n",
       "  'H1T 1B6',\n",
       "  'H2T 2J1',\n",
       "  'H2T 2L1',\n",
       "  'H3L 2P5',\n",
       "  'H1E 5Y8',\n",
       "  'H1Y 2G3',\n",
       "  'H2P 1V6',\n",
       "  'H2H 2P9',\n",
       "  'H2L 5C1',\n",
       "  'H4R 3B1',\n",
       "  'H1L 6P2']]"
      ]
     },
     "execution_count": 229,
     "metadata": {},
     "output_type": "execute_result"
    }
   ],
   "source": [
    "zip_list"
   ]
  },
  {
   "cell_type": "markdown",
   "id": "flush-priest",
   "metadata": {},
   "source": [
    "Taking out more information through postal code"
   ]
  },
  {
   "cell_type": "code",
   "execution_count": 230,
   "id": "owned-insert",
   "metadata": {},
   "outputs": [],
   "source": [
    "nomi = pgeocode.Nominatim('ca')"
   ]
  },
  {
   "cell_type": "code",
   "execution_count": 231,
   "id": "gorgeous-sharp",
   "metadata": {},
   "outputs": [
    {
     "data": {
      "text/plain": [
       "postal_code               H4C\n",
       "country_code               CA\n",
       "place_name        Saint-Henri\n",
       "state_name             Quebec\n",
       "state_code                 QC\n",
       "county_name               NaN\n",
       "county_code               NaN\n",
       "community_name            NaN\n",
       "community_code            NaN\n",
       "latitude              45.4737\n",
       "longitude            -73.5882\n",
       "accuracy                    4\n",
       "Name: 0, dtype: object"
      ]
     },
     "execution_count": 231,
     "metadata": {},
     "output_type": "execute_result"
    }
   ],
   "source": [
    "nomi.query_postal_code(\"H4C 1R6\")"
   ]
  },
  {
   "cell_type": "code",
   "execution_count": 232,
   "id": "imposed-reviewer",
   "metadata": {},
   "outputs": [
    {
     "data": {
      "text/html": [
       "<div>\n",
       "<style scoped>\n",
       "    .dataframe tbody tr th:only-of-type {\n",
       "        vertical-align: middle;\n",
       "    }\n",
       "\n",
       "    .dataframe tbody tr th {\n",
       "        vertical-align: top;\n",
       "    }\n",
       "\n",
       "    .dataframe thead th {\n",
       "        text-align: right;\n",
       "    }\n",
       "</style>\n",
       "<table border=\"1\" class=\"dataframe\">\n",
       "  <thead>\n",
       "    <tr style=\"text-align: right;\">\n",
       "      <th></th>\n",
       "      <th>postal_code</th>\n",
       "      <th>country_code</th>\n",
       "      <th>place_name</th>\n",
       "      <th>state_name</th>\n",
       "      <th>state_code</th>\n",
       "      <th>county_name</th>\n",
       "      <th>county_code</th>\n",
       "      <th>community_name</th>\n",
       "      <th>community_code</th>\n",
       "      <th>latitude</th>\n",
       "      <th>longitude</th>\n",
       "      <th>accuracy</th>\n",
       "    </tr>\n",
       "  </thead>\n",
       "  <tbody>\n",
       "    <tr>\n",
       "      <th>0</th>\n",
       "      <td>H1Y</td>\n",
       "      <td>CA</td>\n",
       "      <td>Rosemont South</td>\n",
       "      <td>Quebec</td>\n",
       "      <td>QC</td>\n",
       "      <td>Rosemont</td>\n",
       "      <td>NaN</td>\n",
       "      <td>NaN</td>\n",
       "      <td>NaN</td>\n",
       "      <td>45.5486</td>\n",
       "      <td>-73.5788</td>\n",
       "      <td>1.0</td>\n",
       "    </tr>\n",
       "    <tr>\n",
       "      <th>1</th>\n",
       "      <td>J4K</td>\n",
       "      <td>CA</td>\n",
       "      <td>Longueuil Southwest</td>\n",
       "      <td>Quebec</td>\n",
       "      <td>QC</td>\n",
       "      <td>Longueuil</td>\n",
       "      <td>NaN</td>\n",
       "      <td>NaN</td>\n",
       "      <td>NaN</td>\n",
       "      <td>45.5183</td>\n",
       "      <td>-73.5023</td>\n",
       "      <td>1.0</td>\n",
       "    </tr>\n",
       "    <tr>\n",
       "      <th>2</th>\n",
       "      <td>H2M</td>\n",
       "      <td>CA</td>\n",
       "      <td>Ahuntsic East</td>\n",
       "      <td>Quebec</td>\n",
       "      <td>QC</td>\n",
       "      <td>Ahuntsic</td>\n",
       "      <td>NaN</td>\n",
       "      <td>NaN</td>\n",
       "      <td>NaN</td>\n",
       "      <td>45.5528</td>\n",
       "      <td>-73.6411</td>\n",
       "      <td>6.0</td>\n",
       "    </tr>\n",
       "    <tr>\n",
       "      <th>3</th>\n",
       "      <td>H1J</td>\n",
       "      <td>CA</td>\n",
       "      <td>Anjou West</td>\n",
       "      <td>Quebec</td>\n",
       "      <td>QC</td>\n",
       "      <td>Anjou</td>\n",
       "      <td>NaN</td>\n",
       "      <td>NaN</td>\n",
       "      <td>NaN</td>\n",
       "      <td>45.6097</td>\n",
       "      <td>-73.5794</td>\n",
       "      <td>1.0</td>\n",
       "    </tr>\n",
       "    <tr>\n",
       "      <th>4</th>\n",
       "      <td>H1T</td>\n",
       "      <td>CA</td>\n",
       "      <td>Rosemont North</td>\n",
       "      <td>Quebec</td>\n",
       "      <td>QC</td>\n",
       "      <td>Rosemont</td>\n",
       "      <td>NaN</td>\n",
       "      <td>NaN</td>\n",
       "      <td>NaN</td>\n",
       "      <td>45.5730</td>\n",
       "      <td>-73.5701</td>\n",
       "      <td>1.0</td>\n",
       "    </tr>\n",
       "    <tr>\n",
       "      <th>5</th>\n",
       "      <td>H2K</td>\n",
       "      <td>CA</td>\n",
       "      <td>Centre-Sud North</td>\n",
       "      <td>Quebec</td>\n",
       "      <td>QC</td>\n",
       "      <td>NaN</td>\n",
       "      <td>NaN</td>\n",
       "      <td>NaN</td>\n",
       "      <td>NaN</td>\n",
       "      <td>45.5307</td>\n",
       "      <td>-73.5547</td>\n",
       "      <td>6.0</td>\n",
       "    </tr>\n",
       "    <tr>\n",
       "      <th>6</th>\n",
       "      <td>H1B</td>\n",
       "      <td>CA</td>\n",
       "      <td>Montreal East</td>\n",
       "      <td>Quebec</td>\n",
       "      <td>QC</td>\n",
       "      <td>Montreal</td>\n",
       "      <td>6.0</td>\n",
       "      <td>NaN</td>\n",
       "      <td>NaN</td>\n",
       "      <td>45.6320</td>\n",
       "      <td>-73.5075</td>\n",
       "      <td>4.0</td>\n",
       "    </tr>\n",
       "    <tr>\n",
       "      <th>7</th>\n",
       "      <td>H7V</td>\n",
       "      <td>CA</td>\n",
       "      <td>Chomedey East</td>\n",
       "      <td>Quebec</td>\n",
       "      <td>QC</td>\n",
       "      <td>Chomedey</td>\n",
       "      <td>NaN</td>\n",
       "      <td>NaN</td>\n",
       "      <td>NaN</td>\n",
       "      <td>45.5478</td>\n",
       "      <td>-73.7368</td>\n",
       "      <td>1.0</td>\n",
       "    </tr>\n",
       "    <tr>\n",
       "      <th>8</th>\n",
       "      <td>H1Y</td>\n",
       "      <td>CA</td>\n",
       "      <td>Rosemont South</td>\n",
       "      <td>Quebec</td>\n",
       "      <td>QC</td>\n",
       "      <td>Rosemont</td>\n",
       "      <td>NaN</td>\n",
       "      <td>NaN</td>\n",
       "      <td>NaN</td>\n",
       "      <td>45.5486</td>\n",
       "      <td>-73.5788</td>\n",
       "      <td>1.0</td>\n",
       "    </tr>\n",
       "    <tr>\n",
       "      <th>9</th>\n",
       "      <td>H3B</td>\n",
       "      <td>CA</td>\n",
       "      <td>Downtown Montreal East</td>\n",
       "      <td>Quebec</td>\n",
       "      <td>QC</td>\n",
       "      <td>Montreal</td>\n",
       "      <td>6.0</td>\n",
       "      <td>NaN</td>\n",
       "      <td>NaN</td>\n",
       "      <td>45.5005</td>\n",
       "      <td>-73.5684</td>\n",
       "      <td>1.0</td>\n",
       "    </tr>\n",
       "    <tr>\n",
       "      <th>10</th>\n",
       "      <td>H4J</td>\n",
       "      <td>CA</td>\n",
       "      <td>Cartierville Central</td>\n",
       "      <td>Quebec</td>\n",
       "      <td>QC</td>\n",
       "      <td>Cartierville</td>\n",
       "      <td>NaN</td>\n",
       "      <td>NaN</td>\n",
       "      <td>NaN</td>\n",
       "      <td>45.5313</td>\n",
       "      <td>-73.7091</td>\n",
       "      <td>1.0</td>\n",
       "    </tr>\n",
       "    <tr>\n",
       "      <th>11</th>\n",
       "      <td>H1L</td>\n",
       "      <td>CA</td>\n",
       "      <td>Mercier North</td>\n",
       "      <td>Quebec</td>\n",
       "      <td>QC</td>\n",
       "      <td>Mercier</td>\n",
       "      <td>NaN</td>\n",
       "      <td>NaN</td>\n",
       "      <td>NaN</td>\n",
       "      <td>45.6043</td>\n",
       "      <td>-73.5178</td>\n",
       "      <td>4.0</td>\n",
       "    </tr>\n",
       "    <tr>\n",
       "      <th>12</th>\n",
       "      <td>H7S</td>\n",
       "      <td>CA</td>\n",
       "      <td>Chomedey Northeast</td>\n",
       "      <td>Quebec</td>\n",
       "      <td>QC</td>\n",
       "      <td>Chomedey</td>\n",
       "      <td>NaN</td>\n",
       "      <td>NaN</td>\n",
       "      <td>NaN</td>\n",
       "      <td>45.5793</td>\n",
       "      <td>-73.7367</td>\n",
       "      <td>1.0</td>\n",
       "    </tr>\n",
       "    <tr>\n",
       "      <th>13</th>\n",
       "      <td>H2L</td>\n",
       "      <td>CA</td>\n",
       "      <td>Centre-Sud South</td>\n",
       "      <td>Quebec</td>\n",
       "      <td>QC</td>\n",
       "      <td>NaN</td>\n",
       "      <td>NaN</td>\n",
       "      <td>NaN</td>\n",
       "      <td>NaN</td>\n",
       "      <td>45.5186</td>\n",
       "      <td>-73.5545</td>\n",
       "      <td>6.0</td>\n",
       "    </tr>\n",
       "    <tr>\n",
       "      <th>14</th>\n",
       "      <td>H4K</td>\n",
       "      <td>CA</td>\n",
       "      <td>Cartierville Southwest</td>\n",
       "      <td>Quebec</td>\n",
       "      <td>QC</td>\n",
       "      <td>Cartierville</td>\n",
       "      <td>NaN</td>\n",
       "      <td>NaN</td>\n",
       "      <td>NaN</td>\n",
       "      <td>45.5171</td>\n",
       "      <td>-73.7363</td>\n",
       "      <td>1.0</td>\n",
       "    </tr>\n",
       "    <tr>\n",
       "      <th>15</th>\n",
       "      <td>H2X</td>\n",
       "      <td>CA</td>\n",
       "      <td>Plateau Mont-Royal Southeast</td>\n",
       "      <td>Quebec</td>\n",
       "      <td>QC</td>\n",
       "      <td>Plateau Mont-Royal</td>\n",
       "      <td>NaN</td>\n",
       "      <td>NaN</td>\n",
       "      <td>NaN</td>\n",
       "      <td>45.5115</td>\n",
       "      <td>-73.5683</td>\n",
       "      <td>6.0</td>\n",
       "    </tr>\n",
       "    <tr>\n",
       "      <th>16</th>\n",
       "      <td>H2J</td>\n",
       "      <td>CA</td>\n",
       "      <td>Plateau Mont-Royal North Central</td>\n",
       "      <td>Quebec</td>\n",
       "      <td>QC</td>\n",
       "      <td>Plateau Mont-Royal</td>\n",
       "      <td>NaN</td>\n",
       "      <td>NaN</td>\n",
       "      <td>NaN</td>\n",
       "      <td>45.5302</td>\n",
       "      <td>-73.5831</td>\n",
       "      <td>6.0</td>\n",
       "    </tr>\n",
       "    <tr>\n",
       "      <th>17</th>\n",
       "      <td>H3S</td>\n",
       "      <td>CA</td>\n",
       "      <td>Côte-des-Neiges North</td>\n",
       "      <td>Quebec</td>\n",
       "      <td>QC</td>\n",
       "      <td>Côte-des-Neiges</td>\n",
       "      <td>NaN</td>\n",
       "      <td>NaN</td>\n",
       "      <td>NaN</td>\n",
       "      <td>45.5063</td>\n",
       "      <td>-73.6297</td>\n",
       "      <td>1.0</td>\n",
       "    </tr>\n",
       "    <tr>\n",
       "      <th>18</th>\n",
       "      <td>H7M</td>\n",
       "      <td>CA</td>\n",
       "      <td>Vimont</td>\n",
       "      <td>Quebec</td>\n",
       "      <td>QC</td>\n",
       "      <td>NaN</td>\n",
       "      <td>NaN</td>\n",
       "      <td>NaN</td>\n",
       "      <td>NaN</td>\n",
       "      <td>45.5984</td>\n",
       "      <td>-73.7159</td>\n",
       "      <td>1.0</td>\n",
       "    </tr>\n",
       "    <tr>\n",
       "      <th>19</th>\n",
       "      <td>H1T</td>\n",
       "      <td>CA</td>\n",
       "      <td>Rosemont North</td>\n",
       "      <td>Quebec</td>\n",
       "      <td>QC</td>\n",
       "      <td>Rosemont</td>\n",
       "      <td>NaN</td>\n",
       "      <td>NaN</td>\n",
       "      <td>NaN</td>\n",
       "      <td>45.5730</td>\n",
       "      <td>-73.5701</td>\n",
       "      <td>1.0</td>\n",
       "    </tr>\n",
       "    <tr>\n",
       "      <th>20</th>\n",
       "      <td>H2T</td>\n",
       "      <td>CA</td>\n",
       "      <td>Plateau Mont-Royal West</td>\n",
       "      <td>Quebec</td>\n",
       "      <td>QC</td>\n",
       "      <td>Plateau Mont-Royal</td>\n",
       "      <td>NaN</td>\n",
       "      <td>NaN</td>\n",
       "      <td>NaN</td>\n",
       "      <td>45.5247</td>\n",
       "      <td>-73.5953</td>\n",
       "      <td>6.0</td>\n",
       "    </tr>\n",
       "    <tr>\n",
       "      <th>21</th>\n",
       "      <td>H2T</td>\n",
       "      <td>CA</td>\n",
       "      <td>Plateau Mont-Royal West</td>\n",
       "      <td>Quebec</td>\n",
       "      <td>QC</td>\n",
       "      <td>Plateau Mont-Royal</td>\n",
       "      <td>NaN</td>\n",
       "      <td>NaN</td>\n",
       "      <td>NaN</td>\n",
       "      <td>45.5247</td>\n",
       "      <td>-73.5953</td>\n",
       "      <td>6.0</td>\n",
       "    </tr>\n",
       "    <tr>\n",
       "      <th>22</th>\n",
       "      <td>H3L</td>\n",
       "      <td>CA</td>\n",
       "      <td>Ahuntsic Southwest</td>\n",
       "      <td>Quebec</td>\n",
       "      <td>QC</td>\n",
       "      <td>NaN</td>\n",
       "      <td>NaN</td>\n",
       "      <td>NaN</td>\n",
       "      <td>NaN</td>\n",
       "      <td>45.5467</td>\n",
       "      <td>-73.6718</td>\n",
       "      <td>1.0</td>\n",
       "    </tr>\n",
       "    <tr>\n",
       "      <th>23</th>\n",
       "      <td>H1E</td>\n",
       "      <td>CA</td>\n",
       "      <td>Rivière-Des-Prairies Southwest</td>\n",
       "      <td>Quebec</td>\n",
       "      <td>QC</td>\n",
       "      <td>NaN</td>\n",
       "      <td>NaN</td>\n",
       "      <td>NaN</td>\n",
       "      <td>NaN</td>\n",
       "      <td>45.6342</td>\n",
       "      <td>-73.5842</td>\n",
       "      <td>1.0</td>\n",
       "    </tr>\n",
       "    <tr>\n",
       "      <th>24</th>\n",
       "      <td>H1Y</td>\n",
       "      <td>CA</td>\n",
       "      <td>Rosemont South</td>\n",
       "      <td>Quebec</td>\n",
       "      <td>QC</td>\n",
       "      <td>Rosemont</td>\n",
       "      <td>NaN</td>\n",
       "      <td>NaN</td>\n",
       "      <td>NaN</td>\n",
       "      <td>45.5486</td>\n",
       "      <td>-73.5788</td>\n",
       "      <td>1.0</td>\n",
       "    </tr>\n",
       "    <tr>\n",
       "      <th>25</th>\n",
       "      <td>H2P</td>\n",
       "      <td>CA</td>\n",
       "      <td>Villeray West</td>\n",
       "      <td>Quebec</td>\n",
       "      <td>QC</td>\n",
       "      <td>Villeray</td>\n",
       "      <td>NaN</td>\n",
       "      <td>NaN</td>\n",
       "      <td>NaN</td>\n",
       "      <td>45.5435</td>\n",
       "      <td>-73.6339</td>\n",
       "      <td>6.0</td>\n",
       "    </tr>\n",
       "    <tr>\n",
       "      <th>26</th>\n",
       "      <td>H2H</td>\n",
       "      <td>CA</td>\n",
       "      <td>Plateau Mont-Royal North</td>\n",
       "      <td>Quebec</td>\n",
       "      <td>QC</td>\n",
       "      <td>Plateau Mont-Royal</td>\n",
       "      <td>NaN</td>\n",
       "      <td>NaN</td>\n",
       "      <td>NaN</td>\n",
       "      <td>45.5374</td>\n",
       "      <td>-73.5735</td>\n",
       "      <td>6.0</td>\n",
       "    </tr>\n",
       "    <tr>\n",
       "      <th>27</th>\n",
       "      <td>H2L</td>\n",
       "      <td>CA</td>\n",
       "      <td>Centre-Sud South</td>\n",
       "      <td>Quebec</td>\n",
       "      <td>QC</td>\n",
       "      <td>NaN</td>\n",
       "      <td>NaN</td>\n",
       "      <td>NaN</td>\n",
       "      <td>NaN</td>\n",
       "      <td>45.5186</td>\n",
       "      <td>-73.5545</td>\n",
       "      <td>6.0</td>\n",
       "    </tr>\n",
       "    <tr>\n",
       "      <th>28</th>\n",
       "      <td>H4R</td>\n",
       "      <td>CA</td>\n",
       "      <td>Saint-Laurent Central</td>\n",
       "      <td>Quebec</td>\n",
       "      <td>QC</td>\n",
       "      <td>Saint-Laurent</td>\n",
       "      <td>NaN</td>\n",
       "      <td>NaN</td>\n",
       "      <td>NaN</td>\n",
       "      <td>45.5049</td>\n",
       "      <td>-73.7142</td>\n",
       "      <td>1.0</td>\n",
       "    </tr>\n",
       "    <tr>\n",
       "      <th>29</th>\n",
       "      <td>H1L</td>\n",
       "      <td>CA</td>\n",
       "      <td>Mercier North</td>\n",
       "      <td>Quebec</td>\n",
       "      <td>QC</td>\n",
       "      <td>Mercier</td>\n",
       "      <td>NaN</td>\n",
       "      <td>NaN</td>\n",
       "      <td>NaN</td>\n",
       "      <td>45.6043</td>\n",
       "      <td>-73.5178</td>\n",
       "      <td>4.0</td>\n",
       "    </tr>\n",
       "  </tbody>\n",
       "</table>\n",
       "</div>"
      ],
      "text/plain": [
       "   postal_code country_code                        place_name state_name  \\\n",
       "0          H1Y           CA                    Rosemont South     Quebec   \n",
       "1          J4K           CA               Longueuil Southwest     Quebec   \n",
       "2          H2M           CA                     Ahuntsic East     Quebec   \n",
       "3          H1J           CA                        Anjou West     Quebec   \n",
       "4          H1T           CA                    Rosemont North     Quebec   \n",
       "5          H2K           CA                  Centre-Sud North     Quebec   \n",
       "6          H1B           CA                     Montreal East     Quebec   \n",
       "7          H7V           CA                     Chomedey East     Quebec   \n",
       "8          H1Y           CA                    Rosemont South     Quebec   \n",
       "9          H3B           CA            Downtown Montreal East     Quebec   \n",
       "10         H4J           CA              Cartierville Central     Quebec   \n",
       "11         H1L           CA                     Mercier North     Quebec   \n",
       "12         H7S           CA                Chomedey Northeast     Quebec   \n",
       "13         H2L           CA                  Centre-Sud South     Quebec   \n",
       "14         H4K           CA            Cartierville Southwest     Quebec   \n",
       "15         H2X           CA      Plateau Mont-Royal Southeast     Quebec   \n",
       "16         H2J           CA  Plateau Mont-Royal North Central     Quebec   \n",
       "17         H3S           CA             Côte-des-Neiges North     Quebec   \n",
       "18         H7M           CA                            Vimont     Quebec   \n",
       "19         H1T           CA                    Rosemont North     Quebec   \n",
       "20         H2T           CA           Plateau Mont-Royal West     Quebec   \n",
       "21         H2T           CA           Plateau Mont-Royal West     Quebec   \n",
       "22         H3L           CA                Ahuntsic Southwest     Quebec   \n",
       "23         H1E           CA    Rivière-Des-Prairies Southwest     Quebec   \n",
       "24         H1Y           CA                    Rosemont South     Quebec   \n",
       "25         H2P           CA                     Villeray West     Quebec   \n",
       "26         H2H           CA          Plateau Mont-Royal North     Quebec   \n",
       "27         H2L           CA                  Centre-Sud South     Quebec   \n",
       "28         H4R           CA             Saint-Laurent Central     Quebec   \n",
       "29         H1L           CA                     Mercier North     Quebec   \n",
       "\n",
       "   state_code          county_name  county_code community_name  \\\n",
       "0          QC             Rosemont          NaN            NaN   \n",
       "1          QC            Longueuil          NaN            NaN   \n",
       "2          QC             Ahuntsic          NaN            NaN   \n",
       "3          QC                Anjou          NaN            NaN   \n",
       "4          QC             Rosemont          NaN            NaN   \n",
       "5          QC                  NaN          NaN            NaN   \n",
       "6          QC             Montreal          6.0            NaN   \n",
       "7          QC             Chomedey          NaN            NaN   \n",
       "8          QC             Rosemont          NaN            NaN   \n",
       "9          QC             Montreal          6.0            NaN   \n",
       "10         QC         Cartierville          NaN            NaN   \n",
       "11         QC              Mercier          NaN            NaN   \n",
       "12         QC             Chomedey          NaN            NaN   \n",
       "13         QC                  NaN          NaN            NaN   \n",
       "14         QC         Cartierville          NaN            NaN   \n",
       "15         QC  Plateau Mont-Royal           NaN            NaN   \n",
       "16         QC  Plateau Mont-Royal           NaN            NaN   \n",
       "17         QC      Côte-des-Neiges          NaN            NaN   \n",
       "18         QC                  NaN          NaN            NaN   \n",
       "19         QC             Rosemont          NaN            NaN   \n",
       "20         QC  Plateau Mont-Royal           NaN            NaN   \n",
       "21         QC  Plateau Mont-Royal           NaN            NaN   \n",
       "22         QC                  NaN          NaN            NaN   \n",
       "23         QC                  NaN          NaN            NaN   \n",
       "24         QC             Rosemont          NaN            NaN   \n",
       "25         QC             Villeray          NaN            NaN   \n",
       "26         QC  Plateau Mont-Royal           NaN            NaN   \n",
       "27         QC                  NaN          NaN            NaN   \n",
       "28         QC        Saint-Laurent          NaN            NaN   \n",
       "29         QC              Mercier          NaN            NaN   \n",
       "\n",
       "    community_code  latitude  longitude  accuracy  \n",
       "0              NaN   45.5486   -73.5788       1.0  \n",
       "1              NaN   45.5183   -73.5023       1.0  \n",
       "2              NaN   45.5528   -73.6411       6.0  \n",
       "3              NaN   45.6097   -73.5794       1.0  \n",
       "4              NaN   45.5730   -73.5701       1.0  \n",
       "5              NaN   45.5307   -73.5547       6.0  \n",
       "6              NaN   45.6320   -73.5075       4.0  \n",
       "7              NaN   45.5478   -73.7368       1.0  \n",
       "8              NaN   45.5486   -73.5788       1.0  \n",
       "9              NaN   45.5005   -73.5684       1.0  \n",
       "10             NaN   45.5313   -73.7091       1.0  \n",
       "11             NaN   45.6043   -73.5178       4.0  \n",
       "12             NaN   45.5793   -73.7367       1.0  \n",
       "13             NaN   45.5186   -73.5545       6.0  \n",
       "14             NaN   45.5171   -73.7363       1.0  \n",
       "15             NaN   45.5115   -73.5683       6.0  \n",
       "16             NaN   45.5302   -73.5831       6.0  \n",
       "17             NaN   45.5063   -73.6297       1.0  \n",
       "18             NaN   45.5984   -73.7159       1.0  \n",
       "19             NaN   45.5730   -73.5701       1.0  \n",
       "20             NaN   45.5247   -73.5953       6.0  \n",
       "21             NaN   45.5247   -73.5953       6.0  \n",
       "22             NaN   45.5467   -73.6718       1.0  \n",
       "23             NaN   45.6342   -73.5842       1.0  \n",
       "24             NaN   45.5486   -73.5788       1.0  \n",
       "25             NaN   45.5435   -73.6339       6.0  \n",
       "26             NaN   45.5374   -73.5735       6.0  \n",
       "27             NaN   45.5186   -73.5545       6.0  \n",
       "28             NaN   45.5049   -73.7142       1.0  \n",
       "29             NaN   45.6043   -73.5178       4.0  "
      ]
     },
     "execution_count": 232,
     "metadata": {},
     "output_type": "execute_result"
    }
   ],
   "source": [
    "nomi.query_postal_code(i for i in zipcodes)"
   ]
  },
  {
   "cell_type": "code",
   "execution_count": 233,
   "id": "turkish-collapse",
   "metadata": {},
   "outputs": [],
   "source": [
    "#Predicting points on Maps"
   ]
  },
  {
   "cell_type": "code",
   "execution_count": 234,
   "id": "periodic-highland",
   "metadata": {},
   "outputs": [],
   "source": [
    "import folium\n",
    "from folium.plugins import MarkerCluster"
   ]
  },
  {
   "cell_type": "code",
   "execution_count": 235,
   "id": "rubber-dayton",
   "metadata": {},
   "outputs": [],
   "source": [
    "montreal_map = folium.Map(location=[45.5017,-73.5673],zoom_start=13)"
   ]
  },
  {
   "cell_type": "code",
   "execution_count": 236,
   "id": "perceived-brazilian",
   "metadata": {
    "scrolled": true
   },
   "outputs": [
    {
     "data": {
      "text/html": [
       "<div style=\"width:100%;\"><div style=\"position:relative;width:100%;height:0;padding-bottom:60%;\"><span style=\"color:#565656\">Make this Notebook Trusted to load map: File -> Trust Notebook</span><iframe src=\"about:blank\" style=\"position:absolute;width:100%;height:100%;left:0;top:0;border:none !important;\" data-html=%3C%21DOCTYPE%20html%3E%0A%3Chead%3E%20%20%20%20%0A%20%20%20%20%3Cmeta%20http-equiv%3D%22content-type%22%20content%3D%22text/html%3B%20charset%3DUTF-8%22%20/%3E%0A%20%20%20%20%0A%20%20%20%20%20%20%20%20%3Cscript%3E%0A%20%20%20%20%20%20%20%20%20%20%20%20L_NO_TOUCH%20%3D%20false%3B%0A%20%20%20%20%20%20%20%20%20%20%20%20L_DISABLE_3D%20%3D%20false%3B%0A%20%20%20%20%20%20%20%20%3C/script%3E%0A%20%20%20%20%0A%20%20%20%20%3Cstyle%3Ehtml%2C%20body%20%7Bwidth%3A%20100%25%3Bheight%3A%20100%25%3Bmargin%3A%200%3Bpadding%3A%200%3B%7D%3C/style%3E%0A%20%20%20%20%3Cstyle%3E%23map%20%7Bposition%3Aabsolute%3Btop%3A0%3Bbottom%3A0%3Bright%3A0%3Bleft%3A0%3B%7D%3C/style%3E%0A%20%20%20%20%3Cscript%20src%3D%22https%3A//cdn.jsdelivr.net/npm/leaflet%401.6.0/dist/leaflet.js%22%3E%3C/script%3E%0A%20%20%20%20%3Cscript%20src%3D%22https%3A//code.jquery.com/jquery-1.12.4.min.js%22%3E%3C/script%3E%0A%20%20%20%20%3Cscript%20src%3D%22https%3A//maxcdn.bootstrapcdn.com/bootstrap/3.2.0/js/bootstrap.min.js%22%3E%3C/script%3E%0A%20%20%20%20%3Cscript%20src%3D%22https%3A//cdnjs.cloudflare.com/ajax/libs/Leaflet.awesome-markers/2.0.2/leaflet.awesome-markers.js%22%3E%3C/script%3E%0A%20%20%20%20%3Clink%20rel%3D%22stylesheet%22%20href%3D%22https%3A//cdn.jsdelivr.net/npm/leaflet%401.6.0/dist/leaflet.css%22/%3E%0A%20%20%20%20%3Clink%20rel%3D%22stylesheet%22%20href%3D%22https%3A//maxcdn.bootstrapcdn.com/bootstrap/3.2.0/css/bootstrap.min.css%22/%3E%0A%20%20%20%20%3Clink%20rel%3D%22stylesheet%22%20href%3D%22https%3A//maxcdn.bootstrapcdn.com/bootstrap/3.2.0/css/bootstrap-theme.min.css%22/%3E%0A%20%20%20%20%3Clink%20rel%3D%22stylesheet%22%20href%3D%22https%3A//maxcdn.bootstrapcdn.com/font-awesome/4.6.3/css/font-awesome.min.css%22/%3E%0A%20%20%20%20%3Clink%20rel%3D%22stylesheet%22%20href%3D%22https%3A//cdnjs.cloudflare.com/ajax/libs/Leaflet.awesome-markers/2.0.2/leaflet.awesome-markers.css%22/%3E%0A%20%20%20%20%3Clink%20rel%3D%22stylesheet%22%20href%3D%22https%3A//cdn.jsdelivr.net/gh/python-visualization/folium/folium/templates/leaflet.awesome.rotate.min.css%22/%3E%0A%20%20%20%20%0A%20%20%20%20%20%20%20%20%20%20%20%20%3Cmeta%20name%3D%22viewport%22%20content%3D%22width%3Ddevice-width%2C%0A%20%20%20%20%20%20%20%20%20%20%20%20%20%20%20%20initial-scale%3D1.0%2C%20maximum-scale%3D1.0%2C%20user-scalable%3Dno%22%20/%3E%0A%20%20%20%20%20%20%20%20%20%20%20%20%3Cstyle%3E%0A%20%20%20%20%20%20%20%20%20%20%20%20%20%20%20%20%23map_5bc8cb057207456f81840dc355ca5193%20%7B%0A%20%20%20%20%20%20%20%20%20%20%20%20%20%20%20%20%20%20%20%20position%3A%20relative%3B%0A%20%20%20%20%20%20%20%20%20%20%20%20%20%20%20%20%20%20%20%20width%3A%20100.0%25%3B%0A%20%20%20%20%20%20%20%20%20%20%20%20%20%20%20%20%20%20%20%20height%3A%20100.0%25%3B%0A%20%20%20%20%20%20%20%20%20%20%20%20%20%20%20%20%20%20%20%20left%3A%200.0%25%3B%0A%20%20%20%20%20%20%20%20%20%20%20%20%20%20%20%20%20%20%20%20top%3A%200.0%25%3B%0A%20%20%20%20%20%20%20%20%20%20%20%20%20%20%20%20%7D%0A%20%20%20%20%20%20%20%20%20%20%20%20%3C/style%3E%0A%20%20%20%20%20%20%20%20%0A%3C/head%3E%0A%3Cbody%3E%20%20%20%20%0A%20%20%20%20%0A%20%20%20%20%20%20%20%20%20%20%20%20%3Cdiv%20class%3D%22folium-map%22%20id%3D%22map_5bc8cb057207456f81840dc355ca5193%22%20%3E%3C/div%3E%0A%20%20%20%20%20%20%20%20%0A%3C/body%3E%0A%3Cscript%3E%20%20%20%20%0A%20%20%20%20%0A%20%20%20%20%20%20%20%20%20%20%20%20var%20map_5bc8cb057207456f81840dc355ca5193%20%3D%20L.map%28%0A%20%20%20%20%20%20%20%20%20%20%20%20%20%20%20%20%22map_5bc8cb057207456f81840dc355ca5193%22%2C%0A%20%20%20%20%20%20%20%20%20%20%20%20%20%20%20%20%7B%0A%20%20%20%20%20%20%20%20%20%20%20%20%20%20%20%20%20%20%20%20center%3A%20%5B45.5017%2C%20-73.5673%5D%2C%0A%20%20%20%20%20%20%20%20%20%20%20%20%20%20%20%20%20%20%20%20crs%3A%20L.CRS.EPSG3857%2C%0A%20%20%20%20%20%20%20%20%20%20%20%20%20%20%20%20%20%20%20%20zoom%3A%2013%2C%0A%20%20%20%20%20%20%20%20%20%20%20%20%20%20%20%20%20%20%20%20zoomControl%3A%20true%2C%0A%20%20%20%20%20%20%20%20%20%20%20%20%20%20%20%20%20%20%20%20preferCanvas%3A%20false%2C%0A%20%20%20%20%20%20%20%20%20%20%20%20%20%20%20%20%7D%0A%20%20%20%20%20%20%20%20%20%20%20%20%29%3B%0A%0A%20%20%20%20%20%20%20%20%20%20%20%20%0A%0A%20%20%20%20%20%20%20%20%0A%20%20%20%20%0A%20%20%20%20%20%20%20%20%20%20%20%20var%20tile_layer_91c1fb8ecc924c2c8ebb8fb271204fcf%20%3D%20L.tileLayer%28%0A%20%20%20%20%20%20%20%20%20%20%20%20%20%20%20%20%22https%3A//%7Bs%7D.tile.openstreetmap.org/%7Bz%7D/%7Bx%7D/%7By%7D.png%22%2C%0A%20%20%20%20%20%20%20%20%20%20%20%20%20%20%20%20%7B%22attribution%22%3A%20%22Data%20by%20%5Cu0026copy%3B%20%5Cu003ca%20href%3D%5C%22http%3A//openstreetmap.org%5C%22%5Cu003eOpenStreetMap%5Cu003c/a%5Cu003e%2C%20under%20%5Cu003ca%20href%3D%5C%22http%3A//www.openstreetmap.org/copyright%5C%22%5Cu003eODbL%5Cu003c/a%5Cu003e.%22%2C%20%22detectRetina%22%3A%20false%2C%20%22maxNativeZoom%22%3A%2018%2C%20%22maxZoom%22%3A%2018%2C%20%22minZoom%22%3A%200%2C%20%22noWrap%22%3A%20false%2C%20%22opacity%22%3A%201%2C%20%22subdomains%22%3A%20%22abc%22%2C%20%22tms%22%3A%20false%7D%0A%20%20%20%20%20%20%20%20%20%20%20%20%29.addTo%28map_5bc8cb057207456f81840dc355ca5193%29%3B%0A%20%20%20%20%20%20%20%20%0A%3C/script%3E onload=\"this.contentDocument.open();this.contentDocument.write(    decodeURIComponent(this.getAttribute('data-html')));this.contentDocument.close();\" allowfullscreen webkitallowfullscreen mozallowfullscreen></iframe></div></div>"
      ],
      "text/plain": [
       "<folium.folium.Map at 0x1d655ce14a8>"
      ]
     },
     "execution_count": 236,
     "metadata": {},
     "output_type": "execute_result"
    }
   ],
   "source": [
    "montreal_map"
   ]
  },
  {
   "cell_type": "code",
   "execution_count": 237,
   "id": "interstate-desperate",
   "metadata": {
    "scrolled": true
   },
   "outputs": [
    {
     "data": {
      "text/html": [
       "<div style=\"width:100%;\"><div style=\"position:relative;width:100%;height:0;padding-bottom:60%;\"><span style=\"color:#565656\">Make this Notebook Trusted to load map: File -> Trust Notebook</span><iframe src=\"about:blank\" style=\"position:absolute;width:100%;height:100%;left:0;top:0;border:none !important;\" data-html=%3C%21DOCTYPE%20html%3E%0A%3Chead%3E%20%20%20%20%0A%20%20%20%20%3Cmeta%20http-equiv%3D%22content-type%22%20content%3D%22text/html%3B%20charset%3DUTF-8%22%20/%3E%0A%20%20%20%20%0A%20%20%20%20%20%20%20%20%3Cscript%3E%0A%20%20%20%20%20%20%20%20%20%20%20%20L_NO_TOUCH%20%3D%20false%3B%0A%20%20%20%20%20%20%20%20%20%20%20%20L_DISABLE_3D%20%3D%20false%3B%0A%20%20%20%20%20%20%20%20%3C/script%3E%0A%20%20%20%20%0A%20%20%20%20%3Cstyle%3Ehtml%2C%20body%20%7Bwidth%3A%20100%25%3Bheight%3A%20100%25%3Bmargin%3A%200%3Bpadding%3A%200%3B%7D%3C/style%3E%0A%20%20%20%20%3Cstyle%3E%23map%20%7Bposition%3Aabsolute%3Btop%3A0%3Bbottom%3A0%3Bright%3A0%3Bleft%3A0%3B%7D%3C/style%3E%0A%20%20%20%20%3Cscript%20src%3D%22https%3A//cdn.jsdelivr.net/npm/leaflet%401.6.0/dist/leaflet.js%22%3E%3C/script%3E%0A%20%20%20%20%3Cscript%20src%3D%22https%3A//code.jquery.com/jquery-1.12.4.min.js%22%3E%3C/script%3E%0A%20%20%20%20%3Cscript%20src%3D%22https%3A//maxcdn.bootstrapcdn.com/bootstrap/3.2.0/js/bootstrap.min.js%22%3E%3C/script%3E%0A%20%20%20%20%3Cscript%20src%3D%22https%3A//cdnjs.cloudflare.com/ajax/libs/Leaflet.awesome-markers/2.0.2/leaflet.awesome-markers.js%22%3E%3C/script%3E%0A%20%20%20%20%3Clink%20rel%3D%22stylesheet%22%20href%3D%22https%3A//cdn.jsdelivr.net/npm/leaflet%401.6.0/dist/leaflet.css%22/%3E%0A%20%20%20%20%3Clink%20rel%3D%22stylesheet%22%20href%3D%22https%3A//maxcdn.bootstrapcdn.com/bootstrap/3.2.0/css/bootstrap.min.css%22/%3E%0A%20%20%20%20%3Clink%20rel%3D%22stylesheet%22%20href%3D%22https%3A//maxcdn.bootstrapcdn.com/bootstrap/3.2.0/css/bootstrap-theme.min.css%22/%3E%0A%20%20%20%20%3Clink%20rel%3D%22stylesheet%22%20href%3D%22https%3A//maxcdn.bootstrapcdn.com/font-awesome/4.6.3/css/font-awesome.min.css%22/%3E%0A%20%20%20%20%3Clink%20rel%3D%22stylesheet%22%20href%3D%22https%3A//cdnjs.cloudflare.com/ajax/libs/Leaflet.awesome-markers/2.0.2/leaflet.awesome-markers.css%22/%3E%0A%20%20%20%20%3Clink%20rel%3D%22stylesheet%22%20href%3D%22https%3A//cdn.jsdelivr.net/gh/python-visualization/folium/folium/templates/leaflet.awesome.rotate.min.css%22/%3E%0A%20%20%20%20%0A%20%20%20%20%20%20%20%20%20%20%20%20%3Cmeta%20name%3D%22viewport%22%20content%3D%22width%3Ddevice-width%2C%0A%20%20%20%20%20%20%20%20%20%20%20%20%20%20%20%20initial-scale%3D1.0%2C%20maximum-scale%3D1.0%2C%20user-scalable%3Dno%22%20/%3E%0A%20%20%20%20%20%20%20%20%20%20%20%20%3Cstyle%3E%0A%20%20%20%20%20%20%20%20%20%20%20%20%20%20%20%20%23map_5bc8cb057207456f81840dc355ca5193%20%7B%0A%20%20%20%20%20%20%20%20%20%20%20%20%20%20%20%20%20%20%20%20position%3A%20relative%3B%0A%20%20%20%20%20%20%20%20%20%20%20%20%20%20%20%20%20%20%20%20width%3A%20100.0%25%3B%0A%20%20%20%20%20%20%20%20%20%20%20%20%20%20%20%20%20%20%20%20height%3A%20100.0%25%3B%0A%20%20%20%20%20%20%20%20%20%20%20%20%20%20%20%20%20%20%20%20left%3A%200.0%25%3B%0A%20%20%20%20%20%20%20%20%20%20%20%20%20%20%20%20%20%20%20%20top%3A%200.0%25%3B%0A%20%20%20%20%20%20%20%20%20%20%20%20%20%20%20%20%7D%0A%20%20%20%20%20%20%20%20%20%20%20%20%3C/style%3E%0A%20%20%20%20%20%20%20%20%0A%3C/head%3E%0A%3Cbody%3E%20%20%20%20%0A%20%20%20%20%0A%20%20%20%20%20%20%20%20%20%20%20%20%3Cdiv%20class%3D%22folium-map%22%20id%3D%22map_5bc8cb057207456f81840dc355ca5193%22%20%3E%3C/div%3E%0A%20%20%20%20%20%20%20%20%0A%3C/body%3E%0A%3Cscript%3E%20%20%20%20%0A%20%20%20%20%0A%20%20%20%20%20%20%20%20%20%20%20%20var%20map_5bc8cb057207456f81840dc355ca5193%20%3D%20L.map%28%0A%20%20%20%20%20%20%20%20%20%20%20%20%20%20%20%20%22map_5bc8cb057207456f81840dc355ca5193%22%2C%0A%20%20%20%20%20%20%20%20%20%20%20%20%20%20%20%20%7B%0A%20%20%20%20%20%20%20%20%20%20%20%20%20%20%20%20%20%20%20%20center%3A%20%5B45.5017%2C%20-73.5673%5D%2C%0A%20%20%20%20%20%20%20%20%20%20%20%20%20%20%20%20%20%20%20%20crs%3A%20L.CRS.EPSG3857%2C%0A%20%20%20%20%20%20%20%20%20%20%20%20%20%20%20%20%20%20%20%20zoom%3A%2013%2C%0A%20%20%20%20%20%20%20%20%20%20%20%20%20%20%20%20%20%20%20%20zoomControl%3A%20true%2C%0A%20%20%20%20%20%20%20%20%20%20%20%20%20%20%20%20%20%20%20%20preferCanvas%3A%20false%2C%0A%20%20%20%20%20%20%20%20%20%20%20%20%20%20%20%20%7D%0A%20%20%20%20%20%20%20%20%20%20%20%20%29%3B%0A%0A%20%20%20%20%20%20%20%20%20%20%20%20%0A%0A%20%20%20%20%20%20%20%20%0A%20%20%20%20%0A%20%20%20%20%20%20%20%20%20%20%20%20var%20tile_layer_91c1fb8ecc924c2c8ebb8fb271204fcf%20%3D%20L.tileLayer%28%0A%20%20%20%20%20%20%20%20%20%20%20%20%20%20%20%20%22https%3A//%7Bs%7D.tile.openstreetmap.org/%7Bz%7D/%7Bx%7D/%7By%7D.png%22%2C%0A%20%20%20%20%20%20%20%20%20%20%20%20%20%20%20%20%7B%22attribution%22%3A%20%22Data%20by%20%5Cu0026copy%3B%20%5Cu003ca%20href%3D%5C%22http%3A//openstreetmap.org%5C%22%5Cu003eOpenStreetMap%5Cu003c/a%5Cu003e%2C%20under%20%5Cu003ca%20href%3D%5C%22http%3A//www.openstreetmap.org/copyright%5C%22%5Cu003eODbL%5Cu003c/a%5Cu003e.%22%2C%20%22detectRetina%22%3A%20false%2C%20%22maxNativeZoom%22%3A%2018%2C%20%22maxZoom%22%3A%2018%2C%20%22minZoom%22%3A%200%2C%20%22noWrap%22%3A%20false%2C%20%22opacity%22%3A%201%2C%20%22subdomains%22%3A%20%22abc%22%2C%20%22tms%22%3A%20false%7D%0A%20%20%20%20%20%20%20%20%20%20%20%20%29.addTo%28map_5bc8cb057207456f81840dc355ca5193%29%3B%0A%20%20%20%20%20%20%20%20%0A%20%20%20%20%0A%20%20%20%20%20%20%20%20%20%20%20%20var%20marker_2e60d642dd8e4384a60a3767d60c37c1%20%3D%20L.marker%28%0A%20%20%20%20%20%20%20%20%20%20%20%20%20%20%20%20%5B45.54827987114219%2C%20-73.58260142628835%5D%2C%0A%20%20%20%20%20%20%20%20%20%20%20%20%20%20%20%20%7B%7D%0A%20%20%20%20%20%20%20%20%20%20%20%20%29.addTo%28map_5bc8cb057207456f81840dc355ca5193%29%3B%0A%20%20%20%20%20%20%20%20%0A%20%20%20%20%0A%20%20%20%20%20%20%20%20var%20popup_20ffee6cbe7641f484b9c4b637008b36%20%3D%20L.popup%28%7B%22maxWidth%22%3A%20%22100%25%22%7D%29%3B%0A%0A%20%20%20%20%20%20%20%20%0A%20%20%20%20%20%20%20%20%20%20%20%20var%20html_4d8095e1e5234216bb7c23ac76fb4799%20%3D%20%24%28%60%3Cdiv%20id%3D%22html_4d8095e1e5234216bb7c23ac76fb4799%22%20style%3D%22width%3A%20100.0%25%3B%20height%3A%20100.0%25%3B%22%3EH1Y%201W5%3C/div%3E%60%29%5B0%5D%3B%0A%20%20%20%20%20%20%20%20%20%20%20%20popup_20ffee6cbe7641f484b9c4b637008b36.setContent%28html_4d8095e1e5234216bb7c23ac76fb4799%29%3B%0A%20%20%20%20%20%20%20%20%0A%0A%20%20%20%20%20%20%20%20marker_2e60d642dd8e4384a60a3767d60c37c1.bindPopup%28popup_20ffee6cbe7641f484b9c4b637008b36%29%0A%20%20%20%20%20%20%20%20%3B%0A%0A%20%20%20%20%20%20%20%20%0A%20%20%20%20%0A%20%20%20%20%0A%20%20%20%20%20%20%20%20%20%20%20%20var%20marker_b95364962778449199d1cc0fa248a3bd%20%3D%20L.marker%28%0A%20%20%20%20%20%20%20%20%20%20%20%20%20%20%20%20%5B45.51813976760264%2C%20-73.52104443071828%5D%2C%0A%20%20%20%20%20%20%20%20%20%20%20%20%20%20%20%20%7B%7D%0A%20%20%20%20%20%20%20%20%20%20%20%20%29.addTo%28map_5bc8cb057207456f81840dc355ca5193%29%3B%0A%20%20%20%20%20%20%20%20%0A%20%20%20%20%0A%20%20%20%20%20%20%20%20var%20popup_68afeb36f00942b3b5e1473af38dc4c0%20%3D%20L.popup%28%7B%22maxWidth%22%3A%20%22100%25%22%7D%29%3B%0A%0A%20%20%20%20%20%20%20%20%0A%20%20%20%20%20%20%20%20%20%20%20%20var%20html_a667e1fc9dd0413e974022e7b2839b84%20%3D%20%24%28%60%3Cdiv%20id%3D%22html_a667e1fc9dd0413e974022e7b2839b84%22%20style%3D%22width%3A%20100.0%25%3B%20height%3A%20100.0%25%3B%22%3EJ4K%201A7%3C/div%3E%60%29%5B0%5D%3B%0A%20%20%20%20%20%20%20%20%20%20%20%20popup_68afeb36f00942b3b5e1473af38dc4c0.setContent%28html_a667e1fc9dd0413e974022e7b2839b84%29%3B%0A%20%20%20%20%20%20%20%20%0A%0A%20%20%20%20%20%20%20%20marker_b95364962778449199d1cc0fa248a3bd.bindPopup%28popup_68afeb36f00942b3b5e1473af38dc4c0%29%0A%20%20%20%20%20%20%20%20%3B%0A%0A%20%20%20%20%20%20%20%20%0A%20%20%20%20%0A%20%20%20%20%0A%20%20%20%20%20%20%20%20%20%20%20%20var%20marker_916533be804548448059b3b21d8daf06%20%3D%20L.marker%28%0A%20%20%20%20%20%20%20%20%20%20%20%20%20%20%20%20%5B45.56441893731134%2C%20-73.6377533080449%5D%2C%0A%20%20%20%20%20%20%20%20%20%20%20%20%20%20%20%20%7B%7D%0A%20%20%20%20%20%20%20%20%20%20%20%20%29.addTo%28map_5bc8cb057207456f81840dc355ca5193%29%3B%0A%20%20%20%20%20%20%20%20%0A%20%20%20%20%0A%20%20%20%20%20%20%20%20var%20popup_022ebefa260c40ae99fd15d1fe9e959c%20%3D%20L.popup%28%7B%22maxWidth%22%3A%20%22100%25%22%7D%29%3B%0A%0A%20%20%20%20%20%20%20%20%0A%20%20%20%20%20%20%20%20%20%20%20%20var%20html_e9d44aaeed91436690c35dda87ad77aa%20%3D%20%24%28%60%3Cdiv%20id%3D%22html_e9d44aaeed91436690c35dda87ad77aa%22%20style%3D%22width%3A%20100.0%25%3B%20height%3A%20100.0%25%3B%22%3EH2M%202M1%3C/div%3E%60%29%5B0%5D%3B%0A%20%20%20%20%20%20%20%20%20%20%20%20popup_022ebefa260c40ae99fd15d1fe9e959c.setContent%28html_e9d44aaeed91436690c35dda87ad77aa%29%3B%0A%20%20%20%20%20%20%20%20%0A%0A%20%20%20%20%20%20%20%20marker_916533be804548448059b3b21d8daf06.bindPopup%28popup_022ebefa260c40ae99fd15d1fe9e959c%29%0A%20%20%20%20%20%20%20%20%3B%0A%0A%20%20%20%20%20%20%20%20%0A%20%20%20%20%0A%20%20%20%20%0A%20%20%20%20%20%20%20%20%20%20%20%20var%20marker_d26d133f03d44ccea4d60cc72254e143%20%3D%20L.marker%28%0A%20%20%20%20%20%20%20%20%20%20%20%20%20%20%20%20%5B45.60451103773045%2C%20-73.57515978434643%5D%2C%0A%20%20%20%20%20%20%20%20%20%20%20%20%20%20%20%20%7B%7D%0A%20%20%20%20%20%20%20%20%20%20%20%20%29.addTo%28map_5bc8cb057207456f81840dc355ca5193%29%3B%0A%20%20%20%20%20%20%20%20%0A%20%20%20%20%0A%20%20%20%20%20%20%20%20var%20popup_1946827abf4c43e19bdf86292c386e8d%20%3D%20L.popup%28%7B%22maxWidth%22%3A%20%22100%25%22%7D%29%3B%0A%0A%20%20%20%20%20%20%20%20%0A%20%20%20%20%20%20%20%20%20%20%20%20var%20html_5b82c6e3f5874ff4a269e15bb45c7e41%20%3D%20%24%28%60%3Cdiv%20id%3D%22html_5b82c6e3f5874ff4a269e15bb45c7e41%22%20style%3D%22width%3A%20100.0%25%3B%20height%3A%20100.0%25%3B%22%3EH1J%201G5%3C/div%3E%60%29%5B0%5D%3B%0A%20%20%20%20%20%20%20%20%20%20%20%20popup_1946827abf4c43e19bdf86292c386e8d.setContent%28html_5b82c6e3f5874ff4a269e15bb45c7e41%29%3B%0A%20%20%20%20%20%20%20%20%0A%0A%20%20%20%20%20%20%20%20marker_d26d133f03d44ccea4d60cc72254e143.bindPopup%28popup_1946827abf4c43e19bdf86292c386e8d%29%0A%20%20%20%20%20%20%20%20%3B%0A%0A%20%20%20%20%20%20%20%20%0A%20%20%20%20%0A%20%20%20%20%0A%20%20%20%20%20%20%20%20%20%20%20%20var%20marker_20e88e077c46403b93a582322777888e%20%3D%20L.marker%28%0A%20%20%20%20%20%20%20%20%20%20%20%20%20%20%20%20%5B45.584775152553654%2C%20-73.56904580206269%5D%2C%0A%20%20%20%20%20%20%20%20%20%20%20%20%20%20%20%20%7B%7D%0A%20%20%20%20%20%20%20%20%20%20%20%20%29.addTo%28map_5bc8cb057207456f81840dc355ca5193%29%3B%0A%20%20%20%20%20%20%20%20%0A%20%20%20%20%0A%20%20%20%20%20%20%20%20var%20popup_1007a4b00a174e6baecbc9550bf8be09%20%3D%20L.popup%28%7B%22maxWidth%22%3A%20%22100%25%22%7D%29%3B%0A%0A%20%20%20%20%20%20%20%20%0A%20%20%20%20%20%20%20%20%20%20%20%20var%20html_68f03d5abe4d4732a49d8d4dd45e2cb3%20%3D%20%24%28%60%3Cdiv%20id%3D%22html_68f03d5abe4d4732a49d8d4dd45e2cb3%22%20style%3D%22width%3A%20100.0%25%3B%20height%3A%20100.0%25%3B%22%3EH1T%202L7%3C/div%3E%60%29%5B0%5D%3B%0A%20%20%20%20%20%20%20%20%20%20%20%20popup_1007a4b00a174e6baecbc9550bf8be09.setContent%28html_68f03d5abe4d4732a49d8d4dd45e2cb3%29%3B%0A%20%20%20%20%20%20%20%20%0A%0A%20%20%20%20%20%20%20%20marker_20e88e077c46403b93a582322777888e.bindPopup%28popup_1007a4b00a174e6baecbc9550bf8be09%29%0A%20%20%20%20%20%20%20%20%3B%0A%0A%20%20%20%20%20%20%20%20%0A%20%20%20%20%0A%20%20%20%20%0A%20%20%20%20%20%20%20%20%20%20%20%20var%20marker_f7e1e1d675284c7da5f249e668f52b41%20%3D%20L.marker%28%0A%20%20%20%20%20%20%20%20%20%20%20%20%20%20%20%20%5B45.537392142127125%2C%20-73.56251281876217%5D%2C%0A%20%20%20%20%20%20%20%20%20%20%20%20%20%20%20%20%7B%7D%0A%20%20%20%20%20%20%20%20%20%20%20%20%29.addTo%28map_5bc8cb057207456f81840dc355ca5193%29%3B%0A%20%20%20%20%20%20%20%20%0A%20%20%20%20%0A%20%20%20%20%20%20%20%20var%20popup_d04d28072cec44409d193f18c9ad23fb%20%3D%20L.popup%28%7B%22maxWidth%22%3A%20%22100%25%22%7D%29%3B%0A%0A%20%20%20%20%20%20%20%20%0A%20%20%20%20%20%20%20%20%20%20%20%20var%20html_9b83daed385648f7a9c34a294c1553e1%20%3D%20%24%28%60%3Cdiv%20id%3D%22html_9b83daed385648f7a9c34a294c1553e1%22%20style%3D%22width%3A%20100.0%25%3B%20height%3A%20100.0%25%3B%22%3EH2K%203E2%3C/div%3E%60%29%5B0%5D%3B%0A%20%20%20%20%20%20%20%20%20%20%20%20popup_d04d28072cec44409d193f18c9ad23fb.setContent%28html_9b83daed385648f7a9c34a294c1553e1%29%3B%0A%20%20%20%20%20%20%20%20%0A%0A%20%20%20%20%20%20%20%20marker_f7e1e1d675284c7da5f249e668f52b41.bindPopup%28popup_d04d28072cec44409d193f18c9ad23fb%29%0A%20%20%20%20%20%20%20%20%3B%0A%0A%20%20%20%20%20%20%20%20%0A%20%20%20%20%0A%20%20%20%20%0A%20%20%20%20%20%20%20%20%20%20%20%20var%20marker_21d36f23e4e644109c127f74497a8828%20%3D%20L.marker%28%0A%20%20%20%20%20%20%20%20%20%20%20%20%20%20%20%20%5B45.62547033121134%2C%20-73.54544804463337%5D%2C%0A%20%20%20%20%20%20%20%20%20%20%20%20%20%20%20%20%7B%7D%0A%20%20%20%20%20%20%20%20%20%20%20%20%29.addTo%28map_5bc8cb057207456f81840dc355ca5193%29%3B%0A%20%20%20%20%20%20%20%20%0A%20%20%20%20%0A%20%20%20%20%20%20%20%20var%20popup_560e0778a83a4e3b9ce9aa6af7a6ef03%20%3D%20L.popup%28%7B%22maxWidth%22%3A%20%22100%25%22%7D%29%3B%0A%0A%20%20%20%20%20%20%20%20%0A%20%20%20%20%20%20%20%20%20%20%20%20var%20html_03282dfbaa3a4bcb8fddba7ce38c966d%20%3D%20%24%28%60%3Cdiv%20id%3D%22html_03282dfbaa3a4bcb8fddba7ce38c966d%22%20style%3D%22width%3A%20100.0%25%3B%20height%3A%20100.0%25%3B%22%3EH1B%205Y3%3C/div%3E%60%29%5B0%5D%3B%0A%20%20%20%20%20%20%20%20%20%20%20%20popup_560e0778a83a4e3b9ce9aa6af7a6ef03.setContent%28html_03282dfbaa3a4bcb8fddba7ce38c966d%29%3B%0A%20%20%20%20%20%20%20%20%0A%0A%20%20%20%20%20%20%20%20marker_21d36f23e4e644109c127f74497a8828.bindPopup%28popup_560e0778a83a4e3b9ce9aa6af7a6ef03%29%0A%20%20%20%20%20%20%20%20%3B%0A%0A%20%20%20%20%20%20%20%20%0A%20%20%20%20%0A%20%20%20%20%0A%20%20%20%20%20%20%20%20%20%20%20%20var%20marker_ab0d8b6b3a3d4fa2b3940fe2d0b09bd4%20%3D%20L.marker%28%0A%20%20%20%20%20%20%20%20%20%20%20%20%20%20%20%20%5B45.53748264419894%2C%20-73.74126034469658%5D%2C%0A%20%20%20%20%20%20%20%20%20%20%20%20%20%20%20%20%7B%7D%0A%20%20%20%20%20%20%20%20%20%20%20%20%29.addTo%28map_5bc8cb057207456f81840dc355ca5193%29%3B%0A%20%20%20%20%20%20%20%20%0A%20%20%20%20%0A%20%20%20%20%20%20%20%20var%20popup_20ed92611f8c472cae8fba1f81186d7a%20%3D%20L.popup%28%7B%22maxWidth%22%3A%20%22100%25%22%7D%29%3B%0A%0A%20%20%20%20%20%20%20%20%0A%20%20%20%20%20%20%20%20%20%20%20%20var%20html_cb94fcb4cc024176a0436417b053cae0%20%3D%20%24%28%60%3Cdiv%20id%3D%22html_cb94fcb4cc024176a0436417b053cae0%22%20style%3D%22width%3A%20100.0%25%3B%20height%3A%20100.0%25%3B%22%3EH7V%202T2%3C/div%3E%60%29%5B0%5D%3B%0A%20%20%20%20%20%20%20%20%20%20%20%20popup_20ed92611f8c472cae8fba1f81186d7a.setContent%28html_cb94fcb4cc024176a0436417b053cae0%29%3B%0A%20%20%20%20%20%20%20%20%0A%0A%20%20%20%20%20%20%20%20marker_ab0d8b6b3a3d4fa2b3940fe2d0b09bd4.bindPopup%28popup_20ed92611f8c472cae8fba1f81186d7a%29%0A%20%20%20%20%20%20%20%20%3B%0A%0A%20%20%20%20%20%20%20%20%0A%20%20%20%20%0A%20%20%20%20%0A%20%20%20%20%20%20%20%20%20%20%20%20var%20marker_91a4137eda5e47e582aba40a4ff72b9c%20%3D%20L.marker%28%0A%20%20%20%20%20%20%20%20%20%20%20%20%20%20%20%20%5B45.543342105101765%2C%20-73.56907591861153%5D%2C%0A%20%20%20%20%20%20%20%20%20%20%20%20%20%20%20%20%7B%7D%0A%20%20%20%20%20%20%20%20%20%20%20%20%29.addTo%28map_5bc8cb057207456f81840dc355ca5193%29%3B%0A%20%20%20%20%20%20%20%20%0A%20%20%20%20%0A%20%20%20%20%20%20%20%20var%20popup_ff5d3f92ece34e5896810231dc6caf3b%20%3D%20L.popup%28%7B%22maxWidth%22%3A%20%22100%25%22%7D%29%3B%0A%0A%20%20%20%20%20%20%20%20%0A%20%20%20%20%20%20%20%20%20%20%20%20var%20html_2c7222a6c3974b3aaad0986397e58c30%20%3D%20%24%28%60%3Cdiv%20id%3D%22html_2c7222a6c3974b3aaad0986397e58c30%22%20style%3D%22width%3A%20100.0%25%3B%20height%3A%20100.0%25%3B%22%3EH1Y%203J8%3C/div%3E%60%29%5B0%5D%3B%0A%20%20%20%20%20%20%20%20%20%20%20%20popup_ff5d3f92ece34e5896810231dc6caf3b.setContent%28html_2c7222a6c3974b3aaad0986397e58c30%29%3B%0A%20%20%20%20%20%20%20%20%0A%0A%20%20%20%20%20%20%20%20marker_91a4137eda5e47e582aba40a4ff72b9c.bindPopup%28popup_ff5d3f92ece34e5896810231dc6caf3b%29%0A%20%20%20%20%20%20%20%20%3B%0A%0A%20%20%20%20%20%20%20%20%0A%20%20%20%20%0A%20%20%20%20%0A%20%20%20%20%20%20%20%20%20%20%20%20var%20marker_cd077482c88e453f90ee5c37f438a567%20%3D%20L.marker%28%0A%20%20%20%20%20%20%20%20%20%20%20%20%20%20%20%20%5B45.49923200485849%2C%20-73.56737331388784%5D%2C%0A%20%20%20%20%20%20%20%20%20%20%20%20%20%20%20%20%7B%7D%0A%20%20%20%20%20%20%20%20%20%20%20%20%29.addTo%28map_5bc8cb057207456f81840dc355ca5193%29%3B%0A%20%20%20%20%20%20%20%20%0A%20%20%20%20%0A%20%20%20%20%20%20%20%20var%20popup_820a32384fb74364a3a7f9a60ee56fd8%20%3D%20L.popup%28%7B%22maxWidth%22%3A%20%22100%25%22%7D%29%3B%0A%0A%20%20%20%20%20%20%20%20%0A%20%20%20%20%20%20%20%20%20%20%20%20var%20html_ab31f06e41fa43b2b850d75e2b5a184e%20%3D%20%24%28%60%3Cdiv%20id%3D%22html_ab31f06e41fa43b2b850d75e2b5a184e%22%20style%3D%22width%3A%20100.0%25%3B%20height%3A%20100.0%25%3B%22%3EH3B%201R2%3C/div%3E%60%29%5B0%5D%3B%0A%20%20%20%20%20%20%20%20%20%20%20%20popup_820a32384fb74364a3a7f9a60ee56fd8.setContent%28html_ab31f06e41fa43b2b850d75e2b5a184e%29%3B%0A%20%20%20%20%20%20%20%20%0A%0A%20%20%20%20%20%20%20%20marker_cd077482c88e453f90ee5c37f438a567.bindPopup%28popup_820a32384fb74364a3a7f9a60ee56fd8%29%0A%20%20%20%20%20%20%20%20%3B%0A%0A%20%20%20%20%20%20%20%20%0A%20%20%20%20%0A%20%20%20%20%0A%20%20%20%20%20%20%20%20%20%20%20%20var%20marker_dbde8b136d7142daa02a894a301cb486%20%3D%20L.marker%28%0A%20%20%20%20%20%20%20%20%20%20%20%20%20%20%20%20%5B45.53691179070504%2C%20-73.7114860340106%5D%2C%0A%20%20%20%20%20%20%20%20%20%20%20%20%20%20%20%20%7B%7D%0A%20%20%20%20%20%20%20%20%20%20%20%20%29.addTo%28map_5bc8cb057207456f81840dc355ca5193%29%3B%0A%20%20%20%20%20%20%20%20%0A%20%20%20%20%0A%20%20%20%20%20%20%20%20var%20popup_f1c3dc378a56406daeb9315c9d23b371%20%3D%20L.popup%28%7B%22maxWidth%22%3A%20%22100%25%22%7D%29%3B%0A%0A%20%20%20%20%20%20%20%20%0A%20%20%20%20%20%20%20%20%20%20%20%20var%20html_4de30ccd91cc4224ab8bae032692658e%20%3D%20%24%28%60%3Cdiv%20id%3D%22html_4de30ccd91cc4224ab8bae032692658e%22%20style%3D%22width%3A%20100.0%25%3B%20height%3A%20100.0%25%3B%22%3EH4J%201Y4%3C/div%3E%60%29%5B0%5D%3B%0A%20%20%20%20%20%20%20%20%20%20%20%20popup_f1c3dc378a56406daeb9315c9d23b371.setContent%28html_4de30ccd91cc4224ab8bae032692658e%29%3B%0A%20%20%20%20%20%20%20%20%0A%0A%20%20%20%20%20%20%20%20marker_dbde8b136d7142daa02a894a301cb486.bindPopup%28popup_f1c3dc378a56406daeb9315c9d23b371%29%0A%20%20%20%20%20%20%20%20%3B%0A%0A%20%20%20%20%20%20%20%20%0A%20%20%20%20%0A%20%20%20%20%0A%20%20%20%20%20%20%20%20%20%20%20%20var%20marker_89df0fd2353e492fa0e99af76d3e18b8%20%3D%20L.marker%28%0A%20%20%20%20%20%20%20%20%20%20%20%20%20%20%20%20%5B45.59708962115672%2C%20-73.5068074207609%5D%2C%0A%20%20%20%20%20%20%20%20%20%20%20%20%20%20%20%20%7B%7D%0A%20%20%20%20%20%20%20%20%20%20%20%20%29.addTo%28map_5bc8cb057207456f81840dc355ca5193%29%3B%0A%20%20%20%20%20%20%20%20%0A%20%20%20%20%0A%20%20%20%20%20%20%20%20var%20popup_847acd6811054fd494db57efcf969349%20%3D%20L.popup%28%7B%22maxWidth%22%3A%20%22100%25%22%7D%29%3B%0A%0A%20%20%20%20%20%20%20%20%0A%20%20%20%20%20%20%20%20%20%20%20%20var%20html_550938e4d5cd451c89370ec91e0c7edc%20%3D%20%24%28%60%3Cdiv%20id%3D%22html_550938e4d5cd451c89370ec91e0c7edc%22%20style%3D%22width%3A%20100.0%25%3B%20height%3A%20100.0%25%3B%22%3EH1L%203L2%3C/div%3E%60%29%5B0%5D%3B%0A%20%20%20%20%20%20%20%20%20%20%20%20popup_847acd6811054fd494db57efcf969349.setContent%28html_550938e4d5cd451c89370ec91e0c7edc%29%3B%0A%20%20%20%20%20%20%20%20%0A%0A%20%20%20%20%20%20%20%20marker_89df0fd2353e492fa0e99af76d3e18b8.bindPopup%28popup_847acd6811054fd494db57efcf969349%29%0A%20%20%20%20%20%20%20%20%3B%0A%0A%20%20%20%20%20%20%20%20%0A%20%20%20%20%0A%20%20%20%20%0A%20%20%20%20%20%20%20%20%20%20%20%20var%20marker_6c94ea6a906f409c9069a748a5aadab3%20%3D%20L.marker%28%0A%20%20%20%20%20%20%20%20%20%20%20%20%20%20%20%20%5B45.57416551209908%2C%20-73.72817979295105%5D%2C%0A%20%20%20%20%20%20%20%20%20%20%20%20%20%20%20%20%7B%7D%0A%20%20%20%20%20%20%20%20%20%20%20%20%29.addTo%28map_5bc8cb057207456f81840dc355ca5193%29%3B%0A%20%20%20%20%20%20%20%20%0A%20%20%20%20%0A%20%20%20%20%20%20%20%20var%20popup_02e49adf5fe3480db2bc92e602d8ef46%20%3D%20L.popup%28%7B%22maxWidth%22%3A%20%22100%25%22%7D%29%3B%0A%0A%20%20%20%20%20%20%20%20%0A%20%20%20%20%20%20%20%20%20%20%20%20var%20html_3ce1475ec86f4d72a320330f3928671a%20%3D%20%24%28%60%3Cdiv%20id%3D%22html_3ce1475ec86f4d72a320330f3928671a%22%20style%3D%22width%3A%20100.0%25%3B%20height%3A%20100.0%25%3B%22%3EH7S%201N2%3C/div%3E%60%29%5B0%5D%3B%0A%20%20%20%20%20%20%20%20%20%20%20%20popup_02e49adf5fe3480db2bc92e602d8ef46.setContent%28html_3ce1475ec86f4d72a320330f3928671a%29%3B%0A%20%20%20%20%20%20%20%20%0A%0A%20%20%20%20%20%20%20%20marker_6c94ea6a906f409c9069a748a5aadab3.bindPopup%28popup_02e49adf5fe3480db2bc92e602d8ef46%29%0A%20%20%20%20%20%20%20%20%3B%0A%0A%20%20%20%20%20%20%20%20%0A%20%20%20%20%0A%20%20%20%20%0A%20%20%20%20%20%20%20%20%20%20%20%20var%20marker_cfe647f82e334c48ad57cf5460ba4fa1%20%3D%20L.marker%28%0A%20%20%20%20%20%20%20%20%20%20%20%20%20%20%20%20%5B45.52058058005582%2C%20-73.56412702768888%5D%2C%0A%20%20%20%20%20%20%20%20%20%20%20%20%20%20%20%20%7B%7D%0A%20%20%20%20%20%20%20%20%20%20%20%20%29.addTo%28map_5bc8cb057207456f81840dc355ca5193%29%3B%0A%20%20%20%20%20%20%20%20%0A%20%20%20%20%0A%20%20%20%20%20%20%20%20var%20popup_9b6979e4967347f0b3bc3dfaac03cbc7%20%3D%20L.popup%28%7B%22maxWidth%22%3A%20%22100%25%22%7D%29%3B%0A%0A%20%20%20%20%20%20%20%20%0A%20%20%20%20%20%20%20%20%20%20%20%20var%20html_1d8c42fac8dd4a509f0ede9eab64b27f%20%3D%20%24%28%60%3Cdiv%20id%3D%22html_1d8c42fac8dd4a509f0ede9eab64b27f%22%20style%3D%22width%3A%20100.0%25%3B%20height%3A%20100.0%25%3B%22%3EH2L%201H8%3C/div%3E%60%29%5B0%5D%3B%0A%20%20%20%20%20%20%20%20%20%20%20%20popup_9b6979e4967347f0b3bc3dfaac03cbc7.setContent%28html_1d8c42fac8dd4a509f0ede9eab64b27f%29%3B%0A%20%20%20%20%20%20%20%20%0A%0A%20%20%20%20%20%20%20%20marker_cfe647f82e334c48ad57cf5460ba4fa1.bindPopup%28popup_9b6979e4967347f0b3bc3dfaac03cbc7%29%0A%20%20%20%20%20%20%20%20%3B%0A%0A%20%20%20%20%20%20%20%20%0A%20%20%20%20%0A%20%20%20%20%0A%20%20%20%20%20%20%20%20%20%20%20%20var%20marker_69847ef60a25461292d9321a75b55de5%20%3D%20L.marker%28%0A%20%20%20%20%20%20%20%20%20%20%20%20%20%20%20%20%5B45.518577711903994%2C%20-73.7394258938561%5D%2C%0A%20%20%20%20%20%20%20%20%20%20%20%20%20%20%20%20%7B%7D%0A%20%20%20%20%20%20%20%20%20%20%20%20%29.addTo%28map_5bc8cb057207456f81840dc355ca5193%29%3B%0A%20%20%20%20%20%20%20%20%0A%20%20%20%20%0A%20%20%20%20%20%20%20%20var%20popup_e78bb2b92a474119aa97dcd21deaf8ea%20%3D%20L.popup%28%7B%22maxWidth%22%3A%20%22100%25%22%7D%29%3B%0A%0A%20%20%20%20%20%20%20%20%0A%20%20%20%20%20%20%20%20%20%20%20%20var%20html_9b4b4da5f48a4a13943ef10e18cd809d%20%3D%20%24%28%60%3Cdiv%20id%3D%22html_9b4b4da5f48a4a13943ef10e18cd809d%22%20style%3D%22width%3A%20100.0%25%3B%20height%3A%20100.0%25%3B%22%3EH4K%201N4%3C/div%3E%60%29%5B0%5D%3B%0A%20%20%20%20%20%20%20%20%20%20%20%20popup_e78bb2b92a474119aa97dcd21deaf8ea.setContent%28html_9b4b4da5f48a4a13943ef10e18cd809d%29%3B%0A%20%20%20%20%20%20%20%20%0A%0A%20%20%20%20%20%20%20%20marker_69847ef60a25461292d9321a75b55de5.bindPopup%28popup_e78bb2b92a474119aa97dcd21deaf8ea%29%0A%20%20%20%20%20%20%20%20%3B%0A%0A%20%20%20%20%20%20%20%20%0A%20%20%20%20%0A%20%20%20%20%0A%20%20%20%20%20%20%20%20%20%20%20%20var%20marker_c5dbff1043ae4e259af94c4abd3a769f%20%3D%20L.marker%28%0A%20%20%20%20%20%20%20%20%20%20%20%20%20%20%20%20%5B45.51347692704681%2C%20-73.56354049113177%5D%2C%0A%20%20%20%20%20%20%20%20%20%20%20%20%20%20%20%20%7B%7D%0A%20%20%20%20%20%20%20%20%20%20%20%20%29.addTo%28map_5bc8cb057207456f81840dc355ca5193%29%3B%0A%20%20%20%20%20%20%20%20%0A%20%20%20%20%0A%20%20%20%20%20%20%20%20var%20popup_10b1bb9dfadb43e18642603e0949a0c7%20%3D%20L.popup%28%7B%22maxWidth%22%3A%20%22100%25%22%7D%29%3B%0A%0A%20%20%20%20%20%20%20%20%0A%20%20%20%20%20%20%20%20%20%20%20%20var%20html_53157154a4e1404ea030716005a4e456%20%3D%20%24%28%60%3Cdiv%20id%3D%22html_53157154a4e1404ea030716005a4e456%22%20style%3D%22width%3A%20100.0%25%3B%20height%3A%20100.0%25%3B%22%3EH2X%201J2%3C/div%3E%60%29%5B0%5D%3B%0A%20%20%20%20%20%20%20%20%20%20%20%20popup_10b1bb9dfadb43e18642603e0949a0c7.setContent%28html_53157154a4e1404ea030716005a4e456%29%3B%0A%20%20%20%20%20%20%20%20%0A%0A%20%20%20%20%20%20%20%20marker_c5dbff1043ae4e259af94c4abd3a769f.bindPopup%28popup_10b1bb9dfadb43e18642603e0949a0c7%29%0A%20%20%20%20%20%20%20%20%3B%0A%0A%20%20%20%20%20%20%20%20%0A%20%20%20%20%0A%20%20%20%20%0A%20%20%20%20%20%20%20%20%20%20%20%20var%20marker_5ab858056b3f454e96e4fd5b6756ea83%20%3D%20L.marker%28%0A%20%20%20%20%20%20%20%20%20%20%20%20%20%20%20%20%5B45.52609357546868%2C%20-73.58073322940055%5D%2C%0A%20%20%20%20%20%20%20%20%20%20%20%20%20%20%20%20%7B%7D%0A%20%20%20%20%20%20%20%20%20%20%20%20%29.addTo%28map_5bc8cb057207456f81840dc355ca5193%29%3B%0A%20%20%20%20%20%20%20%20%0A%20%20%20%20%0A%20%20%20%20%20%20%20%20var%20popup_40f3cee70afd441b884da664a0dcd61e%20%3D%20L.popup%28%7B%22maxWidth%22%3A%20%22100%25%22%7D%29%3B%0A%0A%20%20%20%20%20%20%20%20%0A%20%20%20%20%20%20%20%20%20%20%20%20var%20html_4ad2d78497f14711af18b466e74ea414%20%3D%20%24%28%60%3Cdiv%20id%3D%22html_4ad2d78497f14711af18b466e74ea414%22%20style%3D%22width%3A%20100.0%25%3B%20height%3A%20100.0%25%3B%22%3EH2J%201W9%3C/div%3E%60%29%5B0%5D%3B%0A%20%20%20%20%20%20%20%20%20%20%20%20popup_40f3cee70afd441b884da664a0dcd61e.setContent%28html_4ad2d78497f14711af18b466e74ea414%29%3B%0A%20%20%20%20%20%20%20%20%0A%0A%20%20%20%20%20%20%20%20marker_5ab858056b3f454e96e4fd5b6756ea83.bindPopup%28popup_40f3cee70afd441b884da664a0dcd61e%29%0A%20%20%20%20%20%20%20%20%3B%0A%0A%20%20%20%20%20%20%20%20%0A%20%20%20%20%0A%20%20%20%20%0A%20%20%20%20%20%20%20%20%20%20%20%20var%20marker_99f67f4657904469bf15fabb5f4fb577%20%3D%20L.marker%28%0A%20%20%20%20%20%20%20%20%20%20%20%20%20%20%20%20%5B45.51250745587257%2C%20-73.6209104609152%5D%2C%0A%20%20%20%20%20%20%20%20%20%20%20%20%20%20%20%20%7B%7D%0A%20%20%20%20%20%20%20%20%20%20%20%20%29.addTo%28map_5bc8cb057207456f81840dc355ca5193%29%3B%0A%20%20%20%20%20%20%20%20%0A%20%20%20%20%0A%20%20%20%20%20%20%20%20var%20popup_fe107da866024ed6ba13bde58653e32d%20%3D%20L.popup%28%7B%22maxWidth%22%3A%20%22100%25%22%7D%29%3B%0A%0A%20%20%20%20%20%20%20%20%0A%20%20%20%20%20%20%20%20%20%20%20%20var%20html_3a89a773abe7449896e46a1f9d782027%20%3D%20%24%28%60%3Cdiv%20id%3D%22html_3a89a773abe7449896e46a1f9d782027%22%20style%3D%22width%3A%20100.0%25%3B%20height%3A%20100.0%25%3B%22%3EH3S%201N8%3C/div%3E%60%29%5B0%5D%3B%0A%20%20%20%20%20%20%20%20%20%20%20%20popup_fe107da866024ed6ba13bde58653e32d.setContent%28html_3a89a773abe7449896e46a1f9d782027%29%3B%0A%20%20%20%20%20%20%20%20%0A%0A%20%20%20%20%20%20%20%20marker_99f67f4657904469bf15fabb5f4fb577.bindPopup%28popup_fe107da866024ed6ba13bde58653e32d%29%0A%20%20%20%20%20%20%20%20%3B%0A%0A%20%20%20%20%20%20%20%20%0A%20%20%20%20%0A%20%20%20%20%0A%20%20%20%20%20%20%20%20%20%20%20%20var%20marker_39544b7562de44088665c4ce979e22d0%20%3D%20L.marker%28%0A%20%20%20%20%20%20%20%20%20%20%20%20%20%20%20%20%5B45.57534300789177%2C%20-73.71916956893199%5D%2C%0A%20%20%20%20%20%20%20%20%20%20%20%20%20%20%20%20%7B%7D%0A%20%20%20%20%20%20%20%20%20%20%20%20%29.addTo%28map_5bc8cb057207456f81840dc355ca5193%29%3B%0A%20%20%20%20%20%20%20%20%0A%20%20%20%20%0A%20%20%20%20%20%20%20%20var%20popup_05db7eb56d804c20974424a34e426f8c%20%3D%20L.popup%28%7B%22maxWidth%22%3A%20%22100%25%22%7D%29%3B%0A%0A%20%20%20%20%20%20%20%20%0A%20%20%20%20%20%20%20%20%20%20%20%20var%20html_daa7ce6811234b30a9ca4f7a4c008c55%20%3D%20%24%28%60%3Cdiv%20id%3D%22html_daa7ce6811234b30a9ca4f7a4c008c55%22%20style%3D%22width%3A%20100.0%25%3B%20height%3A%20100.0%25%3B%22%3EH7M%205G4%3C/div%3E%60%29%5B0%5D%3B%0A%20%20%20%20%20%20%20%20%20%20%20%20popup_05db7eb56d804c20974424a34e426f8c.setContent%28html_daa7ce6811234b30a9ca4f7a4c008c55%29%3B%0A%20%20%20%20%20%20%20%20%0A%0A%20%20%20%20%20%20%20%20marker_39544b7562de44088665c4ce979e22d0.bindPopup%28popup_05db7eb56d804c20974424a34e426f8c%29%0A%20%20%20%20%20%20%20%20%3B%0A%0A%20%20%20%20%20%20%20%20%0A%20%20%20%20%0A%20%20%20%20%0A%20%20%20%20%20%20%20%20%20%20%20%20var%20marker_cb58a29124c6411e973fbe67757f381c%20%3D%20L.marker%28%0A%20%20%20%20%20%20%20%20%20%20%20%20%20%20%20%20%5B45.567049176522225%2C%20-73.58563937043188%5D%2C%0A%20%20%20%20%20%20%20%20%20%20%20%20%20%20%20%20%7B%7D%0A%20%20%20%20%20%20%20%20%20%20%20%20%29.addTo%28map_5bc8cb057207456f81840dc355ca5193%29%3B%0A%20%20%20%20%20%20%20%20%0A%20%20%20%20%0A%20%20%20%20%20%20%20%20var%20popup_f19f3769fffb47ea9a13baef74e224a8%20%3D%20L.popup%28%7B%22maxWidth%22%3A%20%22100%25%22%7D%29%3B%0A%0A%20%20%20%20%20%20%20%20%0A%20%20%20%20%20%20%20%20%20%20%20%20var%20html_94f71a512eb94917a047d98e9b889cbd%20%3D%20%24%28%60%3Cdiv%20id%3D%22html_94f71a512eb94917a047d98e9b889cbd%22%20style%3D%22width%3A%20100.0%25%3B%20height%3A%20100.0%25%3B%22%3EH1T%201B6%3C/div%3E%60%29%5B0%5D%3B%0A%20%20%20%20%20%20%20%20%20%20%20%20popup_f19f3769fffb47ea9a13baef74e224a8.setContent%28html_94f71a512eb94917a047d98e9b889cbd%29%3B%0A%20%20%20%20%20%20%20%20%0A%0A%20%20%20%20%20%20%20%20marker_cb58a29124c6411e973fbe67757f381c.bindPopup%28popup_f19f3769fffb47ea9a13baef74e224a8%29%0A%20%20%20%20%20%20%20%20%3B%0A%0A%20%20%20%20%20%20%20%20%0A%20%20%20%20%0A%20%20%20%20%0A%20%20%20%20%20%20%20%20%20%20%20%20var%20marker_cdecfaf0cca5481a981a4e5033f110bc%20%3D%20L.marker%28%0A%20%20%20%20%20%20%20%20%20%20%20%20%20%20%20%20%5B45.527021620552865%2C%20-73.60540951668621%5D%2C%0A%20%20%20%20%20%20%20%20%20%20%20%20%20%20%20%20%7B%7D%0A%20%20%20%20%20%20%20%20%20%20%20%20%29.addTo%28map_5bc8cb057207456f81840dc355ca5193%29%3B%0A%20%20%20%20%20%20%20%20%0A%20%20%20%20%0A%20%20%20%20%20%20%20%20var%20popup_d626fb00d7c04ad0b76cfc3f527e3cd5%20%3D%20L.popup%28%7B%22maxWidth%22%3A%20%22100%25%22%7D%29%3B%0A%0A%20%20%20%20%20%20%20%20%0A%20%20%20%20%20%20%20%20%20%20%20%20var%20html_313af577b27d4af589acbf9c5e04327a%20%3D%20%24%28%60%3Cdiv%20id%3D%22html_313af577b27d4af589acbf9c5e04327a%22%20style%3D%22width%3A%20100.0%25%3B%20height%3A%20100.0%25%3B%22%3EH2T%202J1%3C/div%3E%60%29%5B0%5D%3B%0A%20%20%20%20%20%20%20%20%20%20%20%20popup_d626fb00d7c04ad0b76cfc3f527e3cd5.setContent%28html_313af577b27d4af589acbf9c5e04327a%29%3B%0A%20%20%20%20%20%20%20%20%0A%0A%20%20%20%20%20%20%20%20marker_cdecfaf0cca5481a981a4e5033f110bc.bindPopup%28popup_d626fb00d7c04ad0b76cfc3f527e3cd5%29%0A%20%20%20%20%20%20%20%20%3B%0A%0A%20%20%20%20%20%20%20%20%0A%20%20%20%20%0A%20%20%20%20%0A%20%20%20%20%20%20%20%20%20%20%20%20var%20marker_0f51ba035f2045f9a425866487dfd35a%20%3D%20L.marker%28%0A%20%20%20%20%20%20%20%20%20%20%20%20%20%20%20%20%5B45.52436361952118%2C%20-73.60050612555763%5D%2C%0A%20%20%20%20%20%20%20%20%20%20%20%20%20%20%20%20%7B%7D%0A%20%20%20%20%20%20%20%20%20%20%20%20%29.addTo%28map_5bc8cb057207456f81840dc355ca5193%29%3B%0A%20%20%20%20%20%20%20%20%0A%20%20%20%20%0A%20%20%20%20%20%20%20%20var%20popup_96e9e0f2a6d344bda0ab9751774c0177%20%3D%20L.popup%28%7B%22maxWidth%22%3A%20%22100%25%22%7D%29%3B%0A%0A%20%20%20%20%20%20%20%20%0A%20%20%20%20%20%20%20%20%20%20%20%20var%20html_da5993bbe6d140ac9830feaa41f51166%20%3D%20%24%28%60%3Cdiv%20id%3D%22html_da5993bbe6d140ac9830feaa41f51166%22%20style%3D%22width%3A%20100.0%25%3B%20height%3A%20100.0%25%3B%22%3EH2T%202L1%3C/div%3E%60%29%5B0%5D%3B%0A%20%20%20%20%20%20%20%20%20%20%20%20popup_96e9e0f2a6d344bda0ab9751774c0177.setContent%28html_da5993bbe6d140ac9830feaa41f51166%29%3B%0A%20%20%20%20%20%20%20%20%0A%0A%20%20%20%20%20%20%20%20marker_0f51ba035f2045f9a425866487dfd35a.bindPopup%28popup_96e9e0f2a6d344bda0ab9751774c0177%29%0A%20%20%20%20%20%20%20%20%3B%0A%0A%20%20%20%20%20%20%20%20%0A%20%20%20%20%0A%20%20%20%20%0A%20%20%20%20%20%20%20%20%20%20%20%20var%20marker_a9bdd928210049ef8f55213e533962f7%20%3D%20L.marker%28%0A%20%20%20%20%20%20%20%20%20%20%20%20%20%20%20%20%5B45.550708205771684%2C%20-73.66721300679426%5D%2C%0A%20%20%20%20%20%20%20%20%20%20%20%20%20%20%20%20%7B%7D%0A%20%20%20%20%20%20%20%20%20%20%20%20%29.addTo%28map_5bc8cb057207456f81840dc355ca5193%29%3B%0A%20%20%20%20%20%20%20%20%0A%20%20%20%20%0A%20%20%20%20%20%20%20%20var%20popup_e7468359e2914f13a353b8b46e828e19%20%3D%20L.popup%28%7B%22maxWidth%22%3A%20%22100%25%22%7D%29%3B%0A%0A%20%20%20%20%20%20%20%20%0A%20%20%20%20%20%20%20%20%20%20%20%20var%20html_76257f0bcbea4f9e9806a80f48f23652%20%3D%20%24%28%60%3Cdiv%20id%3D%22html_76257f0bcbea4f9e9806a80f48f23652%22%20style%3D%22width%3A%20100.0%25%3B%20height%3A%20100.0%25%3B%22%3EH3L%202P5%3C/div%3E%60%29%5B0%5D%3B%0A%20%20%20%20%20%20%20%20%20%20%20%20popup_e7468359e2914f13a353b8b46e828e19.setContent%28html_76257f0bcbea4f9e9806a80f48f23652%29%3B%0A%20%20%20%20%20%20%20%20%0A%0A%20%20%20%20%20%20%20%20marker_a9bdd928210049ef8f55213e533962f7.bindPopup%28popup_e7468359e2914f13a353b8b46e828e19%29%0A%20%20%20%20%20%20%20%20%3B%0A%0A%20%20%20%20%20%20%20%20%0A%20%20%20%20%0A%20%20%20%20%0A%20%20%20%20%20%20%20%20%20%20%20%20var%20marker_71d1e310019e4f09b63b77e806792e34%20%3D%20L.marker%28%0A%20%20%20%20%20%20%20%20%20%20%20%20%20%20%20%20%5B45.63359561787042%2C%20-73.58284920515531%5D%2C%0A%20%20%20%20%20%20%20%20%20%20%20%20%20%20%20%20%7B%7D%0A%20%20%20%20%20%20%20%20%20%20%20%20%29.addTo%28map_5bc8cb057207456f81840dc355ca5193%29%3B%0A%20%20%20%20%20%20%20%20%0A%20%20%20%20%0A%20%20%20%20%20%20%20%20var%20popup_5869dc399472480bb0c7c18137c67f27%20%3D%20L.popup%28%7B%22maxWidth%22%3A%20%22100%25%22%7D%29%3B%0A%0A%20%20%20%20%20%20%20%20%0A%20%20%20%20%20%20%20%20%20%20%20%20var%20html_4b1b412d623146c48008bc7dd47074ca%20%3D%20%24%28%60%3Cdiv%20id%3D%22html_4b1b412d623146c48008bc7dd47074ca%22%20style%3D%22width%3A%20100.0%25%3B%20height%3A%20100.0%25%3B%22%3EH1E%205Y8%3C/div%3E%60%29%5B0%5D%3B%0A%20%20%20%20%20%20%20%20%20%20%20%20popup_5869dc399472480bb0c7c18137c67f27.setContent%28html_4b1b412d623146c48008bc7dd47074ca%29%3B%0A%20%20%20%20%20%20%20%20%0A%0A%20%20%20%20%20%20%20%20marker_71d1e310019e4f09b63b77e806792e34.bindPopup%28popup_5869dc399472480bb0c7c18137c67f27%29%0A%20%20%20%20%20%20%20%20%3B%0A%0A%20%20%20%20%20%20%20%20%0A%20%20%20%20%0A%20%20%20%20%0A%20%20%20%20%20%20%20%20%20%20%20%20var%20marker_507500b14c49441399f706fa1bc5375c%20%3D%20L.marker%28%0A%20%20%20%20%20%20%20%20%20%20%20%20%20%20%20%20%5B45.56939736835232%2C%20-73.55789484999856%5D%2C%0A%20%20%20%20%20%20%20%20%20%20%20%20%20%20%20%20%7B%7D%0A%20%20%20%20%20%20%20%20%20%20%20%20%29.addTo%28map_5bc8cb057207456f81840dc355ca5193%29%3B%0A%20%20%20%20%20%20%20%20%0A%20%20%20%20%0A%20%20%20%20%20%20%20%20var%20popup_3e721a8889f642cda11352f74442d19c%20%3D%20L.popup%28%7B%22maxWidth%22%3A%20%22100%25%22%7D%29%3B%0A%0A%20%20%20%20%20%20%20%20%0A%20%20%20%20%20%20%20%20%20%20%20%20var%20html_46511aa57c4d4873b87ad2040c7eaf11%20%3D%20%24%28%60%3Cdiv%20id%3D%22html_46511aa57c4d4873b87ad2040c7eaf11%22%20style%3D%22width%3A%20100.0%25%3B%20height%3A%20100.0%25%3B%22%3EH1Y%202G3%3C/div%3E%60%29%5B0%5D%3B%0A%20%20%20%20%20%20%20%20%20%20%20%20popup_3e721a8889f642cda11352f74442d19c.setContent%28html_46511aa57c4d4873b87ad2040c7eaf11%29%3B%0A%20%20%20%20%20%20%20%20%0A%0A%20%20%20%20%20%20%20%20marker_507500b14c49441399f706fa1bc5375c.bindPopup%28popup_3e721a8889f642cda11352f74442d19c%29%0A%20%20%20%20%20%20%20%20%3B%0A%0A%20%20%20%20%20%20%20%20%0A%20%20%20%20%0A%20%20%20%20%0A%20%20%20%20%20%20%20%20%20%20%20%20var%20marker_fe6eccf92d794de2aabf83635e9736eb%20%3D%20L.marker%28%0A%20%20%20%20%20%20%20%20%20%20%20%20%20%20%20%20%5B45.54207005697909%2C%20-73.62058086640606%5D%2C%0A%20%20%20%20%20%20%20%20%20%20%20%20%20%20%20%20%7B%7D%0A%20%20%20%20%20%20%20%20%20%20%20%20%29.addTo%28map_5bc8cb057207456f81840dc355ca5193%29%3B%0A%20%20%20%20%20%20%20%20%0A%20%20%20%20%0A%20%20%20%20%20%20%20%20var%20popup_23c628c08cda4217a60704bff8b893f5%20%3D%20L.popup%28%7B%22maxWidth%22%3A%20%22100%25%22%7D%29%3B%0A%0A%20%20%20%20%20%20%20%20%0A%20%20%20%20%20%20%20%20%20%20%20%20var%20html_54cd62f464b042048837909e2765a05d%20%3D%20%24%28%60%3Cdiv%20id%3D%22html_54cd62f464b042048837909e2765a05d%22%20style%3D%22width%3A%20100.0%25%3B%20height%3A%20100.0%25%3B%22%3EH2P%201V6%3C/div%3E%60%29%5B0%5D%3B%0A%20%20%20%20%20%20%20%20%20%20%20%20popup_23c628c08cda4217a60704bff8b893f5.setContent%28html_54cd62f464b042048837909e2765a05d%29%3B%0A%20%20%20%20%20%20%20%20%0A%0A%20%20%20%20%20%20%20%20marker_fe6eccf92d794de2aabf83635e9736eb.bindPopup%28popup_23c628c08cda4217a60704bff8b893f5%29%0A%20%20%20%20%20%20%20%20%3B%0A%0A%20%20%20%20%20%20%20%20%0A%20%20%20%20%0A%20%20%20%20%0A%20%20%20%20%20%20%20%20%20%20%20%20var%20marker_1950d1a928b14e11b306e61805ae1009%20%3D%20L.marker%28%0A%20%20%20%20%20%20%20%20%20%20%20%20%20%20%20%20%5B45.540063700956786%2C%20-73.58160503792256%5D%2C%0A%20%20%20%20%20%20%20%20%20%20%20%20%20%20%20%20%7B%7D%0A%20%20%20%20%20%20%20%20%20%20%20%20%29.addTo%28map_5bc8cb057207456f81840dc355ca5193%29%3B%0A%20%20%20%20%20%20%20%20%0A%20%20%20%20%0A%20%20%20%20%20%20%20%20var%20popup_9382b1fe58a140c98c31572211ddcac7%20%3D%20L.popup%28%7B%22maxWidth%22%3A%20%22100%25%22%7D%29%3B%0A%0A%20%20%20%20%20%20%20%20%0A%20%20%20%20%20%20%20%20%20%20%20%20var%20html_20286be56f124937bb832bcc58dc63ed%20%3D%20%24%28%60%3Cdiv%20id%3D%22html_20286be56f124937bb832bcc58dc63ed%22%20style%3D%22width%3A%20100.0%25%3B%20height%3A%20100.0%25%3B%22%3EH2H%202P9%3C/div%3E%60%29%5B0%5D%3B%0A%20%20%20%20%20%20%20%20%20%20%20%20popup_9382b1fe58a140c98c31572211ddcac7.setContent%28html_20286be56f124937bb832bcc58dc63ed%29%3B%0A%20%20%20%20%20%20%20%20%0A%0A%20%20%20%20%20%20%20%20marker_1950d1a928b14e11b306e61805ae1009.bindPopup%28popup_9382b1fe58a140c98c31572211ddcac7%29%0A%20%20%20%20%20%20%20%20%3B%0A%0A%20%20%20%20%20%20%20%20%0A%20%20%20%20%0A%20%20%20%20%0A%20%20%20%20%20%20%20%20%20%20%20%20var%20marker_bcd6488a970b46188e3c7f8e324091b4%20%3D%20L.marker%28%0A%20%20%20%20%20%20%20%20%20%20%20%20%20%20%20%20%5B45.514377813934374%2C%20-73.53703101344416%5D%2C%0A%20%20%20%20%20%20%20%20%20%20%20%20%20%20%20%20%7B%7D%0A%20%20%20%20%20%20%20%20%20%20%20%20%29.addTo%28map_5bc8cb057207456f81840dc355ca5193%29%3B%0A%20%20%20%20%20%20%20%20%0A%20%20%20%20%0A%20%20%20%20%20%20%20%20var%20popup_c815e5c02d594e2e8ffa3135f8cfc191%20%3D%20L.popup%28%7B%22maxWidth%22%3A%20%22100%25%22%7D%29%3B%0A%0A%20%20%20%20%20%20%20%20%0A%20%20%20%20%20%20%20%20%20%20%20%20var%20html_706c5e6df43a485bbab3019151625c80%20%3D%20%24%28%60%3Cdiv%20id%3D%22html_706c5e6df43a485bbab3019151625c80%22%20style%3D%22width%3A%20100.0%25%3B%20height%3A%20100.0%25%3B%22%3EH2L%205C1%3C/div%3E%60%29%5B0%5D%3B%0A%20%20%20%20%20%20%20%20%20%20%20%20popup_c815e5c02d594e2e8ffa3135f8cfc191.setContent%28html_706c5e6df43a485bbab3019151625c80%29%3B%0A%20%20%20%20%20%20%20%20%0A%0A%20%20%20%20%20%20%20%20marker_bcd6488a970b46188e3c7f8e324091b4.bindPopup%28popup_c815e5c02d594e2e8ffa3135f8cfc191%29%0A%20%20%20%20%20%20%20%20%3B%0A%0A%20%20%20%20%20%20%20%20%0A%20%20%20%20%0A%20%20%20%20%0A%20%20%20%20%20%20%20%20%20%20%20%20var%20marker_42466188dca448ccbdb5d18a0a0a4b53%20%3D%20L.marker%28%0A%20%20%20%20%20%20%20%20%20%20%20%20%20%20%20%20%5B45.51184502396607%2C%20-73.70853589383054%5D%2C%0A%20%20%20%20%20%20%20%20%20%20%20%20%20%20%20%20%7B%7D%0A%20%20%20%20%20%20%20%20%20%20%20%20%29.addTo%28map_5bc8cb057207456f81840dc355ca5193%29%3B%0A%20%20%20%20%20%20%20%20%0A%20%20%20%20%0A%20%20%20%20%20%20%20%20var%20popup_775d3f2b6e314fe983e276861e6d1288%20%3D%20L.popup%28%7B%22maxWidth%22%3A%20%22100%25%22%7D%29%3B%0A%0A%20%20%20%20%20%20%20%20%0A%20%20%20%20%20%20%20%20%20%20%20%20var%20html_71cffb08cfee4c58ab6f6f7190ba230e%20%3D%20%24%28%60%3Cdiv%20id%3D%22html_71cffb08cfee4c58ab6f6f7190ba230e%22%20style%3D%22width%3A%20100.0%25%3B%20height%3A%20100.0%25%3B%22%3EH4R%203B1%3C/div%3E%60%29%5B0%5D%3B%0A%20%20%20%20%20%20%20%20%20%20%20%20popup_775d3f2b6e314fe983e276861e6d1288.setContent%28html_71cffb08cfee4c58ab6f6f7190ba230e%29%3B%0A%20%20%20%20%20%20%20%20%0A%0A%20%20%20%20%20%20%20%20marker_42466188dca448ccbdb5d18a0a0a4b53.bindPopup%28popup_775d3f2b6e314fe983e276861e6d1288%29%0A%20%20%20%20%20%20%20%20%3B%0A%0A%20%20%20%20%20%20%20%20%0A%20%20%20%20%0A%20%20%20%20%0A%20%20%20%20%20%20%20%20%20%20%20%20var%20marker_b47e720a21744a359c5e58c0b5f29edf%20%3D%20L.marker%28%0A%20%20%20%20%20%20%20%20%20%20%20%20%20%20%20%20%5B45.62056786154833%2C%20-73.52502811134377%5D%2C%0A%20%20%20%20%20%20%20%20%20%20%20%20%20%20%20%20%7B%7D%0A%20%20%20%20%20%20%20%20%20%20%20%20%29.addTo%28map_5bc8cb057207456f81840dc355ca5193%29%3B%0A%20%20%20%20%20%20%20%20%0A%20%20%20%20%0A%20%20%20%20%20%20%20%20var%20popup_0d1d4a4116ef4f458240dd7cf725dffd%20%3D%20L.popup%28%7B%22maxWidth%22%3A%20%22100%25%22%7D%29%3B%0A%0A%20%20%20%20%20%20%20%20%0A%20%20%20%20%20%20%20%20%20%20%20%20var%20html_b32fd5867f88487f97289970b1a0146e%20%3D%20%24%28%60%3Cdiv%20id%3D%22html_b32fd5867f88487f97289970b1a0146e%22%20style%3D%22width%3A%20100.0%25%3B%20height%3A%20100.0%25%3B%22%3EH1L%206P2%3C/div%3E%60%29%5B0%5D%3B%0A%20%20%20%20%20%20%20%20%20%20%20%20popup_0d1d4a4116ef4f458240dd7cf725dffd.setContent%28html_b32fd5867f88487f97289970b1a0146e%29%3B%0A%20%20%20%20%20%20%20%20%0A%0A%20%20%20%20%20%20%20%20marker_b47e720a21744a359c5e58c0b5f29edf.bindPopup%28popup_0d1d4a4116ef4f458240dd7cf725dffd%29%0A%20%20%20%20%20%20%20%20%3B%0A%0A%20%20%20%20%20%20%20%20%0A%20%20%20%20%0A%3C/script%3E onload=\"this.contentDocument.open();this.contentDocument.write(    decodeURIComponent(this.getAttribute('data-html')));this.contentDocument.close();\" allowfullscreen webkitallowfullscreen mozallowfullscreen></iframe></div></div>"
      ],
      "text/plain": [
       "<folium.folium.Map at 0x1d655ce14a8>"
      ]
     },
     "execution_count": 237,
     "metadata": {},
     "output_type": "execute_result"
    }
   ],
   "source": [
    "for i in range(len(zipcodes)):\n",
    "  folium.Marker([df['Lat'][i],df['Lon'][i]],popup=zipcodes[i]).add_to(montreal_map)\n",
    "montreal_map"
   ]
  },
  {
   "cell_type": "code",
   "execution_count": 238,
   "id": "brown-engineer",
   "metadata": {},
   "outputs": [],
   "source": [
    "#Report"
   ]
  },
  {
   "cell_type": "markdown",
   "id": "elect-fetish",
   "metadata": {},
   "source": [
    "Applied Kmeans clustering on all three datasets to find most optimal (ideal) values based on locations (Latitude and Longitude) according to the population density and type of building (movie theater, hotel, etc)\n",
    "\n",
    "First, all the datasets are analyzed based on name of the columns, the shape (the no. of rows and columns) and the type of values that each of the columns of the dataset has.\n",
    "\n",
    "Then, all the datasets are analyzed according to null/nan values, filtered all the columns that had all the null/nan values, skipping those that had some values non-null, and then filling nan values with their corresponding median and mean values by looking at the pattern of the values.\n",
    "\n",
    "Then all the values are visualized according to the other group columns in search of patterns/data insights.\n",
    "\n",
    "Then after all visualizations (through code), applied Kmeans clustering by specifiying most optimal number of cluster values by using elbow method.\n",
    "\n",
    "Finally Kmeans clustering is applied on each dataset and visualized optimal values and values from the dataset accordingly using 'matplotlib.pyplot'.\n",
    "\n",
    "The most optimal values for location for EV charging station is found to be (from all the datasets) are:"
   ]
  },
  {
   "cell_type": "markdown",
   "id": "strategic-field",
   "metadata": {},
   "source": [
    "From points of interest Dataset\n",
    "Ideal points for Longitude: [-73.5976752  -73.60119506]\n",
    "Ideal points for Latitude: [45.52238761 45.51934667]\n",
    "\n",
    "From census Dataset\n",
    "Ideal points for Longitude: [-73.61785694 -73.55469]\n",
    "Ideal points for Latitude: [45.58165611 45.5124]\n",
    "\n",
    "From montreal Dataset\n",
    "Ideal points for Latitude: [45.55022957 45.52783595]\n",
    "Ideal points for Longitude: [-73.61476395 -73.64194344]\n"
   ]
  },
  {
   "cell_type": "markdown",
   "id": "selective-efficiency",
   "metadata": {},
   "source": [
    "By looking at the above data, it is found that by taking average (mean) of all values respective to all three datasets (of Latitude and Longitude), we can find out most optimal location of placing EV charging station respected to all three scenarios (population density, area, facility type).\n",
    "\n",
    "So by taking mean of all values of latitude and longitude of each dataset, we find 10 optimal values accordingly where EV charging station can be installed. "
   ]
  },
  {
   "cell_type": "markdown",
   "id": "reported-secondary",
   "metadata": {},
   "source": [
    "Ideal point on longitude -73.58305731866056\n",
    "Ideal point on longitude -73.57660915704307\n",
    "Ideal point on longitude -73.59760213234239\n",
    "Ideal point on longitude -73.56862620155522\n",
    "Ideal point on longitude -73.61611168733462\n",
    "Ideal point on longitude -73.692421128523\n",
    "Ideal point on longitude -73.63749460346585\n",
    "Ideal point on longitude -73.60913821496884\n",
    "Ideal point on longitude -73.61101125578311\n",
    "Ideal point on longitude -73.58208479088935\n",
    "\n",
    "\n",
    "Ideal point on latitude 45.515406206710445\n",
    "Ideal point on latitude 45.56135744266136\n",
    "Ideal point on latitude 45.55216217752644\n",
    "Ideal point on latitude 45.55634395157733\n",
    "Ideal point on latitude 45.576073368921705\n",
    "Ideal point on latitude 45.54752586627766\n",
    "Ideal point on latitude 45.54690870646192\n",
    "Ideal point on latitude 45.52348755519236\n",
    "Ideal point on latitude 45.554318728983816\n",
    "Ideal point on latitude 45.58026262372032"
   ]
  },
  {
   "cell_type": "markdown",
   "id": "preceding-secretary",
   "metadata": {},
   "source": [
    "Furthermore, all other relations are described in above code as well for optimal location according to area, population density and facility type.\n",
    "\n",
    "Also points are visualized according to postal codes on the map using mplleaflet library for python, by converting latitude and longitude points to postal codes.\n",
    "\n",
    "Upon finding, we got ideal category `Hotel` and `Shopping Centers and Malls`\n",
    "\n",
    "`Shopping Centers and Malls` is ideal point because this is the place that people usually visit, for more than 3 hours, and EV cars can charge fully upto that period.\n",
    "\n",
    "`Hotels` is the second best ideal point since people are populated there more than any place.\n",
    "\n",
    "Ideal Zipcode is found to be `H1E 3L1` and `H1A 0A1` based on population densty (dwelling count), area, and facility type.\n",
    "\n",
    "Ideal `EV Level2 EVSE Num` is found to be `2` and `EV DC Fast Count` is `1`"
   ]
  }
 ],
 "metadata": {
  "kernelspec": {
   "display_name": "Python 3",
   "language": "python",
   "name": "python3"
  },
  "language_info": {
   "codemirror_mode": {
    "name": "ipython",
    "version": 3
   },
   "file_extension": ".py",
   "mimetype": "text/x-python",
   "name": "python",
   "nbconvert_exporter": "python",
   "pygments_lexer": "ipython3",
   "version": "3.6.7"
  }
 },
 "nbformat": 4,
 "nbformat_minor": 5
}
